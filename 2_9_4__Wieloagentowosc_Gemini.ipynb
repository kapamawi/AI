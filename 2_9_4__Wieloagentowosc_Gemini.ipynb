{
  "nbformat": 4,
  "nbformat_minor": 0,
  "metadata": {
    "colab": {
      "provenance": [],
      "include_colab_link": true
    },
    "kernelspec": {
      "name": "python3",
      "display_name": "Python 3"
    },
    "language_info": {
      "name": "python"
    }
  },
  "cells": [
    {
      "cell_type": "markdown",
      "metadata": {
        "id": "view-in-github",
        "colab_type": "text"
      },
      "source": [
        "<a href=\"https://colab.research.google.com/github/kapamawi/AI/blob/main/2_9_4__Wieloagentowosc_Gemini.ipynb\" target=\"_parent\"><img src=\"https://colab.research.google.com/assets/colab-badge.svg\" alt=\"Open In Colab\"/></a>"
      ]
    },
    {
      "cell_type": "markdown",
      "source": [
        "AdaptacjaL https://github.com/Shubhamsaboo/awesome-llm-apps/tree/main/ai_agent_tutorials/multimodal_design_agent_team"
      ],
      "metadata": {
        "id": "R1d5Jwvo8niM"
      }
    },
    {
      "cell_type": "markdown",
      "source": [
        "# Setup"
      ],
      "metadata": {
        "id": "vSD1hMD26a7f"
      }
    },
    {
      "cell_type": "code",
      "source": [
        "!pip install -qq google-generativeai==0.8.3 streamlit  phidata==2.7.2 Pillow  duckduckgo-search==6.3.7"
      ],
      "metadata": {
        "id": "pyjLq8ZZF3rM"
      },
      "execution_count": null,
      "outputs": []
    },
    {
      "cell_type": "markdown",
      "source": [],
      "metadata": {
        "id": "zo2TiHv364Fx"
      }
    },
    {
      "cell_type": "code",
      "source": [
        "!npm install localtunnel"
      ],
      "metadata": {
        "colab": {
          "base_uri": "https://localhost:8080/"
        },
        "id": "7y7XL2vd63jV",
        "outputId": "45a82192-f966-4a9e-b166-6e6eec8b75cf"
      },
      "execution_count": null,
      "outputs": [
        {
          "output_type": "stream",
          "name": "stdout",
          "text": [
            "\u001b[1G\u001b[0K⠙\u001b[1G\u001b[0K⠹\u001b[1G\u001b[0K⠸\u001b[1G\u001b[0K⠼\u001b[1G\u001b[0K⠴\u001b[1G\u001b[0K⠦\u001b[1G\u001b[0K⠧\u001b[1G\u001b[0K⠇\u001b[1G\u001b[0K⠏\u001b[1G\u001b[0K\n",
            "up to date, audited 23 packages in 2s\n",
            "\u001b[1G\u001b[0K⠏\u001b[1G\u001b[0K\n",
            "\u001b[1G\u001b[0K⠏\u001b[1G\u001b[0K3 packages are looking for funding\n",
            "\u001b[1G\u001b[0K⠏\u001b[1G\u001b[0K  run `npm fund` for details\n",
            "\u001b[1G\u001b[0K⠏\u001b[1G\u001b[0K\n",
            "2 \u001b[33m\u001b[1mmoderate\u001b[22m\u001b[39m severity vulnerabilities\n",
            "\n",
            "To address all issues (including breaking changes), run:\n",
            "  npm audit fix --force\n",
            "\n",
            "Run `npm audit` for details.\n",
            "\u001b[1G\u001b[0K⠋\u001b[1G\u001b[0K"
          ]
        }
      ]
    },
    {
      "cell_type": "markdown",
      "source": [
        "Ta komenda instaluje narzędzie `localtunnel` za pomocą menedżera pakietów npm (Node Package Manager).\n",
        "\n",
        "`localtunnel` to narzędzie, które tworzy publiczny URL dla lokalnie uruchomionego serwera. Pozwala to na udostępnienie aplikacji działającej na lokalnym komputerze przez internet - inni użytkownicy mogą uzyskać do niej dostęp przez wygenerowany adres URL.\n",
        "\n",
        "Jest to szczególnie przydatne podczas:\n",
        "- testowania webhooków\n",
        "- demonstrowania aplikacji klientom/współpracownikom\n",
        "- debugowania aplikacji w różnych środowiskach\n",
        "- udostępniania lokalnej aplikacji bez konieczności wdrażania jej na serwer produkcyjny"
      ],
      "metadata": {
        "id": "x9OlsU8l64Y5"
      }
    },
    {
      "cell_type": "markdown",
      "source": [
        "# App"
      ],
      "metadata": {
        "id": "cuTxMzk0674U"
      }
    },
    {
      "cell_type": "code",
      "source": [
        "%%writefile muh_app.py\n",
        "\n",
        "from phi.agent import Agent\n",
        "from phi.model.google import Gemini\n",
        "from phi.tools.duckduckgo import DuckDuckGo\n",
        "import streamlit as st\n",
        "from PIL import Image\n",
        "from typing import List, Optional\n",
        "\n",
        "def initialize_agents(api_key: str) -> tuple[Agent, Agent, Agent]:\n",
        "    try:\n",
        "        model = Gemini(id=\"gemini-2.0-flash-exp\", api_key=api_key)\n",
        "\n",
        "        vision_agent = Agent(\n",
        "            model=model,\n",
        "            instructions=[\n",
        "                \"You are a visual analysis expert that:\",\n",
        "                \"1. Identifies design elements, patterns, and visual hierarchy\",\n",
        "                \"2. Analyzes color schemes, typography, and layouts\",\n",
        "                \"3. Detects UI components and their relationships\",\n",
        "                \"4. Evaluates visual consistency and branding\",\n",
        "                \"Be specific and technical in your analysis\"\n",
        "            ],\n",
        "            markdown=True\n",
        "        )\n",
        "\n",
        "        ux_agent = Agent(\n",
        "            model=model,\n",
        "            instructions=[\n",
        "                \"You are a UX analysis expert that:\",\n",
        "                \"1. Evaluates user flows and interaction patterns\",\n",
        "                \"2. Identifies usability issues and opportunities\",\n",
        "                \"3. Suggests UX improvements based on best practices\",\n",
        "                \"4. Analyzes accessibility and inclusive design\",\n",
        "                \"Focus on user-centric insights and practical improvements\"\n",
        "            ],\n",
        "            markdown=True\n",
        "        )\n",
        "\n",
        "        market_agent = Agent(\n",
        "            model=model,\n",
        "            tools=[DuckDuckGo(search=True)],\n",
        "            instructions=[\n",
        "                \"You are a market research expert that:\",\n",
        "                \"1. Identifies market trends and competitor patterns\",\n",
        "                \"2. Analyzes similar products and features\",\n",
        "                \"3. Suggests market positioning and opportunities\",\n",
        "                \"4. Provides industry-specific insights\",\n",
        "                \"Focus on actionable market intelligence\"\n",
        "            ],\n",
        "            markdown=True\n",
        "        )\n",
        "\n",
        "        return vision_agent, ux_agent, market_agent\n",
        "    except Exception as e:\n",
        "        st.error(f\"Error initializing agents: {str(e)}\")\n",
        "        return None, None, None\n",
        "\n",
        "# Sidebar for API key input\n",
        "with st.sidebar:\n",
        "    st.header(\"🔑 API Configuration\")\n",
        "\n",
        "    if \"api_key_input\" not in st.session_state:\n",
        "        st.session_state.api_key_input = \"\"\n",
        "\n",
        "    api_key = st.text_input(\n",
        "        \"Enter your Gemini API Key\",\n",
        "        value=st.session_state.api_key_input,\n",
        "        type=\"password\",\n",
        "        help=\"Get your API key from Google AI Studio\",\n",
        "        key=\"api_key_widget\"\n",
        "    )\n",
        "\n",
        "    if api_key != st.session_state.api_key_input:\n",
        "        st.session_state.api_key_input = api_key\n",
        "\n",
        "    if api_key:\n",
        "        st.success(\"API Key provided! ✅\")\n",
        "    else:\n",
        "        st.warning(\"Please enter your API key to proceed\")\n",
        "        st.markdown(\"\"\"\n",
        "        To get your API key:\n",
        "        1. Go to [Google AI Studio](https://makersuite.google.com/app/apikey)\n",
        "        \"\"\")\n",
        "\n",
        "st.title(\"Multimodal AI Design Agent Team\")\n",
        "\n",
        "if st.session_state.api_key_input:\n",
        "    vision_agent, ux_agent, market_agent = initialize_agents(st.session_state.api_key_input)\n",
        "\n",
        "    if all([vision_agent, ux_agent, market_agent]):\n",
        "        # File Upload Section\n",
        "        st.header(\"📤 Upload Content\")\n",
        "        col1, space, col2 = st.columns([1, 0.1, 1])\n",
        "\n",
        "        with col1:\n",
        "            design_files = st.file_uploader(\n",
        "                \"Upload UI/UX Designs\",\n",
        "                type=[\"jpg\", \"jpeg\", \"png\"],\n",
        "                accept_multiple_files=True,\n",
        "                key=\"designs\"\n",
        "            )\n",
        "\n",
        "            if design_files:\n",
        "                for file in design_files:\n",
        "                    image = Image.open(file)\n",
        "                    st.image(image, caption=file.name, use_container_width=True)\n",
        "\n",
        "        with col2:\n",
        "            competitor_files = st.file_uploader(\n",
        "                \"Upload Competitor Designs (Optional)\",\n",
        "                type=[\"jpg\", \"jpeg\", \"png\"],\n",
        "                accept_multiple_files=True,\n",
        "                key=\"competitors\"\n",
        "            )\n",
        "\n",
        "            if competitor_files:\n",
        "                for file in competitor_files:\n",
        "                    image = Image.open(file)\n",
        "                    st.image(image, caption=f\"Competitor: {file.name}\", use_container_width=True)\n",
        "\n",
        "        # Analysis Configuration\n",
        "        st.header(\"🎯 Analysis Configuration\")\n",
        "\n",
        "        analysis_types = st.multiselect(\n",
        "            \"Select Analysis Types\",\n",
        "            [\"Visual Design\", \"User Experience\", \"Market Analysis\"],\n",
        "            default=[\"Visual Design\"]\n",
        "        )\n",
        "\n",
        "        specific_elements = st.multiselect(\n",
        "            \"Focus Areas\",\n",
        "            [\"Color Scheme\", \"Typography\", \"Layout\", \"Navigation\",\n",
        "             \"Interactions\", \"Accessibility\", \"Branding\", \"Market Fit\"]\n",
        "        )\n",
        "\n",
        "        context = st.text_area(\n",
        "            \"Additional Context\",\n",
        "            placeholder=\"Describe your product, target audience, or specific concerns...\"\n",
        "        )\n",
        "\n",
        "        # Analysis Process\n",
        "        if st.button(\"🚀 Run Analysis\", type=\"primary\"):\n",
        "            if design_files:\n",
        "                try:\n",
        "                    st.header(\"📊 Analysis Results\")\n",
        "\n",
        "                    # Process images once\n",
        "                    def process_images(files):\n",
        "                        processed_images = []\n",
        "                        for file in files:\n",
        "                            try:\n",
        "                                # Create a temporary file path for the image\n",
        "                                import tempfile\n",
        "                                import os\n",
        "\n",
        "                                temp_dir = tempfile.gettempdir()\n",
        "                                temp_path = os.path.join(temp_dir, f\"temp_{file.name}\")\n",
        "\n",
        "                                # Save the uploaded file to temp location\n",
        "                                with open(temp_path, \"wb\") as f:\n",
        "                                    f.write(file.getvalue())\n",
        "\n",
        "                                # Add the path to processed images\n",
        "                                processed_images.append(temp_path)\n",
        "\n",
        "                            except Exception as e:\n",
        "                                st.error(f\"Error processing image {file.name}: {str(e)}\")\n",
        "                                continue\n",
        "                        return processed_images\n",
        "\n",
        "                    design_images = process_images(design_files)\n",
        "                    competitor_images = process_images(competitor_files) if competitor_files else []\n",
        "                    all_images = design_images + competitor_images\n",
        "\n",
        "                    # Visual Design Analysis\n",
        "                    if \"Visual Design\" in analysis_types and design_files:\n",
        "                        with st.spinner(\"🎨 Analyzing visual design...\"):\n",
        "                            if all_images:\n",
        "                                vision_prompt = f\"\"\"\n",
        "                                Analyze these designs focusing on: {', '.join(specific_elements)}\n",
        "                                Additional context: {context}\n",
        "                                Provide specific insights about visual design elements.\n",
        "\n",
        "                                Please format your response with clear headers and bullet points.\n",
        "                                Focus on concrete observations and actionable insights.\n",
        "                                \"\"\"\n",
        "\n",
        "                                response = vision_agent.run(\n",
        "                                    message=vision_prompt,\n",
        "                                    images=all_images\n",
        "                                )\n",
        "\n",
        "                                st.subheader(\"🎨 Visual Design Analysis\")\n",
        "                                st.markdown(response.content)\n",
        "\n",
        "                    # UX Analysis\n",
        "                    if \"User Experience\" in analysis_types:\n",
        "                        with st.spinner(\"🔄 Analyzing user experience...\"):\n",
        "                            if all_images:\n",
        "                                ux_prompt = f\"\"\"\n",
        "                                Evaluate the user experience considering: {', '.join(specific_elements)}\n",
        "                                Additional context: {context}\n",
        "                                Focus on user flows, interactions, and accessibility.\n",
        "\n",
        "                                Please format your response with clear headers and bullet points.\n",
        "                                Focus on concrete observations and actionable improvements.\n",
        "                                \"\"\"\n",
        "\n",
        "                                response = ux_agent.run(\n",
        "                                    message=ux_prompt,\n",
        "                                    images=all_images\n",
        "                                )\n",
        "\n",
        "                                st.subheader(\"🔄 UX Analysis\")\n",
        "                                st.markdown(response.content)\n",
        "\n",
        "                    # Market Analysis\n",
        "                    if \"Market Analysis\" in analysis_types:\n",
        "                        with st.spinner(\"📊 Conducting market analysis...\"):\n",
        "                            market_prompt = f\"\"\"\n",
        "                            Analyze market positioning and trends based on these designs.\n",
        "                            Context: {context}\n",
        "                            Compare with competitor designs if provided.\n",
        "                            Suggest market opportunities and positioning.\n",
        "\n",
        "                            Please format your response with clear headers and bullet points.\n",
        "                            Focus on concrete market insights and actionable recommendations.\n",
        "                            \"\"\"\n",
        "\n",
        "                            response = market_agent.run(\n",
        "                                message=market_prompt,\n",
        "                                images=all_images\n",
        "                            )\n",
        "\n",
        "                            st.subheader(\"📊 Market Analysis\")\n",
        "                            st.markdown(response.content)\n",
        "\n",
        "                    # Combined Insights\n",
        "                    if len(analysis_types) > 1:\n",
        "                        st.subheader(\"🎯 Key Takeaways\")\n",
        "                        st.info(\"\"\"\n",
        "                        Above you'll find detailed analysis from multiple specialized AI agents, each focusing on their area of expertise:\n",
        "                        - Visual Design Agent: Analyzes design elements and patterns\n",
        "                        - UX Agent: Evaluates user experience and interactions\n",
        "                        - Market Research Agent: Provides market context and opportunities\n",
        "                        \"\"\")\n",
        "\n",
        "                except Exception as e:\n",
        "                    st.error(f\"An error occurred during analysis: {str(e)}\")\n",
        "                    st.error(\"Please check your API key and try again.\")\n",
        "            else:\n",
        "                st.warning(\"Please upload at least one design to analyze.\")\n",
        "    else:\n",
        "        st.info(\"👈 Please enter your API key in the sidebar to get started\")\n",
        "else:\n",
        "    st.info(\"👈 Please enter your API key in the sidebar to get started\")\n",
        "\n",
        "# Footer with usage tips\n",
        "st.markdown(\"---\")\n",
        "st.markdown(\"\"\"\n",
        "<div style='text-align: center'>\n",
        "    <h4>Tips for Best Results</h4>\n",
        "    <p>\n",
        "    • Upload clear, high-resolution images<br>\n",
        "    • Include multiple views/screens for better context<br>\n",
        "    • Add competitor designs for comparative analysis<br>\n",
        "    • Provide specific context about your target audience\n",
        "    </p>\n",
        "</div>\n",
        "\"\"\", unsafe_allow_html=True)"
      ],
      "metadata": {
        "colab": {
          "base_uri": "https://localhost:8080/"
        },
        "id": "IhTgAjK-69S-",
        "outputId": "1c821af3-2ba8-4f93-83a2-1f60570fbc2f"
      },
      "execution_count": null,
      "outputs": [
        {
          "output_type": "stream",
          "name": "stdout",
          "text": [
            "Overwriting muh_app.py\n"
          ]
        }
      ]
    },
    {
      "cell_type": "markdown",
      "source": [
        "Ten kod tworzy aplikację Streamlit do analizy projektów interfejsu użytkownika przy pomocy trzech wyspecjalizowanych agentów AI opartych na modelu Gemini.\n",
        "\n",
        "Główne komponenty kodu:\n",
        "\n",
        "1. Funkcja `initialize_agents` tworzy trzech agentów:\n",
        "- agent do analizy wizualnej - ocenia elementy designu, kolory, typografię\n",
        "- agent UX - analizuje przepływ użytkownika i wzorce interakcji\n",
        "- agent rynkowy - bada trendy i konkurencję przy pomocy wyszukiwarki DuckDuckGo\n",
        "\n",
        "2. W panelu bocznym znajduje się pole do wprowadzenia klucza API Gemini. Bez klucza aplikacja nie będzie działać.\n",
        "\n",
        "3. Główny interfejs zawiera:\n",
        "- sekcję do wgrywania plików z projektami UI/UX oraz projektami konkurencji (w formatach JPG, JPEG, PNG)\n",
        "- konfigurację analizy - wybór typów analizy i obszarów zainteresowania\n",
        "- pole na dodatkowy kontekst dotyczący produktu i grupy docelowej\n",
        "\n",
        "4. Po kliknięciu przycisku \"Run Analysis\":\n",
        "- obrazy są przetwarzane i zapisywane tymczasowo\n",
        "- każdy wybrany agent przeprowadza swoją analizę\n",
        "- wyniki są wyświetlane w osobnych sekcjach z nagłówkami\n",
        "- jeśli wybrano więcej niż jeden typ analizy, pojawia się podsumowanie kluczowych wniosków\n",
        "\n",
        "5. Na dole strony znajdują się wskazówki dotyczące uzyskania najlepszych wyników, np. zalecenie wgrywania wysokiej rozdzielczości obrazów.\n",
        "\n",
        "Kod obsługuje błędy, wyświetla komunikaty o postępie analizy i formatuje wyniki przy pomocy Markdown. Wykorzystuje biblioteki streamlit do interfejsu, pillow do obsługi obrazów oraz niestandardową bibliotekę phi do integracji z API Gemini."
      ],
      "metadata": {
        "id": "WVybCn7UOdO7"
      }
    },
    {
      "cell_type": "markdown",
      "source": [
        "# Biegnij Forrest"
      ],
      "metadata": {
        "id": "uUBzyY1pEKO_"
      }
    },
    {
      "cell_type": "code",
      "source": [
        "!streamlit run muh_app.py --server.address=localhost  &>/content/logs.txt & npx localtunnel --port 8501 & curl ipv4.icanhazip.com"
      ],
      "metadata": {
        "colab": {
          "base_uri": "https://localhost:8080/"
        },
        "id": "pFEnkZg8EKlX",
        "outputId": "158c44c1-24b6-48b7-e806-7015422048bd"
      },
      "execution_count": null,
      "outputs": [
        {
          "output_type": "stream",
          "name": "stdout",
          "text": [
            "34.150.156.40\n",
            "\u001b[1G\u001b[0K⠙\u001b[1G\u001b[0Kyour url is: https://fresh-taxis-cheer.loca.lt\n"
          ]
        }
      ]
    },
    {
      "cell_type": "markdown",
      "source": [],
      "metadata": {
        "id": "HB-7MQVmOeWr"
      }
    }
  ]
}