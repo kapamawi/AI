{
  "cells": [
    {
      "cell_type": "markdown",
      "metadata": {
        "id": "view-in-github",
        "colab_type": "text"
      },
      "source": [
        "<a href=\"https://colab.research.google.com/github/kapamawi/AI/blob/main/Research_online.ipynb\" target=\"_parent\"><img src=\"https://colab.research.google.com/assets/colab-badge.svg\" alt=\"Open In Colab\"/></a>"
      ]
    },
    {
      "cell_type": "code",
      "execution_count": 1,
      "id": "57c1a257",
      "metadata": {
        "_kg_hide-output": true,
        "execution": {
          "iopub.execute_input": "2024-11-17T17:33:57.946869Z",
          "iopub.status.busy": "2024-11-17T17:33:57.946424Z",
          "iopub.status.idle": "2024-11-17T17:34:18.828102Z",
          "shell.execute_reply": "2024-11-17T17:34:18.826740Z"
        },
        "papermill": {
          "duration": 20.893132,
          "end_time": "2024-11-17T17:34:18.830882",
          "exception": false,
          "start_time": "2024-11-17T17:33:57.937750",
          "status": "completed"
        },
        "tags": [],
        "colab": {
          "base_uri": "https://localhost:8080/"
        },
        "id": "57c1a257",
        "outputId": "f74b5ee5-c48c-4075-ebc1-b5c51eb71c8c"
      },
      "outputs": [
        {
          "output_type": "stream",
          "name": "stdout",
          "text": [
            "\u001b[?25l   \u001b[90m━━━━━━━━━━━━━━━━━━━━━━━━━━━━━━━━━━━━━━━━\u001b[0m \u001b[32m0.0/50.4 kB\u001b[0m \u001b[31m?\u001b[0m eta \u001b[36m-:--:--\u001b[0m\r\u001b[2K   \u001b[90m━━━━━━━━━━━━━━━━━━━━━━━━━━━━━━━━━━━━━━━━\u001b[0m \u001b[32m50.4/50.4 kB\u001b[0m \u001b[31m1.7 MB/s\u001b[0m eta \u001b[36m0:00:00\u001b[0m\n",
            "\u001b[2K   \u001b[90m━━━━━━━━━━━━━━━━━━━━━━━━━━━━━━━━━━━━━━━━\u001b[0m \u001b[32m2.4/2.4 MB\u001b[0m \u001b[31m23.7 MB/s\u001b[0m eta \u001b[36m0:00:00\u001b[0m\n",
            "\u001b[2K   \u001b[90m━━━━━━━━━━━━━━━━━━━━━━━━━━━━━━━━━━━━━━━━\u001b[0m \u001b[32m3.1/3.1 MB\u001b[0m \u001b[31m20.1 MB/s\u001b[0m eta \u001b[36m0:00:00\u001b[0m\n",
            "\u001b[2K   \u001b[90m━━━━━━━━━━━━━━━━━━━━━━━━━━━━━━━━━━━━━━━━\u001b[0m \u001b[32m1.2/1.2 MB\u001b[0m \u001b[31m21.2 MB/s\u001b[0m eta \u001b[36m0:00:00\u001b[0m\n",
            "\u001b[2K   \u001b[90m━━━━━━━━━━━━━━━━━━━━━━━━━━━━━━━━━━━━━━━━\u001b[0m \u001b[32m49.5/49.5 kB\u001b[0m \u001b[31m1.4 MB/s\u001b[0m eta \u001b[36m0:00:00\u001b[0m\n",
            "\u001b[?25h"
          ]
        }
      ],
      "source": [
        "!pip install -q langchain langchain-openai langchain-community pydantic"
      ]
    },
    {
      "cell_type": "markdown",
      "id": "c751ec32",
      "metadata": {
        "papermill": {
          "duration": 0.006064,
          "end_time": "2024-11-17T17:34:18.843668",
          "exception": false,
          "start_time": "2024-11-17T17:34:18.837604",
          "status": "completed"
        },
        "tags": [],
        "id": "c751ec32"
      },
      "source": [
        "Ten fragment kodu instaluje kilka pakietów Pythona potrzebnych do pracy z LangChain:\n",
        "\n",
        "`langchain` - główna biblioteka zawierająca podstawowe funkcje i klasy do budowania aplikacji opartych na modelach językowych\n",
        "\n",
        "`langchain-openai` - moduł zawierający integrację z API OpenAI\n",
        "\n",
        "`langchain-community` - zbiór dodatkowych komponentów i integracji stworzonych przez społeczność\n",
        "\n",
        "`pydantic` - biblioteka do walidacji danych i zarządzania schematami, używana przez LangChain do definiowania struktur danych\n",
        "\n",
        "Flaga `-q` oznacza \"quiet\" - instalacja będzie przeprowadzona w trybie cichym, z ograniczoną ilością komunikatów w konsoli.\n",
        "\n",
        "Instalacja jest wykonywana za pomocą narzędzia pip, które jest standardowym menedżerem pakietów w Pythonie."
      ]
    },
    {
      "cell_type": "code",
      "execution_count": 2,
      "id": "db04554a",
      "metadata": {
        "_kg_hide-output": true,
        "execution": {
          "iopub.execute_input": "2024-11-17T17:34:18.858395Z",
          "iopub.status.busy": "2024-11-17T17:34:18.857929Z",
          "iopub.status.idle": "2024-11-17T17:34:31.567832Z",
          "shell.execute_reply": "2024-11-17T17:34:31.566370Z"
        },
        "papermill": {
          "duration": 12.720624,
          "end_time": "2024-11-17T17:34:31.570614",
          "exception": false,
          "start_time": "2024-11-17T17:34:18.849990",
          "status": "completed"
        },
        "tags": [],
        "colab": {
          "base_uri": "https://localhost:8080/"
        },
        "id": "db04554a",
        "outputId": "3dd527b0-c137-4b01-e13c-e7f92f1b6d23"
      },
      "outputs": [
        {
          "output_type": "stream",
          "name": "stdout",
          "text": [
            "Collecting duckduckgo_search==5.3.1b1\n",
            "  Downloading duckduckgo_search-5.3.1b1-py3-none-any.whl.metadata (18 kB)\n",
            "Requirement already satisfied: click>=8.1.7 in /usr/local/lib/python3.10/dist-packages (from duckduckgo_search==5.3.1b1) (8.1.7)\n",
            "Requirement already satisfied: httpx>=0.27.0 in /usr/local/lib/python3.10/dist-packages (from httpx[brotli,http2,socks]>=0.27.0->duckduckgo_search==5.3.1b1) (0.27.2)\n",
            "Requirement already satisfied: anyio in /usr/local/lib/python3.10/dist-packages (from httpx>=0.27.0->httpx[brotli,http2,socks]>=0.27.0->duckduckgo_search==5.3.1b1) (3.7.1)\n",
            "Requirement already satisfied: certifi in /usr/local/lib/python3.10/dist-packages (from httpx>=0.27.0->httpx[brotli,http2,socks]>=0.27.0->duckduckgo_search==5.3.1b1) (2024.8.30)\n",
            "Requirement already satisfied: httpcore==1.* in /usr/local/lib/python3.10/dist-packages (from httpx>=0.27.0->httpx[brotli,http2,socks]>=0.27.0->duckduckgo_search==5.3.1b1) (1.0.7)\n",
            "Requirement already satisfied: idna in /usr/local/lib/python3.10/dist-packages (from httpx>=0.27.0->httpx[brotli,http2,socks]>=0.27.0->duckduckgo_search==5.3.1b1) (3.10)\n",
            "Requirement already satisfied: sniffio in /usr/local/lib/python3.10/dist-packages (from httpx>=0.27.0->httpx[brotli,http2,socks]>=0.27.0->duckduckgo_search==5.3.1b1) (1.3.1)\n",
            "Requirement already satisfied: h11<0.15,>=0.13 in /usr/local/lib/python3.10/dist-packages (from httpcore==1.*->httpx>=0.27.0->httpx[brotli,http2,socks]>=0.27.0->duckduckgo_search==5.3.1b1) (0.14.0)\n",
            "Collecting socksio==1.* (from httpx[brotli,http2,socks]>=0.27.0->duckduckgo_search==5.3.1b1)\n",
            "  Downloading socksio-1.0.0-py3-none-any.whl.metadata (6.1 kB)\n",
            "Collecting h2<5,>=3 (from httpx[brotli,http2,socks]>=0.27.0->duckduckgo_search==5.3.1b1)\n",
            "  Downloading h2-4.1.0-py3-none-any.whl.metadata (3.6 kB)\n",
            "Collecting brotli (from httpx[brotli,http2,socks]>=0.27.0->duckduckgo_search==5.3.1b1)\n",
            "  Downloading Brotli-1.1.0-cp310-cp310-manylinux_2_5_x86_64.manylinux1_x86_64.manylinux_2_12_x86_64.manylinux2010_x86_64.whl.metadata (5.5 kB)\n",
            "Collecting hyperframe<7,>=6.0 (from h2<5,>=3->httpx[brotli,http2,socks]>=0.27.0->duckduckgo_search==5.3.1b1)\n",
            "  Downloading hyperframe-6.0.1-py3-none-any.whl.metadata (2.7 kB)\n",
            "Collecting hpack<5,>=4.0 (from h2<5,>=3->httpx[brotli,http2,socks]>=0.27.0->duckduckgo_search==5.3.1b1)\n",
            "  Downloading hpack-4.0.0-py3-none-any.whl.metadata (2.5 kB)\n",
            "Requirement already satisfied: exceptiongroup in /usr/local/lib/python3.10/dist-packages (from anyio->httpx>=0.27.0->httpx[brotli,http2,socks]>=0.27.0->duckduckgo_search==5.3.1b1) (1.2.2)\n",
            "Downloading duckduckgo_search-5.3.1b1-py3-none-any.whl (23 kB)\n",
            "Downloading socksio-1.0.0-py3-none-any.whl (12 kB)\n",
            "Downloading h2-4.1.0-py3-none-any.whl (57 kB)\n",
            "\u001b[2K   \u001b[90m━━━━━━━━━━━━━━━━━━━━━━━━━━━━━━━━━━━━━━━━\u001b[0m \u001b[32m57.5/57.5 kB\u001b[0m \u001b[31m4.1 MB/s\u001b[0m eta \u001b[36m0:00:00\u001b[0m\n",
            "\u001b[?25hDownloading Brotli-1.1.0-cp310-cp310-manylinux_2_5_x86_64.manylinux1_x86_64.manylinux_2_12_x86_64.manylinux2010_x86_64.whl (3.0 MB)\n",
            "\u001b[2K   \u001b[90m━━━━━━━━━━━━━━━━━━━━━━━━━━━━━━━━━━━━━━━━\u001b[0m \u001b[32m3.0/3.0 MB\u001b[0m \u001b[31m60.2 MB/s\u001b[0m eta \u001b[36m0:00:00\u001b[0m\n",
            "\u001b[?25hDownloading hpack-4.0.0-py3-none-any.whl (32 kB)\n",
            "Downloading hyperframe-6.0.1-py3-none-any.whl (12 kB)\n",
            "Installing collected packages: brotli, socksio, hyperframe, hpack, h2, duckduckgo_search\n",
            "Successfully installed brotli-1.1.0 duckduckgo_search-5.3.1b1 h2-4.1.0 hpack-4.0.0 hyperframe-6.0.1 socksio-1.0.0\n"
          ]
        }
      ],
      "source": [
        "!pip install -U duckduckgo_search==5.3.1b1"
      ]
    },
    {
      "cell_type": "markdown",
      "id": "52b0779a",
      "metadata": {
        "papermill": {
          "duration": 0.007482,
          "end_time": "2024-11-17T17:34:31.586836",
          "exception": false,
          "start_time": "2024-11-17T17:34:31.579354",
          "status": "completed"
        },
        "tags": [],
        "id": "52b0779a"
      },
      "source": [
        "Ten kod instaluje lub aktualizuje bibliotekę duckduckgo_search do wersji 5.3.1b1.  Biblioteka ta umożliwia wykonywanie zapytań do wyszukiwarki DuckDuckGo bezpośrednio z poziomu Pythona. Jest to alternatywa dla Google Search, która nie śledzi użytkowników i szanuje ich prywatność (aczkolwiek jest podejrzewana o udostępnianie wyników smutnym panom w garniturach).\n",
        "\n",
        "Symbol -U wymusza aktualizację biblioteki do najnowszej dostępnej wersji (w tym przypadku 5.3.1b1), nawet jeśli jakaś starsza wersja jest już zainstalowana.\n",
        "\n",
        "Wersja beta (b1) zawiera eksperymentalne funkcje i może zawierać błędy, ale często oferuje nowe możliwości niedostępne w stabilnych wydaniach.\n",
        "\n",
        "Po wykonaniu tej komendy można używać funkcji biblioteki do przeszukiwania internetu, np. wyszukiwania obrazów, wiadomości czy zwykłych zapytań tekstowych."
      ]
    },
    {
      "cell_type": "code",
      "execution_count": 3,
      "id": "140232dd",
      "metadata": {
        "_cell_guid": "d0cfaa01-acb1-48db-b96b-0dfcc9c36728",
        "_uuid": "6b338d9a-2598-480f-b936-d45bc24e64f8",
        "execution": {
          "iopub.execute_input": "2024-11-17T17:34:31.605195Z",
          "iopub.status.busy": "2024-11-17T17:34:31.604219Z",
          "iopub.status.idle": "2024-11-17T17:34:35.519595Z",
          "shell.execute_reply": "2024-11-17T17:34:35.518468Z"
        },
        "jupyter": {
          "outputs_hidden": false
        },
        "papermill": {
          "duration": 3.928135,
          "end_time": "2024-11-17T17:34:35.522262",
          "exception": false,
          "start_time": "2024-11-17T17:34:31.594127",
          "status": "completed"
        },
        "tags": [],
        "id": "140232dd"
      },
      "outputs": [],
      "source": [
        "import os\n",
        "from langchain.tools import DuckDuckGoSearchResults\n",
        "from langchain_openai import ChatOpenAI\n",
        "from langchain import PromptTemplate\n",
        "from pydantic import BaseModel, Field\n",
        "from typing import List, Dict, Any, Tuple, Optional\n",
        "import re\n",
        "import nltk\n",
        "from google.colab import userdata"
      ]
    },
    {
      "cell_type": "markdown",
      "id": "844e33ce",
      "metadata": {
        "papermill": {
          "duration": 0.007122,
          "end_time": "2024-11-17T17:34:35.536805",
          "exception": false,
          "start_time": "2024-11-17T17:34:35.529683",
          "status": "completed"
        },
        "tags": [],
        "id": "844e33ce"
      },
      "source": [
        "Ten kod importuje różne biblioteki i moduły Pythona potrzebne do pracy z językiem naturalnym i API:\n",
        "\n",
        "`os` - moduł do operacji na systemie operacyjnym, np. zarządzanie ścieżkami i zmiennymi środowiskowymi\n",
        "\n",
        "`DuckDuckGoSearchResults` z langchain.tools - narzędzie do wyszukiwania w DuckDuckGo i przetwarzania wyników\n",
        "\n",
        "`ChatOpenAI` z langchain_openai - interfejs do modelu ChatGPT\n",
        "\n",
        "`PromptTemplate` z langchain - szablon do tworzenia promptów dla modeli AI\n",
        "\n",
        "`BaseModel` i `Field` z pydantic - klasy do tworzenia modeli danych z walidacją\n",
        "\n",
        "`List`, `Dict`, `Any`, `Tuple`, `Optional` z typing - typy do annotacji typów w Pythonie\n",
        "\n",
        "`re` - moduł do operacji na wyrażeniach regularnych\n",
        "\n",
        "`nltk` - biblioteka do przetwarzania języka naturalnego\n",
        "\n",
        "`UserSecretsClient` z kaggle_secrets - klient do zarządzania sekretami na platformie Kaggle"
      ]
    },
    {
      "cell_type": "code",
      "execution_count": 4,
      "id": "5bba69e7",
      "metadata": {
        "_kg_hide-output": true,
        "execution": {
          "iopub.execute_input": "2024-11-17T17:34:35.553870Z",
          "iopub.status.busy": "2024-11-17T17:34:35.553291Z",
          "iopub.status.idle": "2024-11-17T17:34:35.689434Z",
          "shell.execute_reply": "2024-11-17T17:34:35.688298Z"
        },
        "papermill": {
          "duration": 0.147761,
          "end_time": "2024-11-17T17:34:35.692015",
          "exception": false,
          "start_time": "2024-11-17T17:34:35.544254",
          "status": "completed"
        },
        "tags": [],
        "colab": {
          "base_uri": "https://localhost:8080/"
        },
        "id": "5bba69e7",
        "outputId": "dc9b4494-0f2e-436b-f1f6-1d22be24b1d4"
      },
      "outputs": [
        {
          "output_type": "execute_result",
          "data": {
            "text/plain": [
              "True"
            ]
          },
          "metadata": {},
          "execution_count": 4
        }
      ],
      "source": [
        "nltk.download('punkt', quiet=True)\n",
        "nltk.download('stopwords', quiet=True)"
      ]
    },
    {
      "cell_type": "markdown",
      "id": "a74df870",
      "metadata": {
        "papermill": {
          "duration": 0.007163,
          "end_time": "2024-11-17T17:34:35.706601",
          "exception": false,
          "start_time": "2024-11-17T17:34:35.699438",
          "status": "completed"
        },
        "tags": [],
        "id": "a74df870"
      },
      "source": [
        "Te linie pobierają i instalują dwa pakiety danych z biblioteki NLTK:\n",
        "\n",
        "`punkt` - to zestaw wytrenowanych modeli do tokenizacji tekstu dla różnych języków. Pozwala dzielić tekst na zdania i słowa z uwzględnieniem specyfiki danego języka, np. rozpoznając skróty i poprawnie interpretując znaki interpunkcyjne.\n",
        "\n",
        "`stopwords` - to zbiór tzw. \"stop words\" (słów pomocniczych) dla różnych języków. Są to najczęściej występujące słowa jak \"a\", \"the\", \"is\" w języku angielskim, które zwykle usuwa się podczas analizy tekstu, ponieważ same w sobie nie niosą istotnego znaczenia.\n",
        "\n",
        "Parametr `quiet=True` powoduje, że proces pobierania wykonuje się bez wyświetlania komunikatów o postępie."
      ]
    },
    {
      "cell_type": "code",
      "execution_count": 5,
      "id": "312cc125",
      "metadata": {
        "execution": {
          "iopub.execute_input": "2024-11-17T17:34:35.723264Z",
          "iopub.status.busy": "2024-11-17T17:34:35.722842Z",
          "iopub.status.idle": "2024-11-17T17:34:35.728298Z",
          "shell.execute_reply": "2024-11-17T17:34:35.727136Z"
        },
        "papermill": {
          "duration": 0.017249,
          "end_time": "2024-11-17T17:34:35.731145",
          "exception": false,
          "start_time": "2024-11-17T17:34:35.713896",
          "status": "completed"
        },
        "tags": [],
        "id": "312cc125"
      },
      "outputs": [],
      "source": [
        "class CFG:\n",
        "    model = 'gpt-4o-mini'\n",
        "    temp = 0.3"
      ]
    },
    {
      "cell_type": "markdown",
      "id": "d6aecd04",
      "metadata": {
        "papermill": {
          "duration": 0.00726,
          "end_time": "2024-11-17T17:34:35.746425",
          "exception": false,
          "start_time": "2024-11-17T17:34:35.739165",
          "status": "completed"
        },
        "tags": [],
        "id": "d6aecd04"
      },
      "source": [
        "Ta klasa `CFG` (skrót od Configuration/Konfiguracja) definiuje dwa parametry konfiguracyjne:\n",
        "\n",
        "`model = 'gpt-4o-mini'` - określa nazwę modelu językowego, który będzie używany. W tym przypadku jest to model gpt-4o-mini.\n",
        "\n",
        "`temp = 0.3` - ustawia parametr temperatury dla modelu językowego. Temperatura wpływa na losowość/kreatywność generowanych odpowiedzi. Wartość 0.3 jest stosunkowo niska, co oznacza, że model będzie generował bardziej przewidywalne i spójne odpowiedzi, skupiając się na najbardziej prawdopodobnych wynikach.\n",
        "\n",
        "Taka klasa konfiguracyjna pozwala na łatwe zarządzanie i modyfikowanie ustawień w jednym miejscu, zamiast rozpraszania ich po całym kodzie."
      ]
    },
    {
      "cell_type": "code",
      "execution_count": 6,
      "id": "0fd10079",
      "metadata": {
        "execution": {
          "iopub.execute_input": "2024-11-17T17:34:35.763662Z",
          "iopub.status.busy": "2024-11-17T17:34:35.763192Z",
          "iopub.status.idle": "2024-11-17T17:34:36.066299Z",
          "shell.execute_reply": "2024-11-17T17:34:36.065201Z"
        },
        "papermill": {
          "duration": 0.315307,
          "end_time": "2024-11-17T17:34:36.069170",
          "exception": false,
          "start_time": "2024-11-17T17:34:35.753863",
          "status": "completed"
        },
        "tags": [],
        "id": "0fd10079"
      },
      "outputs": [],
      "source": [
        "api_key = userdata.get('openai')\n",
        "os.environ['OPENAI_API_KEY'] = api_key"
      ]
    },
    {
      "cell_type": "markdown",
      "id": "676810a3",
      "metadata": {
        "papermill": {
          "duration": 0.007694,
          "end_time": "2024-11-17T17:34:36.086330",
          "exception": false,
          "start_time": "2024-11-17T17:34:36.078636",
          "status": "completed"
        },
        "tags": [],
        "id": "676810a3"
      },
      "source": [
        "Te linie kodu zajmują się bezpiecznym zarządzaniem kluczem API dla OpenAI:\n",
        "\n",
        "`user_secrets = UserSecretsClient()` - tworzy instancję klienta do zarządzania sekretami na platformie Kaggle.\n",
        "\n",
        "`api_key = user_secrets.get_secret(\"openaivision\")` - pobiera klucz API zapisany pod nazwą \"openaivision\" z bezpiecznego magazynu sekretów Kaggle.\n",
        "\n",
        "`os.environ['OPENAI_API_KEY'] = api_key` - ustawia pobrany klucz API jako zmienną środowiskową o nazwie 'OPENAI_API_KEY'. Jest to standardowy sposób przekazywania kluczy API do bibliotek, które ich wymagają.\n",
        "\n",
        "Ta metoda jest bezpieczniejsza niż zapisywanie klucza API bezpośrednio w kodzie, ponieważ chroni go przed przypadkowym ujawnieniem, np. podczas udostępniania kodu."
      ]
    },
    {
      "cell_type": "markdown",
      "id": "75070c4c",
      "metadata": {
        "papermill": {
          "duration": 0.007697,
          "end_time": "2024-11-17T17:34:36.101858",
          "exception": false,
          "start_time": "2024-11-17T17:34:36.094161",
          "status": "completed"
        },
        "tags": [],
        "id": "75070c4c"
      },
      "source": [
        "# Functions"
      ]
    },
    {
      "cell_type": "code",
      "execution_count": 7,
      "id": "2aff59f7",
      "metadata": {
        "execution": {
          "iopub.execute_input": "2024-11-17T17:34:36.119824Z",
          "iopub.status.busy": "2024-11-17T17:34:36.119421Z",
          "iopub.status.idle": "2024-11-17T17:34:36.128115Z",
          "shell.execute_reply": "2024-11-17T17:34:36.126872Z"
        },
        "papermill": {
          "duration": 0.020274,
          "end_time": "2024-11-17T17:34:36.130351",
          "exception": false,
          "start_time": "2024-11-17T17:34:36.110077",
          "status": "completed"
        },
        "tags": [],
        "id": "2aff59f7"
      },
      "outputs": [],
      "source": [
        "class SummarizeText(BaseModel):\n",
        "    \"\"\"Model for text to be summarized.\"\"\"\n",
        "    text: str = Field(..., title=\"Text to summarize\", description=\"The text to be summarized\")"
      ]
    },
    {
      "cell_type": "markdown",
      "id": "3e7c6f5c",
      "metadata": {
        "papermill": {
          "duration": 0.007596,
          "end_time": "2024-11-17T17:34:36.145691",
          "exception": false,
          "start_time": "2024-11-17T17:34:36.138095",
          "status": "completed"
        },
        "tags": [],
        "id": "3e7c6f5c"
      },
      "source": [
        "Ta klasa definiuje model danych dla tekstu, który ma zostać poddany streszczeniu. Jest to klasa dziedzicząca po `BaseModel` z biblioteki Pydantic:\n",
        "\n",
        "`text: str` - definiuje pole przechowujące tekst do streszczenia. Jest to pole wymagane typu string.\n",
        "\n",
        "`Field(...)` - konfiguracja pola z metadanymi:\n",
        "- `title=\"Text to summarize\"` - określa tytuł pola\n",
        "- `description=\"The text to be summarized\"` - dodaje opis pola\n",
        "- `...` - oznacza, że pole jest wymagane (nie może być None)\n",
        "\n",
        "Dzięki dziedziczeniu po `BaseModel`, klasa zyskuje automatycznie:\n",
        "- walidację typów danych\n",
        "- serializację/deserializację do/z JSON\n",
        "- automatyczną dokumentację\n",
        "- możliwość integracji z narzędziami API\n",
        "\n",
        "Jest to przykład wykorzystania Pydantic do tworzenia bezpiecznych i dobrze udokumentowanych struktur danych."
      ]
    },
    {
      "cell_type": "code",
      "execution_count": 8,
      "id": "fc70786d",
      "metadata": {
        "execution": {
          "iopub.execute_input": "2024-11-17T17:34:36.161996Z",
          "iopub.status.busy": "2024-11-17T17:34:36.161558Z",
          "iopub.status.idle": "2024-11-17T17:34:36.168844Z",
          "shell.execute_reply": "2024-11-17T17:34:36.167561Z"
        },
        "papermill": {
          "duration": 0.018193,
          "end_time": "2024-11-17T17:34:36.171141",
          "exception": false,
          "start_time": "2024-11-17T17:34:36.152948",
          "status": "completed"
        },
        "tags": [],
        "id": "fc70786d"
      },
      "outputs": [],
      "source": [
        "def parse_search_results(results_string: str) -> List[dict]:\n",
        "    \"\"\"Parse a string representation of search results into a list of dictionaries.\"\"\"\n",
        "    results = []\n",
        "    entries = results_string.split(', snippet: ')\n",
        "    for entry in entries[1:]:  # Skip the first split as it's empty\n",
        "        parts = entry.split(', title: ')\n",
        "        if len(parts) == 2:\n",
        "            snippet = parts[0]\n",
        "            title_link = parts[1].split(', link: ')\n",
        "            if len(title_link) == 2:\n",
        "                title, link = title_link\n",
        "                results.append({\n",
        "                    'snippet': snippet,\n",
        "                    'title': title,\n",
        "                    'link': link\n",
        "                })\n",
        "    return results"
      ]
    },
    {
      "cell_type": "markdown",
      "id": "c0edf399",
      "metadata": {
        "papermill": {
          "duration": 0.007301,
          "end_time": "2024-11-17T17:34:36.186018",
          "exception": false,
          "start_time": "2024-11-17T17:34:36.178717",
          "status": "completed"
        },
        "tags": [],
        "id": "c0edf399"
      },
      "source": [
        "Ta funkcja przetwarza wyniki wyszukiwania z formatu tekstowego na listę słowników. Oto jak działa:\n",
        "\n",
        "`results_string: str` - przyjmuje string zawierający wyniki wyszukiwania w określonym formacie\n",
        "`-> List[dict]` - zwraca listę słowników\n",
        "\n",
        "Proces przetwarzania:\n",
        "\n",
        "1. Tworzy pustą listę `results`\n",
        "\n",
        "2. Dzieli tekst na części po separatorze `, snippet: ` - każda część to jeden wynik wyszukiwania\n",
        "   \n",
        "3. Dla każdego wyniku (pomijając pierwszy, pusty element):\n",
        "   - Dzieli tekst na fragment i resztę po separatorze `, title: `\n",
        "   - Jeśli podział się udał (są 2 części):\n",
        "     - Wyodrębnia snippet z pierwszej części\n",
        "     - Dzieli drugą część po `, link: ` aby uzyskać tytuł i link\n",
        "     - Tworzy słownik z tymi trzema elementami i dodaje do wyników\n",
        "\n",
        "4. Każdy słownik w wynikowej liście ma strukturę:\n",
        "   ```python\n",
        "   {\n",
        "       'snippet': 'treść fragmentu',\n",
        "       'title': 'tytuł strony',\n",
        "       'link': 'adres URL'\n",
        "   }\n",
        "   ```\n",
        "\n",
        "Funkcja zakłada konkretny format wejściowy i pomija niepoprawnie sformatowane wpisy."
      ]
    },
    {
      "cell_type": "code",
      "execution_count": 9,
      "id": "81c88ddf",
      "metadata": {
        "execution": {
          "iopub.execute_input": "2024-11-17T17:34:36.203468Z",
          "iopub.status.busy": "2024-11-17T17:34:36.203044Z",
          "iopub.status.idle": "2024-11-17T17:34:36.214214Z",
          "shell.execute_reply": "2024-11-17T17:34:36.213103Z"
        },
        "papermill": {
          "duration": 0.022707,
          "end_time": "2024-11-17T17:34:36.216699",
          "exception": false,
          "start_time": "2024-11-17T17:34:36.193992",
          "status": "completed"
        },
        "tags": [],
        "id": "81c88ddf"
      },
      "outputs": [],
      "source": [
        "def perform_web_search(query: str, specific_site: Optional[str] = None) -> Tuple[List[str], List[Tuple[str, str]]]:\n",
        "    \"\"\"Perform a web search based on a query, optionally including a specific website.\"\"\"\n",
        "    try:\n",
        "        if specific_site:\n",
        "            specific_query = f\"site:{specific_site} {query}\"\n",
        "            print(f\"Searching for: {specific_query}\")\n",
        "            specific_results = search.run(specific_query)\n",
        "            print(f\"Specific search results: {specific_results}\")\n",
        "            specific_parsed = parse_search_results(specific_results)\n",
        "\n",
        "            general_query = f\"-site:{specific_site} {query}\"\n",
        "            print(f\"Searching for: {general_query}\")\n",
        "            general_results = search.run(general_query)\n",
        "            print(f\"General search results: {general_results}\")\n",
        "            general_parsed = parse_search_results(general_results)\n",
        "\n",
        "            combined_results = (specific_parsed + general_parsed)[:3]\n",
        "        else:\n",
        "            print(f\"Searching for: {query}\")\n",
        "            web_results = search.run(query)\n",
        "            print(f\"Web results: {web_results}\")\n",
        "            combined_results = parse_search_results(web_results)[:3]\n",
        "\n",
        "        web_knowledge = [result.get('snippet', '') for result in combined_results]\n",
        "        sources = [(result.get('title', 'Untitled'), result.get('link', '')) for result in combined_results]\n",
        "\n",
        "        print(f\"Processed web_knowledge: {web_knowledge}\")\n",
        "        print(f\"Processed sources: {sources}\")\n",
        "        return web_knowledge, sources\n",
        "    except Exception as e:\n",
        "        print(f\"Error in perform_web_search: {str(e)}\")\n",
        "        import traceback\n",
        "        traceback.print_exc()\n",
        "        return [], []"
      ]
    },
    {
      "cell_type": "markdown",
      "id": "db6824a9",
      "metadata": {
        "papermill": {
          "duration": 0.007244,
          "end_time": "2024-11-17T17:34:36.231595",
          "exception": false,
          "start_time": "2024-11-17T17:34:36.224351",
          "status": "completed"
        },
        "tags": [],
        "id": "db6824a9"
      },
      "source": [
        "Ta funkcja wykonuje wyszukiwanie w internecie i przetwarza jego wyniki. Przyjmuje dwa parametry:\n",
        "- `query: str` - tekst zapytania\n",
        "- `specific_site: Optional[str] = None` - opcjonalna domena, na której ma być ograniczone wyszukiwanie\n",
        "\n",
        "Zwraca krotkę zawierającą:\n",
        "- listę fragmentów tekstu z wyników\n",
        "- listę krotek (tytuł, link) dla źródeł\n",
        "\n",
        "Działanie:\n",
        "\n",
        "1. Jeśli podano specific_site:\n",
        "   - Wykonuje dwa wyszukiwania:\n",
        "     - Na konkretnej stronie używając `site:domena zapytanie`\n",
        "     - Na innych stronach używając `-site:domena zapytanie`\n",
        "   - Łączy wyniki i bierze pierwsze 3\n",
        "\n",
        "2. Jeśli nie podano specific_site:\n",
        "   - Wykonuje jedno wyszukiwanie z podstawowym zapytaniem\n",
        "   - Bierze pierwsze 3 wyniki\n",
        "\n",
        "3. Z wyników tworzy:\n",
        "   - `web_knowledge` - lista fragmentów tekstu\n",
        "   - `sources` - lista par (tytuł, link)\n",
        "\n",
        "4. Obsługa błędów:\n",
        "   - W przypadku problemu wyświetla szczegółowy błąd\n",
        "   - Zwraca puste listy jako bezpieczną wartość domyślną\n",
        "\n",
        "Funkcja używa wcześniej zdefiniowanej funkcji `parse_search_results` do przetwarzania surowych wyników wyszukiwania."
      ]
    },
    {
      "cell_type": "code",
      "execution_count": 10,
      "id": "4526642a",
      "metadata": {
        "execution": {
          "iopub.execute_input": "2024-11-17T17:34:36.248453Z",
          "iopub.status.busy": "2024-11-17T17:34:36.248016Z",
          "iopub.status.idle": "2024-11-17T17:34:36.255777Z",
          "shell.execute_reply": "2024-11-17T17:34:36.254615Z"
        },
        "papermill": {
          "duration": 0.018964,
          "end_time": "2024-11-17T17:34:36.258127",
          "exception": false,
          "start_time": "2024-11-17T17:34:36.239163",
          "status": "completed"
        },
        "tags": [],
        "id": "4526642a"
      },
      "outputs": [],
      "source": [
        "def summarize_text(text: str, source: Tuple[str, str]) -> str:\n",
        "    \"\"\"Summarize the given text using OpenAI's language model.\"\"\"\n",
        "    try:\n",
        "        llm = ChatOpenAI(temperature = CFG.temp, model = CFG.model)\n",
        "        prompt_template = \"Please summarize the following text in 1-2 bullet points:\\n\\n{text}\\n\\nSummary:\"\n",
        "        prompt = PromptTemplate(\n",
        "            template=prompt_template,\n",
        "            input_variables=[\"text\"],\n",
        "        )\n",
        "        summary_chain = prompt | llm\n",
        "        input_data = {\"text\": text}\n",
        "        summary = summary_chain.invoke(input_data)\n",
        "\n",
        "        summary_content = summary.content if hasattr(summary, 'content') else str(summary)\n",
        "\n",
        "        formatted_summary = f\"Source: {source[0]} ({source[1]})\\n{summary_content.strip()}\\n\"\n",
        "        return formatted_summary\n",
        "    except Exception as e:\n",
        "        print(f\"Error in summarize_text: {str(e)}\")\n",
        "        return \"\""
      ]
    },
    {
      "cell_type": "markdown",
      "id": "0262591f",
      "metadata": {
        "papermill": {
          "duration": 0.007239,
          "end_time": "2024-11-17T17:34:36.272952",
          "exception": false,
          "start_time": "2024-11-17T17:34:36.265713",
          "status": "completed"
        },
        "tags": [],
        "id": "0262591f"
      },
      "source": [
        "Ta funkcja tworzy streszczenie tekstu przy użyciu modelu językowego OpenAI. Przyjmuje:\n",
        "- `text: str` - tekst do streszczenia\n",
        "- `source: Tuple[str, str]` - krotka (tytuł, link) ze źródłem tekstu\n",
        "\n",
        "Proces streszczania:\n",
        "\n",
        "1. Tworzy instancję modelu językowego:\n",
        "   - Używa parametrów z klasy CFG (temperatura i nazwa modelu)\n",
        "   - Wykorzystuje klasę ChatOpenAI\n",
        "\n",
        "2. Definiuje szablon promptu:\n",
        "   - Prosi o streszczenie tekstu w 1-2 punktach\n",
        "   - Używa klasy PromptTemplate do utworzenia szablonu\n",
        "   - Określa zmienną wejściową \"text\"\n",
        "\n",
        "3. Tworzy i wykonuje łańcuch przetwarzania:\n",
        "   - Łączy prompt z modelem językowym\n",
        "   - Przekazuje tekst jako dane wejściowe\n",
        "   - Pobiera wygenerowane streszczenie\n",
        "\n",
        "4. Formatuje wynik:\n",
        "   - Wydobywa treść streszczenia (obsługuje różne formaty odpowiedzi)\n",
        "   - Dodaje informację o źródle\n",
        "   - Zwraca sformatowany tekst\n",
        "\n",
        "5. W przypadku błędu:\n",
        "   - Wyświetla komunikat o błędzie\n",
        "   - Zwraca pusty string"
      ]
    },
    {
      "cell_type": "code",
      "execution_count": 11,
      "id": "43ccf993",
      "metadata": {
        "execution": {
          "iopub.execute_input": "2024-11-17T17:34:36.290277Z",
          "iopub.status.busy": "2024-11-17T17:34:36.289268Z",
          "iopub.status.idle": "2024-11-17T17:34:36.296366Z",
          "shell.execute_reply": "2024-11-17T17:34:36.295214Z"
        },
        "papermill": {
          "duration": 0.018334,
          "end_time": "2024-11-17T17:34:36.298727",
          "exception": false,
          "start_time": "2024-11-17T17:34:36.280393",
          "status": "completed"
        },
        "tags": [],
        "id": "43ccf993"
      },
      "outputs": [],
      "source": [
        "def search_summarize(query: str, specific_site: Optional[str] = None) -> str:\n",
        "    \"\"\"Perform a web search and summarize the results.\"\"\"\n",
        "    web_knowledge, sources = perform_web_search(query, specific_site)\n",
        "\n",
        "    if not web_knowledge or not sources:\n",
        "        print(\"No web knowledge or sources found.\")\n",
        "        return \"\"\n",
        "\n",
        "    summaries = [summarize_text(knowledge, source) for knowledge, source in zip(web_knowledge, sources) if summarize_text(knowledge, source)]\n",
        "\n",
        "    combined_summary = \"\\n\".join(summaries)\n",
        "    return combined_summary"
      ]
    },
    {
      "cell_type": "markdown",
      "id": "6969b687",
      "metadata": {
        "papermill": {
          "duration": 0.007296,
          "end_time": "2024-11-17T17:34:36.313515",
          "exception": false,
          "start_time": "2024-11-17T17:34:36.306219",
          "status": "completed"
        },
        "tags": [],
        "id": "6969b687"
      },
      "source": [
        "Ta funkcja łączy wyszukiwanie i streszczanie wyników w jeden proces. Przyjmuje:\n",
        "- `query: str` - zapytanie do wyszukania\n",
        "- `specific_site: Optional[str] = None` - opcjonalna domena do przeszukania\n",
        "\n",
        "Proces działania:\n",
        "\n",
        "1. Wykonuje wyszukiwanie:\n",
        "   - Wywołuje `perform_web_search`\n",
        "   - Otrzymuje listę tekstów (`web_knowledge`) i źródeł (`sources`)\n",
        "\n",
        "2. Sprawdza wyniki:\n",
        "   - Jeśli nie znaleziono tekstów lub źródeł, zwraca pusty string\n",
        "   - Wyświetla odpowiedni komunikat\n",
        "\n",
        "3. Tworzy streszczenia:\n",
        "   - Używa list comprehension do przetworzenia wszystkich znalezionych tekstów\n",
        "   - Łączy każdy tekst z jego źródłem\n",
        "   - Wywołuje `summarize_text` dla każdej pary\n",
        "   - Pomija puste streszczenia\n",
        "\n",
        "4. Łączy wyniki:\n",
        "   - Scala wszystkie streszczenia w jeden tekst\n",
        "   - Używa znaku nowej linii jako separatora\n",
        "\n",
        "Jest to funkcja wysokiego poziomu, która automatyzuje cały proces od wyszukiwania po streszczanie."
      ]
    },
    {
      "cell_type": "markdown",
      "id": "a76efdd6",
      "metadata": {
        "papermill": {
          "duration": 0.007355,
          "end_time": "2024-11-17T17:34:36.328403",
          "exception": false,
          "start_time": "2024-11-17T17:34:36.321048",
          "status": "completed"
        },
        "tags": [],
        "id": "a76efdd6"
      },
      "source": [
        "# Run"
      ]
    },
    {
      "cell_type": "code",
      "execution_count": null,
      "id": "c7948836",
      "metadata": {
        "execution": {
          "iopub.execute_input": "2024-11-17T17:34:36.346204Z",
          "iopub.status.busy": "2024-11-17T17:34:36.345460Z",
          "iopub.status.idle": "2024-11-17T17:34:36.413436Z",
          "shell.execute_reply": "2024-11-17T17:34:36.412443Z"
        },
        "papermill": {
          "duration": 0.080043,
          "end_time": "2024-11-17T17:34:36.416073",
          "exception": false,
          "start_time": "2024-11-17T17:34:36.336030",
          "status": "completed"
        },
        "tags": [],
        "id": "c7948836"
      },
      "outputs": [],
      "source": [
        "search = DuckDuckGoSearchResults()"
      ]
    },
    {
      "cell_type": "markdown",
      "id": "7168d460",
      "metadata": {
        "papermill": {
          "duration": 0.007072,
          "end_time": "2024-11-17T17:34:36.430689",
          "exception": false,
          "start_time": "2024-11-17T17:34:36.423617",
          "status": "completed"
        },
        "tags": [],
        "id": "7168d460"
      },
      "source": [
        "Ta linia tworzy instancję narzędzia do wyszukiwania z użyciem DuckDuckGo.\n",
        "\n",
        "`DuckDuckGoSearchResults()` to klasa z biblioteki langchain.tools, która zapewnia interfejs do wyszukiwarki DuckDuckGo.\n",
        "\n",
        "Ta instancja będzie używana przez funkcję `perform_web_search` do wykonywania zapytań internetowych. DuckDuckGo został wybrany jako alternatywa dla Google, ponieważ:\n",
        "- nie śledzi użytkowników\n",
        "- nie wymaga klucza API\n",
        "- ma mniej ograniczeń w dostępie\n",
        "- oferuje wystarczającą jakość wyników dla większości zastosowań\n",
        "\n",
        "Utworzony obiekt `search` udostępnia metodę `run()`, która przyjmuje zapytanie jako tekst i zwraca wyniki wyszukiwania."
      ]
    },
    {
      "cell_type": "code",
      "execution_count": 12,
      "id": "29f270cf",
      "metadata": {
        "execution": {
          "iopub.execute_input": "2024-11-17T17:34:36.448212Z",
          "iopub.status.busy": "2024-11-17T17:34:36.447516Z",
          "iopub.status.idle": "2024-11-17T17:34:45.874517Z",
          "shell.execute_reply": "2024-11-17T17:34:45.873266Z"
        },
        "papermill": {
          "duration": 9.443189,
          "end_time": "2024-11-17T17:34:45.881464",
          "exception": false,
          "start_time": "2024-11-17T17:34:36.438275",
          "status": "completed"
        },
        "tags": [],
        "colab": {
          "base_uri": "https://localhost:8080/"
        },
        "id": "29f270cf",
        "outputId": "0e993daa-605a-4623-de66-ab4fae4c4716"
      },
      "outputs": [
        {
          "output_type": "stream",
          "name": "stdout",
          "text": [
            "Searching for: site:https://medium.com/ What are the latest advancements on AI agents?\n",
            "Error in perform_web_search: name 'search' is not defined\n",
            "No web knowledge or sources found.\n",
            "--------------------\n",
            "Summary of latest advancements on agentic patterns (including information from https://medium.com/):\n",
            "\n"
          ]
        },
        {
          "output_type": "stream",
          "name": "stderr",
          "text": [
            "Traceback (most recent call last):\n",
            "  File \"<ipython-input-9-8fcd49f429f2>\", line 7, in perform_web_search\n",
            "    specific_results = search.run(specific_query)\n",
            "NameError: name 'search' is not defined\n"
          ]
        }
      ],
      "source": [
        "query = \"What are the latest advancements on AI agents?\"\n",
        "specific_site = \"https://medium.com/\"\n",
        "result = search_summarize(query, specific_site)\n",
        "print('-' * 20)\n",
        "print(f\"Summary of latest advancements on agentic patterns (including information from {specific_site if specific_site else 'various sources'}):\")\n",
        "print(result)"
      ]
    },
    {
      "cell_type": "markdown",
      "id": "8f465840",
      "metadata": {
        "papermill": {
          "duration": 0.007417,
          "end_time": "2024-11-17T17:34:45.896936",
          "exception": false,
          "start_time": "2024-11-17T17:34:45.889519",
          "status": "completed"
        },
        "tags": [],
        "id": "8f465840"
      },
      "source": [
        "Te linie wykonują konkretne wyszukiwanie i wyświetlają jego wyniki:\n",
        "\n",
        "1. Ustawienie parametrów:\n",
        "   - `query` zawiera pytanie o najnowsze osiągnięcia w dziedzinie agentów AI\n",
        "   - `specific_site` określa, że wyszukiwanie ma uwzględnić treści z Medium.com\n",
        "\n",
        "2. Wykonanie wyszukiwania:\n",
        "   - `result = search_summarize(query, specific_site)` uruchamia cały proces wyszukiwania i streszczania\n",
        "\n",
        "3. Wyświetlenie wyników:\n",
        "   - Drukuje linię z 20 myślników jako separator\n",
        "   - Wyświetla nagłówek informujący o źródle informacji (Medium.com lub różne źródła)\n",
        "   - Pokazuje podsumowanie znalezionych informacji o rozwoju agentów AI\n",
        "\n",
        "Ta część kodu demonstruje praktyczne użycie wcześniej zdefiniowanych funkcji do zebrania i przedstawienia konkretnych informacji na temat postępów w dziedzinie AI."
      ]
    }
  ],
  "metadata": {
    "kaggle": {
      "accelerator": "none",
      "dataSources": [],
      "dockerImageVersionId": 30786,
      "isGpuEnabled": false,
      "isInternetEnabled": true,
      "language": "python",
      "sourceType": "notebook"
    },
    "kernelspec": {
      "display_name": "Python 3",
      "language": "python",
      "name": "python3"
    },
    "language_info": {
      "codemirror_mode": {
        "name": "ipython",
        "version": 3
      },
      "file_extension": ".py",
      "mimetype": "text/x-python",
      "name": "python",
      "nbconvert_exporter": "python",
      "pygments_lexer": "ipython3",
      "version": "3.10.14"
    },
    "papermill": {
      "default_parameters": {},
      "duration": 51.704309,
      "end_time": "2024-11-17T17:34:46.827215",
      "environment_variables": {},
      "exception": null,
      "input_path": "__notebook__.ipynb",
      "output_path": "__notebook__.ipynb",
      "parameters": {},
      "start_time": "2024-11-17T17:33:55.122906",
      "version": "2.6.0"
    },
    "colab": {
      "provenance": [],
      "include_colab_link": true
    }
  },
  "nbformat": 4,
  "nbformat_minor": 5
}