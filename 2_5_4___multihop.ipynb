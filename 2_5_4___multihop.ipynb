{
  "nbformat": 4,
  "nbformat_minor": 0,
  "metadata": {
    "colab": {
      "provenance": [],
      "collapsed_sections": [
        "26NQXr6YhB4X",
        "l-EZtM4ghmvZ",
        "DNobCG0kiE-J",
        "DGNZA4C71shb",
        "Ej72q3UKkTlf"
      ],
      "include_colab_link": true
    },
    "kernelspec": {
      "name": "python3",
      "display_name": "Python 3"
    },
    "language_info": {
      "name": "python"
    }
  },
  "cells": [
    {
      "cell_type": "markdown",
      "metadata": {
        "id": "view-in-github",
        "colab_type": "text"
      },
      "source": [
        "<a href=\"https://colab.research.google.com/github/kapamawi/AI/blob/main/2_5_4___multihop.ipynb\" target=\"_parent\"><img src=\"https://colab.research.google.com/assets/colab-badge.svg\" alt=\"Open In Colab\"/></a>"
      ]
    },
    {
      "cell_type": "markdown",
      "source": [
        "# Setup"
      ],
      "metadata": {
        "id": "26NQXr6YhB4X"
      }
    },
    {
      "cell_type": "code",
      "execution_count": null,
      "metadata": {
        "id": "6gmm9EQl_FeR"
      },
      "outputs": [],
      "source": [
        "!pip install -qU langchain langchain-openai langchain-community pydantic chromadb"
      ]
    },
    {
      "cell_type": "markdown",
      "source": [
        "Ten kod instaluje kilka bibliotek Pythona używając menedżera pakietów pip. Flaga -q włącza tryb cichy (quiet), który ukrywa szczegóły procesu instalacji, a -U wymusza aktualizację do najnowszych wersji.\n",
        "\n",
        "Instalowane są następujące biblioteki:\n",
        "\n",
        "langchain - framework do budowania aplikacji wykorzystujących modele językowe. Pozwala łączyć różne modele i narzędzia w złożone łańcuchy przetwarzania.\n",
        "\n",
        "langchain-openai - wtyczka do LangChain umożliwiająca integrację z modelami OpenAI jak GPT-3 i GPT-4.\n",
        "\n",
        "langchain-community - zbiór komponentów stworzonych przez społeczność LangChain, zawierający dodatkowe narzędzia i integracje.\n",
        "\n",
        "pydantic - biblioteka do walidacji danych i zarządzania ustawieniami w Pythonie. Jest używana przez LangChain do definiowania schematów danych.\n",
        "\n",
        "chromadb - baza danych wektorowych, która pozwala na przechowywanie i wyszukiwanie danych tekstowych na podstawie ich znaczenia semantycznego. Jest często używana z LangChain do tworzenia systemów wyszukiwania i rekomendacji.\n",
        "\n",
        "Te biblioteki razem tworzą środowisko do budowania zaawansowanych aplikacji wykorzystujących sztuczną inteligencję, szczególnie w zakresie przetwarzania języka naturalnego i wyszukiwania semantycznego."
      ],
      "metadata": {
        "id": "gc4Bv7lG-myz"
      }
    },
    {
      "cell_type": "code",
      "source": [
        "import os\n",
        "import numpy as np\n",
        "from pydantic import BaseModel, Field\n",
        "from langchain import hub\n",
        "from langchain.agents import (\n",
        "    AgentExecutor,   Tool,  create_openai_tools_agent,  create_react_agent,\n",
        "    tool\n",
        ")\n",
        "from langchain.chains import RetrievalQA\n",
        "from langchain_openai import ChatOpenAI, OpenAIEmbeddings\n",
        "from langchain.document_loaders import TextLoader\n",
        "from langchain.embeddings.openai import OpenAIEmbeddings\n",
        "from langchain.prompts import ChatPromptTemplate, MessagesPlaceholder\n",
        "from langchain.retrievers import ParentDocumentRetriever\n",
        "from langchain.storage import LocalFileStore\n",
        "from langchain.storage._lc_store import create_kv_docstore\n",
        "from langchain.text_splitter import RecursiveCharacterTextSplitter\n",
        "from langchain.tools.retriever import create_retriever_tool\n",
        "from langchain.vectorstores import Chroma\n",
        "from google.colab import userdata\n",
        "from pprint import pp as ppr"
      ],
      "metadata": {
        "id": "Bvh0m9mNhBIS"
      },
      "execution_count": null,
      "outputs": []
    },
    {
      "cell_type": "markdown",
      "source": [
        "Ten kod importuje szereg bibliotek i narzędzi potrzebnych do stworzenia systemu przetwarzania języka naturalnego.\n",
        "\n",
        "Importy można podzielić na kilka logicznych grup:\n",
        "\n",
        "Z biblioteki standardowej importowany jest moduł os do operacji systemowych.\n",
        "\n",
        "Z numpy (jako np) importowane są funkcje do obliczeń numerycznych.\n",
        "\n",
        "Z pydantic pobierane są BaseModel i Field do definiowania modeli danych z walidacją.\n",
        "\n",
        "Z ekosystemu LangChain importowane są komponenty do:\n",
        "\n",
        "- Tworzenia agentów AI (AgentExecutor, Tool, create_openai_tools_agent, create_react_agent, tool) - są to elementy pozwalające na budowę systemów podejmujących autonomiczne decyzje\n",
        "\n",
        "- Łańcuchów przetwarzania (RetrievalQA) - do tworzenia systemów pytanie-odpowiedź\n",
        "\n",
        "- Integracji z OpenAI (ChatOpenAI, OpenAIEmbeddings) - umożliwiają komunikację z modelami GPT i tworzenie reprezentacji tekstów\n",
        "\n",
        "- Ładowania dokumentów (TextLoader) - do wczytywania plików tekstowych\n",
        "\n",
        "- Zarządzania promptami (ChatPromptTemplate, MessagesPlaceholder) - służą do formatowania zapytań do modeli\n",
        "\n",
        "- Wyszukiwania dokumentów (ParentDocumentRetriever) - pozwala na inteligentne przeszukiwanie bazy dokumentów\n",
        "\n",
        "- Przechowywania danych (LocalFileStore, create_kv_docstore) - do lokalnego magazynowania informacji\n",
        "\n",
        "- Dzielenia tekstu (RecursiveCharacterTextSplitter) - do podziału długich tekstów na mniejsze fragmenty\n",
        "\n",
        "- Narzędzi wyszukiwania (create_retriever_tool) - do tworzenia narzędzi przeszukujących dokumenty\n",
        "\n",
        "- Bazy wektorowej (Chroma) - do przechowywania i wyszukiwania tekstów na podstawie ich znaczenia\n",
        "\n",
        "Dodatkowo importowane są narzędzia pomocnicze:\n",
        "- userdata z google.colab do obsługi danych użytkownika w środowisku Google Colab\n",
        "- ppr (alias dla pprint) do ładnego wyświetlania złożonych struktur danych\n",
        "."
      ],
      "metadata": {
        "id": "uvaCpF9g_UGx"
      }
    },
    {
      "cell_type": "code",
      "source": [
        "class CFG:\n",
        "  model1 = \"gpt-4o-mini\"\n",
        "  model2 = \"text-embedding-3-large\"\n",
        "  temperature = 0.1\n",
        "  chunksize = 1024"
      ],
      "metadata": {
        "id": "Y5ee1vPxy8ET"
      },
      "execution_count": null,
      "outputs": []
    },
    {
      "cell_type": "code",
      "source": [
        "\n",
        "os.environ['OPENAI_API_KEY'] = userdata.get('openaivision')"
      ],
      "metadata": {
        "id": "NORHh55Ty-IP"
      },
      "execution_count": null,
      "outputs": []
    },
    {
      "cell_type": "markdown",
      "source": [
        "Ta linia kodu konfiguruje klucz API do usług OpenAI w zmiennych środowiskowych. Dzieje się to w dwóch krokach:\n",
        "\n",
        "userdata.get('openaivision') pobiera zapisany wcześniej klucz API ze specjalnego miejsca w Google Colab, gdzie przechowywane są poufne dane użytkownika. Jest to bezpieczniejszy sposób przechowywania kluczy API niż wpisywanie ich bezpośrednio w kodzie, ponieważ chroni je przed przypadkowym udostępnieniem.\n",
        "\n",
        "Następnie ten klucz jest przypisywany do zmiennej środowiskowej o nazwie 'OPENAI_API_KEY'. Zmienne środowiskowe to specjalne zmienne systemowe dostępne dla wszystkich programów uruchomionych w danym środowisku. Biblioteki OpenAI automatycznie szukają klucza API właśnie w tej zmiennej środowiskowej.\n"
      ],
      "metadata": {
        "id": "SxHE3xHL_nDZ"
      }
    },
    {
      "cell_type": "code",
      "source": [
        "\n",
        "llm = ChatOpenAI(model= CFG.model1)\n",
        "\n",
        "embeddings = OpenAIEmbeddings(model = CFG.model2)\n"
      ],
      "metadata": {
        "id": "M7UgbYY1fKjp",
        "colab": {
          "base_uri": "https://localhost:8080/"
        },
        "outputId": "925bb1c4-17c5-4135-be1a-7f72266ce3d8"
      },
      "execution_count": null,
      "outputs": [
        {
          "output_type": "stream",
          "name": "stderr",
          "text": [
            "<ipython-input-6-2be88f6e64f2>:3: LangChainDeprecationWarning: The class `OpenAIEmbeddings` was deprecated in LangChain 0.0.9 and will be removed in 1.0. An updated version of the class exists in the :class:`~langchain-openai package and should be used instead. To use it run `pip install -U :class:`~langchain-openai` and import as `from :class:`~langchain_openai import OpenAIEmbeddings``.\n",
            "  embeddings = OpenAIEmbeddings(model = CFG.model2)\n"
          ]
        }
      ]
    },
    {
      "cell_type": "markdown",
      "source": [
        "Te dwie linie kodu tworzą fundamentalne komponenty do pracy z API OpenAI.\n",
        "\n",
        "`llm = ChatOpenAI(model= CFG.model1)` tworzy obiekt modelu językowego do prowadzenia rozmów, używając modelu określonego w konfiguracji jako CFG.model1. Ten obiekt będzie używany do generowania odpowiedzi w formacie konwersacji.\n",
        "\n",
        "`embeddings = OpenAIEmbeddings(model = CFG.model2)` tworzy obiekt do generowania embedingów tekstu, używając modelu zdefiniowanego w zmiennej CFG.model2. Embeddingi to wektorowe (liczbowe) reprezentacje tekstu, które zachowują jego znaczenie - teksty o podobnym znaczeniu mają podobne reprezentacje wektorowe. Jest to kluczowe dla wyszukiwania semantycznego i porównywania tekstów pod względem znaczenia, nie tylko dopasowania słów.\n",
        "\n",
        "Oba obiekty używają wcześniej skonfigurowanego klucza API OpenAI do komunikacji z serwerami OpenAI."
      ],
      "metadata": {
        "id": "92H5Z51L_qDG"
      }
    },
    {
      "cell_type": "markdown",
      "source": [
        "# Data"
      ],
      "metadata": {
        "id": "l-EZtM4ghmvZ"
      }
    },
    {
      "cell_type": "code",
      "source": [
        "loader = TextLoader(\"/content/globalcorp_hr_policy.txt\")\n",
        "documents = loader.load()"
      ],
      "metadata": {
        "id": "qqXQXWd4hnbW"
      },
      "execution_count": null,
      "outputs": []
    },
    {
      "cell_type": "markdown",
      "source": [
        "Te dwie linie kodu służą do wczytania dokumentu tekstowego:\n",
        "\n",
        "`loader = TextLoader(\"/content/globalcorp_hr_policy.txt\")` tworzy obiekt ładujący, który będzie czytał plik tekstowy zawierający zasady HR firmy GlobalCorp. Plik znajduje się w ścieżce '/content/globalcorp_hr_policy.txt'.\n",
        "\n",
        "`documents = loader.load()` wykonuje właściwe wczytanie dokumentu. Metoda load() przetwarza plik tekstowy i zwraca jego zawartość w formie, która może być dalej przetwarzana przez system. Zawartość jest zapisywana do zmiennej documents.\n",
        "\n",
        "Jest to pierwszy krok w procesie przetwarzania dokumentów - po wczytaniu tekst może być podzielony na mniejsze części, przekształcony w embeddingi i zapisany w bazie wektorowej do późniejszego wyszukiwania."
      ],
      "metadata": {
        "id": "O7QeGgoBFsX4"
      }
    },
    {
      "cell_type": "code",
      "source": [
        "persist_directory = \"local_vectorstore\"\n",
        "local_store = \"local_docstore\"\n",
        "collection_name = \"hrpolicy\"\n",
        "PROJECT_ROOT = \"/content/\"\n"
      ],
      "metadata": {
        "id": "ZHbMVlCVhs5N"
      },
      "execution_count": null,
      "outputs": []
    },
    {
      "cell_type": "markdown",
      "source": [
        "# Retriever"
      ],
      "metadata": {
        "id": "DNobCG0kiE-J"
      }
    },
    {
      "cell_type": "code",
      "source": [
        "\n",
        "parent_splitter = RecursiveCharacterTextSplitter(chunk_size=1000, chunk_overlap=20)\n",
        "child_splitter = RecursiveCharacterTextSplitter(chunk_size=200, chunk_overlap=20)"
      ],
      "metadata": {
        "id": "eJETyL_aFxDr"
      },
      "execution_count": null,
      "outputs": []
    },
    {
      "cell_type": "markdown",
      "source": [
        "Te linie tworzą dwa różne narzędzia do dzielenia tekstu:\n",
        "\n",
        "`parent_splitter` dzieli tekst na większe fragmenty po 1000 znaków z nakładką 20 znaków między fragmentami. Jest to \"rodzic\" w hierarchii podziału tekstu.\n",
        "\n",
        "`child_splitter` tworzy mniejsze fragmenty po 200 znaków, również z nakładką 20 znaków. Jest to \"dziecko\" w hierarchii podziału tekstu.\n",
        "\n",
        "RecursiveCharacterTextSplitter działa rekurencyjnie, co oznacza że stara się inteligentnie dzielić tekst, zachowując spójność zdań i akapitów. Nakładka (overlap) między fragmentami pomaga zachować kontekst na granicach podziału - te same 20 znaków pojawia się na końcu jednego fragmentu i na początku następnego.\n",
        "\n",
        "Taki dwupoziomowy podział pozwala na efektywne wyszukiwanie - najpierw w większych fragmentach, a potem w ich mniejszych częściach, co zwiększa dokładność odpowiedzi systemu."
      ],
      "metadata": {
        "id": "w2J00F3-Fy35"
      }
    },
    {
      "cell_type": "code",
      "source": [
        "\n",
        "vectorstore = Chroma(\n",
        "    persist_directory=os.path.join(PROJECT_ROOT, \"data\", persist_directory),\n",
        "    collection_name=collection_name,\n",
        "    embedding_function=embeddings,\n",
        ")"
      ],
      "metadata": {
        "id": "8nNd98ZmFv5E"
      },
      "execution_count": null,
      "outputs": []
    },
    {
      "cell_type": "markdown",
      "source": [
        "Ta linia kodu tworzy bazę danych wektorowych Chroma do przechowywania i wyszukiwania dokumentów. Rozłóżmy jej komponenty:\n",
        "\n",
        "`persist_directory` określa ścieżkę, gdzie będą zapisywane dane. Jest ona tworzona przez połączenie PROJECT_ROOT (główny katalog projektu), podkatalogu \"data\" i wartości zmiennej persist_directory.\n",
        "\n",
        "`collection_name` nadaje nazwę kolekcji dokumentów w bazie. Kolekcje pozwalają na organizację różnych zestawów dokumentów.\n",
        "\n",
        "`embedding_function=embeddings` wskazuje, że do tworzenia wektorowych reprezentacji tekstów ma być użyty wcześniej skonfigurowany obiekt embeddings (który używa modelu OpenAI).\n",
        "\n",
        "Chroma to baza danych zoptymalizowana do przechowywania embedingów i szybkiego wyszukiwania podobnych dokumentów. Działa jak zaawansowana wyszukiwarka, która rozumie znaczenie tekstu, nie tylko słowa kluczowe."
      ],
      "metadata": {
        "id": "KsSk8lJAGCH3"
      }
    },
    {
      "cell_type": "code",
      "source": [
        "\n",
        "local_store = LocalFileStore(os.path.join(PROJECT_ROOT, \"data\", local_store))\n",
        "store = create_kv_docstore(local_store)\n",
        "retriever = ParentDocumentRetriever(\n",
        "    vectorstore=vectorstore,\n",
        "    docstore=store,\n",
        "    child_splitter=child_splitter,\n",
        "    parent_splitter=parent_splitter,\n",
        ")"
      ],
      "metadata": {
        "id": "wpbP1uriiGLZ",
        "outputId": "308fe1bd-dd06-4612-83ca-3e1fd77e2608",
        "colab": {
          "base_uri": "https://localhost:8080/"
        }
      },
      "execution_count": null,
      "outputs": [
        {
          "output_type": "stream",
          "name": "stderr",
          "text": [
            "<ipython-input-9-75800798405b>:5: LangChainDeprecationWarning: The class `Chroma` was deprecated in LangChain 0.2.9 and will be removed in 1.0. An updated version of the class exists in the :class:`~langchain-chroma package and should be used instead. To use it run `pip install -U :class:`~langchain-chroma` and import as `from :class:`~langchain_chroma import Chroma``.\n",
            "  vectorstore = Chroma(\n"
          ]
        }
      ]
    },
    {
      "cell_type": "markdown",
      "source": [
        "Te linie kodu tworzą system do przechowywania i wyszukiwania dokumentów.\n",
        "\n",
        "`local_store = LocalFileStore(...)` tworzy lokalny magazyn plików w katalogu projektu. To miejsce do przechowywania oryginalnych dokumentów.\n",
        "\n",
        "`store = create_kv_docstore(local_store)` tworzy magazyn typu klucz-wartość na podstawie lokalnego magazynu plików. Pozwala na szybkie odnajdywanie dokumentów po ich identyfikatorach.\n",
        "\n",
        "Ostatni fragment tworzy zaawansowany system wyszukiwania dokumentów:\n",
        "```python\n",
        "retriever = ParentDocumentRetriever(\n",
        "    vectorstore=vectorstore,\n",
        "    docstore=store,\n",
        "    child_splitter=child_splitter,\n",
        "    parent_splitter=parent_splitter,\n",
        ")\n",
        "```\n",
        "- `vectorstore` to wcześniej utworzona baza Chroma do przechowywania wektorów\n",
        "- `docstore` to magazyn oryginalnych dokumentów\n",
        "- `child_splitter` i `parent_splitter` to wcześniej zdefiniowane narzędzia do dzielenia tekstu\n",
        "\n",
        "Ten system działa dwupoziomowo:\n",
        "1. Najpierw wyszukuje odpowiednie większe fragmenty tekstu (używając parent_splitter)\n",
        "2. Następnie w znalezionych fragmentach szuka dokładniejszych dopasowań (używając child_splitter)\n",
        "\n",
        "Taka struktura zapewnia zarówno dokładność jak i szybkość wyszukiwania."
      ],
      "metadata": {
        "id": "Wn3tBr_gGPO8"
      }
    },
    {
      "cell_type": "markdown",
      "source": [
        "# Functions"
      ],
      "metadata": {
        "id": "DGNZA4C71shb"
      }
    },
    {
      "cell_type": "code",
      "source": [
        "def value_to_float(x):\n",
        "    if int(x):\n",
        "        return int(x)\n",
        "    if type(x) == float or type(x) == int:\n",
        "        return x\n",
        "    x = x.upper()\n",
        "    if \"MILLION\" in x:\n",
        "        if len(x) > 1:\n",
        "            return float(x.replace(\"MILLION\", \"\")) * 1000000\n",
        "        return 1000000.0\n",
        "    if \"BILLION\" in x:\n",
        "        return float(x.replace(\"BILLION\", \"\")) * 1000000000\n",
        "\n",
        "    return 0.0\n"
      ],
      "metadata": {
        "id": "gHMwxQ5X1uFB"
      },
      "execution_count": null,
      "outputs": []
    },
    {
      "cell_type": "markdown",
      "source": [
        "Ta funkcja `value_to_float` konwertuje różne formaty zapisu liczb na wartości zmiennoprzecinkowe. Przeanalizujmy jak działa:\n",
        "\n",
        "1. Jeśli wartość da się przekonwertować na liczbę całkowitą (`int(x)`), zwraca tę liczbę.\n",
        "\n",
        "2. Jeśli wartość jest już typu float lub int, zwraca ją bez zmian.\n",
        "\n",
        "3. Dla tekstu:\n",
        "   - Zamienia tekst na wielkie litery dla spójności\n",
        "   - Jeśli zawiera słowo \"MILLION\":\n",
        "     - Usuwa słowo \"MILLION\" i mnoży pozostałą liczbę przez 1,000,000\n",
        "     - Jeśli nie ma liczby przed \"MILLION\", zwraca 1,000,000\n",
        "   - Jeśli zawiera słowo \"BILLION\":\n",
        "     - Usuwa słowo \"BILLION\" i mnoży pozostałą liczbę przez 1,000,000,000\n",
        "\n",
        "4. Jeśli żaden z powyższych przypadków nie pasuje, zwraca 0.0\n",
        "\n",
        "Funkcja może przetworzyć na przykład:\n",
        "- \"5 MILLION\" na 5,000,000.0\n",
        "- \"2.5 BILLION\" na 2,500,000,000.0\n",
        "- \"100\" na 100\n",
        "- \"MILLION\" na 1,000,000.0\n",
        "\n",
        "Jest przydatna do przetwarzania danych finansowych lub statystycznych, gdzie liczby często są zapisywane w różnych formatach tekstowych."
      ],
      "metadata": {
        "id": "yykidSTJG4VX"
      }
    },
    {
      "cell_type": "code",
      "source": [
        "\n",
        "\n",
        "def convert_currency_to_usd(amount: str) -> int:\n",
        "    \"Converts currency into USD\"\n",
        "\n",
        "    if \"¥\" in amount:\n",
        "        exclude_symbol = amount.replace(\"¥\", \"\")\n",
        "        amount_in_numbers = value_to_float(exclude_symbol)\n",
        "        return amount_in_numbers / 147.72\n",
        "    if \"$\" in amount:\n",
        "        exclude_symbol = amount.replace(\"$\", \"\")\n",
        "        return value_to_float(exclude_symbol)\n",
        "    if \"JPY\" in amount:\n",
        "        exclude_symbol = amount.replace(\"JPY\", \"\")\n",
        "        return int(exclude_symbol) / 147.72\n",
        "    if \"USD\" in amount:\n",
        "        return amount\n"
      ],
      "metadata": {
        "id": "RrjIYtA_1tQU"
      },
      "execution_count": null,
      "outputs": []
    },
    {
      "cell_type": "markdown",
      "source": [
        "Ta funkcja `convert_currency_to_usd` konwertuje kwoty z różnych walut na dolary amerykańskie (USD).\n",
        "\n",
        "Funkcja obsługuje następujące formaty:\n",
        "- Kwoty w jenach japońskich oznaczone symbolem ¥ lub kodem JPY\n",
        "- Kwoty w dolarach amerykańskich oznaczone symbolem $ lub kodem USD\n",
        "\n",
        "Proces konwersji przebiega następująco:\n",
        "1. Dla kwot w jenach (¥ lub JPY):\n",
        "   - Usuwa symbol waluty\n",
        "   - Konwertuje tekst na liczbę przy pomocy wcześniejszej funkcji value_to_float\n",
        "   - Dzieli przez kurs wymiany 147.72 jenów za dolara\n",
        "\n",
        "2. Dla kwot w dolarach ($):\n",
        "   - Usuwa symbol dolara\n",
        "   - Konwertuje wartość na liczbę\n",
        "\n",
        "3. Dla kwot oznaczonych jako USD:\n",
        "   - Zwraca wartość bez zmian\n",
        "\n",
        "Na przykład:\n",
        "- \"¥1000\" zostanie przeliczone na około 6.77 USD\n",
        "- \"$100\" zostanie zamienione na 100 USD\n",
        "- \"1000 JPY\" zostanie przeliczone na około 6.77 USD"
      ],
      "metadata": {
        "id": "S45LBMVmH22l"
      }
    },
    {
      "cell_type": "markdown",
      "source": [
        "# QnA system"
      ],
      "metadata": {
        "id": "Ej72q3UKkTlf"
      }
    },
    {
      "cell_type": "code",
      "source": [
        "qa = RetrievalQA.from_chain_type(\n",
        "    llm=llm,\n",
        "    chain_type=\"stuff\",\n",
        "    retriever=retriever,\n",
        "    return_source_documents=True,\n",
        ")"
      ],
      "metadata": {
        "id": "9uwU9fIqny_2"
      },
      "execution_count": null,
      "outputs": []
    },
    {
      "cell_type": "markdown",
      "source": [
        "Ten kod tworzy system pytań i odpowiedzi (QA) wykorzystujący model językowy i bazę wiedzy. Rozłóżmy go na części:\n",
        "\n",
        "`RetrievalQA.from_chain_type()` tworzy system QA, który może wyszukiwać informacje i generować na ich podstawie odpowiedzi.\n",
        "\n",
        "Parametry przekazane do tej metody:\n",
        "- `llm=llm` - określa model językowy, który będzie generował odpowiedzi\n",
        "- `chain_type=\"stuff\"` - wybiera najprostszą strategię łączenia znalezionych fragmentów tekstu - wszystkie są po prostu sklejane w jeden dokument\n",
        "- `retriever=retriever` - wskazuje komponent odpowiedzialny za wyszukiwanie odpowiednich fragmentów w bazie wiedzy\n",
        "- `return_source_documents=True` - sprawia, że system będzie zwracał nie tylko odpowiedź, ale też dokumenty źródłowe, z których została wygenerowana\n",
        "\n",
        "Całość tworzy pipeline, który po otrzymaniu pytania:\n",
        "1. Przeszuka bazę wiedzy\n",
        "2. Znajdzie właściwe fragmenty tekstu\n",
        "3. Połączy je w jeden dokument\n",
        "4. Użyje modelu językowego do wygenerowania odpowiedzi\n",
        "5. Zwróci odpowiedź wraz z źródłami"
      ],
      "metadata": {
        "id": "bjzYkWRNH5KJ"
      }
    },
    {
      "cell_type": "markdown",
      "source": [
        "## Plusy"
      ],
      "metadata": {
        "id": "vrX8trHDoK9w"
      }
    },
    {
      "cell_type": "code",
      "source": [
        "response = qa({\"query\": \"What is the allocated budget for communication initiatives?\"})\n",
        "ppr(response)"
      ],
      "metadata": {
        "colab": {
          "base_uri": "https://localhost:8080/"
        },
        "id": "tN4soN1An1cA",
        "outputId": "37cc8c2f-d107-458f-b342-a005685af7ee"
      },
      "execution_count": null,
      "outputs": [
        {
          "output_type": "stream",
          "name": "stderr",
          "text": [
            "<ipython-input-15-f7edc09cb693>:1: LangChainDeprecationWarning: The method `Chain.__call__` was deprecated in langchain 0.1.0 and will be removed in 1.0. Use :meth:`~invoke` instead.\n",
            "  response = qa({\"query\": \"What is the allocated budget for communication initiatives?\"})\n"
          ]
        },
        {
          "output_type": "stream",
          "name": "stdout",
          "text": [
            "{'query': 'What is the allocated budget for communication initiatives?',\n",
            " 'result': 'The allocated budget for communication initiatives is $500,000 in '\n",
            "           'the U.S., €250,000 in Germany, and ¥25 million in Japan.',\n",
            " 'source_documents': [Document(metadata={'source': '/content/globalcorp_hr_policy.txt'}, page_content='**Health and Safety:**\\nWorkplace safety is a shared responsibility. Emergency procedures are clearly posted throughout our office buildings, and an annual budget of $10,000, €5,000, and ¥1 million is allocated for safety drills and equipment maintenance in the U.S., Germany, and Japan, respectively.\\n\\n**Communication:**\\nImportant updates are conveyed through company-wide emails and team meetings. An annual budget of $500,000, €250,000, and ¥25 million is allocated for communication initiatives, including employee engagement events in the U.S., Germany, and Japan, respectively.\\n\\nThis policy undergoes an annual review to ensure relevance and compliance. Welcome to GlobalCorp, where our commitment to a diverse, inclusive, and respectful workplace is the foundation of our success.\\n\\n1.\\tRecruitment and Selection\\n1.\\tIntroduction'),\n",
            "                      Document(metadata={'source': '/content/globalcorp_hr_policy.txt'}, page_content='**Grievance and Disciplinary Procedures:**\\nOur grievance and disciplinary procedures are outlined on the company intranet. Termination conditions may include gross misconduct or repeated policy violations. In such cases, a disciplinary process will be followed, including a three-strike system, before termination. Employees leaving GlobalCorp should follow the exit process detailed in the employee handbook.\\n\\n**Confidentiality and Data Security:**\\nEmployees are expected to maintain confidentiality, and strict data security measures are in place. An annual budget of $1 million is allocated for cybersecurity training and awareness programs in the U.S., while budgets for Germany and Japan are €500,000 and ¥50 million, respectively.')]}\n"
          ]
        }
      ]
    },
    {
      "cell_type": "code",
      "source": [
        "qa({\"query\": \"How many maternity leaves are offered?\"})"
      ],
      "metadata": {
        "colab": {
          "base_uri": "https://localhost:8080/"
        },
        "id": "m_ZZM6DioJ3F",
        "outputId": "cbc566b9-8881-46e2-e16d-2d1576494190"
      },
      "execution_count": null,
      "outputs": [
        {
          "output_type": "execute_result",
          "data": {
            "text/plain": [
              "{'query': 'How many maternity leaves are offered?',\n",
              " 'result': \"I don't know.\",\n",
              " 'source_documents': [Document(metadata={'source': '/content/globalcorp_hr_policy.txt'}, page_content='2.4\\t<Company> may, on occasions, decide to restrict advertisement to internal candidates only. Furthermore junior posts will always be advertised internally in the first instance, to provide continuous development of existing members of staff unless the Management team agrees that this is not appropriate due to the specialist skills required for the post involved. \\n\\n2.5\\tVacancies, which are restricted to internal candidates only will be clearly indicated on the advertisement. All internal candidates will be selected for interview on the same criteria as external candidates. \\n\\n2.6\\tEmployees on maternity leave will receive all advertisements for posts advertised in the Company during their period of maternity leave.\\n3.\\tApplication Form\\n\\n3.1\\tCandidates for all posts will, except on some occasions when a vacancy is restricted to internal recruitment, be asked to complete a standard application form, in order that they can be judged on the basis of comparable information.'),\n",
              "  Document(metadata={'source': '/content/globalcorp_hr_policy.txt'}, page_content='**Leave Policies - Germany:**\\nIn Germany, generous leave policies offer 30 days of paid vacation and 20 days of paid sick leave annually. An annual budget of €1 million is allocated for leave-related expenses.\\n\\n**Leave Policies - Japan:**\\nIn Japan, employees enjoy 20 days of paid vacation and 15 days of paid sick leave per year. An annual budget of ¥100 million is allocated for leave-related expenses.\\n\\n**Performance Management:**\\nPerformance reviews are conducted annually, with regular feedback provided to support professional development. GlobalCorp encourages continuous learning and allocates an annual budget of $5,000 per employee for training and development opportunities.'),\n",
              "  Document(metadata={'source': '/content/globalcorp_hr_policy.txt'}, page_content='**Compensation and Benefits - United States:**\\nIn the United States, employees enjoy health insurance, dental coverage, and a 401(k) retirement plan. An annual budget of $1 million is allocated for employee benefits.\\n\\n**Compensation and Benefits - Germany:**\\nIn Germany, benefits include health insurance, a pension plan, and an additional 5 days of vacation annually. An annual budget of €500,000 is allocated for employee benefits.\\n\\n**Compensation and Benefits - Japan:**\\nIn Japan, employees receive health insurance, a commuting allowance, and wellness benefits. An annual budget of ¥50 million is allocated for employee benefits.\\n\\n**Leave Policies - United States:**\\nIn the United States, employees have 15 days of paid vacation and 10 days of paid sick leave annually. An annual budget of $500,000 is allocated for leave-related expenses.')]}"
            ]
          },
          "metadata": {},
          "execution_count": 16
        }
      ]
    },
    {
      "cell_type": "code",
      "source": [
        "qa({\"query\": \"What is the probationary period?\"})"
      ],
      "metadata": {
        "colab": {
          "base_uri": "https://localhost:8080/"
        },
        "id": "FVkb1mPFoOQh",
        "outputId": "80eeab26-0d36-44ac-b6fe-bfb30dbcda0e"
      },
      "execution_count": null,
      "outputs": [
        {
          "output_type": "execute_result",
          "data": {
            "text/plain": [
              "{'query': 'What is the probationary period?',\n",
              " 'result': \"The probationary period is a duration of six calendar months during which all appointments into the Company are made. After three months, a review meeting takes place between the post holder and their line manager to discuss progress. At the end of the probationary period, if a satisfactory report is provided by the appropriate head of section or line manager, the employee will be notified in writing that they have successfully completed their probationary period. The probationary period can also be extended by a further three months if deemed appropriate by the individual's line manager.\",\n",
              " 'source_documents': [Document(metadata={'source': '/content/globalcorp_hr_policy.txt'}, page_content='•\\ttwo satisfactory references;\\n•\\tconfirmation of the right to work in this country (if appropriate)\\n•\\tCriminal Records Disclosure (if appropriate).\\n6.\\tProbationary Period\\n\\t\\n6.1\\tAll appointments into the Company will be made subject to a probationary period of six calendar months. After three months a review meeting will take place between the post holder and their line manager to discuss progress. At the end of the probationary period, and subject to a satisfactory report by the appropriate head of section or line manager, employees will be notified in writing that they have successfully completed their probationary period. The probationary period can be extended by a further 3 months should the individuals line manager consider this appropriate.\\n7.\\tRecruitment Monitoring')]}"
            ]
          },
          "metadata": {},
          "execution_count": 17
        }
      ]
    },
    {
      "cell_type": "code",
      "source": [
        "qa({\"query\": \"Is the work hours in Germany different than United States?\"})"
      ],
      "metadata": {
        "colab": {
          "base_uri": "https://localhost:8080/"
        },
        "id": "YUjqj3tyoPt3",
        "outputId": "8f563d6a-d05c-48ee-f177-47c5246ae82c"
      },
      "execution_count": null,
      "outputs": [
        {
          "output_type": "execute_result",
          "data": {
            "text/plain": [
              "{'query': 'Is the work hours in Germany different than United States?',\n",
              " 'result': 'Yes, the work hours in Germany are different than in the United States. In Germany, the standard workweek is 38 hours (Monday to Friday, 8 AM to 5 PM), while in the United States, employees adhere to a standard 40-hour workweek (Monday to Friday, 9 AM to 5 PM).',\n",
              " 'source_documents': [Document(metadata={'source': '/content/globalcorp_hr_policy.txt'}, page_content='**GlobalCorp Human Resources Policy**\\n\\nWelcome to GlobalCorp, where our Human Resources Policy is designed to provide a comprehensive framework for employees across our offices in the United States, Germany, and Japan. We operate under an at-will employment relationship, and any contractual agreements should be documented in writing.\\n\\nAt the core of our culture is a commitment to professionalism and ethical conduct. Clear and respectful communication is highly valued, and a business casual dress code is encouraged.\\n\\n**Work Hours:**\\nEmployees in the United States adhere to a standard 40-hour workweek (Monday to Friday, 9 AM to 5 PM). In Germany, the standard workweek is 38 hours (Monday to Friday, 8 AM to 5 PM), and in Japan, employees work 40 hours per week (Monday to Friday, 9 AM to 6 PM). Punctuality is paramount, and employees are expected to arrive on time. Time-off requests follow country-specific guidelines.'),\n",
              "  Document(metadata={'source': '/content/globalcorp_hr_policy.txt'}, page_content='**Leave Policies - Germany:**\\nIn Germany, generous leave policies offer 30 days of paid vacation and 20 days of paid sick leave annually. An annual budget of €1 million is allocated for leave-related expenses.\\n\\n**Leave Policies - Japan:**\\nIn Japan, employees enjoy 20 days of paid vacation and 15 days of paid sick leave per year. An annual budget of ¥100 million is allocated for leave-related expenses.\\n\\n**Performance Management:**\\nPerformance reviews are conducted annually, with regular feedback provided to support professional development. GlobalCorp encourages continuous learning and allocates an annual budget of $5,000 per employee for training and development opportunities.')]}"
            ]
          },
          "metadata": {},
          "execution_count": 18
        }
      ]
    },
    {
      "cell_type": "code",
      "source": [
        "qa({\"query\": \"What is the probationary period for new employees in USA?\"})"
      ],
      "metadata": {
        "colab": {
          "base_uri": "https://localhost:8080/"
        },
        "id": "-98RVMDvoSrh",
        "outputId": "eb924f6e-b74e-444c-e597-bc35021715d7"
      },
      "execution_count": null,
      "outputs": [
        {
          "output_type": "execute_result",
          "data": {
            "text/plain": [
              "{'query': 'What is the probationary period for new employees in USA?',\n",
              " 'result': \"I don't know.\",\n",
              " 'source_documents': [Document(metadata={'source': '/content/globalcorp_hr_policy.txt'}, page_content='•\\ttwo satisfactory references;\\n•\\tconfirmation of the right to work in this country (if appropriate)\\n•\\tCriminal Records Disclosure (if appropriate).\\n6.\\tProbationary Period\\n\\t\\n6.1\\tAll appointments into the Company will be made subject to a probationary period of six calendar months. After three months a review meeting will take place between the post holder and their line manager to discuss progress. At the end of the probationary period, and subject to a satisfactory report by the appropriate head of section or line manager, employees will be notified in writing that they have successfully completed their probationary period. The probationary period can be extended by a further 3 months should the individuals line manager consider this appropriate.\\n7.\\tRecruitment Monitoring')]}"
            ]
          },
          "metadata": {},
          "execution_count": 19
        }
      ]
    },
    {
      "cell_type": "code",
      "source": [
        "qa( {  \"query\": \"What is the difference in the number of work hours in Germany vs. United States?\" } )"
      ],
      "metadata": {
        "colab": {
          "base_uri": "https://localhost:8080/"
        },
        "id": "eHMk5X3F0pam",
        "outputId": "1a5925f3-b8aa-44ac-ac08-eaea7d314e81"
      },
      "execution_count": null,
      "outputs": [
        {
          "output_type": "execute_result",
          "data": {
            "text/plain": [
              "{'query': 'What is the difference in the number of work hours in Germany vs. United States?',\n",
              " 'result': 'The standard workweek in Germany is 38 hours, while in the United States it is 40 hours. Therefore, the difference in the number of work hours is 2 hours, with the United States having a longer workweek.',\n",
              " 'source_documents': [Document(metadata={'source': '/content/globalcorp_hr_policy.txt'}, page_content='**GlobalCorp Human Resources Policy**\\n\\nWelcome to GlobalCorp, where our Human Resources Policy is designed to provide a comprehensive framework for employees across our offices in the United States, Germany, and Japan. We operate under an at-will employment relationship, and any contractual agreements should be documented in writing.\\n\\nAt the core of our culture is a commitment to professionalism and ethical conduct. Clear and respectful communication is highly valued, and a business casual dress code is encouraged.\\n\\n**Work Hours:**\\nEmployees in the United States adhere to a standard 40-hour workweek (Monday to Friday, 9 AM to 5 PM). In Germany, the standard workweek is 38 hours (Monday to Friday, 8 AM to 5 PM), and in Japan, employees work 40 hours per week (Monday to Friday, 9 AM to 6 PM). Punctuality is paramount, and employees are expected to arrive on time. Time-off requests follow country-specific guidelines.'),\n",
              "  Document(metadata={'source': '/content/globalcorp_hr_policy.txt'}, page_content='**Leave Policies - Germany:**\\nIn Germany, generous leave policies offer 30 days of paid vacation and 20 days of paid sick leave annually. An annual budget of €1 million is allocated for leave-related expenses.\\n\\n**Leave Policies - Japan:**\\nIn Japan, employees enjoy 20 days of paid vacation and 15 days of paid sick leave per year. An annual budget of ¥100 million is allocated for leave-related expenses.\\n\\n**Performance Management:**\\nPerformance reviews are conducted annually, with regular feedback provided to support professional development. GlobalCorp encourages continuous learning and allocates an annual budget of $5,000 per employee for training and development opportunities.')]}"
            ]
          },
          "metadata": {},
          "execution_count": 20
        }
      ]
    },
    {
      "cell_type": "code",
      "source": [
        "qa({\"query\": \"Can I reimburse travel expenses?\"})"
      ],
      "metadata": {
        "colab": {
          "base_uri": "https://localhost:8080/"
        },
        "id": "AWP4dyC00t6X",
        "outputId": "a720e280-c29a-4ebd-9366-c8d1a89252f7"
      },
      "execution_count": null,
      "outputs": [
        {
          "output_type": "execute_result",
          "data": {
            "text/plain": [
              "{'query': 'Can I reimburse travel expenses?',\n",
              " 'result': 'Yes, candidates attending an interview will be reimbursed any reasonable expenses incurred, which typically includes traveling expenses at the appropriate second-class rail fare. However, if a candidate withdraws or refuses an offer of appointment for reasons considered inadequate by the Company, they will not be reimbursed for their expenses.',\n",
              " 'source_documents': [Document(metadata={'source': '/content/globalcorp_hr_policy.txt'}, page_content='4.6\\t\\t\\tIt should be remembered that an interview is a two way process, and candidates will be given every opportunity to view the offices where they will work and ask questions about the Company, to ensure that they have a full understanding of the post for which they are applying and the way the Company operates.\\n\\n4.7\\t\\t\\tIn addition to interviews, a range of other selection techniques may be used. In such circumstances reasonable notice and relevant information will be given to ensure that candidates have sufficient time and information to prepare.\\n\\n4.8 \\tCandidates attending an interview will be reimbursed any reasonable expenses incurred.\\n\\n4.9 \\t\\t\\tFor travelling expenses this would normally be at the appropriate second-class rail fare. \\n\\n4.10 \\tA candidate who withdraws or refuses an offer of appointment for reasons considered by the Company to be inadequate will not be reimbursed his/her expenses.'),\n",
              "  Document(metadata={'source': '/content/globalcorp_hr_policy.txt'}, page_content='**Compensation and Benefits - United States:**\\nIn the United States, employees enjoy health insurance, dental coverage, and a 401(k) retirement plan. An annual budget of $1 million is allocated for employee benefits.\\n\\n**Compensation and Benefits - Germany:**\\nIn Germany, benefits include health insurance, a pension plan, and an additional 5 days of vacation annually. An annual budget of €500,000 is allocated for employee benefits.\\n\\n**Compensation and Benefits - Japan:**\\nIn Japan, employees receive health insurance, a commuting allowance, and wellness benefits. An annual budget of ¥50 million is allocated for employee benefits.\\n\\n**Leave Policies - United States:**\\nIn the United States, employees have 15 days of paid vacation and 10 days of paid sick leave annually. An annual budget of $500,000 is allocated for leave-related expenses.')]}"
            ]
          },
          "metadata": {},
          "execution_count": 21
        }
      ]
    },
    {
      "cell_type": "code",
      "source": [
        "qa( { \"query\": \"I started with the company on 1 December 2023.\\\n",
        "    Is my probationary period over if the date today is 26 Jan 2024?\"  } )"
      ],
      "metadata": {
        "colab": {
          "base_uri": "https://localhost:8080/"
        },
        "id": "2IhKpelK0wO8",
        "outputId": "cc3fc1a9-77f1-4693-dc89-c70f4d42764f"
      },
      "execution_count": null,
      "outputs": [
        {
          "output_type": "execute_result",
          "data": {
            "text/plain": [
              "{'query': 'I started with the company on 1 December 2023.    Is my probationary period over if the date today is 26 Jan 2024?',\n",
              " 'result': 'No, your probationary period is not over yet. Since you started on 1 December 2023 and the probationary period lasts for six calendar months, it will end on 1 June 2024.',\n",
              " 'source_documents': [Document(metadata={'source': '/content/globalcorp_hr_policy.txt'}, page_content='•\\ttwo satisfactory references;\\n•\\tconfirmation of the right to work in this country (if appropriate)\\n•\\tCriminal Records Disclosure (if appropriate).\\n6.\\tProbationary Period\\n\\t\\n6.1\\tAll appointments into the Company will be made subject to a probationary period of six calendar months. After three months a review meeting will take place between the post holder and their line manager to discuss progress. At the end of the probationary period, and subject to a satisfactory report by the appropriate head of section or line manager, employees will be notified in writing that they have successfully completed their probationary period. The probationary period can be extended by a further 3 months should the individuals line manager consider this appropriate.\\n7.\\tRecruitment Monitoring')]}"
            ]
          },
          "metadata": {},
          "execution_count": 22
        }
      ]
    },
    {
      "cell_type": "markdown",
      "source": [
        "## Minusy"
      ],
      "metadata": {
        "id": "3Xxg-5Ij00jp"
      }
    },
    {
      "cell_type": "code",
      "source": [
        "# złe przeliczenie\n",
        "qa( {  \"query\": \"What is the percentage difference in the annual budget for Japan and US?\" })"
      ],
      "metadata": {
        "colab": {
          "base_uri": "https://localhost:8080/"
        },
        "id": "QdaPY2dV02BR",
        "outputId": "f5f89fbc-82d7-4457-cbc0-edc58bd738c6"
      },
      "execution_count": null,
      "outputs": [
        {
          "output_type": "execute_result",
          "data": {
            "text/plain": [
              "{'query': 'What is the percentage difference in the annual budget for Japan and US?',\n",
              " 'result': \"I don't know.\",\n",
              " 'source_documents': [Document(metadata={'source': '/content/globalcorp_hr_policy.txt'}, page_content='**Grievance and Disciplinary Procedures:**\\nOur grievance and disciplinary procedures are outlined on the company intranet. Termination conditions may include gross misconduct or repeated policy violations. In such cases, a disciplinary process will be followed, including a three-strike system, before termination. Employees leaving GlobalCorp should follow the exit process detailed in the employee handbook.\\n\\n**Confidentiality and Data Security:**\\nEmployees are expected to maintain confidentiality, and strict data security measures are in place. An annual budget of $1 million is allocated for cybersecurity training and awareness programs in the U.S., while budgets for Germany and Japan are €500,000 and ¥50 million, respectively.'),\n",
              "  Document(metadata={'source': '/content/globalcorp_hr_policy.txt'}, page_content='**Leave Policies - Germany:**\\nIn Germany, generous leave policies offer 30 days of paid vacation and 20 days of paid sick leave annually. An annual budget of €1 million is allocated for leave-related expenses.\\n\\n**Leave Policies - Japan:**\\nIn Japan, employees enjoy 20 days of paid vacation and 15 days of paid sick leave per year. An annual budget of ¥100 million is allocated for leave-related expenses.\\n\\n**Performance Management:**\\nPerformance reviews are conducted annually, with regular feedback provided to support professional development. GlobalCorp encourages continuous learning and allocates an annual budget of $5,000 per employee for training and development opportunities.'),\n",
              "  Document(metadata={'source': '/content/globalcorp_hr_policy.txt'}, page_content='**Compensation and Benefits - United States:**\\nIn the United States, employees enjoy health insurance, dental coverage, and a 401(k) retirement plan. An annual budget of $1 million is allocated for employee benefits.\\n\\n**Compensation and Benefits - Germany:**\\nIn Germany, benefits include health insurance, a pension plan, and an additional 5 days of vacation annually. An annual budget of €500,000 is allocated for employee benefits.\\n\\n**Compensation and Benefits - Japan:**\\nIn Japan, employees receive health insurance, a commuting allowance, and wellness benefits. An annual budget of ¥50 million is allocated for employee benefits.\\n\\n**Leave Policies - United States:**\\nIn the United States, employees have 15 days of paid vacation and 10 days of paid sick leave annually. An annual budget of $500,000 is allocated for leave-related expenses.'),\n",
              "  Document(metadata={'source': '/content/globalcorp_hr_policy.txt'}, page_content='**Health and Safety:**\\nWorkplace safety is a shared responsibility. Emergency procedures are clearly posted throughout our office buildings, and an annual budget of $10,000, €5,000, and ¥1 million is allocated for safety drills and equipment maintenance in the U.S., Germany, and Japan, respectively.\\n\\n**Communication:**\\nImportant updates are conveyed through company-wide emails and team meetings. An annual budget of $500,000, €250,000, and ¥25 million is allocated for communication initiatives, including employee engagement events in the U.S., Germany, and Japan, respectively.\\n\\nThis policy undergoes an annual review to ensure relevance and compliance. Welcome to GlobalCorp, where our commitment to a diverse, inclusive, and respectful workplace is the foundation of our success.\\n\\n1.\\tRecruitment and Selection\\n1.\\tIntroduction')]}"
            ]
          },
          "metadata": {},
          "execution_count": 23
        }
      ]
    },
    {
      "cell_type": "code",
      "source": [
        "qa(  {  \"query\": \"What is the percentage difference in the annual budget for Japan and US if 1 USD = 147.72 JPY?\" })"
      ],
      "metadata": {
        "colab": {
          "base_uri": "https://localhost:8080/"
        },
        "id": "LjWJPo1q1aa_",
        "outputId": "4b1ed2f3-ab21-4d7a-fecf-bdaa5c1c659a"
      },
      "execution_count": null,
      "outputs": [
        {
          "output_type": "execute_result",
          "data": {
            "text/plain": [
              "{'query': 'What is the percentage difference in the annual budget for Japan and US if 1 USD = 147.72 JPY?',\n",
              " 'result': 'To find the percentage difference in the annual budget for Japan and the U.S., we first need to convert the budgets into the same currency. \\n\\nThe annual budget for employee benefits is:\\n- U.S.: $1,000,000\\n- Japan: ¥50,000,000\\n\\nFirst, we convert the budget for Japan into USD:\\n\\\\[\\n\\\\text{Japan Budget in USD} = \\\\frac{¥50,000,000}{147.72} \\\\approx 338,095.50\\n\\\\]\\n\\nNow, we have:\\n- U.S. Budget: $1,000,000\\n- Japan Budget: $338,095.50\\n\\nNext, we calculate the percentage difference using the formula:\\n\\\\[\\n\\\\text{Percentage Difference} = \\\\frac{\\\\text{U.S. Budget} - \\\\text{Japan Budget}}{\\\\text{U.S. Budget}} \\\\times 100\\n\\\\]\\n\\\\[\\n\\\\text{Percentage Difference} = \\\\frac{1,000,000 - 338,095.50}{1,000,000} \\\\times 100 \\\\approx 66.19\\\\%\\n\\\\]\\n\\nThus, the percentage difference in the annual budget for Japan and the U.S. is approximately **66.19%**.',\n",
              " 'source_documents': [Document(metadata={'source': '/content/globalcorp_hr_policy.txt'}, page_content='**Grievance and Disciplinary Procedures:**\\nOur grievance and disciplinary procedures are outlined on the company intranet. Termination conditions may include gross misconduct or repeated policy violations. In such cases, a disciplinary process will be followed, including a three-strike system, before termination. Employees leaving GlobalCorp should follow the exit process detailed in the employee handbook.\\n\\n**Confidentiality and Data Security:**\\nEmployees are expected to maintain confidentiality, and strict data security measures are in place. An annual budget of $1 million is allocated for cybersecurity training and awareness programs in the U.S., while budgets for Germany and Japan are €500,000 and ¥50 million, respectively.'),\n",
              "  Document(metadata={'source': '/content/globalcorp_hr_policy.txt'}, page_content='**Compensation and Benefits - United States:**\\nIn the United States, employees enjoy health insurance, dental coverage, and a 401(k) retirement plan. An annual budget of $1 million is allocated for employee benefits.\\n\\n**Compensation and Benefits - Germany:**\\nIn Germany, benefits include health insurance, a pension plan, and an additional 5 days of vacation annually. An annual budget of €500,000 is allocated for employee benefits.\\n\\n**Compensation and Benefits - Japan:**\\nIn Japan, employees receive health insurance, a commuting allowance, and wellness benefits. An annual budget of ¥50 million is allocated for employee benefits.\\n\\n**Leave Policies - United States:**\\nIn the United States, employees have 15 days of paid vacation and 10 days of paid sick leave annually. An annual budget of $500,000 is allocated for leave-related expenses.'),\n",
              "  Document(metadata={'source': '/content/globalcorp_hr_policy.txt'}, page_content='**Leave Policies - Germany:**\\nIn Germany, generous leave policies offer 30 days of paid vacation and 20 days of paid sick leave annually. An annual budget of €1 million is allocated for leave-related expenses.\\n\\n**Leave Policies - Japan:**\\nIn Japan, employees enjoy 20 days of paid vacation and 15 days of paid sick leave per year. An annual budget of ¥100 million is allocated for leave-related expenses.\\n\\n**Performance Management:**\\nPerformance reviews are conducted annually, with regular feedback provided to support professional development. GlobalCorp encourages continuous learning and allocates an annual budget of $5,000 per employee for training and development opportunities.'),\n",
              "  Document(metadata={'source': '/content/globalcorp_hr_policy.txt'}, page_content='**Health and Safety:**\\nWorkplace safety is a shared responsibility. Emergency procedures are clearly posted throughout our office buildings, and an annual budget of $10,000, €5,000, and ¥1 million is allocated for safety drills and equipment maintenance in the U.S., Germany, and Japan, respectively.\\n\\n**Communication:**\\nImportant updates are conveyed through company-wide emails and team meetings. An annual budget of $500,000, €250,000, and ¥25 million is allocated for communication initiatives, including employee engagement events in the U.S., Germany, and Japan, respectively.\\n\\nThis policy undergoes an annual review to ensure relevance and compliance. Welcome to GlobalCorp, where our commitment to a diverse, inclusive, and respectful workplace is the foundation of our success.\\n\\n1.\\tRecruitment and Selection\\n1.\\tIntroduction')]}"
            ]
          },
          "metadata": {},
          "execution_count": 24
        }
      ]
    },
    {
      "cell_type": "code",
      "source": [
        "qa({\"query\": \"Which country has the highest budget?\"})"
      ],
      "metadata": {
        "colab": {
          "base_uri": "https://localhost:8080/"
        },
        "id": "qBLPSvCe1fme",
        "outputId": "a8db0c1e-91e8-43bc-f1b5-b1b644b74874"
      },
      "execution_count": null,
      "outputs": [
        {
          "output_type": "execute_result",
          "data": {
            "text/plain": [
              "{'query': 'Which country has the highest budget?',\n",
              " 'result': 'The United States has the highest budget allocated for employee benefits, with an annual budget of $1 million.',\n",
              " 'source_documents': [Document(metadata={'source': '/content/globalcorp_hr_policy.txt'}, page_content='**Grievance and Disciplinary Procedures:**\\nOur grievance and disciplinary procedures are outlined on the company intranet. Termination conditions may include gross misconduct or repeated policy violations. In such cases, a disciplinary process will be followed, including a three-strike system, before termination. Employees leaving GlobalCorp should follow the exit process detailed in the employee handbook.\\n\\n**Confidentiality and Data Security:**\\nEmployees are expected to maintain confidentiality, and strict data security measures are in place. An annual budget of $1 million is allocated for cybersecurity training and awareness programs in the U.S., while budgets for Germany and Japan are €500,000 and ¥50 million, respectively.'),\n",
              "  Document(metadata={'source': '/content/globalcorp_hr_policy.txt'}, page_content='**Compensation and Benefits - United States:**\\nIn the United States, employees enjoy health insurance, dental coverage, and a 401(k) retirement plan. An annual budget of $1 million is allocated for employee benefits.\\n\\n**Compensation and Benefits - Germany:**\\nIn Germany, benefits include health insurance, a pension plan, and an additional 5 days of vacation annually. An annual budget of €500,000 is allocated for employee benefits.\\n\\n**Compensation and Benefits - Japan:**\\nIn Japan, employees receive health insurance, a commuting allowance, and wellness benefits. An annual budget of ¥50 million is allocated for employee benefits.\\n\\n**Leave Policies - United States:**\\nIn the United States, employees have 15 days of paid vacation and 10 days of paid sick leave annually. An annual budget of $500,000 is allocated for leave-related expenses.'),\n",
              "  Document(metadata={'source': '/content/globalcorp_hr_policy.txt'}, page_content='**Health and Safety:**\\nWorkplace safety is a shared responsibility. Emergency procedures are clearly posted throughout our office buildings, and an annual budget of $10,000, €5,000, and ¥1 million is allocated for safety drills and equipment maintenance in the U.S., Germany, and Japan, respectively.\\n\\n**Communication:**\\nImportant updates are conveyed through company-wide emails and team meetings. An annual budget of $500,000, €250,000, and ¥25 million is allocated for communication initiatives, including employee engagement events in the U.S., Germany, and Japan, respectively.\\n\\nThis policy undergoes an annual review to ensure relevance and compliance. Welcome to GlobalCorp, where our commitment to a diverse, inclusive, and respectful workplace is the foundation of our success.\\n\\n1.\\tRecruitment and Selection\\n1.\\tIntroduction')]}"
            ]
          },
          "metadata": {},
          "execution_count": 25
        }
      ]
    },
    {
      "cell_type": "markdown",
      "source": [
        "# Agent"
      ],
      "metadata": {
        "id": "1FOnnEKe2LYI"
      }
    },
    {
      "cell_type": "code",
      "source": [
        "tool_search = create_retriever_tool(\n",
        "    retriever,\n",
        "    \"search_hr_policy\",\n",
        "    \"Searches and returns excerpts from the HR policy.\",\n",
        ")"
      ],
      "metadata": {
        "id": "SaKTLe6Q2MDt"
      },
      "execution_count": null,
      "outputs": []
    },
    {
      "cell_type": "markdown",
      "source": [
        "Ten kod tworzy narzędzie wyszukiwania w dokumentach HR. Rozłóżmy go na elementy:\n",
        "\n",
        "`create_retriever_tool()` tworzy narzędzie, które można używać w systemie do automatycznego wyszukiwania informacji. Przyjmuje trzy parametry:\n",
        "\n",
        "- `retriever` - komponent odpowiedzialny za samo wyszukiwanie w dokumentach\n",
        "- `\"search_hr_policy\"` - nazwa narzędzia, używana do jego identyfikacji w systemie\n",
        "- `\"Searches and returns excerpts from the HR policy.\"` - opis działania narzędzia, który wyjaśnia jego funkcję\n",
        "\n",
        "Stworzone narzędzie jest zapisywane do zmiennej `tool_search` i może być później użyte do przeszukiwania dokumentów HR i zwracania znalezionych fragmentów tekstu --> w szczególności jako część rozwiązanai typu agentowego."
      ],
      "metadata": {
        "id": "bfK-0vHHIiGA"
      }
    },
    {
      "cell_type": "code",
      "source": [
        "currency_conversion = Tool(\n",
        "    name=\"Currency_conversion\",\n",
        "    func=convert_currency_to_usd,\n",
        "    description=\"useful for converting currency into USD. Input should be an amount.\",\n",
        ")"
      ],
      "metadata": {
        "id": "dACBQdvK2QpA"
      },
      "execution_count": null,
      "outputs": []
    },
    {
      "cell_type": "markdown",
      "source": [
        "Ten kod definiuje narzędzie do konwersji walut. Rozbierzmy jego składowe:\n",
        "\n",
        "`Tool()` tworzy nowe narzędzie z trzema parametrami:\n",
        "\n",
        "- `name=\"Currency_conversion\"` - nadaje narzędziu nazwę, która będzie używana do jego identyfikacji w systemie\n",
        "- `func=convert_currency_to_usd` - wskazuje funkcję, która będzie wykonywana przez to narzędzie (w tym przypadku funkcję konwertującą kwoty na dolary amerykańskie)\n",
        "- `description=\"useful for converting currency into USD. Input should be an amount.\"` - zapewnia opis narzędzia, który wyjaśnia jego przeznaczenie i format danych wejściowych\n",
        "\n",
        "Całość tworzy narzędzie zapisane w zmiennej `currency_conversion`, które można wykorzystać do automatycznej konwersji kwot na USD w ramach większego systemu."
      ],
      "metadata": {
        "id": "h12ZAAkxJAJ7"
      }
    },
    {
      "cell_type": "code",
      "source": [
        "prompt_react = hub.pull(\"hwchase17/react\")"
      ],
      "metadata": {
        "colab": {
          "base_uri": "https://localhost:8080/"
        },
        "id": "0OM0mt6n2dGX",
        "outputId": "59abde07-ee24-4e9c-88a5-46ab3235b457"
      },
      "execution_count": null,
      "outputs": [
        {
          "output_type": "stream",
          "name": "stderr",
          "text": [
            "/usr/local/lib/python3.10/dist-packages/langsmith/client.py:241: LangSmithMissingAPIKeyWarning: API key must be provided when using hosted LangSmith API\n",
            "  warnings.warn(\n"
          ]
        }
      ]
    },
    {
      "cell_type": "markdown",
      "source": [
        "Ten kod pobiera predefiniowany prompt o nazwie \"react\" ze zbioru promptów stworzonych przez użytkownika hwchase17.\n",
        "\n",
        "`hub.pull()` to metoda, która pobiera zasoby z repozytorium (huba).\n",
        "\n",
        "Parametr `\"hwchase17/react\"` wskazuje:\n",
        "- `hwchase17` - nazwę użytkownika/autora\n",
        "- `react` - nazwę konkretnego promptu\n",
        "\n",
        "Pobrany prompt jest zapisywany do zmiennej `prompt_react` i może być później wykorzystany w systemie, np. do strukturyzowania interakcji z modelem językowym według wzorca ReAct (Reasoning and Acting)."
      ],
      "metadata": {
        "id": "ByIqavOBJU6Y"
      }
    },
    {
      "cell_type": "code",
      "source": [
        "prompt_react"
      ],
      "metadata": {
        "colab": {
          "base_uri": "https://localhost:8080/"
        },
        "id": "DgEKmvN6JahV",
        "outputId": "08198b96-a2c7-45fc-b6b3-5086d1da2420"
      },
      "execution_count": null,
      "outputs": [
        {
          "output_type": "execute_result",
          "data": {
            "text/plain": [
              "PromptTemplate(input_variables=['agent_scratchpad', 'input', 'tool_names', 'tools'], input_types={}, partial_variables={}, metadata={'lc_hub_owner': 'hwchase17', 'lc_hub_repo': 'react', 'lc_hub_commit_hash': 'd15fe3c426f1c4b3f37c9198853e4a86e20c425ca7f4752ec0c9b0e97ca7ea4d'}, template='Answer the following questions as best you can. You have access to the following tools:\\n\\n{tools}\\n\\nUse the following format:\\n\\nQuestion: the input question you must answer\\nThought: you should always think about what to do\\nAction: the action to take, should be one of [{tool_names}]\\nAction Input: the input to the action\\nObservation: the result of the action\\n... (this Thought/Action/Action Input/Observation can repeat N times)\\nThought: I now know the final answer\\nFinal Answer: the final answer to the original input question\\n\\nBegin!\\n\\nQuestion: {input}\\nThought:{agent_scratchpad}')"
            ]
          },
          "metadata": {},
          "execution_count": 38
        }
      ]
    },
    {
      "cell_type": "code",
      "source": [
        "# jedno narzędzie\n",
        "tools = [tool_search]\n",
        "\n",
        "react_agent = create_react_agent(llm, tools=tools, prompt=prompt_react)"
      ],
      "metadata": {
        "id": "pTpeczrA2gQt"
      },
      "execution_count": null,
      "outputs": []
    },
    {
      "cell_type": "markdown",
      "source": [
        "Te dwie linie kodu tworzą agenta używającego podejścia ReAct. Rozbierzmy to:\n",
        "\n",
        "`tools = [tool_search]` tworzy listę narzędzi zawierającą tylko jedno narzędzie - wcześniej zdefiniowane narzędzie wyszukiwania.\n",
        "\n",
        "`create_react_agent()` tworzy agenta działającego według wzorca ReAct (Reasoning and Acting) i przyjmuje trzy parametry:\n",
        "- `llm` - model językowy, który będzie używany przez agenta\n",
        "- `tools=tools` - lista dostępnych narzędzi (w tym przypadku tylko narzędzie wyszukiwania)\n",
        "- `prompt=prompt_react` - wcześniej pobrany prompt, który określa sposób działania agenta\n",
        "\n",
        "Stworzony agent jest zapisywany w zmiennej `react_agent` i może analizować problemy, planować działania i wykorzystywać przypisane mu narzędzie do wykonywania zadań."
      ],
      "metadata": {
        "id": "Y2FSYT_9JhVi"
      }
    },
    {
      "cell_type": "code",
      "source": [
        "react_agent_executor = AgentExecutor(\n",
        "    agent=react_agent, tools=tools, verbose=True, handle_parsing_errors=True\n",
        ")"
      ],
      "metadata": {
        "id": "pa40yLn22iT0"
      },
      "execution_count": null,
      "outputs": []
    },
    {
      "cell_type": "markdown",
      "source": [
        "Ten kod tworzy wykonawcę dla wcześniej zdefiniowanego agenta. `AgentExecutor` zarządza wykonywaniem działań agenta i przyjmuje następujące parametry:\n",
        "\n",
        "- `agent=react_agent` - wskazuje agenta, którego działania mają być wykonywane\n",
        "- `tools=tools` - przekazuje listę narzędzi dostępnych dla agenta\n",
        "- `verbose=True` - włącza szczegółowe logowanie, dzięki czemu widoczne są wszystkie kroki podejmowane przez agenta\n",
        "- `handle_parsing_errors=True` - włącza obsługę błędów parsowania, co pozwala na kontynuowanie działania nawet w przypadku problemów z przetwarzaniem odpowiedzi\n",
        "\n",
        "Stworzony wykonawca jest zapisywany w zmiennej `react_agent_executor` i służy do uruchamiania agenta w kontrolowany sposób, z odpowiednią obsługą błędów i monitorowaniem jego działań."
      ],
      "metadata": {
        "id": "3L0x7HlnKZch"
      }
    },
    {
      "cell_type": "code",
      "source": [
        "query = \"As per the HR policy, Which country has the highest budget?\"\n",
        "react_agent_executor.invoke({\"input\": query})"
      ],
      "metadata": {
        "colab": {
          "base_uri": "https://localhost:8080/"
        },
        "id": "o1rgf2eH2loW",
        "outputId": "4839bfde-c5cd-4487-f62b-abf4131a8554"
      },
      "execution_count": null,
      "outputs": [
        {
          "output_type": "stream",
          "name": "stdout",
          "text": [
            "\n",
            "\n",
            "\u001b[1m> Entering new AgentExecutor chain...\u001b[0m\n",
            "\u001b[32;1m\u001b[1;3mTo find the answer to the question regarding which country has the highest budget according to the HR policy, I need to search through the HR policy documents for relevant information. \n",
            "\n",
            "Action: search_hr_policy  \n",
            "Action Input: 'Which country has the highest budget?'  \n",
            "\u001b[0m\u001b[36;1m\u001b[1;3m**Grievance and Disciplinary Procedures:**\n",
            "Our grievance and disciplinary procedures are outlined on the company intranet. Termination conditions may include gross misconduct or repeated policy violations. In such cases, a disciplinary process will be followed, including a three-strike system, before termination. Employees leaving GlobalCorp should follow the exit process detailed in the employee handbook.\n",
            "\n",
            "**Confidentiality and Data Security:**\n",
            "Employees are expected to maintain confidentiality, and strict data security measures are in place. An annual budget of $1 million is allocated for cybersecurity training and awareness programs in the U.S., while budgets for Germany and Japan are €500,000 and ¥50 million, respectively.\n",
            "\n",
            "**Compensation and Benefits - United States:**\n",
            "In the United States, employees enjoy health insurance, dental coverage, and a 401(k) retirement plan. An annual budget of $1 million is allocated for employee benefits.\n",
            "\n",
            "**Compensation and Benefits - Germany:**\n",
            "In Germany, benefits include health insurance, a pension plan, and an additional 5 days of vacation annually. An annual budget of €500,000 is allocated for employee benefits.\n",
            "\n",
            "**Compensation and Benefits - Japan:**\n",
            "In Japan, employees receive health insurance, a commuting allowance, and wellness benefits. An annual budget of ¥50 million is allocated for employee benefits.\n",
            "\n",
            "**Leave Policies - United States:**\n",
            "In the United States, employees have 15 days of paid vacation and 10 days of paid sick leave annually. An annual budget of $500,000 is allocated for leave-related expenses.\n",
            "\n",
            "**Health and Safety:**\n",
            "Workplace safety is a shared responsibility. Emergency procedures are clearly posted throughout our office buildings, and an annual budget of $10,000, €5,000, and ¥1 million is allocated for safety drills and equipment maintenance in the U.S., Germany, and Japan, respectively.\n",
            "\n",
            "**Communication:**\n",
            "Important updates are conveyed through company-wide emails and team meetings. An annual budget of $500,000, €250,000, and ¥25 million is allocated for communication initiatives, including employee engagement events in the U.S., Germany, and Japan, respectively.\n",
            "\n",
            "This policy undergoes an annual review to ensure relevance and compliance. Welcome to GlobalCorp, where our commitment to a diverse, inclusive, and respectful workplace is the foundation of our success.\n",
            "\n",
            "1.\tRecruitment and Selection\n",
            "1.\tIntroduction\u001b[0m\u001b[32;1m\u001b[1;3mI have gathered information about the budget allocations for different countries as per the HR policy. The allocations are as follows:\n",
            "\n",
            "- United States: $1 million for cybersecurity training and $1 million for employee benefits.\n",
            "- Germany: €500,000 for cybersecurity training and €500,000 for employee benefits.\n",
            "- Japan: ¥50 million for cybersecurity training and ¥50 million for employee benefits.\n",
            "\n",
            "From this information, the United States has the highest budget at $1 million for both cybersecurity training and employee benefits.\n",
            "\n",
            "Thought: I now know the final answer.\n",
            "Final Answer: The country with the highest budget according to the HR policy is the United States, with an annual budget of $1 million for both cybersecurity training and employee benefits.\u001b[0m\n",
            "\n",
            "\u001b[1m> Finished chain.\u001b[0m\n"
          ]
        },
        {
          "output_type": "execute_result",
          "data": {
            "text/plain": [
              "{'input': 'As per the HR policy, Which country has the highest budget?',\n",
              " 'output': 'The country with the highest budget according to the HR policy is the United States, with an annual budget of $1 million for both cybersecurity training and employee benefits.'}"
            ]
          },
          "metadata": {},
          "execution_count": 31
        }
      ]
    },
    {
      "cell_type": "code",
      "source": [
        "query = \"Which of the two countries has the highest budget - Japan or Unites States?\"\n",
        "react_agent_executor.invoke({\"input\": query})"
      ],
      "metadata": {
        "colab": {
          "base_uri": "https://localhost:8080/"
        },
        "id": "FfuW8vYX2m2-",
        "outputId": "830e52b6-ae68-45e9-c1cc-17d2077e8e9c"
      },
      "execution_count": null,
      "outputs": [
        {
          "output_type": "stream",
          "name": "stdout",
          "text": [
            "\n",
            "\n",
            "\u001b[1m> Entering new AgentExecutor chain...\u001b[0m\n",
            "\u001b[32;1m\u001b[1;3mI need to compare the budgets of Japan and the United States to determine which country has the highest budget. This information is likely to be found in recent economic reports or budget summaries for both countries. I will perform a search to find the most accurate and current data on their respective budgets. \n",
            "\n",
            "Action: search_hr_policy\n",
            "Action Input: 'Japan budget comparison United States budget 2023'\n",
            "\u001b[0m\u001b[36;1m\u001b[1;3m**Grievance and Disciplinary Procedures:**\n",
            "Our grievance and disciplinary procedures are outlined on the company intranet. Termination conditions may include gross misconduct or repeated policy violations. In such cases, a disciplinary process will be followed, including a three-strike system, before termination. Employees leaving GlobalCorp should follow the exit process detailed in the employee handbook.\n",
            "\n",
            "**Confidentiality and Data Security:**\n",
            "Employees are expected to maintain confidentiality, and strict data security measures are in place. An annual budget of $1 million is allocated for cybersecurity training and awareness programs in the U.S., while budgets for Germany and Japan are €500,000 and ¥50 million, respectively.\n",
            "\n",
            "**Compensation and Benefits - United States:**\n",
            "In the United States, employees enjoy health insurance, dental coverage, and a 401(k) retirement plan. An annual budget of $1 million is allocated for employee benefits.\n",
            "\n",
            "**Compensation and Benefits - Germany:**\n",
            "In Germany, benefits include health insurance, a pension plan, and an additional 5 days of vacation annually. An annual budget of €500,000 is allocated for employee benefits.\n",
            "\n",
            "**Compensation and Benefits - Japan:**\n",
            "In Japan, employees receive health insurance, a commuting allowance, and wellness benefits. An annual budget of ¥50 million is allocated for employee benefits.\n",
            "\n",
            "**Leave Policies - United States:**\n",
            "In the United States, employees have 15 days of paid vacation and 10 days of paid sick leave annually. An annual budget of $500,000 is allocated for leave-related expenses.\n",
            "\n",
            "**Leave Policies - Germany:**\n",
            "In Germany, generous leave policies offer 30 days of paid vacation and 20 days of paid sick leave annually. An annual budget of €1 million is allocated for leave-related expenses.\n",
            "\n",
            "**Leave Policies - Japan:**\n",
            "In Japan, employees enjoy 20 days of paid vacation and 15 days of paid sick leave per year. An annual budget of ¥100 million is allocated for leave-related expenses.\n",
            "\n",
            "**Performance Management:**\n",
            "Performance reviews are conducted annually, with regular feedback provided to support professional development. GlobalCorp encourages continuous learning and allocates an annual budget of $5,000 per employee for training and development opportunities.\n",
            "\n",
            "**Health and Safety:**\n",
            "Workplace safety is a shared responsibility. Emergency procedures are clearly posted throughout our office buildings, and an annual budget of $10,000, €5,000, and ¥1 million is allocated for safety drills and equipment maintenance in the U.S., Germany, and Japan, respectively.\n",
            "\n",
            "**Communication:**\n",
            "Important updates are conveyed through company-wide emails and team meetings. An annual budget of $500,000, €250,000, and ¥25 million is allocated for communication initiatives, including employee engagement events in the U.S., Germany, and Japan, respectively.\n",
            "\n",
            "This policy undergoes an annual review to ensure relevance and compliance. Welcome to GlobalCorp, where our commitment to a diverse, inclusive, and respectful workplace is the foundation of our success.\n",
            "\n",
            "1.\tRecruitment and Selection\n",
            "1.\tIntroduction\u001b[0m\u001b[32;1m\u001b[1;3mI did not find a direct answer to the budget comparison between Japan and the United States in my previous search. Instead, I got information about various HR policies, including budgets for employee benefits and other areas within a company.\n",
            "\n",
            "I should perform a more targeted search specifically for the budgets of Japan and the United States.\n",
            "\n",
            "Action: search_hr_policy\n",
            "Action Input: 'Japan budget 2023 vs United States budget 2023 comparison'\n",
            "\u001b[0m\u001b[36;1m\u001b[1;3m**Grievance and Disciplinary Procedures:**\n",
            "Our grievance and disciplinary procedures are outlined on the company intranet. Termination conditions may include gross misconduct or repeated policy violations. In such cases, a disciplinary process will be followed, including a three-strike system, before termination. Employees leaving GlobalCorp should follow the exit process detailed in the employee handbook.\n",
            "\n",
            "**Confidentiality and Data Security:**\n",
            "Employees are expected to maintain confidentiality, and strict data security measures are in place. An annual budget of $1 million is allocated for cybersecurity training and awareness programs in the U.S., while budgets for Germany and Japan are €500,000 and ¥50 million, respectively.\n",
            "\n",
            "**Compensation and Benefits - United States:**\n",
            "In the United States, employees enjoy health insurance, dental coverage, and a 401(k) retirement plan. An annual budget of $1 million is allocated for employee benefits.\n",
            "\n",
            "**Compensation and Benefits - Germany:**\n",
            "In Germany, benefits include health insurance, a pension plan, and an additional 5 days of vacation annually. An annual budget of €500,000 is allocated for employee benefits.\n",
            "\n",
            "**Compensation and Benefits - Japan:**\n",
            "In Japan, employees receive health insurance, a commuting allowance, and wellness benefits. An annual budget of ¥50 million is allocated for employee benefits.\n",
            "\n",
            "**Leave Policies - United States:**\n",
            "In the United States, employees have 15 days of paid vacation and 10 days of paid sick leave annually. An annual budget of $500,000 is allocated for leave-related expenses.\n",
            "\n",
            "**Leave Policies - Germany:**\n",
            "In Germany, generous leave policies offer 30 days of paid vacation and 20 days of paid sick leave annually. An annual budget of €1 million is allocated for leave-related expenses.\n",
            "\n",
            "**Leave Policies - Japan:**\n",
            "In Japan, employees enjoy 20 days of paid vacation and 15 days of paid sick leave per year. An annual budget of ¥100 million is allocated for leave-related expenses.\n",
            "\n",
            "**Performance Management:**\n",
            "Performance reviews are conducted annually, with regular feedback provided to support professional development. GlobalCorp encourages continuous learning and allocates an annual budget of $5,000 per employee for training and development opportunities.\n",
            "\n",
            "**Health and Safety:**\n",
            "Workplace safety is a shared responsibility. Emergency procedures are clearly posted throughout our office buildings, and an annual budget of $10,000, €5,000, and ¥1 million is allocated for safety drills and equipment maintenance in the U.S., Germany, and Japan, respectively.\n",
            "\n",
            "**Communication:**\n",
            "Important updates are conveyed through company-wide emails and team meetings. An annual budget of $500,000, €250,000, and ¥25 million is allocated for communication initiatives, including employee engagement events in the U.S., Germany, and Japan, respectively.\n",
            "\n",
            "This policy undergoes an annual review to ensure relevance and compliance. Welcome to GlobalCorp, where our commitment to a diverse, inclusive, and respectful workplace is the foundation of our success.\n",
            "\n",
            "1.\tRecruitment and Selection\n",
            "1.\tIntroduction\u001b[0m\u001b[32;1m\u001b[1;3mI still did not find the specific budget comparison between Japan and the United States. The information retrieved revolves around HR policies and budgets for specific initiatives within a company, rather than government budgets. I will refine my search strategy to look for economic reports or budget summaries for the two countries directly.\n",
            "\n",
            "Action: search_hr_policy  \n",
            "Action Input: '2023 government budget Japan vs United States comparison'\n",
            "\u001b[0m\u001b[36;1m\u001b[1;3m**Grievance and Disciplinary Procedures:**\n",
            "Our grievance and disciplinary procedures are outlined on the company intranet. Termination conditions may include gross misconduct or repeated policy violations. In such cases, a disciplinary process will be followed, including a three-strike system, before termination. Employees leaving GlobalCorp should follow the exit process detailed in the employee handbook.\n",
            "\n",
            "**Confidentiality and Data Security:**\n",
            "Employees are expected to maintain confidentiality, and strict data security measures are in place. An annual budget of $1 million is allocated for cybersecurity training and awareness programs in the U.S., while budgets for Germany and Japan are €500,000 and ¥50 million, respectively.\n",
            "\n",
            "**Leave Policies - Germany:**\n",
            "In Germany, generous leave policies offer 30 days of paid vacation and 20 days of paid sick leave annually. An annual budget of €1 million is allocated for leave-related expenses.\n",
            "\n",
            "**Leave Policies - Japan:**\n",
            "In Japan, employees enjoy 20 days of paid vacation and 15 days of paid sick leave per year. An annual budget of ¥100 million is allocated for leave-related expenses.\n",
            "\n",
            "**Performance Management:**\n",
            "Performance reviews are conducted annually, with regular feedback provided to support professional development. GlobalCorp encourages continuous learning and allocates an annual budget of $5,000 per employee for training and development opportunities.\n",
            "\n",
            "**Compensation and Benefits - United States:**\n",
            "In the United States, employees enjoy health insurance, dental coverage, and a 401(k) retirement plan. An annual budget of $1 million is allocated for employee benefits.\n",
            "\n",
            "**Compensation and Benefits - Germany:**\n",
            "In Germany, benefits include health insurance, a pension plan, and an additional 5 days of vacation annually. An annual budget of €500,000 is allocated for employee benefits.\n",
            "\n",
            "**Compensation and Benefits - Japan:**\n",
            "In Japan, employees receive health insurance, a commuting allowance, and wellness benefits. An annual budget of ¥50 million is allocated for employee benefits.\n",
            "\n",
            "**Leave Policies - United States:**\n",
            "In the United States, employees have 15 days of paid vacation and 10 days of paid sick leave annually. An annual budget of $500,000 is allocated for leave-related expenses.\u001b[0m\u001b[32;1m\u001b[1;3mI did not find the specific budget comparison between Japan and the United States in my previous searches. I have been retrieving information related to HR policies and internal budgets rather than the overall government budgets for these countries. It seems that my search terms have not yielded the desired results.\n",
            "\n",
            "I will make one last attempt to search for the government budget of Japan and the United States specifically for 2023 to find the information I need.\n",
            "\n",
            "Action: search_hr_policy  \n",
            "Action Input: '2023 national budget Japan United States comparison'\n",
            "\u001b[0m\u001b[36;1m\u001b[1;3m**Grievance and Disciplinary Procedures:**\n",
            "Our grievance and disciplinary procedures are outlined on the company intranet. Termination conditions may include gross misconduct or repeated policy violations. In such cases, a disciplinary process will be followed, including a three-strike system, before termination. Employees leaving GlobalCorp should follow the exit process detailed in the employee handbook.\n",
            "\n",
            "**Confidentiality and Data Security:**\n",
            "Employees are expected to maintain confidentiality, and strict data security measures are in place. An annual budget of $1 million is allocated for cybersecurity training and awareness programs in the U.S., while budgets for Germany and Japan are €500,000 and ¥50 million, respectively.\n",
            "\n",
            "**Compensation and Benefits - United States:**\n",
            "In the United States, employees enjoy health insurance, dental coverage, and a 401(k) retirement plan. An annual budget of $1 million is allocated for employee benefits.\n",
            "\n",
            "**Compensation and Benefits - Germany:**\n",
            "In Germany, benefits include health insurance, a pension plan, and an additional 5 days of vacation annually. An annual budget of €500,000 is allocated for employee benefits.\n",
            "\n",
            "**Compensation and Benefits - Japan:**\n",
            "In Japan, employees receive health insurance, a commuting allowance, and wellness benefits. An annual budget of ¥50 million is allocated for employee benefits.\n",
            "\n",
            "**Leave Policies - United States:**\n",
            "In the United States, employees have 15 days of paid vacation and 10 days of paid sick leave annually. An annual budget of $500,000 is allocated for leave-related expenses.\n",
            "\n",
            "**Leave Policies - Germany:**\n",
            "In Germany, generous leave policies offer 30 days of paid vacation and 20 days of paid sick leave annually. An annual budget of €1 million is allocated for leave-related expenses.\n",
            "\n",
            "**Leave Policies - Japan:**\n",
            "In Japan, employees enjoy 20 days of paid vacation and 15 days of paid sick leave per year. An annual budget of ¥100 million is allocated for leave-related expenses.\n",
            "\n",
            "**Performance Management:**\n",
            "Performance reviews are conducted annually, with regular feedback provided to support professional development. GlobalCorp encourages continuous learning and allocates an annual budget of $5,000 per employee for training and development opportunities.\n",
            "\n",
            "**Health and Safety:**\n",
            "Workplace safety is a shared responsibility. Emergency procedures are clearly posted throughout our office buildings, and an annual budget of $10,000, €5,000, and ¥1 million is allocated for safety drills and equipment maintenance in the U.S., Germany, and Japan, respectively.\n",
            "\n",
            "**Communication:**\n",
            "Important updates are conveyed through company-wide emails and team meetings. An annual budget of $500,000, €250,000, and ¥25 million is allocated for communication initiatives, including employee engagement events in the U.S., Germany, and Japan, respectively.\n",
            "\n",
            "This policy undergoes an annual review to ensure relevance and compliance. Welcome to GlobalCorp, where our commitment to a diverse, inclusive, and respectful workplace is the foundation of our success.\n",
            "\n",
            "1.\tRecruitment and Selection\n",
            "1.\tIntroduction\u001b[0m\u001b[32;1m\u001b[1;3mI have not been able to find specific information regarding the government budgets of Japan and the United States for 2023. The searches have only yielded data related to HR policies and internal budgets of a company, which is not what I need for this inquiry. \n",
            "\n",
            "Since my attempts to retrieve the relevant information have been unsuccessful, I may need to conclude that I cannot provide the direct comparison of the national budgets for Japan and the United States at this moment.\n",
            "\n",
            "Final Answer: I was unable to find specific information comparing the national budgets of Japan and the United States for 2023. You may want to check recent government budget documents or reliable economic news sources for accurate budget figures.\u001b[0m\n",
            "\n",
            "\u001b[1m> Finished chain.\u001b[0m\n"
          ]
        },
        {
          "output_type": "execute_result",
          "data": {
            "text/plain": [
              "{'input': 'Which of the two countries has the highest budget - Japan or Unites States?',\n",
              " 'output': 'I was unable to find specific information comparing the national budgets of Japan and the United States for 2023. You may want to check recent government budget documents or reliable economic news sources for accurate budget figures.'}"
            ]
          },
          "metadata": {},
          "execution_count": 32
        }
      ]
    },
    {
      "cell_type": "code",
      "source": [
        "query = \"How much is the budget for Japan different than United States?\"\n",
        "react_agent_executor.invoke({\"input\": query})"
      ],
      "metadata": {
        "colab": {
          "base_uri": "https://localhost:8080/"
        },
        "id": "28V0ADtY2oGr",
        "outputId": "36c27daa-632a-4425-9670-6c4a9a7339b1"
      },
      "execution_count": null,
      "outputs": [
        {
          "output_type": "stream",
          "name": "stdout",
          "text": [
            "\n",
            "\n",
            "\u001b[1m> Entering new AgentExecutor chain...\u001b[0m\n",
            "\u001b[32;1m\u001b[1;3mTo find the information regarding the budget differences between Japan and the United States, I should search for relevant HR policies or budget documents that outline these details. \n",
            "\n",
            "Action: search_hr_policy  \n",
            "Action Input: 'budget comparison Japan United States'  \u001b[0m\u001b[36;1m\u001b[1;3m**Grievance and Disciplinary Procedures:**\n",
            "Our grievance and disciplinary procedures are outlined on the company intranet. Termination conditions may include gross misconduct or repeated policy violations. In such cases, a disciplinary process will be followed, including a three-strike system, before termination. Employees leaving GlobalCorp should follow the exit process detailed in the employee handbook.\n",
            "\n",
            "**Confidentiality and Data Security:**\n",
            "Employees are expected to maintain confidentiality, and strict data security measures are in place. An annual budget of $1 million is allocated for cybersecurity training and awareness programs in the U.S., while budgets for Germany and Japan are €500,000 and ¥50 million, respectively.\n",
            "\n",
            "**Compensation and Benefits - United States:**\n",
            "In the United States, employees enjoy health insurance, dental coverage, and a 401(k) retirement plan. An annual budget of $1 million is allocated for employee benefits.\n",
            "\n",
            "**Compensation and Benefits - Germany:**\n",
            "In Germany, benefits include health insurance, a pension plan, and an additional 5 days of vacation annually. An annual budget of €500,000 is allocated for employee benefits.\n",
            "\n",
            "**Compensation and Benefits - Japan:**\n",
            "In Japan, employees receive health insurance, a commuting allowance, and wellness benefits. An annual budget of ¥50 million is allocated for employee benefits.\n",
            "\n",
            "**Leave Policies - United States:**\n",
            "In the United States, employees have 15 days of paid vacation and 10 days of paid sick leave annually. An annual budget of $500,000 is allocated for leave-related expenses.\n",
            "\n",
            "**Leave Policies - Germany:**\n",
            "In Germany, generous leave policies offer 30 days of paid vacation and 20 days of paid sick leave annually. An annual budget of €1 million is allocated for leave-related expenses.\n",
            "\n",
            "**Leave Policies - Japan:**\n",
            "In Japan, employees enjoy 20 days of paid vacation and 15 days of paid sick leave per year. An annual budget of ¥100 million is allocated for leave-related expenses.\n",
            "\n",
            "**Performance Management:**\n",
            "Performance reviews are conducted annually, with regular feedback provided to support professional development. GlobalCorp encourages continuous learning and allocates an annual budget of $5,000 per employee for training and development opportunities.\u001b[0m\u001b[32;1m\u001b[1;3mTo determine the budget differences between Japan and the United States, I need to extract and compare the relevant budget figures mentioned in the observation.\n",
            "\n",
            "The annual budgets mentioned are:\n",
            "- United States: \n",
            "  - Cybersecurity training and awareness programs: $1 million\n",
            "  - Employee benefits: $1 million\n",
            "  - Leave-related expenses: $500,000\n",
            "- Japan:\n",
            "  - Employee benefits: ¥50 million\n",
            "  - Leave-related expenses: ¥100 million\n",
            "\n",
            "To compare the budgets effectively, I will need to convert the Japanese yen amounts to US dollars for an accurate comparison.\n",
            "\n",
            "Thought: I will summarize the budgets and note the difference in amounts directly.\n",
            "Final Answer: The budget for employee benefits in Japan is ¥50 million, while in the United States, it is $1 million. The leave-related expenses in Japan amount to ¥100 million, compared to $500,000 in the United States. \n",
            "\n",
            "To provide a clearer comparison, I would need to convert yen to dollars, but the exact conversion rate varies. As of the last known rates, ¥50 million is approximately $460,000 and ¥100 million is approximately $920,000. Thus, Japan's budget for employee benefits is lower than the U.S.'s, while Japan's leave-related expenses are significantly higher. \n",
            "\n",
            "Therefore, the primary difference is that Japan spends more on leave-related expenses, while the U.S. spends more on employee benefits.\u001b[0m\n",
            "\n",
            "\u001b[1m> Finished chain.\u001b[0m\n"
          ]
        },
        {
          "output_type": "execute_result",
          "data": {
            "text/plain": [
              "{'input': 'How much is the budget for Japan different than United States?',\n",
              " 'output': \"The budget for employee benefits in Japan is ¥50 million, while in the United States, it is $1 million. The leave-related expenses in Japan amount to ¥100 million, compared to $500,000 in the United States. \\n\\nTo provide a clearer comparison, I would need to convert yen to dollars, but the exact conversion rate varies. As of the last known rates, ¥50 million is approximately $460,000 and ¥100 million is approximately $920,000. Thus, Japan's budget for employee benefits is lower than the U.S.'s, while Japan's leave-related expenses are significantly higher. \\n\\nTherefore, the primary difference is that Japan spends more on leave-related expenses, while the U.S. spends more on employee benefits.\"}"
            ]
          },
          "metadata": {},
          "execution_count": 33
        }
      ]
    },
    {
      "cell_type": "code",
      "source": [
        "# dwa\n",
        "tools = [tool_search, currency_conversion]\n",
        "\n",
        "react_agent = create_react_agent(llm, tools=tools, prompt=prompt_react)\n",
        "react_agent_executor = AgentExecutor(\n",
        "    agent=react_agent, tools=tools, verbose=True, handle_parsing_errors=True\n",
        ")"
      ],
      "metadata": {
        "id": "It9V7uqJ2xoS"
      },
      "execution_count": null,
      "outputs": []
    },
    {
      "cell_type": "markdown",
      "source": [
        "Te linie kodu tworzą system agenta z dwoma narzędziami. Rozbierzmy to:\n",
        "\n",
        "`tools = [tool_search, currency_conversion]` tworzy listę zawierającą dwa narzędzia:\n",
        "- narzędzie do wyszukiwania w dokumentach HR\n",
        "- narzędzie do konwersji walut\n",
        "\n",
        "`create_react_agent()` tworzy agenta ReAct z parametrami:\n",
        "- `llm` - model językowy do wykorzystania\n",
        "- `tools=tools` - lista dwóch dostępnych narzędzi\n",
        "- `prompt=prompt_react` - wcześniej pobrany prompt określający sposób działania\n",
        "\n",
        "`AgentExecutor()` tworzy wykonawcę dla tego agenta z parametrami:\n",
        "- `agent=react_agent` - wcześniej utworzony agent\n",
        "- `tools=tools` - ta sama lista narzędzi\n",
        "- `verbose=True` - włącza szczegółowe logowanie działań\n",
        "- `handle_parsing_errors=True` - włącza obsługę błędów parsowania\n",
        "\n",
        "W porównaniu do poprzedniej wersji, agent ma teraz dostęp do dwóch narzędzi zamiast jednego - może zarówno przeszukiwać dokumenty HR, jak i dokonywać konwersji walut."
      ],
      "metadata": {
        "id": "2h6VyIoxLItP"
      }
    },
    {
      "cell_type": "code",
      "source": [
        "\n",
        "\n",
        "query = \"Is the budget for Japan different than United States?\"\n",
        "react_agent_executor.invoke({\"input\": query})"
      ],
      "metadata": {
        "colab": {
          "base_uri": "https://localhost:8080/"
        },
        "id": "giht2e-G22Fg",
        "outputId": "40193ef3-fa15-4111-e69e-d01406624f7d"
      },
      "execution_count": null,
      "outputs": [
        {
          "output_type": "stream",
          "name": "stdout",
          "text": [
            "\n",
            "\n",
            "\u001b[1m> Entering new AgentExecutor chain...\u001b[0m\n",
            "\u001b[32;1m\u001b[1;3mI need to look up the HR policy to find any information related to budget differences between Japan and the United States. \n",
            "Action: search_hr_policy \n",
            "Action Input: 'budget differences between Japan and United States' \u001b[0m\u001b[36;1m\u001b[1;3m**Grievance and Disciplinary Procedures:**\n",
            "Our grievance and disciplinary procedures are outlined on the company intranet. Termination conditions may include gross misconduct or repeated policy violations. In such cases, a disciplinary process will be followed, including a three-strike system, before termination. Employees leaving GlobalCorp should follow the exit process detailed in the employee handbook.\n",
            "\n",
            "**Confidentiality and Data Security:**\n",
            "Employees are expected to maintain confidentiality, and strict data security measures are in place. An annual budget of $1 million is allocated for cybersecurity training and awareness programs in the U.S., while budgets for Germany and Japan are €500,000 and ¥50 million, respectively.\n",
            "\n",
            "**Compensation and Benefits - United States:**\n",
            "In the United States, employees enjoy health insurance, dental coverage, and a 401(k) retirement plan. An annual budget of $1 million is allocated for employee benefits.\n",
            "\n",
            "**Compensation and Benefits - Germany:**\n",
            "In Germany, benefits include health insurance, a pension plan, and an additional 5 days of vacation annually. An annual budget of €500,000 is allocated for employee benefits.\n",
            "\n",
            "**Compensation and Benefits - Japan:**\n",
            "In Japan, employees receive health insurance, a commuting allowance, and wellness benefits. An annual budget of ¥50 million is allocated for employee benefits.\n",
            "\n",
            "**Leave Policies - United States:**\n",
            "In the United States, employees have 15 days of paid vacation and 10 days of paid sick leave annually. An annual budget of $500,000 is allocated for leave-related expenses.\n",
            "\n",
            "**Leave Policies - Germany:**\n",
            "In Germany, generous leave policies offer 30 days of paid vacation and 20 days of paid sick leave annually. An annual budget of €1 million is allocated for leave-related expenses.\n",
            "\n",
            "**Leave Policies - Japan:**\n",
            "In Japan, employees enjoy 20 days of paid vacation and 15 days of paid sick leave per year. An annual budget of ¥100 million is allocated for leave-related expenses.\n",
            "\n",
            "**Performance Management:**\n",
            "Performance reviews are conducted annually, with regular feedback provided to support professional development. GlobalCorp encourages continuous learning and allocates an annual budget of $5,000 per employee for training and development opportunities.\n",
            "\n",
            "**Health and Safety:**\n",
            "Workplace safety is a shared responsibility. Emergency procedures are clearly posted throughout our office buildings, and an annual budget of $10,000, €5,000, and ¥1 million is allocated for safety drills and equipment maintenance in the U.S., Germany, and Japan, respectively.\n",
            "\n",
            "**Communication:**\n",
            "Important updates are conveyed through company-wide emails and team meetings. An annual budget of $500,000, €250,000, and ¥25 million is allocated for communication initiatives, including employee engagement events in the U.S., Germany, and Japan, respectively.\n",
            "\n",
            "This policy undergoes an annual review to ensure relevance and compliance. Welcome to GlobalCorp, where our commitment to a diverse, inclusive, and respectful workplace is the foundation of our success.\n",
            "\n",
            "1.\tRecruitment and Selection\n",
            "1.\tIntroduction\u001b[0m\u001b[32;1m\u001b[1;3mI now know the final answer.\n",
            "\n",
            "Final Answer: Yes, the budget for Japan is different from that of the United States. Specifically, the annual budget for cybersecurity training and awareness programs in the U.S. is $1 million, while Japan has a budget of ¥50 million for employee benefits, and also an annual budget of ¥100 million for leave-related expenses.\u001b[0m\n",
            "\n",
            "\u001b[1m> Finished chain.\u001b[0m\n"
          ]
        },
        {
          "output_type": "execute_result",
          "data": {
            "text/plain": [
              "{'input': 'Is the budget for Japan different than United States?',\n",
              " 'output': 'Yes, the budget for Japan is different from that of the United States. Specifically, the annual budget for cybersecurity training and awareness programs in the U.S. is $1 million, while Japan has a budget of ¥50 million for employee benefits, and also an annual budget of ¥100 million for leave-related expenses.'}"
            ]
          },
          "metadata": {},
          "execution_count": 35
        }
      ]
    }
  ]
}