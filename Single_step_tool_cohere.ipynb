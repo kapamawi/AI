{
  "cells": [
    {
      "cell_type": "markdown",
      "metadata": {
        "id": "view-in-github",
        "colab_type": "text"
      },
      "source": [
        "<a href=\"https://colab.research.google.com/github/kapamawi/AI/blob/main/Single_step_tool_cohere.ipynb\" target=\"_parent\"><img src=\"https://colab.research.google.com/assets/colab-badge.svg\" alt=\"Open In Colab\"/></a>"
      ]
    },
    {
      "cell_type": "code",
      "execution_count": null,
      "id": "917f9309",
      "metadata": {
        "_cell_guid": "b1076dfc-b9ad-4769-8c92-a6c4dae69d19",
        "_uuid": "8f2839f25d086af736a60e9eeb907d3b93b6e0e5",
        "execution": {
          "iopub.execute_input": "2024-11-17T23:15:22.023079Z",
          "iopub.status.busy": "2024-11-17T23:15:22.022542Z",
          "iopub.status.idle": "2024-11-17T23:15:36.809089Z",
          "shell.execute_reply": "2024-11-17T23:15:36.807792Z"
        },
        "papermill": {
          "duration": 14.799105,
          "end_time": "2024-11-17T23:15:36.811863",
          "exception": false,
          "start_time": "2024-11-17T23:15:22.012758",
          "status": "completed"
        },
        "tags": [],
        "colab": {
          "base_uri": "https://localhost:8080/"
        },
        "id": "917f9309",
        "outputId": "7e27eaa8-4109-4465-f187-263385403d0d"
      },
      "outputs": [
        {
          "output_type": "stream",
          "name": "stdout",
          "text": [
            "\u001b[?25l   \u001b[90m━━━━━━━━━━━━━━━━━━━━━━━━━━━━━━━━━━━━━━━━\u001b[0m \u001b[32m0.0/249.7 kB\u001b[0m \u001b[31m?\u001b[0m eta \u001b[36m-:--:--\u001b[0m\r\u001b[2K   \u001b[90m━━━━━━━━━━━━━━━━━━━━━━━━━━━━━━━━━━━━━━━━\u001b[0m \u001b[32m249.7/249.7 kB\u001b[0m \u001b[31m7.9 MB/s\u001b[0m eta \u001b[36m0:00:00\u001b[0m\n",
            "\u001b[?25h\u001b[?25l   \u001b[90m━━━━━━━━━━━━━━━━━━━━━━━━━━━━━━━━━━━━━━━━\u001b[0m \u001b[32m0.0/3.1 MB\u001b[0m \u001b[31m?\u001b[0m eta \u001b[36m-:--:--\u001b[0m\r\u001b[2K   \u001b[91m━━━━━━━━━━━━━━━━━━━━━━\u001b[0m\u001b[91m╸\u001b[0m\u001b[90m━━━━━━━━━━━━━━━━━\u001b[0m \u001b[32m1.7/3.1 MB\u001b[0m \u001b[31m26.2 MB/s\u001b[0m eta \u001b[36m0:00:01\u001b[0m\r\u001b[2K   \u001b[91m━━━━━━━━━━━━━━━━━━━━━━━━━━━━━━━━━━━━━━━\u001b[0m\u001b[91m╸\u001b[0m \u001b[32m3.1/3.1 MB\u001b[0m \u001b[31m29.3 MB/s\u001b[0m eta \u001b[36m0:00:01\u001b[0m\r\u001b[2K   \u001b[91m━━━━━━━━━━━━━━━━━━━━━━━━━━━━━━━━━━━━━━━\u001b[0m\u001b[91m╸\u001b[0m \u001b[32m3.1/3.1 MB\u001b[0m \u001b[31m29.3 MB/s\u001b[0m eta \u001b[36m0:00:01\u001b[0m\r\u001b[2K   \u001b[90m━━━━━━━━━━━━━━━━━━━━━━━━━━━━━━━━━━━━━━━━\u001b[0m \u001b[32m3.1/3.1 MB\u001b[0m \u001b[31m20.5 MB/s\u001b[0m eta \u001b[36m0:00:00\u001b[0m\n",
            "\u001b[?25h"
          ]
        }
      ],
      "source": [
        "! pip install cohere -q"
      ]
    },
    {
      "cell_type": "markdown",
      "id": "c2f1ae19",
      "metadata": {
        "papermill": {
          "duration": 0.006989,
          "end_time": "2024-11-17T23:15:36.826574",
          "exception": false,
          "start_time": "2024-11-17T23:15:36.819585",
          "status": "completed"
        },
        "tags": [],
        "id": "c2f1ae19"
      },
      "source": [
        "Kod instaluje bibliotekę cohere w cichym trybie (-q oznacza \"quiet\", czyli bez wyświetlania szczegółowych komunikatów podczas instalacji).\n",
        "\n",
        "Cohere to biblioteka umożliwiająca korzystanie z modeli językowych poprzez API. Flaga -q ogranicza wyświetlanie standardowych komunikatów instalacyjnych, dzięki czemu na ekranie pojawi się tylko informacja o ostatecznym wyniku instalacji.\n",
        "\n",
        "Polecenie pip install to standardowy sposób instalowania pakietów Pythona. Znak wykrzyknika na początku (!) wskazuje, że komenda jest wykonywana w środowisku Jupyter Notebook/Google Colab, gdzie komendy systemowe poprzedza się wykrzyknikiem."
      ]
    },
    {
      "cell_type": "code",
      "execution_count": null,
      "id": "3a6b4b86",
      "metadata": {
        "execution": {
          "iopub.execute_input": "2024-11-17T23:15:36.843077Z",
          "iopub.status.busy": "2024-11-17T23:15:36.842636Z",
          "iopub.status.idle": "2024-11-17T23:15:38.147746Z",
          "shell.execute_reply": "2024-11-17T23:15:38.146406Z"
        },
        "papermill": {
          "duration": 1.316442,
          "end_time": "2024-11-17T23:15:38.150343",
          "exception": false,
          "start_time": "2024-11-17T23:15:36.833901",
          "status": "completed"
        },
        "tags": [],
        "id": "3a6b4b86"
      },
      "outputs": [],
      "source": [
        "import cohere\n",
        "import json\n",
        "from google.colab import userdata\n",
        "import os"
      ]
    },
    {
      "cell_type": "markdown",
      "id": "864c83a2",
      "metadata": {
        "papermill": {
          "duration": 0.007,
          "end_time": "2024-11-17T23:15:38.164753",
          "exception": false,
          "start_time": "2024-11-17T23:15:38.157753",
          "status": "completed"
        },
        "tags": [],
        "id": "864c83a2"
      },
      "source": [
        "Ten fragment kodu importuje niezbędne biblioteki do projektu:\n",
        "\n",
        "`cohere` - zaimportowana wcześniej zainstalowana biblioteka do pracy z modelami językowymi\n",
        "\n",
        "`json` - wbudowany moduł Pythona do obsługi formatu JSON (JavaScript Object Notation), używany do pracy z danymi w formacie tekstowym\n",
        "\n",
        "`UserSecretsClient` z modułu `kaggle_secrets` - klient do bezpiecznego przechowywania i dostępu do poufnych danych (np. kluczy API) w środowisku Kaggle\n",
        "\n",
        "`os` - wbudowany moduł Pythona zapewniający funkcje do interakcji z systemem operacyjnym, umożliwiający m.in. operacje na plikach i zmiennych środowiskowych"
      ]
    },
    {
      "cell_type": "code",
      "execution_count": null,
      "id": "2e37d7b0",
      "metadata": {
        "execution": {
          "iopub.execute_input": "2024-11-17T23:15:38.182291Z",
          "iopub.status.busy": "2024-11-17T23:15:38.181695Z",
          "iopub.status.idle": "2024-11-17T23:15:38.700218Z",
          "shell.execute_reply": "2024-11-17T23:15:38.699041Z"
        },
        "papermill": {
          "duration": 0.529861,
          "end_time": "2024-11-17T23:15:38.702899",
          "exception": false,
          "start_time": "2024-11-17T23:15:38.173038",
          "status": "completed"
        },
        "tags": [],
        "id": "2e37d7b0"
      },
      "outputs": [],
      "source": [
        "\n",
        "api_key = userdata.get(\"cohereapi\")\n",
        "os.environ['COHERE_API_KEY'] = api_key\n",
        "\n",
        "co = cohere.Client(api_key)"
      ]
    },
    {
      "cell_type": "markdown",
      "id": "14071d1a",
      "metadata": {
        "papermill": {
          "duration": 0.006943,
          "end_time": "2024-11-17T23:15:38.717251",
          "exception": false,
          "start_time": "2024-11-17T23:15:38.710308",
          "status": "completed"
        },
        "tags": [],
        "id": "14071d1a"
      },
      "source": [
        "Ten fragment kodu konfiguruje dostęp do API Cohere:\n",
        "\n",
        "`user_secrets = UserSecretsClient()` - tworzy obiekt do zarządzania sekretami użytkownika w Kaggle\n",
        "\n",
        "`api_key = user_secrets.get_secret(\"cohereprod\")` - pobiera klucz API zapisany pod nazwą \"cohereprod\" z sekretów użytkownika\n",
        "\n",
        "`os.environ['COHERE_API_KEY'] = api_key` - zapisuje klucz API jako zmienną środowiskową, dzięki czemu będzie dostępny dla biblioteki cohere\n",
        "\n",
        "`co = cohere.Client(api_key)` - tworzy klienta API Cohere używając pobranego klucza, który będzie służył do komunikacji z usługą"
      ]
    },
    {
      "cell_type": "code",
      "execution_count": null,
      "id": "d7a9ee64",
      "metadata": {
        "execution": {
          "iopub.execute_input": "2024-11-17T23:15:38.733937Z",
          "iopub.status.busy": "2024-11-17T23:15:38.733500Z",
          "iopub.status.idle": "2024-11-17T23:15:38.738645Z",
          "shell.execute_reply": "2024-11-17T23:15:38.737473Z"
        },
        "papermill": {
          "duration": 0.015993,
          "end_time": "2024-11-17T23:15:38.740929",
          "exception": false,
          "start_time": "2024-11-17T23:15:38.724936",
          "status": "completed"
        },
        "tags": [],
        "id": "d7a9ee64"
      },
      "outputs": [],
      "source": [
        "class CFG:\n",
        "    model = \"command-r-plus\""
      ]
    },
    {
      "cell_type": "markdown",
      "id": "632f8ab9",
      "metadata": {
        "papermill": {
          "duration": 0.006864,
          "end_time": "2024-11-17T23:15:38.755056",
          "exception": false,
          "start_time": "2024-11-17T23:15:38.748192",
          "status": "completed"
        },
        "tags": [],
        "id": "632f8ab9"
      },
      "source": [
        "Ten fragment definiuje klasę konfiguracyjną `CFG`, która służy do przechowywania ustawień:\n",
        "\n",
        "`model = \"command-r-plus\"` - określa nazwę modelu Cohere, który będzie używany. Zmienna ta przechowuje identyfikator konkretnej wersji modelu językowego dostępnego w API Cohere.\n",
        "\n",
        "Klasa `CFG` (skrót od \"configuration\") to powszechnie stosowana praktyka w projektach uczenia maszynowego, pozwalająca na centralne zarządzanie parametrami i łatwą ich modyfikację w jednym miejscu."
      ]
    },
    {
      "cell_type": "markdown",
      "id": "2f81d7c0",
      "metadata": {
        "papermill": {
          "duration": 0.006865,
          "end_time": "2024-11-17T23:15:38.769087",
          "exception": false,
          "start_time": "2024-11-17T23:15:38.762222",
          "status": "completed"
        },
        "tags": [],
        "id": "2f81d7c0"
      },
      "source": [
        "# Functions"
      ]
    },
    {
      "cell_type": "code",
      "execution_count": null,
      "id": "5d694f92",
      "metadata": {
        "execution": {
          "iopub.execute_input": "2024-11-17T23:15:38.785247Z",
          "iopub.status.busy": "2024-11-17T23:15:38.784848Z",
          "iopub.status.idle": "2024-11-17T23:15:38.792151Z",
          "shell.execute_reply": "2024-11-17T23:15:38.790797Z"
        },
        "papermill": {
          "duration": 0.018355,
          "end_time": "2024-11-17T23:15:38.794615",
          "exception": false,
          "start_time": "2024-11-17T23:15:38.776260",
          "status": "completed"
        },
        "tags": [],
        "id": "5d694f92"
      },
      "outputs": [],
      "source": [
        "def daily_sales_report(day: str) -> dict:\n",
        "    \"\"\"\n",
        "    Function to retrieve the sales report for the given day\n",
        "    \"\"\"\n",
        "    # Mock database containing daily sales reports\n",
        "    sales_database = {\n",
        "    '2023-09-28': {'total_sales_amount': 5000,'total_units_sold': 100},\n",
        "    '2023-09-29': {'total_sales_amount': 10000,'total_units_sold': 250},\n",
        "    '2023-09-30': {'total_sales_amount': 8000,'total_units_sold': 200}\n",
        "    }\n",
        "\n",
        "    report = sales_database.get(day, {})\n",
        "\n",
        "    if report:\n",
        "        return {\n",
        "            'date': day,\n",
        "            'summary': f\"Total Sales Amount: {report['total_sales_amount']}, Total Units Sold: {report['total_units_sold']}\"\n",
        "        }\n",
        "    else:\n",
        "        return {'date': day, 'summary': 'No sales data available for this day.'}\n"
      ]
    },
    {
      "cell_type": "markdown",
      "id": "994d9d86",
      "metadata": {
        "papermill": {
          "duration": 0.00698,
          "end_time": "2024-11-17T23:15:38.809097",
          "exception": false,
          "start_time": "2024-11-17T23:15:38.802117",
          "status": "completed"
        },
        "tags": [],
        "id": "994d9d86"
      },
      "source": [
        "Ta funkcja służy do pobierania raportów sprzedaży dla wskazanego dnia:\n",
        "\n",
        "Parametr wejściowy:\n",
        "- `day` typu string - data w formacie RRRR-MM-DD\n",
        "\n",
        "W funkcji zdefiniowana jest przykładowa baza danych `sales_database` jako słownik zawierający raporty dla trzech dni (28-30 września 2023). Każdy raport zawiera informacje o łącznej kwocie sprzedaży i liczbie sprzedanych jednostek.\n",
        "\n",
        "`report = sales_database.get(day, {})` - pobiera raport dla wskazanego dnia. Jeśli dnia nie ma w bazie, zwraca pusty słownik.\n",
        "\n",
        "Funkcja zwraca słownik zawierający:\n",
        "- jeśli znaleziono dane: datę oraz podsumowanie z kwotą sprzedaży i liczbą sprzedanych jednostek\n",
        "- jeśli nie znaleziono danych: datę oraz komunikat o braku danych sprzedażowych\n",
        "\n",
        "Adnotacja `-> dict` informuje, że funkcja zwraca wartość typu słownik (dictionary)."
      ]
    },
    {
      "cell_type": "code",
      "execution_count": null,
      "id": "cfc26063",
      "metadata": {
        "execution": {
          "iopub.execute_input": "2024-11-17T23:15:38.825510Z",
          "iopub.status.busy": "2024-11-17T23:15:38.825080Z",
          "iopub.status.idle": "2024-11-17T23:15:38.833306Z",
          "shell.execute_reply": "2024-11-17T23:15:38.832285Z"
        },
        "papermill": {
          "duration": 0.019073,
          "end_time": "2024-11-17T23:15:38.835378",
          "exception": false,
          "start_time": "2024-11-17T23:15:38.816305",
          "status": "completed"
        },
        "tags": [],
        "id": "cfc26063"
      },
      "outputs": [],
      "source": [
        "def product_database(category: str) -> dict:\n",
        "    \"\"\"\n",
        "    Function to retrieve products for the given category\n",
        "    \"\"\"\n",
        "\n",
        "    # Mock product catalog\n",
        "    product_catalog = {\n",
        "        'Electronics': [\n",
        "            {'product_id': 'E1001', 'name': 'Smartphone', 'price': 500, 'stock_level': 20},\n",
        "            {'product_id': 'E1002', 'name': 'Laptop', 'price': 1000, 'stock_level': 15},\n",
        "            {'product_id': 'E1003', 'name': 'Tablet', 'price': 300, 'stock_level': 25},\n",
        "        ],\n",
        "        'Clothing': [\n",
        "            {'product_id': 'C1001', 'name': 'T-Shirt', 'price': 20, 'stock_level': 100},\n",
        "            {'product_id': 'C1002', 'name': 'Jeans', 'price': 50, 'stock_level': 80},\n",
        "            {'product_id': 'C1003', 'name': 'Jacket', 'price': 100, 'stock_level': 40},\n",
        "        ]\n",
        "    }\n",
        "\n",
        "    products = product_catalog.get(category, [])\n",
        "    return {\n",
        "        'category': category,\n",
        "        'products': products\n",
        "    }\n",
        "\n",
        "\n",
        "functions_map = {\n",
        "    \"daily_sales_report\": daily_sales_report,\n",
        "    \"product_database\": product_database\n",
        "}"
      ]
    },
    {
      "cell_type": "markdown",
      "id": "935ffc43",
      "metadata": {
        "papermill": {
          "duration": 0.007074,
          "end_time": "2024-11-17T23:15:38.849674",
          "exception": false,
          "start_time": "2024-11-17T23:15:38.842600",
          "status": "completed"
        },
        "tags": [],
        "id": "935ffc43"
      },
      "source": [
        "Ten kod zawiera funkcję dostępu do bazy produktów oraz mapowanie funkcji:\n",
        "\n",
        "Funkcja `product_database`:\n",
        "- przyjmuje parametr `category` określający kategorię produktów\n",
        "- zawiera przykładowy katalog produktów `product_catalog` z dwoma kategoriami: Electronics i Clothing\n",
        "- każdy produkt ma identyfikator, nazwę, cenę i poziom zapasów\n",
        "- zwraca słownik z nazwą kategorii i listą produktów dla tej kategorii\n",
        "- jeśli kategoria nie istnieje, zwraca pustą listę produktów\n",
        "\n",
        "`functions_map` to słownik mapujący nazwy funkcji na ich implementacje. Zawiera dwa wpisy:\n",
        "- \"daily_sales_report\" wskazujący na funkcję raportów sprzedaży\n",
        "- \"product_database\" wskazujący na funkcję bazy produktów\n",
        "\n",
        "Takie mapowanie pozwala na dynamiczne wywoływanie funkcji na podstawie ich nazw tekstowych."
      ]
    },
    {
      "cell_type": "code",
      "execution_count": null,
      "id": "b8a4ee0c",
      "metadata": {
        "execution": {
          "iopub.execute_input": "2024-11-17T23:15:38.865986Z",
          "iopub.status.busy": "2024-11-17T23:15:38.865563Z",
          "iopub.status.idle": "2024-11-17T23:15:38.872074Z",
          "shell.execute_reply": "2024-11-17T23:15:38.870932Z"
        },
        "papermill": {
          "duration": 0.017649,
          "end_time": "2024-11-17T23:15:38.874515",
          "exception": false,
          "start_time": "2024-11-17T23:15:38.856866",
          "status": "completed"
        },
        "tags": [],
        "id": "b8a4ee0c"
      },
      "outputs": [],
      "source": [
        "tools = [\n",
        "    {\n",
        "        \"name\": \"daily_sales_report\",\n",
        "        \"description\": \"Connects to a database to retrieve overall sales volumes and sales information for a given day.\",\n",
        "        \"parameter_definitions\": {\n",
        "            \"day\": {\n",
        "                \"description\": \"Retrieves sales data for this day, formatted as YYYY-MM-DD.\",\n",
        "                \"type\": \"str\",\n",
        "                \"required\": True\n",
        "            }\n",
        "        }\n",
        "    },\n",
        "    {\n",
        "        \"name\": \"product_database\",\n",
        "        \"description\": \"A database that contains information about all the products of this company, including categories, prices, and stock levels.\",\n",
        "        \"parameter_definitions\": {\n",
        "            \"category\": {\n",
        "                \"description\": \"Retrieves product information data for all products in this category.\",\n",
        "                \"type\": \"str\",\n",
        "                \"required\": True\n",
        "            }\n",
        "        }\n",
        "    }\n",
        "]"
      ]
    },
    {
      "cell_type": "markdown",
      "id": "dcbba5dd",
      "metadata": {
        "papermill": {
          "duration": 0.007078,
          "end_time": "2024-11-17T23:15:38.888955",
          "exception": false,
          "start_time": "2024-11-17T23:15:38.881877",
          "status": "completed"
        },
        "tags": [],
        "id": "dcbba5dd"
      },
      "source": [
        "Ten kod definiuje listę `tools` zawierającą opisy dostępnych narzędzi (funkcji) w systemie:\n",
        "\n",
        "Pierwsze narzędzie - `daily_sales_report`:\n",
        "- służy do pobierania informacji o sprzedaży z danego dnia\n",
        "- wymaga parametru `day` w formacie RRRR-MM-DD (parametr obowiązkowy, typu string)\n",
        "\n",
        "Drugie narzędzie - `product_database`:\n",
        "- zapewnia dostęp do bazy produktów firmy, zawierającej informacje o kategoriach, cenach i stanach magazynowych\n",
        "- wymaga parametru `category` określającego kategorię produktów (parametr obowiązkowy, typu string)\n",
        "\n",
        "Każde narzędzie w liście jest opisane przez słownik zawierający:\n",
        "- nazwę (`name`)\n",
        "- opis funkcjonalności (`description`)\n",
        "- definicje parametrów (`parameter_definitions`) z ich typami i opisami\n",
        "\n",
        "Taka struktura umożliwia automatyczne generowanie dokumentacji i walidację parametrów przed wywołaniem funkcji."
      ]
    },
    {
      "cell_type": "code",
      "execution_count": null,
      "id": "4929e975",
      "metadata": {
        "execution": {
          "iopub.execute_input": "2024-11-17T23:15:38.905980Z",
          "iopub.status.busy": "2024-11-17T23:15:38.904871Z",
          "iopub.status.idle": "2024-11-17T23:15:38.916208Z",
          "shell.execute_reply": "2024-11-17T23:15:38.914952Z"
        },
        "papermill": {
          "duration": 0.022527,
          "end_time": "2024-11-17T23:15:38.918662",
          "exception": false,
          "start_time": "2024-11-17T23:15:38.896135",
          "status": "completed"
        },
        "tags": [],
        "id": "4929e975"
      },
      "outputs": [],
      "source": [
        "def run_assistant(message, chat_history=None):\n",
        "    if chat_history is None:\n",
        "        chat_history = []\n",
        "\n",
        "    # Step 1: Get user message\n",
        "    print(f\"Question:\\n{message}\")\n",
        "    print(\"-\"*50)\n",
        "\n",
        "    # Step 2: Generate tool calls (if any)\n",
        "    response = co.chat(\n",
        "        message=message,\n",
        "        model = CFG.model,\n",
        "        preamble=preamble,\n",
        "        tools=tools,\n",
        "        chat_history=chat_history,\n",
        "        force_single_step=True\n",
        "    )\n",
        "\n",
        "    while response.tool_calls:\n",
        "        tool_calls = response.tool_calls\n",
        "\n",
        "        if response.text:\n",
        "            print(\"Tool plan:\")\n",
        "            print(response.text,\"\\n\")\n",
        "        print(\"Tool calls:\")\n",
        "        for call in tool_calls:\n",
        "            print(f\"Tool name: {call.name} | Parameters: {call.parameters}\")\n",
        "        print(\"=\"*50)\n",
        "\n",
        "        # Step 3: Get tool results\n",
        "        tool_results = []\n",
        "        for tc in tool_calls:\n",
        "            tool_call = {\"name\": tc.name, \"parameters\": tc.parameters}\n",
        "            tool_output = functions_map[tc.name](**tc.parameters)\n",
        "            tool_results.append({\"call\": tool_call, \"outputs\": [tool_output]})\n",
        "\n",
        "        # Step 4: Generate response and citations\n",
        "        response = co.chat(\n",
        "            message=\"\",\n",
        "            model = CFG.model,\n",
        "            preamble=preamble,\n",
        "            tools=tools,\n",
        "            tool_results=tool_results,\n",
        "            chat_history=response.chat_history\n",
        "        )\n",
        "\n",
        "        # Append the current chat turn to the chat history\n",
        "        chat_history = response.chat_history\n",
        "\n",
        "    # Print final response\n",
        "    print(\"Final response:\")\n",
        "    print(response.text)\n",
        "    print(\"=\"*50)\n",
        "\n",
        "    # Print citations (if any)\n",
        "    if response.citations:\n",
        "        print(\"Citations:\")\n",
        "        for citation in response.citations:\n",
        "            print(citation)\n",
        "        print(\"\\nCited Documents:\")\n",
        "        for document in response.documents:\n",
        "            print(document)\n",
        "        print(\"=\"*50)\n",
        "\n",
        "    return chat_history"
      ]
    },
    {
      "cell_type": "markdown",
      "id": "3d694cb2",
      "metadata": {
        "papermill": {
          "duration": 0.006915,
          "end_time": "2024-11-17T23:15:38.932943",
          "exception": false,
          "start_time": "2024-11-17T23:15:38.926028",
          "status": "completed"
        },
        "tags": [],
        "id": "3d694cb2"
      },
      "source": [
        "Ta funkcja `run_assistant` obsługuje interakcję z asystentem AI:\n",
        "\n",
        "Przyjmuje parametry:\n",
        "- `message` - wiadomość od użytkownika\n",
        "- `chat_history` - historia czatu (domyślnie pusta lista)\n",
        "\n",
        "Główne kroki działania:\n",
        "\n",
        "1. Wyświetla pytanie użytkownika\n",
        "\n",
        "2. Generuje wywołania narzędzi:\n",
        "- tworzy odpowiedź używając API Cohere z określonym modelem i narzędziami\n",
        "- jeśli asystent planuje użyć narzędzi, wyświetla plan i szczegóły wywołań\n",
        "\n",
        "3. Wykonuje wywołania narzędzi:\n",
        "- dla każdego wywołania wykonuje odpowiednią funkcję z `functions_map`\n",
        "- zbiera wyniki działania narzędzi\n",
        "\n",
        "4. Generuje końcową odpowiedź:\n",
        "- używa API Cohere z wynikami narzędzi\n",
        "- aktualizuje historię czatu\n",
        "\n",
        "5. Wyświetla:\n",
        "- końcową odpowiedź\n",
        "- cytowania (jeśli występują)\n",
        "- dokumenty źródłowe (jeśli występują)\n",
        "\n",
        "Funkcja zwraca zaktualizowaną historię czatu do wykorzystania w kolejnych interakcjach."
      ]
    },
    {
      "cell_type": "markdown",
      "id": "85b9d068",
      "metadata": {
        "papermill": {
          "duration": 0.006953,
          "end_time": "2024-11-17T23:15:38.947129",
          "exception": false,
          "start_time": "2024-11-17T23:15:38.940176",
          "status": "completed"
        },
        "tags": [],
        "id": "85b9d068"
      },
      "source": [
        "# Setup"
      ]
    },
    {
      "cell_type": "code",
      "execution_count": null,
      "id": "7a0a7902",
      "metadata": {
        "execution": {
          "iopub.execute_input": "2024-11-17T23:15:38.963163Z",
          "iopub.status.busy": "2024-11-17T23:15:38.962764Z",
          "iopub.status.idle": "2024-11-17T23:15:38.968071Z",
          "shell.execute_reply": "2024-11-17T23:15:38.966816Z"
        },
        "papermill": {
          "duration": 0.016106,
          "end_time": "2024-11-17T23:15:38.970360",
          "exception": false,
          "start_time": "2024-11-17T23:15:38.954254",
          "status": "completed"
        },
        "tags": [],
        "id": "7a0a7902"
      },
      "outputs": [],
      "source": [
        "preamble = \"\"\"## Task & Context\n",
        "You are an assistant for an e-commerce company. You will be asked a very wide array of requests \\\n",
        "        on all kinds of topics. You will be equipped with a set of tools, which you use to get your answer. \\\n",
        "        You should focus on serving the user's needs as best you can, which will be wide-ranging.\n",
        "\n",
        "## Style Guide\n",
        "Unless the user asks for a different style of answer, you should answer in full sentences,\\\n",
        "    using proper grammar and spelling.\n",
        "\"\"\""
      ]
    },
    {
      "cell_type": "markdown",
      "id": "b76b4a49",
      "metadata": {
        "papermill": {
          "duration": 0.006891,
          "end_time": "2024-11-17T23:15:38.984659",
          "exception": false,
          "start_time": "2024-11-17T23:15:38.977768",
          "status": "completed"
        },
        "tags": [],
        "id": "b76b4a49"
      },
      "source": [
        "# Single step"
      ]
    },
    {
      "cell_type": "code",
      "execution_count": null,
      "id": "7b3ad26d",
      "metadata": {
        "execution": {
          "iopub.execute_input": "2024-11-17T23:15:39.001076Z",
          "iopub.status.busy": "2024-11-17T23:15:39.000649Z",
          "iopub.status.idle": "2024-11-17T23:15:42.278797Z",
          "shell.execute_reply": "2024-11-17T23:15:42.277375Z"
        },
        "papermill": {
          "duration": 3.289398,
          "end_time": "2024-11-17T23:15:42.281387",
          "exception": false,
          "start_time": "2024-11-17T23:15:38.991989",
          "status": "completed"
        },
        "tags": [],
        "colab": {
          "base_uri": "https://localhost:8080/"
        },
        "id": "7b3ad26d",
        "outputId": "3b96c506-70af-4fb8-d266-60747bcd7baa"
      },
      "outputs": [
        {
          "output_type": "stream",
          "name": "stdout",
          "text": [
            "Question:\n",
            "Can you provide a sales summary for 29th September 2023?\n",
            "--------------------------------------------------\n",
            "Tool calls:\n",
            "Tool name: daily_sales_report | Parameters: {'day': '2023-09-29'}\n",
            "==================================================\n",
            "Final response:\n",
            "On 29 September 2023, we sold 250 units, totalling a revenue of 10,000.\n",
            "==================================================\n",
            "Citations:\n",
            "start=30 end=39 text='250 units' document_ids=['daily_sales_report:0:2:0']\n",
            "start=64 end=70 text='10,000' document_ids=['daily_sales_report:0:2:0']\n",
            "\n",
            "Cited Documents:\n",
            "{'date': '2023-09-29', 'id': 'daily_sales_report:0:2:0', 'summary': 'Total Sales Amount: 10000, Total Units Sold: 250', 'tool_name': 'daily_sales_report'}\n",
            "==================================================\n"
          ]
        }
      ],
      "source": [
        "chat_history = run_assistant(\"Can you provide a sales summary for 29th September 2023?\")"
      ]
    },
    {
      "cell_type": "code",
      "execution_count": null,
      "id": "1b01f6c6",
      "metadata": {
        "execution": {
          "iopub.execute_input": "2024-11-17T23:15:42.299165Z",
          "iopub.status.busy": "2024-11-17T23:15:42.298695Z",
          "iopub.status.idle": "2024-11-17T23:15:42.304627Z",
          "shell.execute_reply": "2024-11-17T23:15:42.303463Z"
        },
        "papermill": {
          "duration": 0.018007,
          "end_time": "2024-11-17T23:15:42.307187",
          "exception": false,
          "start_time": "2024-11-17T23:15:42.289180",
          "status": "completed"
        },
        "tags": [],
        "colab": {
          "base_uri": "https://localhost:8080/"
        },
        "id": "1b01f6c6",
        "outputId": "2ab38243-b431-42ed-97f3-34795309cc3e"
      },
      "outputs": [
        {
          "output_type": "stream",
          "name": "stdout",
          "text": [
            "role='USER' message='Can you provide a sales summary for 29th September 2023?' tool_calls=None \n",
            "\n",
            "role='CHATBOT' message=None tool_calls=[ToolCall(name='daily_sales_report', parameters={'day': '2023-09-29'})] \n",
            "\n",
            "role='TOOL' tool_results=[ToolResult(call=ToolCall(name='daily_sales_report', parameters={'day': '2023-09-29'}), outputs=[{'date': '2023-09-29', 'summary': 'Total Sales Amount: 10000, Total Units Sold: 250'}])] \n",
            "\n",
            "role='CHATBOT' message='On 29 September 2023, we sold 250 units, totalling a revenue of 10,000.' tool_calls=None \n",
            "\n"
          ]
        }
      ],
      "source": [
        "for turn in chat_history:\n",
        "    print(turn,\"\\n\")"
      ]
    },
    {
      "cell_type": "markdown",
      "id": "436f890f",
      "metadata": {
        "papermill": {
          "duration": 0.007612,
          "end_time": "2024-11-17T23:15:42.322455",
          "exception": false,
          "start_time": "2024-11-17T23:15:42.314843",
          "status": "completed"
        },
        "tags": [],
        "id": "436f890f"
      },
      "source": [
        "# Single step - parallel"
      ]
    },
    {
      "cell_type": "code",
      "execution_count": null,
      "id": "26055aeb",
      "metadata": {
        "execution": {
          "iopub.execute_input": "2024-11-17T23:15:42.340468Z",
          "iopub.status.busy": "2024-11-17T23:15:42.340005Z",
          "iopub.status.idle": "2024-11-17T23:15:51.479494Z",
          "shell.execute_reply": "2024-11-17T23:15:51.478170Z"
        },
        "papermill": {
          "duration": 9.151257,
          "end_time": "2024-11-17T23:15:51.482009",
          "exception": false,
          "start_time": "2024-11-17T23:15:42.330752",
          "status": "completed"
        },
        "tags": [],
        "colab": {
          "base_uri": "https://localhost:8080/"
        },
        "id": "26055aeb",
        "outputId": "0737bcc7-81f1-484f-97c3-866732e1dcae"
      },
      "outputs": [
        {
          "output_type": "stream",
          "name": "stdout",
          "text": [
            "Question:\n",
            "Can you provide a sales summary for 28th and 29th September 2023                     as well as the stock level of the products in the 'Electronics' category?\n",
            "--------------------------------------------------\n",
            "Tool calls:\n",
            "Tool name: daily_sales_report | Parameters: {'day': '2023-09-28'}\n",
            "Tool name: daily_sales_report | Parameters: {'day': '2023-09-29'}\n",
            "Tool name: product_database | Parameters: {'category': 'Electronics'}\n",
            "==================================================\n",
            "Final response:\n",
            "On 28 September 2023, the total sales amount was 5000, with 100 units sold. The following day, the total sales amount was 10000, with 250 units sold. \n",
            "\n",
            "Here is the stock level of the products in the 'Electronics' category:\n",
            "- Smartphone (E1001) - 20\n",
            "- Laptop (E1002) - 15\n",
            "- Tablet (E1003) - 25\n",
            "==================================================\n",
            "Citations:\n",
            "start=3 end=20 text='28 September 2023' document_ids=['daily_sales_report:0:2:0']\n",
            "start=26 end=53 text='total sales amount was 5000' document_ids=['daily_sales_report:0:2:0']\n",
            "start=60 end=74 text='100 units sold' document_ids=['daily_sales_report:0:2:0']\n",
            "start=99 end=127 text='total sales amount was 10000' document_ids=['daily_sales_report:1:2:0']\n",
            "start=134 end=148 text='250 units sold' document_ids=['daily_sales_report:1:2:0']\n",
            "start=225 end=248 text='Smartphone (E1001) - 20' document_ids=['product_database:2:2:0']\n",
            "start=251 end=270 text='Laptop (E1002) - 15' document_ids=['product_database:2:2:0']\n",
            "start=273 end=292 text='Tablet (E1003) - 25' document_ids=['product_database:2:2:0']\n",
            "\n",
            "Cited Documents:\n",
            "{'date': '2023-09-28', 'id': 'daily_sales_report:0:2:0', 'summary': 'Total Sales Amount: 5000, Total Units Sold: 100', 'tool_name': 'daily_sales_report'}\n",
            "{'date': '2023-09-29', 'id': 'daily_sales_report:1:2:0', 'summary': 'Total Sales Amount: 10000, Total Units Sold: 250', 'tool_name': 'daily_sales_report'}\n",
            "{'category': 'Electronics', 'id': 'product_database:2:2:0', 'products': '[{\"name\":\"Smartphone\",\"price\":500,\"product_id\":\"E1001\",\"stock_level\":20},{\"name\":\"Laptop\",\"price\":1000,\"product_id\":\"E1002\",\"stock_level\":15},{\"name\":\"Tablet\",\"price\":300,\"product_id\":\"E1003\",\"stock_level\":25}]', 'tool_name': 'product_database'}\n",
            "==================================================\n"
          ]
        }
      ],
      "source": [
        "chat_history = run_assistant(\"Can you provide a sales summary for 28th and 29th September 2023 \\\n",
        "                    as well as the stock level of the products in the 'Electronics' category?\")"
      ]
    },
    {
      "cell_type": "markdown",
      "id": "acd43bda",
      "metadata": {
        "papermill": {
          "duration": 0.008155,
          "end_time": "2024-11-17T23:15:51.498078",
          "exception": false,
          "start_time": "2024-11-17T23:15:51.489923",
          "status": "completed"
        },
        "tags": [],
        "id": "acd43bda"
      },
      "source": [
        "# Direct answer"
      ]
    },
    {
      "cell_type": "markdown",
      "id": "21eda4c6",
      "metadata": {
        "papermill": {
          "duration": 0.00742,
          "end_time": "2024-11-17T23:15:51.513363",
          "exception": false,
          "start_time": "2024-11-17T23:15:51.505943",
          "status": "completed"
        },
        "tags": [],
        "id": "21eda4c6"
      },
      "source": [
        "## Tools not required"
      ]
    },
    {
      "cell_type": "code",
      "execution_count": null,
      "id": "63308711",
      "metadata": {
        "execution": {
          "iopub.execute_input": "2024-11-17T23:15:51.530783Z",
          "iopub.status.busy": "2024-11-17T23:15:51.530360Z",
          "iopub.status.idle": "2024-11-17T23:15:53.684584Z",
          "shell.execute_reply": "2024-11-17T23:15:53.683423Z"
        },
        "papermill": {
          "duration": 2.166024,
          "end_time": "2024-11-17T23:15:53.687208",
          "exception": false,
          "start_time": "2024-11-17T23:15:51.521184",
          "status": "completed"
        },
        "tags": [],
        "colab": {
          "base_uri": "https://localhost:8080/"
        },
        "id": "63308711",
        "outputId": "5d66e680-6745-4fcc-9916-01e373269ab7"
      },
      "outputs": [
        {
          "output_type": "stream",
          "name": "stdout",
          "text": [
            "Question:\n",
            "Give me 3 concise tips on how to build a great company\n",
            "--------------------------------------------------\n",
            "Final response:\n",
            "1. Focus on your customers and their needs\n",
            "2. Hire the right people and treat them well\n",
            "3. Be agile and adapt to change\n",
            "==================================================\n"
          ]
        }
      ],
      "source": [
        "chat_history = run_assistant(\"Give me 3 concise tips on how to build a great company\")\n"
      ]
    },
    {
      "cell_type": "markdown",
      "id": "d95dde24",
      "metadata": {
        "papermill": {
          "duration": 0.008072,
          "end_time": "2024-11-17T23:15:53.703285",
          "exception": false,
          "start_time": "2024-11-17T23:15:53.695213",
          "status": "completed"
        },
        "tags": [],
        "id": "d95dde24"
      },
      "source": [
        "## Required tools NA"
      ]
    },
    {
      "cell_type": "code",
      "execution_count": null,
      "id": "0b73686f",
      "metadata": {
        "execution": {
          "iopub.execute_input": "2024-11-17T23:15:53.722352Z",
          "iopub.status.busy": "2024-11-17T23:15:53.721230Z",
          "iopub.status.idle": "2024-11-17T23:15:55.439209Z",
          "shell.execute_reply": "2024-11-17T23:15:55.437955Z"
        },
        "papermill": {
          "duration": 1.730042,
          "end_time": "2024-11-17T23:15:55.441788",
          "exception": false,
          "start_time": "2024-11-17T23:15:53.711746",
          "status": "completed"
        },
        "tags": [],
        "colab": {
          "base_uri": "https://localhost:8080/"
        },
        "id": "0b73686f",
        "outputId": "63ee4f75-9346-42ba-f29a-bfe5a2124a17"
      },
      "outputs": [
        {
          "output_type": "stream",
          "name": "stdout",
          "text": [
            "Question:\n",
            "How many employees does this company have?\n",
            "--------------------------------------------------\n",
            "Final response:\n",
            "I'm sorry, I don't have access to that information.\n",
            "==================================================\n"
          ]
        }
      ],
      "source": [
        "chat_history = run_assistant(\"How many employees does this company have?\")"
      ]
    },
    {
      "cell_type": "markdown",
      "id": "74e876ba",
      "metadata": {
        "papermill": {
          "duration": 0.007986,
          "end_time": "2024-11-17T23:15:55.458077",
          "exception": false,
          "start_time": "2024-11-17T23:15:55.450091",
          "status": "completed"
        },
        "tags": [],
        "id": "74e876ba"
      },
      "source": [
        "# State management - memory"
      ]
    },
    {
      "cell_type": "code",
      "execution_count": null,
      "id": "698d6128",
      "metadata": {
        "execution": {
          "iopub.execute_input": "2024-11-17T23:15:55.476249Z",
          "iopub.status.busy": "2024-11-17T23:15:55.475842Z",
          "iopub.status.idle": "2024-11-17T23:15:59.911163Z",
          "shell.execute_reply": "2024-11-17T23:15:59.909840Z"
        },
        "papermill": {
          "duration": 4.447303,
          "end_time": "2024-11-17T23:15:59.913501",
          "exception": false,
          "start_time": "2024-11-17T23:15:55.466198",
          "status": "completed"
        },
        "tags": [],
        "colab": {
          "base_uri": "https://localhost:8080/"
        },
        "id": "698d6128",
        "outputId": "61512793-1ae2-41a9-db0d-0f5511d7a58b"
      },
      "outputs": [
        {
          "output_type": "stream",
          "name": "stdout",
          "text": [
            "Question:\n",
            "Can you provide a sales summary for 29th September 2023?\n",
            "--------------------------------------------------\n",
            "Tool calls:\n",
            "Tool name: daily_sales_report | Parameters: {'day': '2023-09-29'}\n",
            "==================================================\n",
            "Final response:\n",
            "On 29 September 2023, we sold 250 units and made a total of $10,000.\n",
            "==================================================\n",
            "Citations:\n",
            "start=30 end=39 text='250 units' document_ids=['daily_sales_report:0:2:0']\n",
            "start=51 end=67 text='total of $10,000' document_ids=['daily_sales_report:0:2:0']\n",
            "\n",
            "Cited Documents:\n",
            "{'date': '2023-09-29', 'id': 'daily_sales_report:0:2:0', 'summary': 'Total Sales Amount: 10000, Total Units Sold: 250', 'tool_name': 'daily_sales_report'}\n",
            "==================================================\n"
          ]
        }
      ],
      "source": [
        "chat_history = run_assistant(\"Can you provide a sales summary for 29th September 2023?\")"
      ]
    },
    {
      "cell_type": "code",
      "execution_count": null,
      "id": "d7faf74d",
      "metadata": {
        "execution": {
          "iopub.execute_input": "2024-11-17T23:15:59.933545Z",
          "iopub.status.busy": "2024-11-17T23:15:59.932415Z",
          "iopub.status.idle": "2024-11-17T23:16:03.238873Z",
          "shell.execute_reply": "2024-11-17T23:16:03.237532Z"
        },
        "papermill": {
          "duration": 3.319072,
          "end_time": "2024-11-17T23:16:03.241717",
          "exception": false,
          "start_time": "2024-11-17T23:15:59.922645",
          "status": "completed"
        },
        "tags": [],
        "colab": {
          "base_uri": "https://localhost:8080/"
        },
        "id": "d7faf74d",
        "outputId": "7608172f-ffe6-4bb2-8a3a-6a04300a8594"
      },
      "outputs": [
        {
          "output_type": "stream",
          "name": "stdout",
          "text": [
            "Question:\n",
            "What about the 28th?\n",
            "--------------------------------------------------\n",
            "Tool calls:\n",
            "Tool name: daily_sales_report | Parameters: {'day': '2023-09-28'}\n",
            "==================================================\n",
            "Final response:\n",
            "On 28 September 2023, we sold 100 units and made a total of $5,000.\n",
            "==================================================\n",
            "Citations:\n",
            "start=30 end=39 text='100 units' document_ids=['daily_sales_report:0:6:0']\n",
            "start=60 end=66 text='$5,000' document_ids=['daily_sales_report:0:6:0']\n",
            "\n",
            "Cited Documents:\n",
            "{'date': '2023-09-28', 'id': 'daily_sales_report:0:6:0', 'summary': 'Total Sales Amount: 5000, Total Units Sold: 100', 'tool_name': 'daily_sales_report'}\n",
            "==================================================\n"
          ]
        }
      ],
      "source": [
        "chat_history = run_assistant(\"What about the 28th?\", chat_history)"
      ]
    },
    {
      "cell_type": "code",
      "execution_count": null,
      "id": "5bdacd58",
      "metadata": {
        "execution": {
          "iopub.execute_input": "2024-11-17T23:16:03.261551Z",
          "iopub.status.busy": "2024-11-17T23:16:03.261105Z",
          "iopub.status.idle": "2024-11-17T23:16:07.180855Z",
          "shell.execute_reply": "2024-11-17T23:16:07.179354Z"
        },
        "papermill": {
          "duration": 3.932987,
          "end_time": "2024-11-17T23:16:07.183844",
          "exception": false,
          "start_time": "2024-11-17T23:16:03.250857",
          "status": "completed"
        },
        "tags": [],
        "colab": {
          "base_uri": "https://localhost:8080/"
        },
        "id": "5bdacd58",
        "outputId": "be947f70-5805-4601-d42b-9a90f425e503"
      },
      "outputs": [
        {
          "output_type": "stream",
          "name": "stdout",
          "text": [
            "Question:\n",
            "How many units were sold over both days\n",
            "--------------------------------------------------\n",
            "Tool calls:\n",
            "Tool name: daily_sales_report | Parameters: {'day': '2023-09-29'}\n",
            "Tool name: daily_sales_report | Parameters: {'day': '2023-09-28'}\n",
            "==================================================\n",
            "Final response:\n",
            "Over the two days, we sold 350 units.\n",
            "==================================================\n",
            "Citations:\n",
            "start=27 end=36 text='350 units' document_ids=['daily_sales_report:0:10:0', 'daily_sales_report:1:10:0']\n",
            "\n",
            "Cited Documents:\n",
            "{'date': '2023-09-29', 'id': 'daily_sales_report:0:10:0', 'summary': 'Total Sales Amount: 10000, Total Units Sold: 250', 'tool_name': 'daily_sales_report'}\n",
            "{'date': '2023-09-28', 'id': 'daily_sales_report:1:10:0', 'summary': 'Total Sales Amount: 5000, Total Units Sold: 100', 'tool_name': 'daily_sales_report'}\n",
            "==================================================\n"
          ]
        }
      ],
      "source": [
        "chat_history = run_assistant(\"How many units were sold over both days\", chat_history)\n"
      ]
    },
    {
      "cell_type": "code",
      "execution_count": null,
      "id": "731fcfc1",
      "metadata": {
        "execution": {
          "iopub.execute_input": "2024-11-17T23:16:07.205094Z",
          "iopub.status.busy": "2024-11-17T23:16:07.204672Z",
          "iopub.status.idle": "2024-11-17T23:16:07.211140Z",
          "shell.execute_reply": "2024-11-17T23:16:07.209995Z"
        },
        "papermill": {
          "duration": 0.019769,
          "end_time": "2024-11-17T23:16:07.213563",
          "exception": false,
          "start_time": "2024-11-17T23:16:07.193794",
          "status": "completed"
        },
        "tags": [],
        "colab": {
          "base_uri": "https://localhost:8080/"
        },
        "id": "731fcfc1",
        "outputId": "8110c80e-c802-4490-a487-74bc486d0643"
      },
      "outputs": [
        {
          "output_type": "stream",
          "name": "stdout",
          "text": [
            "role='USER' message='Can you provide a sales summary for 29th September 2023?' tool_calls=None \n",
            "\n",
            "role='CHATBOT' message=None tool_calls=[ToolCall(name='daily_sales_report', parameters={'day': '2023-09-29'})] \n",
            "\n",
            "role='TOOL' tool_results=[ToolResult(call=ToolCall(name='daily_sales_report', parameters={'day': '2023-09-29'}), outputs=[{'date': '2023-09-29', 'summary': 'Total Sales Amount: 10000, Total Units Sold: 250'}])] \n",
            "\n",
            "role='CHATBOT' message='On 29 September 2023, we sold 250 units and made a total of $10,000.' tool_calls=None \n",
            "\n",
            "role='USER' message='What about the 28th?' tool_calls=None \n",
            "\n",
            "role='CHATBOT' message=None tool_calls=[ToolCall(name='daily_sales_report', parameters={'day': '2023-09-28'})] \n",
            "\n",
            "role='TOOL' tool_results=[ToolResult(call=ToolCall(name='daily_sales_report', parameters={'day': '2023-09-28'}), outputs=[{'date': '2023-09-28', 'summary': 'Total Sales Amount: 5000, Total Units Sold: 100'}])] \n",
            "\n",
            "role='CHATBOT' message='On 28 September 2023, we sold 100 units and made a total of $5,000.' tool_calls=None \n",
            "\n",
            "role='USER' message='How many units were sold over both days' tool_calls=None \n",
            "\n",
            "role='CHATBOT' message=None tool_calls=[ToolCall(name='daily_sales_report', parameters={'day': '2023-09-29'}), ToolCall(name='daily_sales_report', parameters={'day': '2023-09-28'})] \n",
            "\n",
            "role='TOOL' tool_results=[ToolResult(call=ToolCall(name='daily_sales_report', parameters={'day': '2023-09-29'}), outputs=[{'date': '2023-09-29', 'summary': 'Total Sales Amount: 10000, Total Units Sold: 250'}]), ToolResult(call=ToolCall(name='daily_sales_report', parameters={'day': '2023-09-28'}), outputs=[{'date': '2023-09-28', 'summary': 'Total Sales Amount: 5000, Total Units Sold: 100'}])] \n",
            "\n",
            "role='CHATBOT' message='Over the two days, we sold 350 units.' tool_calls=None \n",
            "\n"
          ]
        }
      ],
      "source": [
        "# Print chat history\n",
        "for turn in chat_history:\n",
        "    print(turn,\"\\n\")"
      ]
    }
  ],
  "metadata": {
    "kaggle": {
      "accelerator": "none",
      "dataSources": [],
      "dockerImageVersionId": 30786,
      "isGpuEnabled": false,
      "isInternetEnabled": true,
      "language": "python",
      "sourceType": "notebook"
    },
    "kernelspec": {
      "display_name": "Python 3",
      "language": "python",
      "name": "python3"
    },
    "language_info": {
      "codemirror_mode": {
        "name": "ipython",
        "version": 3
      },
      "file_extension": ".py",
      "mimetype": "text/x-python",
      "name": "python",
      "nbconvert_exporter": "python",
      "pygments_lexer": "ipython3",
      "version": "3.10.14"
    },
    "papermill": {
      "default_parameters": {},
      "duration": 48.631759,
      "end_time": "2024-11-17T23:16:07.844780",
      "environment_variables": {},
      "exception": null,
      "input_path": "__notebook__.ipynb",
      "output_path": "__notebook__.ipynb",
      "parameters": {},
      "start_time": "2024-11-17T23:15:19.213021",
      "version": "2.6.0"
    },
    "colab": {
      "provenance": [],
      "include_colab_link": true
    }
  },
  "nbformat": 4,
  "nbformat_minor": 5
}