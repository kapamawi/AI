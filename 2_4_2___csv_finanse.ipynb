{
  "nbformat": 4,
  "nbformat_minor": 0,
  "metadata": {
    "colab": {
      "provenance": [],
      "include_colab_link": true
    },
    "kernelspec": {
      "name": "python3",
      "display_name": "Python 3"
    },
    "language_info": {
      "name": "python"
    }
  },
  "cells": [
    {
      "cell_type": "markdown",
      "metadata": {
        "id": "view-in-github",
        "colab_type": "text"
      },
      "source": [
        "<a href=\"https://colab.research.google.com/github/kapamawi/AI/blob/main/2_4_2___csv_finanse.ipynb\" target=\"_parent\"><img src=\"https://colab.research.google.com/assets/colab-badge.svg\" alt=\"Open In Colab\"/></a>"
      ]
    },
    {
      "cell_type": "markdown",
      "source": [
        "# Setup"
      ],
      "metadata": {
        "id": "NIFLZfwJDTjM"
      }
    },
    {
      "cell_type": "code",
      "execution_count": null,
      "metadata": {
        "colab": {
          "base_uri": "https://localhost:8080/"
        },
        "id": "k6IsQUhmCl6n",
        "outputId": "7fb289ff-b108-4140-d8e3-a41c497f7b42"
      },
      "outputs": [
        {
          "output_type": "stream",
          "name": "stdout",
          "text": [
            "\u001b[2K     \u001b[90m━━━━━━━━━━━━━━━━━━━━━━━━━━━━━━━━━━━━━━━━\u001b[0m \u001b[32m170.8/170.8 kB\u001b[0m \u001b[31m6.3 MB/s\u001b[0m eta \u001b[36m0:00:00\u001b[0m\n",
            "\u001b[2K   \u001b[90m━━━━━━━━━━━━━━━━━━━━━━━━━━━━━━━━━━━━━━━━\u001b[0m \u001b[32m249.7/249.7 kB\u001b[0m \u001b[31m13.4 MB/s\u001b[0m eta \u001b[36m0:00:00\u001b[0m\n",
            "\u001b[2K   \u001b[90m━━━━━━━━━━━━━━━━━━━━━━━━━━━━━━━━━━━━━━━━\u001b[0m \u001b[32m1.0/1.0 MB\u001b[0m \u001b[31m54.1 MB/s\u001b[0m eta \u001b[36m0:00:00\u001b[0m\n",
            "\u001b[2K   \u001b[90m━━━━━━━━━━━━━━━━━━━━━━━━━━━━━━━━━━━━━━━━\u001b[0m \u001b[32m44.1/44.1 kB\u001b[0m \u001b[31m4.0 MB/s\u001b[0m eta \u001b[36m0:00:00\u001b[0m\n",
            "\u001b[2K   \u001b[90m━━━━━━━━━━━━━━━━━━━━━━━━━━━━━━━━━━━━━━━━\u001b[0m \u001b[32m209.0/209.0 kB\u001b[0m \u001b[31m19.7 MB/s\u001b[0m eta \u001b[36m0:00:00\u001b[0m\n",
            "\u001b[2K   \u001b[90m━━━━━━━━━━━━━━━━━━━━━━━━━━━━━━━━━━━━━━━━\u001b[0m \u001b[32m456.4/456.4 kB\u001b[0m \u001b[31m36.3 MB/s\u001b[0m eta \u001b[36m0:00:00\u001b[0m\n",
            "\u001b[2K   \u001b[90m━━━━━━━━━━━━━━━━━━━━━━━━━━━━━━━━━━━━━━━━\u001b[0m \u001b[32m2.1/2.1 MB\u001b[0m \u001b[31m76.1 MB/s\u001b[0m eta \u001b[36m0:00:00\u001b[0m\n",
            "\u001b[2K   \u001b[90m━━━━━━━━━━━━━━━━━━━━━━━━━━━━━━━━━━━━━━━━\u001b[0m \u001b[32m3.1/3.1 MB\u001b[0m \u001b[31m83.8 MB/s\u001b[0m eta \u001b[36m0:00:00\u001b[0m\n",
            "\u001b[2K   \u001b[90m━━━━━━━━━━━━━━━━━━━━━━━━━━━━━━━━━━━━━━━━\u001b[0m \u001b[32m2.4/2.4 MB\u001b[0m \u001b[31m66.8 MB/s\u001b[0m eta \u001b[36m0:00:00\u001b[0m\n",
            "\u001b[2K   \u001b[90m━━━━━━━━━━━━━━━━━━━━━━━━━━━━━━━━━━━━━━━━\u001b[0m \u001b[32m409.5/409.5 kB\u001b[0m \u001b[31m30.9 MB/s\u001b[0m eta \u001b[36m0:00:00\u001b[0m\n",
            "\u001b[2K   \u001b[90m━━━━━━━━━━━━━━━━━━━━━━━━━━━━━━━━━━━━━━━━\u001b[0m \u001b[32m3.1/3.1 MB\u001b[0m \u001b[31m83.1 MB/s\u001b[0m eta \u001b[36m0:00:00\u001b[0m\n",
            "\u001b[2K   \u001b[90m━━━━━━━━━━━━━━━━━━━━━━━━━━━━━━━━━━━━━━━━\u001b[0m \u001b[32m49.5/49.5 kB\u001b[0m \u001b[31m4.8 MB/s\u001b[0m eta \u001b[36m0:00:00\u001b[0m\n",
            "\u001b[?25h"
          ]
        }
      ],
      "source": [
        "! pip install -qU cohere langchain langchain_cohere langchain_experimental pydantic"
      ]
    },
    {
      "cell_type": "markdown",
      "source": [
        "Ten kod instaluje kilka pakietów Pythona, które są potrzebne do pracy z modelami językowymi i przetwarzaniem tekstu:\n",
        "\n",
        "`pip` to narzędzie do instalacji pakietów Pythona. Flaga `-q` oznacza \"tryb cichy\" - ogranicza wyświetlanie szczegółów procesu instalacji do minimum. Flaga `-U` (lub `--upgrade`) oznacza aktualizację pakietów do najnowszych dostępnych wersji.\n",
        "\n",
        "Instalowane pakiety to:\n",
        "\n",
        "`cohere` - biblioteka umożliwiająca dostęp do modeli językowych firmy Cohere, które mogą być wykorzystane do różnych zadań przetwarzania języka naturalnego.\n",
        "\n",
        "`langchain` - framework ułatwiający budowanie aplikacji wykorzystujących modele językowe. Dostarcza narzędzia do łączenia różnych komponentów w kompleksowe rozwiązania.\n",
        "\n",
        "`langchain_cohere` - moduł integrujący LangChain z modelami Cohere.\n",
        "\n",
        "`langchain_experimental` - zbiór eksperymentalnych funkcji i narzędzi dla LangChain, które są jeszcze w fazie testów.\n",
        "\n",
        "`pydantic` - biblioteka do walidacji danych i zarządzania ustawieniami w Pythonie. Jest często używana z LangChain do definiowania schematów danych i konfiguracji.\n",
        "\n",
        "Kod wykorzystuje wykrzyknik `!` na początku linii - to specjalna składnia używana w środowiskach Jupyter Notebook/Google Colab, która pozwala na wykonywanie poleceń systemowych bezpośrednio w komórce notebooka."
      ],
      "metadata": {
        "id": "YvU5ASZ7Gq13"
      }
    },
    {
      "cell_type": "code",
      "source": [
        "import os\n",
        "from typing import List\n",
        "\n",
        "import cohere\n",
        "import langchain\n",
        "import langchain_core\n",
        "import langchain_experimental\n",
        "import pandas as pd\n",
        "from langchain.agents import Tool\n",
        "from pydantic import BaseModel, Field\n",
        "from langchain_experimental.utilities import PythonREPL\n",
        "from google.colab import userdata"
      ],
      "metadata": {
        "id": "1bGzjtalDFTu"
      },
      "execution_count": null,
      "outputs": []
    },
    {
      "cell_type": "markdown",
      "source": [
        "Ten kod importuje niezbędne biblioteki i komponenty do pracy z modelami językowymi i przetwarzaniem danych.\n",
        "\n",
        "Z biblioteki standardowej Pythona importowany jest moduł `os`, który zapewnia funkcje do interakcji z systemem operacyjnym, oraz `typing` z typem `List`, używanym do precyzyjnego określania typów danych w kodzie.\n",
        "\n",
        "Następnie importowane są główne biblioteki do pracy z modelami językowymi:\n",
        "- `cohere` - dostarcza interfejs do modeli językowych Cohere\n",
        "- `langchain` - framework do budowania aplikacji opartych o modele językowe\n",
        "- `langchain_core` - zawiera podstawowe komponenty LangChain\n",
        "- `langchain_experimental` - moduł z eksperymentalnymi funkcjami LangChain\n",
        "\n",
        "Z biblioteki `pandas` importowany jest główny moduł jako `pd`. Pandas służy do analizy i manipulacji danymi, szczególnie w formie tabel.\n",
        "\n",
        "Z modułu `langchain.agents` importowana jest klasa `Tool`, która pozwala definiować narzędzia używane przez agentów LangChain do wykonywania konkretnych zadań.\n",
        "\n",
        "Z biblioteki `pydantic` importowane są `BaseModel` i `Field`. Pydantic służy do walidacji danych - `BaseModel` to podstawowa klasa do tworzenia modeli danych, a `Field` pozwala określać szczegółowe wymagania dla pól w modelu.\n",
        "\n",
        "Z modułu eksperymentalnego LangChain importowany jest `PythonREPL` - narzędzie pozwalające na wykonywanie kodu Pythona w czasie rzeczywistym.\n",
        "\n",
        "Na końcu z modułu `google.colab` importowana jest funkcjonalność `userdata`, która umożliwia dostęp do danych użytkownika w środowisku Google Colab.\n",
        "\n",
        "Wszystkie te importy tworzą podstawę do budowy systemu, który może łączyć modele językowe z przetwarzaniem danych i wykonywaniem kodu Pythona."
      ],
      "metadata": {
        "id": "ZseJxiqhHVpW"
      }
    },
    {
      "cell_type": "code",
      "source": [
        "class CFG:\n",
        "  model = \"command-r-plus\"\n",
        "  temperature = 0.1"
      ],
      "metadata": {
        "id": "qXa3F_5SDSsJ"
      },
      "execution_count": null,
      "outputs": []
    },
    {
      "cell_type": "markdown",
      "source": [
        "Ta klasa `CFG` służy do przechowywania konfiguracji systemu. Jest to prosty sposób na zebranie w jednym miejscu parametrów, które będą wpływać na działanie modelu językowego.\n",
        "\n",
        "Zdefiniowane są w niej dwa parametry:\n",
        "\n",
        "`model = \"command-r-plus\"` określa, który model będzie używany do przetwarzania tekstu. \"Command-r-plus\" to konkretna wersja modelu, która została wybrana do tego zadania. Jest to istotne, ponieważ różne modele mogą mieć różne możliwości i charakterystyki działania.\n",
        "\n",
        "`temperature = 0.1` kontroluje \"kreatywność\" modelu językowego. Temperatura 0.1 jest stosunkowo niska, co oznacza, że model będzie generował bardziej przewidywalne i spójne odpowiedzi.  \n",
        "\n",
        "Umieszczenie tych parametrów w osobnej klasie konfiguracyjnej to dobra praktyka programistyczna - ułatwia zarządzanie ustawieniami i ich ewentualną zmianę w przyszłości. Zamiast szukać i modyfikować wartości w różnych miejscach kodu, mamy jeden centralny punkt kontroli nad zachowaniem systemu."
      ],
      "metadata": {
        "id": "dv5r8ozZJGwE"
      }
    },
    {
      "cell_type": "code",
      "source": [
        "# api keys\n",
        "os.environ['COHERE_API_KEY'] = userdata.get('cohereprod')\n",
        "co = cohere.Client(api_key= userdata.get('cohereprod'))"
      ],
      "metadata": {
        "id": "AOEET4agDHtK"
      },
      "execution_count": null,
      "outputs": []
    },
    {
      "cell_type": "markdown",
      "source": [
        "\n",
        "Te linie kodu konfigurują dostęp do API Cohere.\n",
        "\n",
        "Pierwsza linia ustawia klucz API Cohere jako zmienną środowiskową. Używa do tego funkcji `userdata.get('cohereprod')`, która pobiera zapisany wcześniej klucz API ze specjalnego miejsca w Google Colab, gdzie przechowywane są poufne dane użytkownika. Dzięki temu klucz API nie jest zapisany bezpośrednio w kodzie, co jest bezpieczniejszym rozwiązaniem.\n",
        "\n",
        "Druga linia tworzy obiekt klienta Cohere (`co`), który będzie używany do komunikacji z API. Ten obiekt jest inicjalizowany tym samym kluczem API. Po utworzeniu tego obiektu można go używać do wysyłania zapytań do modeli językowych Cohere.\n",
        "\n",
        "Ustawienie klucza API jako zmiennej środowiskowej jest przydatne, ponieważ wiele bibliotek automatycznie szuka go właśnie w zmiennych środowiskowych. Natomiast utworzenie obiektu klienta jest niezbędne do bezpośredniej interakcji z API Cohere."
      ],
      "metadata": {
        "id": "7CRntbydJIpl"
      }
    },
    {
      "cell_type": "markdown",
      "source": [
        "# Data"
      ],
      "metadata": {
        "id": "slhwzSLsEso_"
      }
    },
    {
      "cell_type": "code",
      "source": [
        "income_statement = pd.read_csv('/content/income_statement.csv')\n",
        "balance_sheet = pd.read_csv('/content/balance_sheet.csv')"
      ],
      "metadata": {
        "id": "N4Wob6tIEv34"
      },
      "execution_count": null,
      "outputs": []
    },
    {
      "cell_type": "code",
      "source": [
        "income_statement.head(2)"
      ],
      "metadata": {
        "colab": {
          "base_uri": "https://localhost:8080/",
          "height": 254
        },
        "id": "sucq7HXuE3Od",
        "outputId": "6e3e6051-1b92-4324-fab4-ea5454966470"
      },
      "execution_count": null,
      "outputs": [
        {
          "output_type": "execute_result",
          "data": {
            "text/plain": [
              "   Unnamed: 0                  index  \\\n",
              "0           0  2017-10-01-2018-09-29   \n",
              "1           1  2018-09-30-2018-12-29   \n",
              "\n",
              "   RevenueFromContractWithCustomerExcludingAssessedTax  \\\n",
              "0                                       265595000000     \n",
              "1                                        84310000000     \n",
              "\n",
              "   CostOfGoodsAndServicesSold   GrossProfit  ResearchAndDevelopmentExpense  \\\n",
              "0                1.637560e+11  101839000000                   1.423600e+10   \n",
              "1                         NaN   32031000000                            NaN   \n",
              "\n",
              "   SellingGeneralAndAdministrativeExpense  OperatingExpenses  \\\n",
              "0                            1.670500e+10       3.094100e+10   \n",
              "1                                     NaN                NaN   \n",
              "\n",
              "   OperatingIncomeLoss  NonoperatingIncomeExpense  \\\n",
              "0         7.089800e+10               2.005000e+09   \n",
              "1                  NaN                        NaN   \n",
              "\n",
              "   IncomeLossFromContinuingOperationsBeforeIncomeTaxesExtraordinaryItemsNoncontrollingInterest  \\\n",
              "0                                       7.290300e+10                                             \n",
              "1                                                NaN                                             \n",
              "\n",
              "   IncomeTaxExpenseBenefit  NetIncomeLoss  EarningsPerShareBasic  \\\n",
              "0             1.337200e+10    59531000000                   3.00   \n",
              "1                      NaN    19965000000                   1.05   \n",
              "\n",
              "   EarningsPerShareDiluted  WeightedAverageNumberOfSharesOutstandingBasic  \\\n",
              "0                     2.98                                   1.982151e+10   \n",
              "1                     1.05                                            NaN   \n",
              "\n",
              "   WeightedAverageNumberOfDilutedSharesOutstanding  \n",
              "0                                     2.000044e+10  \n",
              "1                                              NaN  "
            ],
            "text/html": [
              "\n",
              "  <div id=\"df-4fea4513-6f15-458a-bd82-7ef00814d1a3\" class=\"colab-df-container\">\n",
              "    <div>\n",
              "<style scoped>\n",
              "    .dataframe tbody tr th:only-of-type {\n",
              "        vertical-align: middle;\n",
              "    }\n",
              "\n",
              "    .dataframe tbody tr th {\n",
              "        vertical-align: top;\n",
              "    }\n",
              "\n",
              "    .dataframe thead th {\n",
              "        text-align: right;\n",
              "    }\n",
              "</style>\n",
              "<table border=\"1\" class=\"dataframe\">\n",
              "  <thead>\n",
              "    <tr style=\"text-align: right;\">\n",
              "      <th></th>\n",
              "      <th>Unnamed: 0</th>\n",
              "      <th>index</th>\n",
              "      <th>RevenueFromContractWithCustomerExcludingAssessedTax</th>\n",
              "      <th>CostOfGoodsAndServicesSold</th>\n",
              "      <th>GrossProfit</th>\n",
              "      <th>ResearchAndDevelopmentExpense</th>\n",
              "      <th>SellingGeneralAndAdministrativeExpense</th>\n",
              "      <th>OperatingExpenses</th>\n",
              "      <th>OperatingIncomeLoss</th>\n",
              "      <th>NonoperatingIncomeExpense</th>\n",
              "      <th>IncomeLossFromContinuingOperationsBeforeIncomeTaxesExtraordinaryItemsNoncontrollingInterest</th>\n",
              "      <th>IncomeTaxExpenseBenefit</th>\n",
              "      <th>NetIncomeLoss</th>\n",
              "      <th>EarningsPerShareBasic</th>\n",
              "      <th>EarningsPerShareDiluted</th>\n",
              "      <th>WeightedAverageNumberOfSharesOutstandingBasic</th>\n",
              "      <th>WeightedAverageNumberOfDilutedSharesOutstanding</th>\n",
              "    </tr>\n",
              "  </thead>\n",
              "  <tbody>\n",
              "    <tr>\n",
              "      <th>0</th>\n",
              "      <td>0</td>\n",
              "      <td>2017-10-01-2018-09-29</td>\n",
              "      <td>265595000000</td>\n",
              "      <td>1.637560e+11</td>\n",
              "      <td>101839000000</td>\n",
              "      <td>1.423600e+10</td>\n",
              "      <td>1.670500e+10</td>\n",
              "      <td>3.094100e+10</td>\n",
              "      <td>7.089800e+10</td>\n",
              "      <td>2.005000e+09</td>\n",
              "      <td>7.290300e+10</td>\n",
              "      <td>1.337200e+10</td>\n",
              "      <td>59531000000</td>\n",
              "      <td>3.00</td>\n",
              "      <td>2.98</td>\n",
              "      <td>1.982151e+10</td>\n",
              "      <td>2.000044e+10</td>\n",
              "    </tr>\n",
              "    <tr>\n",
              "      <th>1</th>\n",
              "      <td>1</td>\n",
              "      <td>2018-09-30-2018-12-29</td>\n",
              "      <td>84310000000</td>\n",
              "      <td>NaN</td>\n",
              "      <td>32031000000</td>\n",
              "      <td>NaN</td>\n",
              "      <td>NaN</td>\n",
              "      <td>NaN</td>\n",
              "      <td>NaN</td>\n",
              "      <td>NaN</td>\n",
              "      <td>NaN</td>\n",
              "      <td>NaN</td>\n",
              "      <td>19965000000</td>\n",
              "      <td>1.05</td>\n",
              "      <td>1.05</td>\n",
              "      <td>NaN</td>\n",
              "      <td>NaN</td>\n",
              "    </tr>\n",
              "  </tbody>\n",
              "</table>\n",
              "</div>\n",
              "    <div class=\"colab-df-buttons\">\n",
              "\n",
              "  <div class=\"colab-df-container\">\n",
              "    <button class=\"colab-df-convert\" onclick=\"convertToInteractive('df-4fea4513-6f15-458a-bd82-7ef00814d1a3')\"\n",
              "            title=\"Convert this dataframe to an interactive table.\"\n",
              "            style=\"display:none;\">\n",
              "\n",
              "  <svg xmlns=\"http://www.w3.org/2000/svg\" height=\"24px\" viewBox=\"0 -960 960 960\">\n",
              "    <path d=\"M120-120v-720h720v720H120Zm60-500h600v-160H180v160Zm220 220h160v-160H400v160Zm0 220h160v-160H400v160ZM180-400h160v-160H180v160Zm440 0h160v-160H620v160ZM180-180h160v-160H180v160Zm440 0h160v-160H620v160Z\"/>\n",
              "  </svg>\n",
              "    </button>\n",
              "\n",
              "  <style>\n",
              "    .colab-df-container {\n",
              "      display:flex;\n",
              "      gap: 12px;\n",
              "    }\n",
              "\n",
              "    .colab-df-convert {\n",
              "      background-color: #E8F0FE;\n",
              "      border: none;\n",
              "      border-radius: 50%;\n",
              "      cursor: pointer;\n",
              "      display: none;\n",
              "      fill: #1967D2;\n",
              "      height: 32px;\n",
              "      padding: 0 0 0 0;\n",
              "      width: 32px;\n",
              "    }\n",
              "\n",
              "    .colab-df-convert:hover {\n",
              "      background-color: #E2EBFA;\n",
              "      box-shadow: 0px 1px 2px rgba(60, 64, 67, 0.3), 0px 1px 3px 1px rgba(60, 64, 67, 0.15);\n",
              "      fill: #174EA6;\n",
              "    }\n",
              "\n",
              "    .colab-df-buttons div {\n",
              "      margin-bottom: 4px;\n",
              "    }\n",
              "\n",
              "    [theme=dark] .colab-df-convert {\n",
              "      background-color: #3B4455;\n",
              "      fill: #D2E3FC;\n",
              "    }\n",
              "\n",
              "    [theme=dark] .colab-df-convert:hover {\n",
              "      background-color: #434B5C;\n",
              "      box-shadow: 0px 1px 3px 1px rgba(0, 0, 0, 0.15);\n",
              "      filter: drop-shadow(0px 1px 2px rgba(0, 0, 0, 0.3));\n",
              "      fill: #FFFFFF;\n",
              "    }\n",
              "  </style>\n",
              "\n",
              "    <script>\n",
              "      const buttonEl =\n",
              "        document.querySelector('#df-4fea4513-6f15-458a-bd82-7ef00814d1a3 button.colab-df-convert');\n",
              "      buttonEl.style.display =\n",
              "        google.colab.kernel.accessAllowed ? 'block' : 'none';\n",
              "\n",
              "      async function convertToInteractive(key) {\n",
              "        const element = document.querySelector('#df-4fea4513-6f15-458a-bd82-7ef00814d1a3');\n",
              "        const dataTable =\n",
              "          await google.colab.kernel.invokeFunction('convertToInteractive',\n",
              "                                                    [key], {});\n",
              "        if (!dataTable) return;\n",
              "\n",
              "        const docLinkHtml = 'Like what you see? Visit the ' +\n",
              "          '<a target=\"_blank\" href=https://colab.research.google.com/notebooks/data_table.ipynb>data table notebook</a>'\n",
              "          + ' to learn more about interactive tables.';\n",
              "        element.innerHTML = '';\n",
              "        dataTable['output_type'] = 'display_data';\n",
              "        await google.colab.output.renderOutput(dataTable, element);\n",
              "        const docLink = document.createElement('div');\n",
              "        docLink.innerHTML = docLinkHtml;\n",
              "        element.appendChild(docLink);\n",
              "      }\n",
              "    </script>\n",
              "  </div>\n",
              "\n",
              "\n",
              "<div id=\"df-c029e9df-ea87-4aef-af31-a8cb0619c6a8\">\n",
              "  <button class=\"colab-df-quickchart\" onclick=\"quickchart('df-c029e9df-ea87-4aef-af31-a8cb0619c6a8')\"\n",
              "            title=\"Suggest charts\"\n",
              "            style=\"display:none;\">\n",
              "\n",
              "<svg xmlns=\"http://www.w3.org/2000/svg\" height=\"24px\"viewBox=\"0 0 24 24\"\n",
              "     width=\"24px\">\n",
              "    <g>\n",
              "        <path d=\"M19 3H5c-1.1 0-2 .9-2 2v14c0 1.1.9 2 2 2h14c1.1 0 2-.9 2-2V5c0-1.1-.9-2-2-2zM9 17H7v-7h2v7zm4 0h-2V7h2v10zm4 0h-2v-4h2v4z\"/>\n",
              "    </g>\n",
              "</svg>\n",
              "  </button>\n",
              "\n",
              "<style>\n",
              "  .colab-df-quickchart {\n",
              "      --bg-color: #E8F0FE;\n",
              "      --fill-color: #1967D2;\n",
              "      --hover-bg-color: #E2EBFA;\n",
              "      --hover-fill-color: #174EA6;\n",
              "      --disabled-fill-color: #AAA;\n",
              "      --disabled-bg-color: #DDD;\n",
              "  }\n",
              "\n",
              "  [theme=dark] .colab-df-quickchart {\n",
              "      --bg-color: #3B4455;\n",
              "      --fill-color: #D2E3FC;\n",
              "      --hover-bg-color: #434B5C;\n",
              "      --hover-fill-color: #FFFFFF;\n",
              "      --disabled-bg-color: #3B4455;\n",
              "      --disabled-fill-color: #666;\n",
              "  }\n",
              "\n",
              "  .colab-df-quickchart {\n",
              "    background-color: var(--bg-color);\n",
              "    border: none;\n",
              "    border-radius: 50%;\n",
              "    cursor: pointer;\n",
              "    display: none;\n",
              "    fill: var(--fill-color);\n",
              "    height: 32px;\n",
              "    padding: 0;\n",
              "    width: 32px;\n",
              "  }\n",
              "\n",
              "  .colab-df-quickchart:hover {\n",
              "    background-color: var(--hover-bg-color);\n",
              "    box-shadow: 0 1px 2px rgba(60, 64, 67, 0.3), 0 1px 3px 1px rgba(60, 64, 67, 0.15);\n",
              "    fill: var(--button-hover-fill-color);\n",
              "  }\n",
              "\n",
              "  .colab-df-quickchart-complete:disabled,\n",
              "  .colab-df-quickchart-complete:disabled:hover {\n",
              "    background-color: var(--disabled-bg-color);\n",
              "    fill: var(--disabled-fill-color);\n",
              "    box-shadow: none;\n",
              "  }\n",
              "\n",
              "  .colab-df-spinner {\n",
              "    border: 2px solid var(--fill-color);\n",
              "    border-color: transparent;\n",
              "    border-bottom-color: var(--fill-color);\n",
              "    animation:\n",
              "      spin 1s steps(1) infinite;\n",
              "  }\n",
              "\n",
              "  @keyframes spin {\n",
              "    0% {\n",
              "      border-color: transparent;\n",
              "      border-bottom-color: var(--fill-color);\n",
              "      border-left-color: var(--fill-color);\n",
              "    }\n",
              "    20% {\n",
              "      border-color: transparent;\n",
              "      border-left-color: var(--fill-color);\n",
              "      border-top-color: var(--fill-color);\n",
              "    }\n",
              "    30% {\n",
              "      border-color: transparent;\n",
              "      border-left-color: var(--fill-color);\n",
              "      border-top-color: var(--fill-color);\n",
              "      border-right-color: var(--fill-color);\n",
              "    }\n",
              "    40% {\n",
              "      border-color: transparent;\n",
              "      border-right-color: var(--fill-color);\n",
              "      border-top-color: var(--fill-color);\n",
              "    }\n",
              "    60% {\n",
              "      border-color: transparent;\n",
              "      border-right-color: var(--fill-color);\n",
              "    }\n",
              "    80% {\n",
              "      border-color: transparent;\n",
              "      border-right-color: var(--fill-color);\n",
              "      border-bottom-color: var(--fill-color);\n",
              "    }\n",
              "    90% {\n",
              "      border-color: transparent;\n",
              "      border-bottom-color: var(--fill-color);\n",
              "    }\n",
              "  }\n",
              "</style>\n",
              "\n",
              "  <script>\n",
              "    async function quickchart(key) {\n",
              "      const quickchartButtonEl =\n",
              "        document.querySelector('#' + key + ' button');\n",
              "      quickchartButtonEl.disabled = true;  // To prevent multiple clicks.\n",
              "      quickchartButtonEl.classList.add('colab-df-spinner');\n",
              "      try {\n",
              "        const charts = await google.colab.kernel.invokeFunction(\n",
              "            'suggestCharts', [key], {});\n",
              "      } catch (error) {\n",
              "        console.error('Error during call to suggestCharts:', error);\n",
              "      }\n",
              "      quickchartButtonEl.classList.remove('colab-df-spinner');\n",
              "      quickchartButtonEl.classList.add('colab-df-quickchart-complete');\n",
              "    }\n",
              "    (() => {\n",
              "      let quickchartButtonEl =\n",
              "        document.querySelector('#df-c029e9df-ea87-4aef-af31-a8cb0619c6a8 button');\n",
              "      quickchartButtonEl.style.display =\n",
              "        google.colab.kernel.accessAllowed ? 'block' : 'none';\n",
              "    })();\n",
              "  </script>\n",
              "</div>\n",
              "\n",
              "    </div>\n",
              "  </div>\n"
            ],
            "application/vnd.google.colaboratory.intrinsic+json": {
              "type": "dataframe",
              "variable_name": "income_statement",
              "summary": "{\n  \"name\": \"income_statement\",\n  \"rows\": 11,\n  \"fields\": [\n    {\n      \"column\": \"Unnamed: 0\",\n      \"properties\": {\n        \"dtype\": \"number\",\n        \"std\": 3,\n        \"min\": 0,\n        \"max\": 10,\n        \"num_unique_values\": 11,\n        \"samples\": [\n          5,\n          0,\n          9\n        ],\n        \"semantic_type\": \"\",\n        \"description\": \"\"\n      }\n    },\n    {\n      \"column\": \"index\",\n      \"properties\": {\n        \"dtype\": \"string\",\n        \"num_unique_values\": 11,\n        \"samples\": [\n          \"2019-06-30-2019-09-28\",\n          \"2017-10-01-2018-09-29\",\n          \"2020-03-29-2020-06-27\"\n        ],\n        \"semantic_type\": \"\",\n        \"description\": \"\"\n      }\n    },\n    {\n      \"column\": \"RevenueFromContractWithCustomerExcludingAssessedTax\",\n      \"properties\": {\n        \"dtype\": \"number\",\n        \"std\": 94141122850,\n        \"min\": 53809000000,\n        \"max\": 274515000000,\n        \"num_unique_values\": 11,\n        \"samples\": [\n          64040000000,\n          265595000000,\n          59685000000\n        ],\n        \"semantic_type\": \"\",\n        \"description\": \"\"\n      }\n    },\n    {\n      \"column\": \"CostOfGoodsAndServicesSold\",\n      \"properties\": {\n        \"dtype\": \"number\",\n        \"std\": 4042548989.602146,\n        \"min\": 161782000000.0,\n        \"max\": 169559000000.0,\n        \"num_unique_values\": 3,\n        \"samples\": [\n          163756000000.0,\n          161782000000.0,\n          169559000000.0\n        ],\n        \"semantic_type\": \"\",\n        \"description\": \"\"\n      }\n    },\n    {\n      \"column\": \"GrossProfit\",\n      \"properties\": {\n        \"dtype\": \"number\",\n        \"std\": 35951499174,\n        \"min\": 20227000000,\n        \"max\": 104956000000,\n        \"num_unique_values\": 11,\n        \"samples\": [\n          24313000000,\n          101839000000,\n          22680000000\n        ],\n        \"semantic_type\": \"\",\n        \"description\": \"\"\n      }\n    },\n    {\n      \"column\": \"ResearchAndDevelopmentExpense\",\n      \"properties\": {\n        \"dtype\": \"number\",\n        \"std\": 2263656407.967723,\n        \"min\": 14236000000.0,\n        \"max\": 18752000000.0,\n        \"num_unique_values\": 3,\n        \"samples\": [\n          14236000000.0,\n          16217000000.0,\n          18752000000.0\n        ],\n        \"semantic_type\": \"\",\n        \"description\": \"\"\n      }\n    },\n    {\n      \"column\": \"SellingGeneralAndAdministrativeExpense\",\n      \"properties\": {\n        \"dtype\": \"number\",\n        \"std\": 1605945308.3257017,\n        \"min\": 16705000000.0,\n        \"max\": 19916000000.0,\n        \"num_unique_values\": 3,\n        \"samples\": [\n          16705000000.0,\n          18245000000.0,\n          19916000000.0\n        ],\n        \"semantic_type\": \"\",\n        \"description\": \"\"\n      }\n    },\n    {\n      \"column\": \"OperatingExpenses\",\n      \"properties\": {\n        \"dtype\": \"number\",\n        \"std\": 3868557138.434604,\n        \"min\": 30941000000.0,\n        \"max\": 38668000000.0,\n        \"num_unique_values\": 3,\n        \"samples\": [\n          30941000000.0,\n          34462000000.0,\n          38668000000.0\n        ],\n        \"semantic_type\": \"\",\n        \"description\": \"\"\n      }\n    },\n    {\n      \"column\": \"OperatingIncomeLoss\",\n      \"properties\": {\n        \"dtype\": \"number\",\n        \"std\": 3544133368.446133,\n        \"min\": 63930000000.0,\n        \"max\": 70898000000.0,\n        \"num_unique_values\": 3,\n        \"samples\": [\n          70898000000.0,\n          63930000000.0,\n          66288000000.0\n        ],\n        \"semantic_type\": \"\",\n        \"description\": \"\"\n      }\n    },\n    {\n      \"column\": \"NonoperatingIncomeExpense\",\n      \"properties\": {\n        \"dtype\": \"number\",\n        \"std\": 644466704.5963922,\n        \"min\": 803000000.0,\n        \"max\": 2005000000.0,\n        \"num_unique_values\": 3,\n        \"samples\": [\n          2005000000.0,\n          1807000000.0,\n          803000000.0\n        ],\n        \"semantic_type\": \"\",\n        \"description\": \"\"\n      }\n    },\n    {\n      \"column\": \"IncomeLossFromContinuingOperationsBeforeIncomeTaxesExtraordinaryItemsNoncontrollingInterest\",\n      \"properties\": {\n        \"dtype\": \"number\",\n        \"std\": 3807103360.824342,\n        \"min\": 65737000000.0,\n        \"max\": 72903000000.0,\n        \"num_unique_values\": 3,\n        \"samples\": [\n          72903000000.0,\n          65737000000.0,\n          67091000000.0\n        ],\n        \"semantic_type\": \"\",\n        \"description\": \"\"\n      }\n    },\n    {\n      \"column\": \"IncomeTaxExpenseBenefit\",\n      \"properties\": {\n        \"dtype\": \"number\",\n        \"std\": 1942092771.5568414,\n        \"min\": 9680000000.0,\n        \"max\": 13372000000.0,\n        \"num_unique_values\": 3,\n        \"samples\": [\n          13372000000.0,\n          10481000000.0,\n          9680000000.0\n        ],\n        \"semantic_type\": \"\",\n        \"description\": \"\"\n      }\n    },\n    {\n      \"column\": \"NetIncomeLoss\",\n      \"properties\": {\n        \"dtype\": \"number\",\n        \"std\": 20602796945,\n        \"min\": 10044000000,\n        \"max\": 59531000000,\n        \"num_unique_values\": 11,\n        \"samples\": [\n          13686000000,\n          59531000000,\n          11253000000\n        ],\n        \"semantic_type\": \"\",\n        \"description\": \"\"\n      }\n    },\n    {\n      \"column\": \"EarningsPerShareBasic\",\n      \"properties\": {\n        \"dtype\": \"number\",\n        \"std\": 1.1041681360767812,\n        \"min\": 0.55,\n        \"max\": 3.31,\n        \"num_unique_values\": 11,\n        \"samples\": [\n          0.76,\n          3.0,\n          0.65\n        ],\n        \"semantic_type\": \"\",\n        \"description\": \"\"\n      }\n    },\n    {\n      \"column\": \"EarningsPerShareDiluted\",\n      \"properties\": {\n        \"dtype\": \"number\",\n        \"std\": 1.094781007574325,\n        \"min\": 0.55,\n        \"max\": 3.28,\n        \"num_unique_values\": 11,\n        \"samples\": [\n          0.76,\n          2.98,\n          0.65\n        ],\n        \"semantic_type\": \"\",\n        \"description\": \"\"\n      }\n    },\n    {\n      \"column\": \"WeightedAverageNumberOfSharesOutstandingBasic\",\n      \"properties\": {\n        \"dtype\": \"number\",\n        \"std\": 1236494267.020407,\n        \"min\": 17352119000.0,\n        \"max\": 19821510000.0,\n        \"num_unique_values\": 3,\n        \"samples\": [\n          19821510000.0,\n          18471336000.0,\n          17352119000.0\n        ],\n        \"semantic_type\": \"\",\n        \"description\": \"\"\n      }\n    },\n    {\n      \"column\": \"WeightedAverageNumberOfDilutedSharesOutstanding\",\n      \"properties\": {\n        \"dtype\": \"number\",\n        \"std\": 1239940624.1473823,\n        \"min\": 17528214000.0,\n        \"max\": 20000435000.0,\n        \"num_unique_values\": 3,\n        \"samples\": [\n          20000435000.0,\n          18595651000.0,\n          17528214000.0\n        ],\n        \"semantic_type\": \"\",\n        \"description\": \"\"\n      }\n    }\n  ]\n}"
            }
          },
          "metadata": {},
          "execution_count": 6
        }
      ]
    },
    {
      "cell_type": "code",
      "source": [
        "balance_sheet.head(2)"
      ],
      "metadata": {
        "colab": {
          "base_uri": "https://localhost:8080/",
          "height": 214
        },
        "id": "2luDx7evE4ZZ",
        "outputId": "90c02029-9563-4216-e199-cc6caf3eb89a"
      },
      "execution_count": null,
      "outputs": [
        {
          "output_type": "execute_result",
          "data": {
            "text/plain": [
              "   Unnamed: 0       index  CashAndCashEquivalentsAtCarryingValue  \\\n",
              "0           0  2017-09-30                                    NaN   \n",
              "1           1  2018-09-29                                    NaN   \n",
              "\n",
              "   MarketableSecuritiesCurrent  AccountsReceivableNetCurrent  InventoryNet  \\\n",
              "0                          NaN                           NaN           NaN   \n",
              "1                          NaN                           NaN           NaN   \n",
              "\n",
              "   NontradeReceivablesCurrent  OtherAssetsCurrent  AssetsCurrent  \\\n",
              "0                         NaN                 NaN            NaN   \n",
              "1                         NaN                 NaN            NaN   \n",
              "\n",
              "   MarketableSecuritiesNoncurrent  ...  LongTermDebtNoncurrent  \\\n",
              "0                             NaN  ...                     NaN   \n",
              "1                             NaN  ...                     NaN   \n",
              "\n",
              "   OtherLiabilitiesNoncurrent  LiabilitiesNoncurrent  Liabilities  \\\n",
              "0                         NaN                    NaN          NaN   \n",
              "1                         NaN                    NaN          NaN   \n",
              "\n",
              "   CommitmentsAndContingencies  CommonStocksIncludingAdditionalPaidInCapital  \\\n",
              "0                          NaN                                           NaN   \n",
              "1                          NaN                                           NaN   \n",
              "\n",
              "   RetainedEarningsAccumulatedDeficit  \\\n",
              "0                                 NaN   \n",
              "1                                 NaN   \n",
              "\n",
              "   AccumulatedOtherComprehensiveIncomeLossNetOfTax  StockholdersEquity  \\\n",
              "0                                              NaN        134047000000   \n",
              "1                                              NaN        107147000000   \n",
              "\n",
              "   LiabilitiesAndStockholdersEquity  \n",
              "0                               NaN  \n",
              "1                               NaN  \n",
              "\n",
              "[2 rows x 30 columns]"
            ],
            "text/html": [
              "\n",
              "  <div id=\"df-fb5f18e8-6efd-423f-a71b-1767f7a76b7d\" class=\"colab-df-container\">\n",
              "    <div>\n",
              "<style scoped>\n",
              "    .dataframe tbody tr th:only-of-type {\n",
              "        vertical-align: middle;\n",
              "    }\n",
              "\n",
              "    .dataframe tbody tr th {\n",
              "        vertical-align: top;\n",
              "    }\n",
              "\n",
              "    .dataframe thead th {\n",
              "        text-align: right;\n",
              "    }\n",
              "</style>\n",
              "<table border=\"1\" class=\"dataframe\">\n",
              "  <thead>\n",
              "    <tr style=\"text-align: right;\">\n",
              "      <th></th>\n",
              "      <th>Unnamed: 0</th>\n",
              "      <th>index</th>\n",
              "      <th>CashAndCashEquivalentsAtCarryingValue</th>\n",
              "      <th>MarketableSecuritiesCurrent</th>\n",
              "      <th>AccountsReceivableNetCurrent</th>\n",
              "      <th>InventoryNet</th>\n",
              "      <th>NontradeReceivablesCurrent</th>\n",
              "      <th>OtherAssetsCurrent</th>\n",
              "      <th>AssetsCurrent</th>\n",
              "      <th>MarketableSecuritiesNoncurrent</th>\n",
              "      <th>...</th>\n",
              "      <th>LongTermDebtNoncurrent</th>\n",
              "      <th>OtherLiabilitiesNoncurrent</th>\n",
              "      <th>LiabilitiesNoncurrent</th>\n",
              "      <th>Liabilities</th>\n",
              "      <th>CommitmentsAndContingencies</th>\n",
              "      <th>CommonStocksIncludingAdditionalPaidInCapital</th>\n",
              "      <th>RetainedEarningsAccumulatedDeficit</th>\n",
              "      <th>AccumulatedOtherComprehensiveIncomeLossNetOfTax</th>\n",
              "      <th>StockholdersEquity</th>\n",
              "      <th>LiabilitiesAndStockholdersEquity</th>\n",
              "    </tr>\n",
              "  </thead>\n",
              "  <tbody>\n",
              "    <tr>\n",
              "      <th>0</th>\n",
              "      <td>0</td>\n",
              "      <td>2017-09-30</td>\n",
              "      <td>NaN</td>\n",
              "      <td>NaN</td>\n",
              "      <td>NaN</td>\n",
              "      <td>NaN</td>\n",
              "      <td>NaN</td>\n",
              "      <td>NaN</td>\n",
              "      <td>NaN</td>\n",
              "      <td>NaN</td>\n",
              "      <td>...</td>\n",
              "      <td>NaN</td>\n",
              "      <td>NaN</td>\n",
              "      <td>NaN</td>\n",
              "      <td>NaN</td>\n",
              "      <td>NaN</td>\n",
              "      <td>NaN</td>\n",
              "      <td>NaN</td>\n",
              "      <td>NaN</td>\n",
              "      <td>134047000000</td>\n",
              "      <td>NaN</td>\n",
              "    </tr>\n",
              "    <tr>\n",
              "      <th>1</th>\n",
              "      <td>1</td>\n",
              "      <td>2018-09-29</td>\n",
              "      <td>NaN</td>\n",
              "      <td>NaN</td>\n",
              "      <td>NaN</td>\n",
              "      <td>NaN</td>\n",
              "      <td>NaN</td>\n",
              "      <td>NaN</td>\n",
              "      <td>NaN</td>\n",
              "      <td>NaN</td>\n",
              "      <td>...</td>\n",
              "      <td>NaN</td>\n",
              "      <td>NaN</td>\n",
              "      <td>NaN</td>\n",
              "      <td>NaN</td>\n",
              "      <td>NaN</td>\n",
              "      <td>NaN</td>\n",
              "      <td>NaN</td>\n",
              "      <td>NaN</td>\n",
              "      <td>107147000000</td>\n",
              "      <td>NaN</td>\n",
              "    </tr>\n",
              "  </tbody>\n",
              "</table>\n",
              "<p>2 rows × 30 columns</p>\n",
              "</div>\n",
              "    <div class=\"colab-df-buttons\">\n",
              "\n",
              "  <div class=\"colab-df-container\">\n",
              "    <button class=\"colab-df-convert\" onclick=\"convertToInteractive('df-fb5f18e8-6efd-423f-a71b-1767f7a76b7d')\"\n",
              "            title=\"Convert this dataframe to an interactive table.\"\n",
              "            style=\"display:none;\">\n",
              "\n",
              "  <svg xmlns=\"http://www.w3.org/2000/svg\" height=\"24px\" viewBox=\"0 -960 960 960\">\n",
              "    <path d=\"M120-120v-720h720v720H120Zm60-500h600v-160H180v160Zm220 220h160v-160H400v160Zm0 220h160v-160H400v160ZM180-400h160v-160H180v160Zm440 0h160v-160H620v160ZM180-180h160v-160H180v160Zm440 0h160v-160H620v160Z\"/>\n",
              "  </svg>\n",
              "    </button>\n",
              "\n",
              "  <style>\n",
              "    .colab-df-container {\n",
              "      display:flex;\n",
              "      gap: 12px;\n",
              "    }\n",
              "\n",
              "    .colab-df-convert {\n",
              "      background-color: #E8F0FE;\n",
              "      border: none;\n",
              "      border-radius: 50%;\n",
              "      cursor: pointer;\n",
              "      display: none;\n",
              "      fill: #1967D2;\n",
              "      height: 32px;\n",
              "      padding: 0 0 0 0;\n",
              "      width: 32px;\n",
              "    }\n",
              "\n",
              "    .colab-df-convert:hover {\n",
              "      background-color: #E2EBFA;\n",
              "      box-shadow: 0px 1px 2px rgba(60, 64, 67, 0.3), 0px 1px 3px 1px rgba(60, 64, 67, 0.15);\n",
              "      fill: #174EA6;\n",
              "    }\n",
              "\n",
              "    .colab-df-buttons div {\n",
              "      margin-bottom: 4px;\n",
              "    }\n",
              "\n",
              "    [theme=dark] .colab-df-convert {\n",
              "      background-color: #3B4455;\n",
              "      fill: #D2E3FC;\n",
              "    }\n",
              "\n",
              "    [theme=dark] .colab-df-convert:hover {\n",
              "      background-color: #434B5C;\n",
              "      box-shadow: 0px 1px 3px 1px rgba(0, 0, 0, 0.15);\n",
              "      filter: drop-shadow(0px 1px 2px rgba(0, 0, 0, 0.3));\n",
              "      fill: #FFFFFF;\n",
              "    }\n",
              "  </style>\n",
              "\n",
              "    <script>\n",
              "      const buttonEl =\n",
              "        document.querySelector('#df-fb5f18e8-6efd-423f-a71b-1767f7a76b7d button.colab-df-convert');\n",
              "      buttonEl.style.display =\n",
              "        google.colab.kernel.accessAllowed ? 'block' : 'none';\n",
              "\n",
              "      async function convertToInteractive(key) {\n",
              "        const element = document.querySelector('#df-fb5f18e8-6efd-423f-a71b-1767f7a76b7d');\n",
              "        const dataTable =\n",
              "          await google.colab.kernel.invokeFunction('convertToInteractive',\n",
              "                                                    [key], {});\n",
              "        if (!dataTable) return;\n",
              "\n",
              "        const docLinkHtml = 'Like what you see? Visit the ' +\n",
              "          '<a target=\"_blank\" href=https://colab.research.google.com/notebooks/data_table.ipynb>data table notebook</a>'\n",
              "          + ' to learn more about interactive tables.';\n",
              "        element.innerHTML = '';\n",
              "        dataTable['output_type'] = 'display_data';\n",
              "        await google.colab.output.renderOutput(dataTable, element);\n",
              "        const docLink = document.createElement('div');\n",
              "        docLink.innerHTML = docLinkHtml;\n",
              "        element.appendChild(docLink);\n",
              "      }\n",
              "    </script>\n",
              "  </div>\n",
              "\n",
              "\n",
              "<div id=\"df-ade840be-e2f6-42c3-acf7-bb68b3b89dc9\">\n",
              "  <button class=\"colab-df-quickchart\" onclick=\"quickchart('df-ade840be-e2f6-42c3-acf7-bb68b3b89dc9')\"\n",
              "            title=\"Suggest charts\"\n",
              "            style=\"display:none;\">\n",
              "\n",
              "<svg xmlns=\"http://www.w3.org/2000/svg\" height=\"24px\"viewBox=\"0 0 24 24\"\n",
              "     width=\"24px\">\n",
              "    <g>\n",
              "        <path d=\"M19 3H5c-1.1 0-2 .9-2 2v14c0 1.1.9 2 2 2h14c1.1 0 2-.9 2-2V5c0-1.1-.9-2-2-2zM9 17H7v-7h2v7zm4 0h-2V7h2v10zm4 0h-2v-4h2v4z\"/>\n",
              "    </g>\n",
              "</svg>\n",
              "  </button>\n",
              "\n",
              "<style>\n",
              "  .colab-df-quickchart {\n",
              "      --bg-color: #E8F0FE;\n",
              "      --fill-color: #1967D2;\n",
              "      --hover-bg-color: #E2EBFA;\n",
              "      --hover-fill-color: #174EA6;\n",
              "      --disabled-fill-color: #AAA;\n",
              "      --disabled-bg-color: #DDD;\n",
              "  }\n",
              "\n",
              "  [theme=dark] .colab-df-quickchart {\n",
              "      --bg-color: #3B4455;\n",
              "      --fill-color: #D2E3FC;\n",
              "      --hover-bg-color: #434B5C;\n",
              "      --hover-fill-color: #FFFFFF;\n",
              "      --disabled-bg-color: #3B4455;\n",
              "      --disabled-fill-color: #666;\n",
              "  }\n",
              "\n",
              "  .colab-df-quickchart {\n",
              "    background-color: var(--bg-color);\n",
              "    border: none;\n",
              "    border-radius: 50%;\n",
              "    cursor: pointer;\n",
              "    display: none;\n",
              "    fill: var(--fill-color);\n",
              "    height: 32px;\n",
              "    padding: 0;\n",
              "    width: 32px;\n",
              "  }\n",
              "\n",
              "  .colab-df-quickchart:hover {\n",
              "    background-color: var(--hover-bg-color);\n",
              "    box-shadow: 0 1px 2px rgba(60, 64, 67, 0.3), 0 1px 3px 1px rgba(60, 64, 67, 0.15);\n",
              "    fill: var(--button-hover-fill-color);\n",
              "  }\n",
              "\n",
              "  .colab-df-quickchart-complete:disabled,\n",
              "  .colab-df-quickchart-complete:disabled:hover {\n",
              "    background-color: var(--disabled-bg-color);\n",
              "    fill: var(--disabled-fill-color);\n",
              "    box-shadow: none;\n",
              "  }\n",
              "\n",
              "  .colab-df-spinner {\n",
              "    border: 2px solid var(--fill-color);\n",
              "    border-color: transparent;\n",
              "    border-bottom-color: var(--fill-color);\n",
              "    animation:\n",
              "      spin 1s steps(1) infinite;\n",
              "  }\n",
              "\n",
              "  @keyframes spin {\n",
              "    0% {\n",
              "      border-color: transparent;\n",
              "      border-bottom-color: var(--fill-color);\n",
              "      border-left-color: var(--fill-color);\n",
              "    }\n",
              "    20% {\n",
              "      border-color: transparent;\n",
              "      border-left-color: var(--fill-color);\n",
              "      border-top-color: var(--fill-color);\n",
              "    }\n",
              "    30% {\n",
              "      border-color: transparent;\n",
              "      border-left-color: var(--fill-color);\n",
              "      border-top-color: var(--fill-color);\n",
              "      border-right-color: var(--fill-color);\n",
              "    }\n",
              "    40% {\n",
              "      border-color: transparent;\n",
              "      border-right-color: var(--fill-color);\n",
              "      border-top-color: var(--fill-color);\n",
              "    }\n",
              "    60% {\n",
              "      border-color: transparent;\n",
              "      border-right-color: var(--fill-color);\n",
              "    }\n",
              "    80% {\n",
              "      border-color: transparent;\n",
              "      border-right-color: var(--fill-color);\n",
              "      border-bottom-color: var(--fill-color);\n",
              "    }\n",
              "    90% {\n",
              "      border-color: transparent;\n",
              "      border-bottom-color: var(--fill-color);\n",
              "    }\n",
              "  }\n",
              "</style>\n",
              "\n",
              "  <script>\n",
              "    async function quickchart(key) {\n",
              "      const quickchartButtonEl =\n",
              "        document.querySelector('#' + key + ' button');\n",
              "      quickchartButtonEl.disabled = true;  // To prevent multiple clicks.\n",
              "      quickchartButtonEl.classList.add('colab-df-spinner');\n",
              "      try {\n",
              "        const charts = await google.colab.kernel.invokeFunction(\n",
              "            'suggestCharts', [key], {});\n",
              "      } catch (error) {\n",
              "        console.error('Error during call to suggestCharts:', error);\n",
              "      }\n",
              "      quickchartButtonEl.classList.remove('colab-df-spinner');\n",
              "      quickchartButtonEl.classList.add('colab-df-quickchart-complete');\n",
              "    }\n",
              "    (() => {\n",
              "      let quickchartButtonEl =\n",
              "        document.querySelector('#df-ade840be-e2f6-42c3-acf7-bb68b3b89dc9 button');\n",
              "      quickchartButtonEl.style.display =\n",
              "        google.colab.kernel.accessAllowed ? 'block' : 'none';\n",
              "    })();\n",
              "  </script>\n",
              "</div>\n",
              "\n",
              "    </div>\n",
              "  </div>\n"
            ],
            "application/vnd.google.colaboratory.intrinsic+json": {
              "type": "dataframe",
              "variable_name": "balance_sheet"
            }
          },
          "metadata": {},
          "execution_count": 7
        }
      ]
    },
    {
      "cell_type": "markdown",
      "source": [
        "# Narzędzia"
      ],
      "metadata": {
        "id": "AJT9CbdcFDb7"
      }
    },
    {
      "cell_type": "code",
      "source": [
        "python_repl = PythonREPL()\n",
        "python_tool = Tool(\n",
        "    name=\"python_repl\",\n",
        "    description=\"Executes python code and returns the result. The code runs in a static sandbox without interactive mode, so print output or save output to a file.\",\n",
        "    func=python_repl.run,\n",
        ")\n",
        "python_tool.name = \"python_interpreter\"\n"
      ],
      "metadata": {
        "id": "GxtV3ncUFIr8"
      },
      "execution_count": null,
      "outputs": []
    },
    {
      "cell_type": "markdown",
      "source": [
        "Ten fragment kodu tworzy narzędzie do wykonywania kodu Pythona w ramach systemu LangChain.\n",
        "\n",
        "`python_repl = PythonREPL()` tworzy nowy obiekt REPL (Read-Eval-Print Loop), czyli interpreter Pythona, który może wykonywać kod w czasie rzeczywistym.\n",
        "\n",
        "Następnie tworzony jest obiekt `Tool` z trzema parametrami:\n",
        "- `name=\"python_repl\"` - nazwa narzędzia\n",
        "- `description` - opis wyjaśniający, że narzędzie wykonuje kod Python w izolowanym środowisku (sandboxie) i zaleca używanie funkcji print lub zapisywanie wyników do pliku\n",
        "- `func=python_repl.run` - wskazuje funkcję, która będzie wykonywana gdy narzędzie jest używane. W tym przypadku jest to metoda `run` z wcześniej utworzonego obiektu `python_repl`\n",
        "\n",
        "Ostatnia linia zmienia nazwę narzędzia na \"python_interpreter\". Jest to nadpisanie oryginalnej nazwy.\n",
        "\n",
        "To narzędzie pozwala na bezpieczne wykonywanie kodu Pythona jako część większego systemu opartego o LangChain, z odpowiednimi ograniczeniami zapewniającymi bezpieczeństwo."
      ],
      "metadata": {
        "id": "7GHcH1l7JxO5"
      }
    },
    {
      "cell_type": "code",
      "source": [
        "\n",
        "class ToolInput(BaseModel):\n",
        "    code: str = Field(description=\"Python code to execute.\")\n",
        "python_tool.args_schema = ToolInput\n"
      ],
      "metadata": {
        "id": "_5kq0MJWFGEK"
      },
      "execution_count": null,
      "outputs": []
    },
    {
      "cell_type": "markdown",
      "source": [
        "Ta klasa definiuje schemat danych wejściowych dla narzędzia Python. Jest zbudowana na bazie Pydantic, który zapewnia walidację danych.\n",
        "\n",
        "`ToolInput` dziedziczy po `BaseModel` z Pydantic, co daje jej możliwości walidacji i serializacji danych.\n",
        "\n",
        "Klasa ma jedno pole:\n",
        "- `code` typu `str` (string)\n",
        "- `Field(description=\"Python code to execute.\")` dodaje opis tego pola, wyjaśniający że ma ono zawierać kod Pythona do wykonania\n",
        "\n",
        "Ostatnia linia `python_tool.args_schema = ToolInput` przypisuje ten schemat do wcześniej utworzonego narzędzia. Dzięki temu system wie, jakiego rodzaju dane wejściowe może przyjąć to narzędzie i jak je zwalidować przed użyciem.\n",
        "\n",
        "Ta struktura zapewnia, że do narzędzia będzie przekazywany poprawny kod Pythona jako string i pomaga w dokumentacji API narzędzia."
      ],
      "metadata": {
        "id": "ObzujnW3J964"
      }
    },
    {
      "cell_type": "code",
      "source": [
        "\n",
        "def run_python_code(code: str) -> dict:\n",
        "    \"\"\"\n",
        "    Function to run given python code\n",
        "    \"\"\"\n",
        "    input_code = ToolInput(code=code)\n",
        "    return {'python_answer': python_tool.func(input_code.code)}\n"
      ],
      "metadata": {
        "id": "aoeq2RmRFJuC"
      },
      "execution_count": null,
      "outputs": []
    },
    {
      "cell_type": "markdown",
      "source": [
        "Funkcja `run_python_code` służy jako interfejs do bezpiecznego wykonywania kodu Pythona.\n",
        "\n",
        "Przyjmuje ona jeden parametr `code` typu string, który zawiera kod Pythona do wykonania.\n",
        "\n",
        "Wewnątrz funkcji wykonywane są dwa kroki:\n",
        "1. `input_code = ToolInput(code=code)` - tworzy obiekt `ToolInput` z przekazanym kodem. Na tym etapie kod przechodzi walidację zdefiniowaną wcześniej w klasie `ToolInput`.\n",
        "\n",
        "2. `return {'python_answer': python_tool.func(input_code.code)}` - wykonuje kod za pomocą wcześniej zdefiniowanego narzędzia (`python_tool`) i zwraca wynik w formie słownika. Klucz 'python_answer' zawiera wynik wykonania kodu.\n",
        "\n",
        "Zwracanie wyniku w formie słownika jest przydatne, gdy funkcja jest częścią większego systemu, ponieważ wyraźnie oznacza, co zawiera zwrócona wartość i ułatwia jej dalsze przetwarzanie."
      ],
      "metadata": {
        "id": "j1GI1HpKKSmQ"
      }
    },
    {
      "cell_type": "code",
      "source": [
        "\n",
        "functions_map = {\n",
        "    \"run_python_code\": run_python_code,\n",
        "}\n",
        "\n",
        "tools = [\n",
        "    {\n",
        "        \"name\": \"run_python_code\",\n",
        "        \"description\": \"given a python code, runs it\",\n",
        "        \"parameter_definitions\": {\n",
        "            \"code\": {\n",
        "                \"description\": \"executable python code\",\n",
        "                \"type\": \"str\",\n",
        "                \"required\": True\n",
        "            }\n",
        "        }\n",
        "    },]"
      ],
      "metadata": {
        "id": "we9c-NT1FL5y"
      },
      "execution_count": null,
      "outputs": []
    },
    {
      "cell_type": "markdown",
      "source": [
        "Te struktury danych definiują narzędzia dostępne w systemie i sposób ich użycia.\n",
        "\n",
        "`functions_map` to słownik, który mapuje nazwę funkcji na jej rzeczywistą implementację. W tym przypadku mamy jedno odwzorowanie - nazwa \"run_python_code\" jest powiązana z wcześniej zdefiniowaną funkcją `run_python_code`. Jest to prosty sposób na przechowywanie referencji do dostępnych funkcji.\n",
        "\n",
        "`tools` to lista słowników opisujących dostępne narzędzia. Każde narzędzie jest opisane przez:\n",
        "- `name` - nazwa narzędzia (\"run_python_code\")\n",
        "- `description` - opis działania (\"given a python code, runs it\")\n",
        "- `parameter_definitions` - definicje parametrów, które narzędzie przyjmuje\n",
        "\n",
        "W definicji parametrów dla \"code\" określono:\n",
        "- `description` - opis parametru (\"executable python code\")\n",
        "- `type` - typ danych (\"str\")\n",
        "- `required` - czy parametr jest wymagany (True)\n",
        "\n",
        "Te struktury tworzą kompletny opis API narzędzia, który może być używany przez inne części systemu do prawidłowego wywoływania funkcji i walidacji danych wejściowych."
      ],
      "metadata": {
        "id": "wm2E-_o6KZFo"
      }
    },
    {
      "cell_type": "markdown",
      "source": [
        "# Agent"
      ],
      "metadata": {
        "id": "7o8OwyjQFT4_"
      }
    },
    {
      "cell_type": "code",
      "source": [
        "def cohere_agent(\n",
        "    message: str,\n",
        "    preamble: str,\n",
        "    tools: List[dict],\n",
        "    force_single_step=False,\n",
        "    verbose: bool = False,\n",
        ") -> str:\n",
        "    \"\"\"\n",
        "    Function to handle multi-step tool use api.\n",
        "\n",
        "    Args:\n",
        "        message (str): The message to send to the Cohere AI model.\n",
        "        preamble (str): The preamble or context for the conversation.\n",
        "        tools (list of dict): List of tools to use in the conversation.\n",
        "        verbose (bool, optional): Whether to print verbose output. Defaults to False.\n",
        "\n",
        "    Returns:\n",
        "        str: The final response from the call.\n",
        "    \"\"\"\n",
        "\n",
        "    counter = 1\n",
        "\n",
        "    response = co.chat(\n",
        "        model= CFG.model,\n",
        "        message=message,\n",
        "        preamble=preamble,\n",
        "        tools=tools,\n",
        "        force_single_step=force_single_step,\n",
        "    )\n",
        "\n",
        "    if verbose:\n",
        "        print(f\"\\nrunning 0th step.\")\n",
        "        print(response.text)\n",
        "\n",
        "    while response.tool_calls:\n",
        "        tool_results = []\n",
        "\n",
        "        if verbose:\n",
        "            print(f\"\\nrunning {counter}th step.\")\n",
        "\n",
        "        for tool_call in response.tool_calls:\n",
        "            output = functions_map[tool_call.name](**tool_call.parameters)\n",
        "            outputs = [output]\n",
        "            tool_results.append({\"call\": tool_call, \"outputs\": outputs})\n",
        "\n",
        "            if verbose:\n",
        "                print(\n",
        "                    f\"= running tool {tool_call.name}, with parameters: {tool_call.parameters}\"\n",
        "                )\n",
        "                print(f\"== tool results: {outputs}\")\n",
        "\n",
        "        response = co.chat(\n",
        "            model= CFG.model,\n",
        "            message=\"\",\n",
        "            chat_history=response.chat_history,\n",
        "            preamble=preamble,\n",
        "            tools=tools,\n",
        "            force_single_step=force_single_step,\n",
        "            tool_results=tool_results,\n",
        "        )\n",
        "\n",
        "        if verbose:\n",
        "            print(response.text)\n",
        "\n",
        "            counter += 1\n",
        "\n",
        "    return response.text\n"
      ],
      "metadata": {
        "id": "prom7jW5FU6n"
      },
      "execution_count": null,
      "outputs": []
    },
    {
      "cell_type": "markdown",
      "source": [
        "Funkcja `cohere_agent` zarządza wieloetapowym procesem wykorzystania narzędzi przez model AI.\n",
        "\n",
        "Przyjmuje parametry:\n",
        "- `message` - wiadomość do wysłania do modelu Cohere\n",
        "- `preamble` - kontekst lub wprowadzenie do rozmowy\n",
        "- `tools` - lista dostępnych narzędzi\n",
        "- `force_single_step` - wymusza pojedynczy krok wykonania\n",
        "- `verbose` - włącza szczegółowe logowanie\n",
        "\n",
        "Działa w następujący sposób:\n",
        "\n",
        "1. Inicjuje licznik kroków (`counter`)\n",
        "\n",
        "2. Wysyła pierwsze zapytanie do API Cohere za pomocą `co.chat()`, przekazując model, wiadomość, kontekst i dostępne narzędzia\n",
        "\n",
        "3. Wchodzi w pętlę, która działa tak długo, jak model wskazuje potrzebę użycia narzędzi (`response.tool_calls`):\n",
        "   - Dla każdego wywołania narzędzia:\n",
        "     - Wykonuje odpowiednią funkcję z `functions_map`\n",
        "     - Zbiera wyniki w `tool_results`\n",
        "   - Wysyła kolejne zapytanie do modelu z wynikami użycia narzędzi\n",
        "   - W trybie szczegółowym (`verbose`) wyświetla informacje o każdym kroku\n",
        "\n",
        "4. Gdy model nie wymaga już użycia żadnych narzędzi, zwraca ostateczną odpowiedź\n",
        "\n",
        "System ten pozwala modelowi na iteracyjne rozwiązywanie problemów poprzez wykonywanie kodu Pythona i wykorzystywanie wyników w kolejnych krokach rozumowania."
      ],
      "metadata": {
        "id": "6K3ec_xmKhbP"
      }
    },
    {
      "cell_type": "code",
      "source": [
        "# sanity check\n",
        "\n",
        "output = cohere_agent(\"can you use python to answer 1 + 1\", None, tools, verbose=True)"
      ],
      "metadata": {
        "colab": {
          "base_uri": "https://localhost:8080/"
        },
        "id": "cTQ8vN-AFPNG",
        "outputId": "5da190b3-6558-47a2-d352-240233f1a676"
      },
      "execution_count": null,
      "outputs": [
        {
          "output_type": "stream",
          "name": "stdout",
          "text": [
            "\n",
            "running 0th step.\n",
            "I will use Python to answer this question.\n",
            "\n",
            "running 1th step.\n",
            "= running tool run_python_code, with parameters: {'code': 'print(1+1)'}\n",
            "== tool results: [{'python_answer': '2\\n'}]\n",
            "The answer is **2**.\n"
          ]
        }
      ]
    },
    {
      "cell_type": "markdown",
      "source": [
        "# Tabela raz"
      ],
      "metadata": {
        "id": "c2Sqqo5xHZzF"
      }
    },
    {
      "cell_type": "code",
      "source": [
        "question_dict ={\n",
        "    'q1': ['what is the highest value of cost of goods and service?',169559000000],\n",
        "    'q2': ['what is the largest gross profit margin?',0.3836194330595236],\n",
        "    'q3': ['what is the minimum ratio of operating income loss divided by non operating income expense?',35.360599]\n",
        "}"
      ],
      "metadata": {
        "id": "gL2YE8ZfHc98"
      },
      "execution_count": null,
      "outputs": []
    },
    {
      "cell_type": "code",
      "source": [
        "preamble = \"\"\"\n",
        "You are an expert who answers the user's question. You are working with a pandas dataframe in Python. The name of the dataframe is `income_statement.csv`.\n",
        "Here is a preview of the dataframe:\n",
        "{head_df}\n",
        "\"\"\".format(head_df=income_statement.head(3).to_markdown())\n",
        "\n",
        "print(preamble)"
      ],
      "metadata": {
        "colab": {
          "base_uri": "https://localhost:8080/"
        },
        "id": "vljwyYHwHiyF",
        "outputId": "73339234-4ebc-432d-906a-dff111e04e5f"
      },
      "execution_count": null,
      "outputs": [
        {
          "output_type": "stream",
          "name": "stdout",
          "text": [
            "\n",
            "You are an expert who answers the user's question. You are working with a pandas dataframe in Python. The name of the dataframe is `income_statement.csv`.\n",
            "Here is a preview of the dataframe:\n",
            "|    |   Unnamed: 0 | index                 |   RevenueFromContractWithCustomerExcludingAssessedTax |   CostOfGoodsAndServicesSold |   GrossProfit |   ResearchAndDevelopmentExpense |   SellingGeneralAndAdministrativeExpense |   OperatingExpenses |   OperatingIncomeLoss |   NonoperatingIncomeExpense |   IncomeLossFromContinuingOperationsBeforeIncomeTaxesExtraordinaryItemsNoncontrollingInterest |   IncomeTaxExpenseBenefit |   NetIncomeLoss |   EarningsPerShareBasic |   EarningsPerShareDiluted |   WeightedAverageNumberOfSharesOutstandingBasic |   WeightedAverageNumberOfDilutedSharesOutstanding |\n",
            "|---:|-------------:|:----------------------|------------------------------------------------------:|-----------------------------:|--------------:|--------------------------------:|-----------------------------------------:|--------------------:|----------------------:|----------------------------:|----------------------------------------------------------------------------------------------:|--------------------------:|----------------:|------------------------:|--------------------------:|------------------------------------------------:|--------------------------------------------------:|\n",
            "|  0 |            0 | 2017-10-01-2018-09-29 |                                          265595000000 |                  1.63756e+11 |  101839000000 |                      1.4236e+10 |                               1.6705e+10 |          3.0941e+10 |            7.0898e+10 |                   2.005e+09 |                                                                                    7.2903e+10 |                1.3372e+10 |     59531000000 |                    3    |                      2.98 |                                     1.98215e+10 |                                       2.00004e+10 |\n",
            "|  1 |            1 | 2018-09-30-2018-12-29 |                                           84310000000 |                nan           |   32031000000 |                    nan          |                             nan          |        nan          |          nan          |                 nan         |                                                                                  nan          |              nan          |     19965000000 |                    1.05 |                      1.05 |                                   nan           |                                     nan           |\n",
            "|  2 |            2 | 2018-09-30-2019-09-28 |                                          260174000000 |                  1.61782e+11 |   98392000000 |                      1.6217e+10 |                               1.8245e+10 |          3.4462e+10 |            6.393e+10  |                   1.807e+09 |                                                                                    6.5737e+10 |                1.0481e+10 |     55256000000 |                    2.99 |                      2.97 |                                     1.84713e+10 |                                       1.85957e+10 |\n",
            "\n"
          ]
        }
      ]
    },
    {
      "cell_type": "code",
      "source": [
        "for qsn,val in question_dict.items():\n",
        "    print(f'question:{qsn}')\n",
        "    question = val[0]\n",
        "    answer = val[1]\n",
        "    output = cohere_agent(question, preamble, tools, verbose=True)\n",
        "    print(f'GT Answer:{val[1]}')\n",
        "    print('-'*50)"
      ],
      "metadata": {
        "colab": {
          "base_uri": "https://localhost:8080/"
        },
        "id": "Z1hNH9fyHlTC",
        "outputId": "330d240e-63b6-4272-98bf-136d25d06223"
      },
      "execution_count": null,
      "outputs": [
        {
          "output_type": "stream",
          "name": "stdout",
          "text": [
            "question:q1\n",
            "\n",
            "running 0th step.\n",
            "I will write and execute Python code to find the highest value of 'CostOfGoodsAndServicesSold' in the 'income_statement.csv' dataframe.\n",
            "\n",
            "running 1th step.\n",
            "= running tool run_python_code, with parameters: {'code': 'import pandas as pd\\n\\ndf = pd.read_csv(\\'income_statement.csv\\')\\n\\n# Find the highest value of \\'CostOfGoodsAndServicesSold\\'\\nhighest_cost = df[\\'CostOfGoodsAndServicesSold\\'].max()\\n\\nprint(f\"The highest value of \\'CostOfGoodsAndServicesSold\\' is {highest_cost}\")'}\n",
            "== tool results: [{'python_answer': \"The highest value of 'CostOfGoodsAndServicesSold' is 169559000000.0\\n\"}]\n",
            "The highest value of 'CostOfGoodsAndServicesSold' is 169559000000.0.\n",
            "GT Answer:169559000000\n",
            "--------------------------------------------------\n",
            "question:q2\n",
            "\n",
            "running 0th step.\n",
            "I will write and execute Python code to find the largest gross profit margin.\n",
            "\n",
            "running 1th step.\n",
            "= running tool run_python_code, with parameters: {'code': 'import pandas as pd\\n\\ndf = pd.read_csv(\"income_statement.csv\")\\n\\n# Calculate gross profit margin\\ndf[\"GrossProfitMargin\"] = (df[\"GrossProfit\"] / df[\"RevenueFromContractWithCustomerExcludingAssessedTax\"] * 100)\\n\\n# Find the largest gross profit margin\\nlargest_gross_profit_margin = df[\"GrossProfitMargin\"].max()\\n\\nprint(f\"The largest gross profit margin is: {largest_gross_profit_margin:.2f}%\")'}\n",
            "== tool results: [{'python_answer': 'The largest gross profit margin is: 38.36%\\n'}]\n",
            "The largest gross profit margin is 38.36%.\n",
            "GT Answer:0.3836194330595236\n",
            "--------------------------------------------------\n",
            "question:q3\n",
            "\n",
            "running 0th step.\n",
            "I will write and execute Python code to find the minimum ratio of operating income loss divided by non operating income expense.\n",
            "\n",
            "running 1th step.\n",
            "= running tool run_python_code, with parameters: {'code': 'import pandas as pd\\n\\ndf = pd.read_csv(\"income_statement.csv\")\\n\\nmin_ratio = df[\"OperatingIncomeLoss\"] / df[\"NonoperatingIncomeExpense\"]\\n\\nprint(f\"The minimum ratio of operating income loss divided by non-operating income expense is {min_ratio.min()}\")'}\n",
            "== tool results: [{'python_answer': 'The minimum ratio of operating income loss divided by non-operating income expense is 35.36059850374065\\n'}]\n",
            "The minimum ratio of operating income loss divided by non-operating income expense is 35.36.\n",
            "GT Answer:35.360599\n",
            "--------------------------------------------------\n"
          ]
        }
      ]
    },
    {
      "cell_type": "markdown",
      "source": [
        "Ta pętla przeprowadza testy systemu pytanie-odpowiedź z wykorzystaniem modelu Cohere.\n",
        "\n",
        "Iteruje po elementach słownika `question_dict`, gdzie każdy element zawiera:\n",
        "- klucz (`qsn`) - identyfikator pytania\n",
        "- wartość (`val`) - lista zawierająca pytanie na pozycji 0 i prawidłową odpowiedź na pozycji 1\n",
        "\n",
        "Dla każdego elementu:\n",
        "1. Wyświetla identyfikator pytania\n",
        "2. Przypisuje pytanie i odpowiedź do zmiennych\n",
        "3. Wywołuje funkcję `cohere_agent` z:\n",
        "   - pytaniem\n",
        "   - wcześniej zdefiniowanym kontekstem (`preamble`)\n",
        "   - dostępnymi narzędziami (`tools`)\n",
        "   - włączonym trybem szczegółowym (`verbose=True`)\n",
        "4. Wyświetla prawidłową odpowiedź (GT - Ground Truth)\n",
        "5. Dodaje linię oddzielającą (`-` powtórzone 50 razy) dla lepszej czytelności wyników\n",
        "\n",
        "Ta struktura pozwala na systematyczne testowanie systemu i porównywanie odpowiedzi modelu z prawidłowymi odpowiedziami."
      ],
      "metadata": {
        "id": "KB0O2ibQKpUU"
      }
    },
    {
      "cell_type": "markdown",
      "source": [
        "# Tabele dwie"
      ],
      "metadata": {
        "id": "U2zeYUK_Hupj"
      }
    },
    {
      "cell_type": "code",
      "source": [
        "question_dict ={\n",
        "    'q1': ['what is the ratio of the largest stockholders equity to the smallest revenue'],\n",
        "}"
      ],
      "metadata": {
        "id": "KrlS-3IKHwY3"
      },
      "execution_count": null,
      "outputs": []
    },
    {
      "cell_type": "code",
      "source": [
        "# get the largest stockholders equity\n",
        "x = balance_sheet['StockholdersEquity'].astype(float).max()\n",
        "print(f\"The largest stockholders equity value is: {x}\")\n",
        "\n",
        "# get the smallest revenue\n",
        "y = income_statement['RevenueFromContractWithCustomerExcludingAssessedTax'].astype(float).min()\n",
        "print(f\"The smallest revenue value is: {y}\")\n",
        "\n",
        "# compute the ratio\n",
        "ratio = x/y\n",
        "print(f\"Their ratio is: {ratio}\")"
      ],
      "metadata": {
        "colab": {
          "base_uri": "https://localhost:8080/"
        },
        "id": "5aS-zcL2H0oR",
        "outputId": "1ed0f701-6c78-443a-ad38-e1da63ed9bec"
      },
      "execution_count": null,
      "outputs": [
        {
          "output_type": "stream",
          "name": "stdout",
          "text": [
            "The largest stockholders equity value is: 134047000000.0\n",
            "The smallest revenue value is: 53809000000.0\n",
            "Their ratio is: 2.4911631883142227\n"
          ]
        }
      ]
    },
    {
      "cell_type": "code",
      "source": [
        "preamble = \"\"\"\n",
        "You are an expert who answers the user's question in complete sentences. You are working with two pandas dataframe in Python. Ensure your output is a string.\n",
        "\n",
        "Here is a preview of the `income_statement.csv` dataframe:\n",
        "{table_1}\n",
        "\n",
        "Here is a preview of the `balance_sheet.csv` dataframe:\n",
        "{table_2}\n",
        "\"\"\".format(table_1=income_statement.head(3).to_markdown(),table_2=balance_sheet.head(3).to_markdown())\n",
        "\n",
        "\n",
        "print(preamble)"
      ],
      "metadata": {
        "colab": {
          "base_uri": "https://localhost:8080/"
        },
        "id": "eiGem8FmH2--",
        "outputId": "3c9d7700-bf10-461b-bf57-b73545c8be08"
      },
      "execution_count": null,
      "outputs": [
        {
          "output_type": "stream",
          "name": "stdout",
          "text": [
            "\n",
            "You are an expert who answers the user's question in complete sentences. You are working with two pandas dataframe in Python. Ensure your output is a string.\n",
            "\n",
            "Here is a preview of the `income_statement.csv` dataframe:\n",
            "|    |   Unnamed: 0 | index                 |   RevenueFromContractWithCustomerExcludingAssessedTax |   CostOfGoodsAndServicesSold |   GrossProfit |   ResearchAndDevelopmentExpense |   SellingGeneralAndAdministrativeExpense |   OperatingExpenses |   OperatingIncomeLoss |   NonoperatingIncomeExpense |   IncomeLossFromContinuingOperationsBeforeIncomeTaxesExtraordinaryItemsNoncontrollingInterest |   IncomeTaxExpenseBenefit |   NetIncomeLoss |   EarningsPerShareBasic |   EarningsPerShareDiluted |   WeightedAverageNumberOfSharesOutstandingBasic |   WeightedAverageNumberOfDilutedSharesOutstanding |\n",
            "|---:|-------------:|:----------------------|------------------------------------------------------:|-----------------------------:|--------------:|--------------------------------:|-----------------------------------------:|--------------------:|----------------------:|----------------------------:|----------------------------------------------------------------------------------------------:|--------------------------:|----------------:|------------------------:|--------------------------:|------------------------------------------------:|--------------------------------------------------:|\n",
            "|  0 |            0 | 2017-10-01-2018-09-29 |                                          265595000000 |                  1.63756e+11 |  101839000000 |                      1.4236e+10 |                               1.6705e+10 |          3.0941e+10 |            7.0898e+10 |                   2.005e+09 |                                                                                    7.2903e+10 |                1.3372e+10 |     59531000000 |                    3    |                      2.98 |                                     1.98215e+10 |                                       2.00004e+10 |\n",
            "|  1 |            1 | 2018-09-30-2018-12-29 |                                           84310000000 |                nan           |   32031000000 |                    nan          |                             nan          |        nan          |          nan          |                 nan         |                                                                                  nan          |              nan          |     19965000000 |                    1.05 |                      1.05 |                                   nan           |                                     nan           |\n",
            "|  2 |            2 | 2018-09-30-2019-09-28 |                                          260174000000 |                  1.61782e+11 |   98392000000 |                      1.6217e+10 |                               1.8245e+10 |          3.4462e+10 |            6.393e+10  |                   1.807e+09 |                                                                                    6.5737e+10 |                1.0481e+10 |     55256000000 |                    2.99 |                      2.97 |                                     1.84713e+10 |                                       1.85957e+10 |\n",
            "\n",
            "Here is a preview of the `balance_sheet.csv` dataframe:\n",
            "|    |   Unnamed: 0 | index      |   CashAndCashEquivalentsAtCarryingValue |   MarketableSecuritiesCurrent |   AccountsReceivableNetCurrent |   InventoryNet |   NontradeReceivablesCurrent |   OtherAssetsCurrent |   AssetsCurrent |   MarketableSecuritiesNoncurrent |   PropertyPlantAndEquipmentNet |   OtherAssetsNoncurrent |   AssetsNoncurrent |        Assets |   AccountsPayableCurrent |   OtherLiabilitiesCurrent |   ContractWithCustomerLiabilityCurrent |   CommercialPaper |   LongTermDebtCurrent |   LiabilitiesCurrent |   LongTermDebtNoncurrent |   OtherLiabilitiesNoncurrent |   LiabilitiesNoncurrent |   Liabilities |   CommitmentsAndContingencies |   CommonStocksIncludingAdditionalPaidInCapital |   RetainedEarningsAccumulatedDeficit |   AccumulatedOtherComprehensiveIncomeLossNetOfTax |   StockholdersEquity |   LiabilitiesAndStockholdersEquity |\n",
            "|---:|-------------:|:-----------|----------------------------------------:|------------------------------:|-------------------------------:|---------------:|-----------------------------:|---------------------:|----------------:|---------------------------------:|-------------------------------:|------------------------:|-------------------:|--------------:|-------------------------:|--------------------------:|---------------------------------------:|------------------:|----------------------:|---------------------:|-------------------------:|-----------------------------:|------------------------:|--------------:|------------------------------:|-----------------------------------------------:|-------------------------------------:|--------------------------------------------------:|---------------------:|-----------------------------------:|\n",
            "|  0 |            0 | 2017-09-30 |                            nan          |                  nan          |                   nan          |    nan         |                 nan          |         nan          |   nan           |                    nan           |                   nan          |            nan          |      nan           | nan           |             nan          |               nan         |                            nan         |        nan        |           nan         |        nan           |             nan          |                 nan          |            nan          | nan           |                           nan |                                   nan          |                         nan          |                                        nan        |         134047000000 |                      nan           |\n",
            "|  1 |            1 | 2018-09-29 |                            nan          |                  nan          |                   nan          |    nan         |                 nan          |         nan          |   nan           |                    nan           |                   nan          |            nan          |      nan           | nan           |             nan          |               nan         |                            nan         |        nan        |           nan         |        nan           |             nan          |                 nan          |            nan          | nan           |                           nan |                                   nan          |                         nan          |                                        nan        |         107147000000 |                      nan           |\n",
            "|  2 |            2 | 2019-09-28 |                              4.8844e+10 |                    5.1713e+10 |                     2.2926e+10 |      4.106e+09 |                   2.2878e+10 |           1.2352e+10 |     1.62819e+11 |                      1.05341e+11 |                     3.7378e+10 |              3.2978e+10 |        1.75697e+11 |   3.38516e+11 |               4.6236e+10 |                 3.772e+10 |                              5.522e+09 |          5.98e+09 |             1.026e+10 |          1.05718e+11 |               9.1807e+10 |                   5.0503e+10 |              1.4231e+11 |   2.48028e+11 |                             0 |                                     4.5174e+10 |                           4.5898e+10 |                                         -5.84e+08 |          90488000000 |                        3.38516e+11 |\n",
            "\n"
          ]
        }
      ]
    },
    {
      "cell_type": "code",
      "source": [
        "for qsn,val in question_dict.items():\n",
        "    print(f'question:{qsn}')\n",
        "    question = val[0]\n",
        "    output = cohere_agent(question, preamble, tools, verbose=True)"
      ],
      "metadata": {
        "colab": {
          "base_uri": "https://localhost:8080/"
        },
        "id": "heY7btPJH5ZG",
        "outputId": "cf3d08b6-b560-4809-f313-cc090ac18dbc"
      },
      "execution_count": null,
      "outputs": [
        {
          "output_type": "stream",
          "name": "stdout",
          "text": [
            "question:q1\n",
            "\n",
            "running 0th step.\n",
            "I will write and execute Python code to find the ratio of the largest stockholders equity to the smallest revenue.\n",
            "\n",
            "running 1th step.\n",
            "= running tool run_python_code, with parameters: {'code': 'import pandas as pd\\n\\n# Read the CSV files into dataframes\\nincome_statement = pd.read_csv(\\'income_statement.csv\\')\\nbalance_sheet = pd.read_csv(\\'balance_sheet.csv\\')\\n\\n# Find the smallest revenue\\nsmallest_revenue = income_statement[\\'RevenueFromContractWithCustomerExcludingAssessedTax\\'].min()\\n\\n# Find the largest stockholders equity\\nlargest_stockholders_equity = balance_sheet[\\'StockholdersEquity\\'].max()\\n\\n# Calculate the ratio\\nratio = largest_stockholders_equity / smallest_revenue\\n\\nprint(f\"The ratio of the largest stockholders equity to the smallest revenue is {ratio:.2f}\")'}\n",
            "== tool results: [{'python_answer': 'The ratio of the largest stockholders equity to the smallest revenue is 2.49\\n'}]\n",
            "The ratio of the largest stockholders equity to the smallest revenue is 2.49.\n"
          ]
        }
      ]
    },
    {
      "cell_type": "markdown",
      "source": [
        "Ta pętla jest podobna do poprzedniej, ale prostsza - służy do testowania systemu pytanie-odpowiedź bez porównywania z wzorcowymi odpowiedziami.\n",
        "\n",
        "Iteruje po elementach słownika `question_dict`, gdzie:\n",
        "- `qsn` to identyfikator pytania\n",
        "- `val` to lista, z której używany jest tylko pierwszy element (pytanie)\n",
        "\n",
        "Dla każdego pytania:\n",
        "1. Wyświetla jego identyfikator\n",
        "2. Pobiera treść pytania z pierwszego elementu listy `val`\n",
        "3. Wywołuje funkcję `cohere_agent` z parametrami:\n",
        "   - pytanie\n",
        "   - kontekst (`preamble`)\n",
        "   - dostępne narzędzia (`tools`)\n",
        "   - włączony tryb szczegółowy (`verbose=True`)\n",
        "\n",
        "W przeciwieństwie do poprzedniej wersji, ta pętla nie wyświetla prawidłowych odpowiedzi ani linii oddzielających, skupia się wyłącznie na generowaniu odpowiedzi przez model."
      ],
      "metadata": {
        "id": "GqCT6A3AKyOy"
      }
    },
    {
      "cell_type": "markdown",
      "source": [
        "# Błędy"
      ],
      "metadata": {
        "id": "P77IBxZZIZJZ"
      }
    },
    {
      "cell_type": "code",
      "source": [
        "preamble = \"\"\"\n",
        "You are an expert who answers the user's question. You are working with a pandas dataframe in Python. The name of the dataframe is `income_statement.csv`.\n",
        "\"\"\"\n"
      ],
      "metadata": {
        "id": "O7J9OLMMIabA"
      },
      "execution_count": null,
      "outputs": []
    },
    {
      "cell_type": "code",
      "source": [
        "\n",
        "question1 = \"what is the highest value of cost of goods and service?\"\n",
        "\n",
        "output = cohere_agent(question1, preamble, tools, verbose=True)"
      ],
      "metadata": {
        "colab": {
          "base_uri": "https://localhost:8080/"
        },
        "id": "IHyAVNPBIgBF",
        "outputId": "a8698ad2-00ac-4052-d0f4-223558111f3f"
      },
      "execution_count": null,
      "outputs": [
        {
          "output_type": "stream",
          "name": "stdout",
          "text": [
            "\n",
            "running 0th step.\n",
            "I will use Python to find the highest value of 'cost of goods and service'.\n",
            "\n",
            "running 1th step.\n",
            "= running tool run_python_code, with parameters: {'code': 'import pandas as pd\\n\\ndf = pd.read_csv(\\'income_statement.csv\\')\\n\\n# Find the highest value of \\'Cost of Goods and Services\\'\\nhighest_cost = df[\\'Cost of Goods and Services\\'].max()\\n\\nprint(f\"The highest value of \\'Cost of Goods and Services\\' is: {highest_cost}\")'}\n",
            "== tool results: [{'python_answer': \"KeyError('Cost of Goods and Services')\"}]\n",
            "Sorry, I could not find the highest value of 'cost of goods and service' as there is no column named 'Cost of Goods and Services' in the dataframe.\n"
          ]
        }
      ]
    },
    {
      "cell_type": "code",
      "source": [
        "preamble = \"\"\"\n",
        "You are an expert who answers the user's question. You are working with a pandas dataframe in Python. The name of the dataframe is `income_statement.csv`.\n",
        "If you run into error, keep trying until you fix it. You may need to view the data to understand the error.\n",
        "\"\"\"\n",
        "\n",
        "question1 = \"what is the highest value of cost of goods and service?\"\n",
        "\n",
        "output = cohere_agent(question1, preamble, tools, verbose=True)"
      ],
      "metadata": {
        "colab": {
          "base_uri": "https://localhost:8080/"
        },
        "id": "S9M0spyqIcw4",
        "outputId": "7dc1a42f-fcfa-4828-a149-c4de2692f969"
      },
      "execution_count": null,
      "outputs": [
        {
          "output_type": "stream",
          "name": "stdout",
          "text": [
            "\n",
            "running 0th step.\n",
            "I will use Python to find the highest value of cost of goods and service.\n",
            "\n",
            "running 1th step.\n",
            "= running tool run_python_code, with parameters: {'code': 'import pandas as pd\\n\\ndf = pd.read_csv(\\'income_statement.csv\\')\\n\\n# Find the highest value of cost of goods and services\\nhighest_cost = df[\\'Cost of Goods and Services\\'].max()\\n\\nprint(f\"The highest value of cost of goods and services is: {highest_cost}\")'}\n",
            "== tool results: [{'python_answer': \"KeyError('Cost of Goods and Services')\"}]\n",
            "I received an error. I will now view the data to understand the error.\n",
            "\n",
            "running 2th step.\n",
            "= running tool run_python_code, with parameters: {'code': \"import pandas as pd\\n\\ndf = pd.read_csv('income_statement.csv')\\n\\nprint(df.columns)\"}\n",
            "== tool results: [{'python_answer': \"Index(['Unnamed: 0', 'index',\\n       'RevenueFromContractWithCustomerExcludingAssessedTax',\\n       'CostOfGoodsAndServicesSold', 'GrossProfit',\\n       'ResearchAndDevelopmentExpense',\\n       'SellingGeneralAndAdministrativeExpense', 'OperatingExpenses',\\n       'OperatingIncomeLoss', 'NonoperatingIncomeExpense',\\n       'IncomeLossFromContinuingOperationsBeforeIncomeTaxesExtraordinaryItemsNoncontrollingInterest',\\n       'IncomeTaxExpenseBenefit', 'NetIncomeLoss', 'EarningsPerShareBasic',\\n       'EarningsPerShareDiluted',\\n       'WeightedAverageNumberOfSharesOutstandingBasic',\\n       'WeightedAverageNumberOfDilutedSharesOutstanding'],\\n      dtype='object')\\n\"}]\n",
            "The column name is 'CostOfGoodsAndServicesSold'. I will now use this to find the highest value.\n",
            "\n",
            "running 3th step.\n",
            "= running tool run_python_code, with parameters: {'code': 'import pandas as pd\\n\\ndf = pd.read_csv(\\'income_statement.csv\\')\\n\\n# Find the highest value of cost of goods and services\\nhighest_cost = df[\\'CostOfGoodsAndServicesSold\\'].max()\\n\\nprint(f\"The highest value of cost of goods and services is: {highest_cost}\")'}\n",
            "== tool results: [{'python_answer': 'The highest value of cost of goods and services is: 169559000000.0\\n'}]\n",
            "The highest value of cost of goods and services is 169559000000.0.\n"
          ]
        }
      ]
    },
    {
      "cell_type": "markdown",
      "source": [
        "# Narzędzie extra"
      ],
      "metadata": {
        "id": "cMlH-EJ-Ip4j"
      }
    },
    {
      "cell_type": "code",
      "source": [
        "def view_csv_data(path: str) -> dict:\n",
        "    \"\"\"\n",
        "    Function to view the head, tail and shape of a given csv file.\n",
        "    \"\"\"\n",
        "    df = pd.read_csv(path)\n",
        "\n",
        "    return {\n",
        "        \"head\": df.head().to_string(),\n",
        "        \"tail\": df.tail().to_string(),\n",
        "        \"shape\": str(df.shape),\n",
        "    }"
      ],
      "metadata": {
        "id": "eigt7D0xIr1K"
      },
      "execution_count": null,
      "outputs": []
    },
    {
      "cell_type": "markdown",
      "source": [
        "Ta funkcja służy do szybkiego przeglądu zawartości pliku CSV. Jest to przydatne narzędzie diagnostyczne, które pokazuje najważniejsze informacje o danych bez konieczności analizy całego pliku.\n",
        "\n",
        "Funkcja przyjmuje jeden parametr:\n",
        "- `path` - ścieżka do pliku CSV\n",
        "\n",
        "Wewnątrz funkcji:\n",
        "1. Wczytuje plik CSV do ramki danych Pandas (`pd.read_csv(path)`)\n",
        "2. Zwraca słownik z trzema informacjami:\n",
        "   - `head` - pierwsze wiersze danych (domyślnie 5) przekonwertowane na tekst\n",
        "   - `tail` - ostatnie wiersze danych (domyślnie 5) przekonwertowane na tekst\n",
        "   - `shape` - wymiary ramki danych (liczba wierszy i kolumn) jako tekst\n",
        "\n",
        "Użycie `to_string()` zapewnia, że dane będą zwrócone w formie tekstowej, co jest przydatne przy wyświetlaniu lub dalszym przetwarzaniu."
      ],
      "metadata": {
        "id": "JutZWVf5K7Jn"
      }
    },
    {
      "cell_type": "code",
      "source": [
        "functions_map = {\n",
        "    \"run_python_code\": run_python_code,\n",
        "    \"view_csv_data\": view_csv_data\n",
        "}\n",
        "\n",
        "tools = [\n",
        "    {\n",
        "        \"name\": \"run_python_code\",\n",
        "        \"description\": \"given a python code, runs it\",\n",
        "        \"parameter_definitions\": {\n",
        "            \"code\": {\n",
        "                \"description\": \"executable python code\",\n",
        "                \"type\": \"str\",\n",
        "                \"required\": True\n",
        "            }\n",
        "        }\n",
        "    },\n",
        "    {\n",
        "        \"name\": \"view_csv_data\",\n",
        "        \"description\": \"give path to csv data and get head, tail and shape of the data\",\n",
        "        \"parameter_definitions\": {\n",
        "            \"path\": {\n",
        "                \"description\": \"path to csv\",\n",
        "                \"type\": \"str\",\n",
        "                \"required\": True\n",
        "            }\n",
        "        }\n",
        "    },\n",
        "]"
      ],
      "metadata": {
        "id": "OmAOspGvIt6N"
      },
      "execution_count": null,
      "outputs": []
    },
    {
      "cell_type": "markdown",
      "source": [
        "Jest to rozszerzona wersja wcześniej zdefiniowanych struktur - dodano do nich nowe narzędzie do pracy z plikami CSV.\n",
        "\n",
        "`functions_map` został rozszerzony o nową funkcję:\n",
        "- `\"view_csv_data\"` wskazuje na funkcję `view_csv_data`\n",
        "\n",
        "Lista `tools` została rozszerzona o nowy słownik opisujący narzędzie do przeglądania CSV:\n",
        "- `name` - \"view_csv_data\"\n",
        "- `description` - wyjaśnia, że narzędzie pokazuje nagłówek, koniec i wymiary danych CSV\n",
        "- `parameter_definitions` - określa, że narzędzie przyjmuje jeden parametr `path`:\n",
        "  - `description` - \"path to csv\"\n",
        "  - `type` - \"str\"\n",
        "  - `required` - True (parametr jest wymagany)\n",
        "\n",
        "Teraz system ma dostęp do dwóch narzędzi:\n",
        "- wykonywania kodu Pythona\n",
        "- szybkiego przeglądania zawartości plików CSV"
      ],
      "metadata": {
        "id": "6oGdzcqRL7vx"
      }
    },
    {
      "cell_type": "code",
      "source": [
        "preamble = \"\"\"\n",
        "You are an expert who answers the user's question. You are working with a pandas dataframe in Python. The name of the dataframe is `income_statement.csv`.\n",
        "Always view the data first to write flawless code.\n",
        "\"\"\"\n",
        "\n",
        "question1 = \"what is the highest value of cost of goods and service?\"\n",
        "\n",
        "output = cohere_agent(question1, preamble, tools, verbose=True)"
      ],
      "metadata": {
        "colab": {
          "base_uri": "https://localhost:8080/"
        },
        "id": "D20CQd6gIwxu",
        "outputId": "63ca58a7-edea-4815-daa8-9b194ab6ff24"
      },
      "execution_count": null,
      "outputs": [
        {
          "output_type": "stream",
          "name": "stdout",
          "text": [
            "\n",
            "running 0th step.\n",
            "I will first view the data to understand the column names and then write code to find the highest value of the cost of goods and services.\n",
            "\n",
            "running 1th step.\n",
            "= running tool view_csv_data, with parameters: {'path': 'income_statement.csv'}\n",
            "== tool results: [{'head': '   Unnamed: 0                  index  RevenueFromContractWithCustomerExcludingAssessedTax  CostOfGoodsAndServicesSold   GrossProfit  ResearchAndDevelopmentExpense  SellingGeneralAndAdministrativeExpense  OperatingExpenses  OperatingIncomeLoss  NonoperatingIncomeExpense  IncomeLossFromContinuingOperationsBeforeIncomeTaxesExtraordinaryItemsNoncontrollingInterest  IncomeTaxExpenseBenefit  NetIncomeLoss  EarningsPerShareBasic  EarningsPerShareDiluted  WeightedAverageNumberOfSharesOutstandingBasic  WeightedAverageNumberOfDilutedSharesOutstanding\\n0           0  2017-10-01-2018-09-29                                         265595000000                1.637560e+11  101839000000                   1.423600e+10                            1.670500e+10       3.094100e+10         7.089800e+10               2.005000e+09                                                                                 7.290300e+10             1.337200e+10    59531000000                   3.00                     2.98                                   1.982151e+10                                     2.000044e+10\\n1           1  2018-09-30-2018-12-29                                          84310000000                         NaN   32031000000                            NaN                                     NaN                NaN                  NaN                        NaN                                                                                          NaN                      NaN    19965000000                   1.05                     1.05                                            NaN                                              NaN\\n2           2  2018-09-30-2019-09-28                                         260174000000                1.617820e+11   98392000000                   1.621700e+10                            1.824500e+10       3.446200e+10         6.393000e+10               1.807000e+09                                                                                 6.573700e+10             1.048100e+10    55256000000                   2.99                     2.97                                   1.847134e+10                                     1.859565e+10\\n3           3  2018-12-30-2019-03-30                                          58015000000                         NaN   21821000000                            NaN                                     NaN                NaN                  NaN                        NaN                                                                                          NaN                      NaN    11561000000                   0.62                     0.61                                            NaN                                              NaN\\n4           4  2019-03-31-2019-06-29                                          53809000000                         NaN   20227000000                            NaN                                     NaN                NaN                  NaN                        NaN                                                                                          NaN                      NaN    10044000000                   0.55                     0.55                                            NaN                                              NaN', 'tail': '    Unnamed: 0                  index  RevenueFromContractWithCustomerExcludingAssessedTax  CostOfGoodsAndServicesSold   GrossProfit  ResearchAndDevelopmentExpense  SellingGeneralAndAdministrativeExpense  OperatingExpenses  OperatingIncomeLoss  NonoperatingIncomeExpense  IncomeLossFromContinuingOperationsBeforeIncomeTaxesExtraordinaryItemsNoncontrollingInterest  IncomeTaxExpenseBenefit  NetIncomeLoss  EarningsPerShareBasic  EarningsPerShareDiluted  WeightedAverageNumberOfSharesOutstandingBasic  WeightedAverageNumberOfDilutedSharesOutstanding\\n6            6  2019-09-29-2019-12-28                                          91819000000                         NaN   35217000000                            NaN                                     NaN                NaN                  NaN                        NaN                                                                                          NaN                      NaN    22236000000                   1.26                     1.25                                            NaN                                              NaN\\n7            7  2019-09-29-2020-09-26                                         274515000000                1.695590e+11  104956000000                   1.875200e+10                            1.991600e+10       3.866800e+10         6.628800e+10                803000000.0                                                                                 6.709100e+10             9.680000e+09    57411000000                   3.31                     3.28                                   1.735212e+10                                     1.752821e+10\\n8            8  2019-12-29-2020-03-28                                          58313000000                         NaN   22370000000                            NaN                                     NaN                NaN                  NaN                        NaN                                                                                          NaN                      NaN    11249000000                   0.64                     0.64                                            NaN                                              NaN\\n9            9  2020-03-29-2020-06-27                                          59685000000                         NaN   22680000000                            NaN                                     NaN                NaN                  NaN                        NaN                                                                                          NaN                      NaN    11253000000                   0.65                     0.65                                            NaN                                              NaN\\n10          10  2020-06-28-2020-09-26                                          64698000000                         NaN   24689000000                            NaN                                     NaN                NaN                  NaN                        NaN                                                                                          NaN                      NaN    12673000000                   0.74                     0.73                                            NaN                                              NaN', 'shape': '(11, 17)'}]\n",
            "The column name for the cost of goods and services is 'CostOfGoodsAndServicesSold'. I will now write code to find the highest value in this column.\n",
            "\n",
            "running 2th step.\n",
            "= running tool run_python_code, with parameters: {'code': 'import pandas as pd\\n\\ndf = pd.read_csv(\\'income_statement.csv\\')\\n\\n# Find the highest value of cost of goods and services\\nhighest_cost = df[\\'CostOfGoodsAndServicesSold\\'].max()\\nprint(f\"The highest value of cost of goods and services is: {highest_cost}\")'}\n",
            "== tool results: [{'python_answer': 'The highest value of cost of goods and services is: 169559000000.0\\n'}]\n",
            "The highest value of cost of goods and services is **169559000000.0**.\n"
          ]
        }
      ]
    }
  ]
}