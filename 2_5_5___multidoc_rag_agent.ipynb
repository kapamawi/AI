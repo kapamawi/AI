{
  "nbformat": 4,
  "nbformat_minor": 0,
  "metadata": {
    "colab": {
      "provenance": [],
      "collapsed_sections": [
        "wGQKhkz9XDc5"
      ],
      "include_colab_link": true
    },
    "kernelspec": {
      "name": "python3",
      "display_name": "Python 3"
    },
    "language_info": {
      "name": "python"
    }
  },
  "cells": [
    {
      "cell_type": "markdown",
      "metadata": {
        "id": "view-in-github",
        "colab_type": "text"
      },
      "source": [
        "<a href=\"https://colab.research.google.com/github/kapamawi/AI/blob/main/2_5_5___multidoc_rag_agent.ipynb\" target=\"_parent\"><img src=\"https://colab.research.google.com/assets/colab-badge.svg\" alt=\"Open In Colab\"/></a>"
      ]
    },
    {
      "cell_type": "markdown",
      "source": [
        "# Setup"
      ],
      "metadata": {
        "id": "zM7EF4jWWjss"
      }
    },
    {
      "cell_type": "code",
      "execution_count": null,
      "metadata": {
        "id": "ptkM7i8oWfpY"
      },
      "outputs": [],
      "source": [
        "!pip install -qU  llama-parse llama-index-llms-openai llama-index-embeddings-openai llama-index-vector-stores-lancedb"
      ]
    },
    {
      "cell_type": "markdown",
      "source": [
        "W pierwszej linijce instalowane są cztery pakiety Pythona za pomocą narzędzia pip z następującymi flagami:\n",
        "- -q oznacza tryb cichy (quiet), który ogranicza wyświetlane komunikaty\n",
        "- -U wymusza aktualizację do najnowszej wersji\n",
        "\n",
        "Instalowane pakiety to:\n",
        "- llama-parse: narzędzie do parsowania różnych formatów dokumentów\n",
        "- llama-index-llms-openai: integracja z modelami językowymi OpenAI\n",
        "- llama-index-embeddings-openai: moduł do tworzenia embedingów tekstowych przy użyciu modeli OpenAI\n",
        "- llama-index-vector-stores-lancedb: adapter do bazy danych wektorowej LanceDB\n",
        "\n",
        "Te biblioteki razem tworzą środowisko do pracy z dokumentami i ich semantyczną analizą - parsowanie treści, zamiana tekstu na wektory i przechowywanie ich w bazie danych, a następnie możliwość wyszukiwania podobnych fragmentów przy użyciu modeli językowych."
      ],
      "metadata": {
        "id": "ouG1ADpfYrjL"
      }
    },
    {
      "cell_type": "code",
      "source": [
        "import json\n",
        "import logging\n",
        "import os\n",
        "import time\n",
        "from datetime import datetime, timedelta\n",
        "from typing import Any, Dict, List, Optional\n",
        "\n",
        "from llama_index.core import (\n",
        "   Document,\n",
        "   Settings,\n",
        "   SimpleDirectoryReader,\n",
        "   StorageContext,\n",
        "   VectorStoreIndex,\n",
        ")\n",
        "from llama_index.core.agent import AgentRunner, FunctionCallingAgentWorker\n",
        "from llama_index.core.node_parser import SentenceSplitter\n",
        "from llama_index.core.retrievers import VectorIndexRetriever\n",
        "from llama_index.core.tools import FunctionTool, ToolOutput\n",
        "from llama_index.embeddings.openai import OpenAIEmbedding\n",
        "from llama_index.llms.openai import OpenAI\n",
        "from llama_index.vector_stores.lancedb import LanceDBVectorStore\n",
        "from tqdm import tqdm\n",
        "\n",
        "from google.colab import userdata\n"
      ],
      "metadata": {
        "id": "nzIqerHXWyga"
      },
      "execution_count": null,
      "outputs": []
    },
    {
      "cell_type": "markdown",
      "source": [
        "Przeanalizujmy te importy linia po linii:\n",
        "\n",
        "Ze standardowej biblioteki Pythona importowane są:\n",
        "- json: do obsługi formatu JSON\n",
        "- logging: do tworzenia logów\n",
        "- os: do operacji systemowych\n",
        "- time: do operacji związanych z czasem\n",
        "- datetime, timedelta: do operacji na datach\n",
        "- typing (Any, Dict, List, Optional): do typowania w Pythonie\n",
        "\n",
        "Z pakietu llama_index.core importowane są główne komponenty:\n",
        "- Document: reprezentacja dokumentu\n",
        "- Settings: ustawienia frameworka\n",
        "- SimpleDirectoryReader: czytanie plików z katalogu\n",
        "- StorageContext: kontekst przechowywania danych\n",
        "- VectorStoreIndex: indeks wektorowy\n",
        "- AgentRunner i FunctionCallingAgentWorker: komponenty do obsługi agentów\n",
        "- SentenceSplitter: dzielenie tekstu na zdania\n",
        "- VectorIndexRetriever: pobieranie danych z indeksu\n",
        "- FunctionTool i ToolOutput: narzędzia do wywoływania funkcji\n",
        "\n",
        "Z innych modułów llama_index:\n",
        "- OpenAIEmbedding: tworzenie embedingów przez OpenAI\n",
        "- OpenAI: dostęp do modeli językowych OpenAI\n",
        "- LanceDBVectorStore: baza danych wektorów\n",
        "\n",
        "Dodatkowo:\n",
        "- tqdm: pasek postępu\n",
        "- google.colab.userdata: dostęp do danych użytkownika w Google Colab"
      ],
      "metadata": {
        "id": "6790lG4EY5XZ"
      }
    },
    {
      "cell_type": "code",
      "source": [
        "class CFG:\n",
        "  model1 = \"gpt-4o-mini\"\n",
        "  model2 = \"text-embedding-3-large\"\n",
        "  temperature = 0.1\n",
        "  chunksize = 1024\n",
        "  datadir = '/content/'"
      ],
      "metadata": {
        "id": "TPZqfn0jW1l5"
      },
      "execution_count": null,
      "outputs": []
    },
    {
      "cell_type": "code",
      "source": [
        "# Using OpenAI API for embeddings/llms\n",
        "os.environ[\"OPENAI_API_KEY\"] = userdata.get('openaivision')\n"
      ],
      "metadata": {
        "id": "4UPHXUtPW7FU"
      },
      "execution_count": null,
      "outputs": []
    },
    {
      "cell_type": "code",
      "source": [
        "\n",
        "llm = OpenAI(model= CFG.model1)\n",
        "Settings.llm = llm\n",
        "\n",
        "embed_model = OpenAIEmbedding(model = CFG.model2)\n",
        "Settings.embed_model = embed_model"
      ],
      "metadata": {
        "id": "anj-393zW-35"
      },
      "execution_count": null,
      "outputs": []
    },
    {
      "cell_type": "markdown",
      "source": [
        "Ten fragment kodu konfiguruje dwa kluczowe elementy:\n",
        "\n",
        "1. Konfiguracja modelu językowego (LLM):\n",
        "```python\n",
        "llm = OpenAI(model= CFG.model1)\n",
        "Settings.llm = llm\n",
        "```\n",
        "Tworzona jest instancja modelu OpenAI z parametrem określonym w CFG.model1 (prawdopodobnie gpt-4 lub podobny). Ten model jest następnie ustawiany jako domyślny LLM w globalnych ustawieniach.\n",
        "\n",
        "2. Konfiguracja modelu do embedingów:\n",
        "```python\n",
        "embed_model = OpenAIEmbedding(model = CFG.model2)\n",
        "Settings.embed_model = embed_model\n",
        "```\n",
        "Tworzona jest instancja modelu do tworzenia embedingów określonego w CFG.model2. Model ten jest ustawiany jako domyślny dla embedingów w globalnych ustawieniach."
      ],
      "metadata": {
        "id": "xbJROHggZBW7"
      }
    },
    {
      "cell_type": "markdown",
      "source": [
        "# Functions"
      ],
      "metadata": {
        "id": "wGQKhkz9XDc5"
      }
    },
    {
      "cell_type": "markdown",
      "source": [
        "## Helper functions"
      ],
      "metadata": {
        "id": "SigExrTWXT0z"
      }
    },
    {
      "cell_type": "code",
      "source": [
        "def load_and_index_document_from_file(\n",
        "    file_path: str, vector_store: LanceDBVectorStore\n",
        ") -> VectorStoreIndex:\n",
        "    \"\"\"Load a document from a single file and index it.\"\"\"\n",
        "    with open(file_path, \"r\") as f:\n",
        "        data = json.load(f)\n",
        "        document = Document(text=json.dumps(data))\n",
        "\n",
        "    parser = SentenceSplitter(chunk_size=1024, chunk_overlap=200)\n",
        "    nodes = parser.get_nodes_from_documents([document])\n",
        "    storage_context = StorageContext.from_defaults(vector_store=vector_store)\n",
        "    return VectorStoreIndex(nodes, storage_context=storage_context)\n",
        "\n"
      ],
      "metadata": {
        "id": "U4dbSK90XG0_"
      },
      "execution_count": null,
      "outputs": []
    },
    {
      "cell_type": "markdown",
      "source": [
        "Ta funkcja służy do załadowania i zaindeksowania dokumentu. Przyjmuje dwa parametry:\n",
        "- file_path: ścieżka do pliku\n",
        "- vector_store: instancja magazynu wektorów LanceDB\n",
        "\n",
        "Oto co robi krok po kroku:\n",
        "\n",
        "1. Otwiera plik JSON i ładuje jego zawartość:\n",
        "```python\n",
        "with open(file_path, \"r\") as f:\n",
        "    data = json.load(f)\n",
        "```\n",
        "\n",
        "2. Tworzy obiekt Document, przekształcając dane z powrotem do formatu JSON:\n",
        "```python\n",
        "document = Document(text=json.dumps(data))\n",
        "```\n",
        "\n",
        "3. Tworzy parser tekstu, który dzieli tekst na mniejsze części:\n",
        "```python\n",
        "parser = SentenceSplitter(chunk_size=1024, chunk_overlap=200)\n",
        "```\n",
        "- chunk_size=1024 oznacza maksymalny rozmiar fragmentu\n",
        "- chunk_overlap=200 oznacza że fragmenty nachodzą na siebie o 200 znaków\n",
        "\n",
        "4. Dzieli dokument na węzły:\n",
        "```python\n",
        "nodes = parser.get_nodes_from_documents([document])\n",
        "```\n",
        "\n",
        "5. Tworzy kontekst przechowywania z użyciem dostarczonego vector_store:\n",
        "```python\n",
        "storage_context = StorageContext.from_defaults(vector_store=vector_store)\n",
        "```\n",
        "\n",
        "6. Zwraca zaindeksowany dokument jako VectorStoreIndex:\n",
        "```python\n",
        "return VectorStoreIndex(nodes, storage_context=storage_context)\n",
        "```\n",
        "\n",
        "Funkcja ta jest używana do przygotowania dokumentów do wyszukiwania semantycznego - dzieli tekst na mniejsze części i tworzy ich reprezentacje wektorowe."
      ],
      "metadata": {
        "id": "CiPYlFzuapqk"
      }
    },
    {
      "cell_type": "code",
      "source": [
        "def create_retriever(index: VectorStoreIndex) -> VectorIndexRetriever:\n",
        "    \"\"\"Create a retriever from the index.\"\"\"\n",
        "    return index.as_retriever(similarity_top_k=5)"
      ],
      "metadata": {
        "id": "LJJwZFQJXOoX"
      },
      "execution_count": null,
      "outputs": []
    },
    {
      "cell_type": "markdown",
      "source": [
        "Ta funkcja tworzy obiekt służący do wyszukiwania w indeksie wektorowym. Jest bardzo prosta, ale pełni ważną rolę:\n",
        "\n",
        "1. Przyjmuje jeden parametr - index typu VectorStoreIndex, czyli wcześniej utworzony indeks dokumentów\n",
        "\n",
        "2. Tworzy i zwraca retriever (narzędzie do wyszukiwania) poprzez wywołanie:\n",
        "```python\n",
        "index.as_retriever(similarity_top_k=5)\n",
        "```\n",
        "\n",
        "Parametr similarity_top_k=5 oznacza, że przy każdym wyszukiwaniu zwracanych będzie 5 najbardziej podobnych fragmentów tekstu.\n",
        "\n",
        "Ten retriever będzie używany do znajdowania fragmentów dokumentów najbardziej odpowiadających zadanemu zapytaniu na podstawie podobieństwa wektorów."
      ],
      "metadata": {
        "id": "PU2pChRNato0"
      }
    },
    {
      "cell_type": "markdown",
      "source": [
        "# Data"
      ],
      "metadata": {
        "id": "azcByISAgGZC"
      }
    },
    {
      "cell_type": "code",
      "source": [
        "# Vector store setup\n",
        "problems_vector_store = LanceDBVectorStore(\n",
        "    uri=\"./lancedb\",\n",
        "    table_name=\"problems_table\",\n",
        "    mode=\"overwrite\",\n",
        ")\n",
        "\n",
        "parts_vector_store = LanceDBVectorStore(\n",
        "    uri=\"./lancedb\",\n",
        "    table_name=\"parts_table\",\n",
        "    mode=\"overwrite\",\n",
        ")\n",
        "\n",
        "diagnostics_vector_store = LanceDBVectorStore(\n",
        "    uri=\"./lancedb\",\n",
        "    table_name=\"diagnostics_table\",\n",
        "    mode=\"overwrite\",\n",
        ")\n",
        "\n",
        "cost_estimates_vector_store = LanceDBVectorStore(\n",
        "    uri=\"./lancedb\",\n",
        "    table_name=\"cost_estimates_table\",\n",
        "    mode=\"overwrite\",\n",
        ")\n",
        "\n",
        "maintenance_schedules_vector_store = LanceDBVectorStore(\n",
        "    uri=\"./lancedb\",\n",
        "    table_name=\"maintenance_schedules_table\",\n",
        "    mode=\"overwrite\",\n",
        ")\n",
        "\n",
        "cars_vector_store = LanceDBVectorStore(\n",
        "    uri=\"./lancedb\",\n",
        "    table_name=\"car_maintenance_table\",\n",
        "    mode=\"overwrite\",\n",
        ")"
      ],
      "metadata": {
        "id": "--7WHK28gHRE"
      },
      "execution_count": null,
      "outputs": []
    },
    {
      "cell_type": "markdown",
      "source": [
        "Ten fragment kodu tworzy sześć magazynów wektorów w bazie danych LanceDB dla różnych typów danych związanych z serwisem samochodowym:\n",
        "\n",
        "1. problems_vector_store - do przechowywania problemów\n",
        "2. parts_vector_store - do przechowywania części\n",
        "3. diagnostics_vector_store - do przechowywania diagnostyk\n",
        "4. cost_estimates_vector_store - do przechowywania wycen\n",
        "5. maintenance_schedules_vector_store - do przechowywania harmonogramów konserwacji\n",
        "6. cars_vector_store - do przechowywania informacji o samochodach\n",
        "\n",
        "Każdy magazyn jest konfigurowany z następującymi parametrami:\n",
        "- uri=\"./lancedb\" - ścieżka do lokalnej bazy danych\n",
        "- table_name - unikalna nazwa tabeli dla każdego typu danych\n",
        "- mode=\"overwrite\" - tryb nadpisywania istniejących danych\n",
        "\n",
        "Ta struktura pozwala na oddzielne przechowywanie i wyszukiwanie różnych typów informacji związanych z serwisem samochodowym."
      ],
      "metadata": {
        "id": "d9XhjEysh2sS"
      }
    },
    {
      "cell_type": "code",
      "source": [
        "# Load and index documents directly from file paths\n",
        "problems_index = load_and_index_document_from_file( CFG.datadir + \"problems.json\", problems_vector_store)\n",
        "\n",
        "parts_index = load_and_index_document_from_file(\n",
        "    CFG.datadir + \"parts.json\", parts_vector_store\n",
        ")\n",
        "cars_index = load_and_index_document_from_file(\n",
        "    CFG.datadir + \"cars_models.json\", cars_vector_store\n",
        ")\n",
        "diagnostics_index = load_and_index_document_from_file(\n",
        "    CFG.datadir + \"diagnostics.json\",\n",
        "    diagnostics_vector_store,\n",
        ")\n",
        "cost_estimates_index = load_and_index_document_from_file(\n",
        "    CFG.datadir + \"cost_estimates.json\",\n",
        "    cost_estimates_vector_store,\n",
        ")\n",
        "maintenance_schedules_index = load_and_index_document_from_file(\n",
        "    CFG.datadir + \"maintenance.json\",\n",
        "    maintenance_schedules_vector_store,\n",
        ")\n"
      ],
      "metadata": {
        "id": "5FK334mDgVGh"
      },
      "execution_count": null,
      "outputs": []
    },
    {
      "cell_type": "markdown",
      "source": [
        "Ten fragment kodu ładuje i indeksuje dokumenty JSON do wcześniej utworzonych magazynów wektorowych:\n",
        "\n",
        "1. problems_index - indeksuje dane o problemach z pliku \"problems.json\"\n",
        "2. parts_index - indeksuje dane o częściach z \"parts.json\"\n",
        "3. cars_index - indeksuje dane o modelach samochodów z \"cars_models.json\"\n",
        "4. diagnostics_index - indeksuje dane diagnostyczne z \"diagnostics.json\"\n",
        "5. cost_estimates_index - indeksuje dane o kosztach z \"cost_estimates.json\"\n",
        "6. maintenance_schedules_index - indeksuje harmonogramy konserwacji z \"maintenance.json\"\n",
        "\n",
        "Dla każdego typu danych:\n",
        "- Ścieżka do pliku jest tworzona przez połączenie CFG.datadir z nazwą pliku\n",
        "- Używana jest wcześniej zdefiniowana funkcja load_and_index_document_from_file()\n",
        "- Każdy dokument jest ładowany do odpowiadającego mu magazynu wektorów\n",
        "\n",
        "Te zaindeksowane dokumenty będą służyć jako baza wiedzy, w której można wyszukiwać informacje za pomocą zapytań semantycznych."
      ],
      "metadata": {
        "id": "ZA617LAYiGRH"
      }
    },
    {
      "cell_type": "code",
      "source": [
        "\n",
        "problems_retriever = create_retriever(problems_index)\n",
        "parts_retriever = create_retriever(parts_index)\n",
        "cars_retriever = create_retriever(cars_index)\n",
        "diagnostics_retriever = create_retriever(diagnostics_index)\n",
        "cost_estimates_retriever = create_retriever(cost_estimates_index)\n",
        "maintenance_schedules_retriever = create_retriever(maintenance_schedules_index)"
      ],
      "metadata": {
        "id": "UYVXpnrAgN1f"
      },
      "execution_count": null,
      "outputs": []
    },
    {
      "cell_type": "markdown",
      "source": [
        "Ten fragment tworzy narzędzia do wyszukiwania (retrievery) dla każdego z wcześniej utworzonych indeksów:\n",
        "\n",
        "1. problems_retriever - do wyszukiwania w danych o problemach\n",
        "2. parts_retriever - do wyszukiwania informacji o częściach\n",
        "3. cars_retriever - do wyszukiwania danych o samochodach\n",
        "4. diagnostics_retriever - do wyszukiwania informacji diagnostycznych\n",
        "5. cost_estimates_retriever - do wyszukiwania wycen\n",
        "6. maintenance_schedules_retriever - do wyszukiwania harmonogramów konserwacji\n",
        "\n",
        "Każdy retriever jest tworzony za pomocą wcześniej zdefiniowanej funkcji create_retriever(), która ustawia limit 5 najbardziej podobnych wyników dla każdego wyszukiwania.\n",
        "\n",
        "Te retrievery będą używane do znajdowania odpowiednich informacji w bazie wiedzy na podstawie zapytań użytkownika."
      ],
      "metadata": {
        "id": "drO1nS7PiO7E"
      }
    },
    {
      "cell_type": "code",
      "source": [
        "# test retriever\n",
        "query = \"My brake pad isn't working , what's the cost for the solution?\"\n",
        "query_engine = cost_estimates_index.as_query_engine()\n",
        "response = query_engine.query(query)\n",
        "results = cost_estimates_retriever.retrieve(query)\n",
        "\n",
        "# Print the response summary\n",
        "print(f\"Response: {response}\")\n",
        "\n",
        "# Print only relevant information from results\n",
        "for result in results:\n",
        "    print(f\"Result - Node ID: {result.node_id}\")\n",
        "    print(f\"Relevant Text: {result.text[:150]}...\")\n",
        "    print(f\"Score: {result.score:.3f}\")"
      ],
      "metadata": {
        "colab": {
          "base_uri": "https://localhost:8080/"
        },
        "id": "aG-HM_0IgynY",
        "outputId": "7a50c6c5-b406-46a1-ed7a-d95155927899"
      },
      "execution_count": null,
      "outputs": [
        {
          "output_type": "stream",
          "name": "stdout",
          "text": [
            "Response: The cost for brake pad replacement typically averages around $150, with a range between $100 and $300.\n",
            "Result - Node ID: 0c7330a8-6a68-48e1-b9d0-a014c000dad1\n",
            "Relevant Text: [{\"repair\": \"Brake pad replacement\", \"average_cost\": 150, \"cost_range\": {\"min\": 100, \"max\": 300}}, {\"repair\": \"Oil change\", \"average_cost\": 50, \"cost_...\n",
            "Score: 0.301\n",
            "Result - Node ID: 617dac35-47f2-46cf-8a35-818fa3f05eb6\n",
            "Relevant Text: \"max\": 600}}, {\"repair\": \"Fuel Pump Replacement\", \"average_cost\": 500, \"cost_range\": {\"min\": 400, \"max\": 700}}, {\"repair\": \"AC Compressor Replacement\"...\n",
            "Score: 0.280\n"
          ]
        }
      ]
    },
    {
      "cell_type": "markdown",
      "source": [
        "# Agent setup"
      ],
      "metadata": {
        "id": "4L9xCq3xhOsn"
      }
    },
    {
      "cell_type": "code",
      "source": [
        "def retrieve_problems(query: str) -> str:\n",
        "    \"\"\"Searches the problem catalog to find relevant automotive problems for the query.\"\"\"\n",
        "    docs = problems_retriever.retrieve(query)\n",
        "    information = str([doc.text[:200] for doc in docs])\n",
        "    return information\n",
        "\n",
        "\n",
        "def retrieve_parts(query: str) -> str:\n",
        "    \"\"\"Searches the parts catalog to find relevant parts for the query.\"\"\"\n",
        "    docs = parts_retriever.retrieve(query)\n",
        "    information = str([doc.text[:200] for doc in docs])\n",
        "    return information\n",
        "\n",
        "\n",
        "def retrieve_car_details(make: str, model: str, year: int) -> str:\n",
        "    \"\"\"Retrieves the make, model, and year of the car.\"\"\"\n",
        "    docs = car_details_retriever.retrieve(make, model, year)\n",
        "    information = str([doc.text[:200] for doc in docs])\n",
        "\n",
        "\n",
        "def diagnose_car_problem(symptoms: str) -> str:\n",
        "    \"\"\"Uses the diagnostics database to find potential causes for given symptoms.\"\"\"\n",
        "    docs = diagnostics_retriever.retrieve(symptoms)\n",
        "    information = str([doc.text[:200] for doc in docs])\n",
        "    return information\n",
        "\n",
        "\n",
        "def estimate_repair_cost(problem: str) -> str:\n",
        "    \"\"\"Provides a cost estimate for a given car problem or repair.\"\"\"\n",
        "    docs = cost_estimates_retriever.retrieve(problem)\n",
        "    information = str([doc.text[:200] for doc in docs])\n",
        "    return information\n",
        "\n",
        "\n",
        "def get_maintenance_schedule(mileage: int) -> str:\n",
        "    \"\"\"Retrieves the recommended maintenance schedule based on mileage.\"\"\"\n",
        "    docs = maintenance_schedules_retriever.retrieve(str(mileage))\n",
        "    information = str([doc.text[:200] for doc in docs])\n",
        "    return information"
      ],
      "metadata": {
        "id": "vhm1lwkpjrVL"
      },
      "execution_count": null,
      "outputs": []
    },
    {
      "cell_type": "markdown",
      "source": [
        "To podstawowe funkcje do wyszukiwania informacji w bazie wiedzy o samochodach:\n",
        "\n",
        "1. retrieve_problems - szuka informacji o problemach samochodowych na podstawie zapytania tekstowego. Zwraca pierwsze 200 znaków z każdego znalezionego dokumentu.\n",
        "\n",
        "2. retrieve_parts - wyszukuje części samochodowe pasujące do zapytania. Podobnie zwraca pierwsze 200 znaków z każdego dopasowanego dokumentu.\n",
        "\n",
        "3. retrieve_car_details - pobiera informacje o konkretnym samochodzie na podstawie marki, modelu i roku. Uwaga: brakuje tu return statement.\n",
        "\n",
        "4. diagnose_car_problem - na podstawie opisanych symptomów szuka potencjalnych przyczyn problemu w bazie diagnostycznej.\n",
        "\n",
        "5. estimate_repair_cost - szacuje koszty naprawy na podstawie opisu problemu.\n",
        "\n",
        "6. get_maintenance_schedule - znajduje zalecany harmonogram konserwacji dla danego przebiegu.\n",
        "\n",
        "Wszystkie te funkcje mają podobną strukturę:\n",
        "- przyjmują parametr wyszukiwania\n",
        "- używają odpowiedniego retrievera do znalezienia pasujących dokumentów\n",
        "- zwracają pierwsze 200 znaków z każdego znalezionego dokumentu jako string"
      ],
      "metadata": {
        "id": "fDzQdVp-j00l"
      }
    },
    {
      "cell_type": "code",
      "source": [
        "def comprehensive_diagnosis(symptoms: str) -> str:\n",
        "    \"\"\"\n",
        "    Provides a comprehensive diagnosis including possible causes, estimated costs, and required parts.\n",
        "\n",
        "    Args:\n",
        "        symptoms: A string describing the car's symptoms.\n",
        "\n",
        "    Returns:\n",
        "        A string with a comprehensive diagnosis report.\n",
        "    \"\"\"\n",
        "    # Use existing tools\n",
        "    possible_causes = diagnose_car_problem(symptoms)\n",
        "\n",
        "    # Extract the most likely cause (this is a simplification)\n",
        "    likely_cause = possible_causes[0] if possible_causes else \"Unknown issue\"\n",
        "\n",
        "    estimated_cost = estimate_repair_cost(likely_cause)\n",
        "    required_parts = retrieve_parts(likely_cause)\n",
        "\n",
        "    report = f\"Comprehensive Diagnosis Report:\\n\\n\"\n",
        "    report += f\"Symptoms: {symptoms}\\n\\n\"\n",
        "    report += f\"Possible Causes:\\n{possible_causes}\\n\\n\"\n",
        "    report += f\"Most Likely Cause: {likely_cause}\\n\\n\"\n",
        "    report += f\"Estimated Cost:\\n{estimated_cost}\\n\\n\"\n",
        "    report += f\"Required Parts:\\n{required_parts}\\n\\n\"\n",
        "    report += \"Please note that this is an initial diagnosis. For accurate results, please consult with our professional mechanic.\"\n",
        "\n",
        "    return report\n",
        "\n",
        "\n",
        "def get_car_model_info(\n",
        "    mileage: int, car_make: str, car_model: str, car_year: int\n",
        ") -> dict:\n",
        "    \"\"\"Retrieve car model information from cars_models.json.\"\"\"\n",
        "    with open(CFG.datadir + \"cars_models.json\", \"r\") as file:\n",
        "        car_models = json.load(file)\n",
        "\n",
        "    for car in car_models:\n",
        "        if (\n",
        "            car[\"car_make\"].lower() == car_make.lower()\n",
        "            and car[\"car_model\"].lower() == car_model.lower()\n",
        "            and car[\"car_year\"] == car_year\n",
        "        ):\n",
        "            return car\n",
        "    return {}\n",
        "\n",
        "\n",
        "def retrieve_car_details(make: str, model: str, year: int) -> str:\n",
        "    \"\"\"Retrieves the make, model, and year of the car and return the common issues if any.\"\"\"\n",
        "    car_details = get_car_model_info(\n",
        "        0, make, model, year\n",
        "    )  # Using 0 for mileage to get general details\n",
        "    if car_details:\n",
        "        return f\"{year} {make} {model} - Common Issues: {', '.join(car_details['common_issues'])}\"\n",
        "    return f\"{year} {make} {model} - No common issues found.\"\n"
      ],
      "metadata": {
        "id": "_Q8fvZHpjvvJ"
      },
      "execution_count": null,
      "outputs": []
    },
    {
      "cell_type": "markdown",
      "source": [
        "Przeanalizujmy te trzy funkcje:\n",
        "\n",
        "1. comprehensive_diagnosis - tworzy pełny raport diagnostyczny:\n",
        "   - przyjmuje opis symptomów\n",
        "   - znajduje możliwe przyczyny używając diagnose_car_problem\n",
        "   - wybiera najbardziej prawdopodobną przyczynę (pierwszy wynik)\n",
        "   - szacuje koszty naprawy dla tej przyczyny\n",
        "   - znajduje potrzebne części\n",
        "   - tworzy sformatowany raport zawierający wszystkie te informacje\n",
        "   - dodaje zastrzeżenie o konieczności konsultacji z mechanikiem\n",
        "\n",
        "2. get_car_model_info - pobiera szczegółowe informacje o samochodzie z pliku JSON:\n",
        "   - otwiera plik cars_models.json\n",
        "   - szuka samochodu o pasującej marce, modelu i roku\n",
        "   - porównuje wartości ignorując wielkość liter dla marki i modelu\n",
        "   - zwraca wszystkie informacje o znalezionym samochodzie lub pusty słownik\n",
        "\n",
        "3. retrieve_car_details - znajduje typowe problemy dla danego samochodu:\n",
        "   - wykorzystuje get_car_model_info (z przebiegiem 0 dla ogólnych informacji)\n",
        "   - jeśli znajdzie informacje, zwraca tekst z marką, modelem, rokiem i listą typowych problemów\n",
        "   - jeśli nie znajdzie informacji, zwraca tekst o braku znanych problemów"
      ],
      "metadata": {
        "id": "hn5Y_c2PkWja"
      }
    },
    {
      "cell_type": "code",
      "source": [
        "def plan_maintenance(mileage: int, car_make: str, car_model: str, car_year: int) -> str:\n",
        "    \"\"\"\n",
        "    Creates a comprehensive maintenance plan based on the car's mileage and details.\n",
        "\n",
        "    Args:\n",
        "        mileage: The current mileage of the car.\n",
        "        car_make: The make of the car.\n",
        "        car_model: The model of the car.\n",
        "        car_year: The year the car was manufactured.\n",
        "\n",
        "    Returns:\n",
        "        A string with a comprehensive maintenance plan.\n",
        "    \"\"\"\n",
        "    car_details = retrieve_car_details(car_make, car_model, car_year)\n",
        "    car_model_info = get_car_model_info(mileage, car_make, car_model, car_year)\n",
        "\n",
        "    plan = f\"Maintenance Plan for {car_year} {car_make} {car_model} at {mileage} miles:\\n\\n\"\n",
        "    plan += f\"Car Details: {car_details}\\n\\n\"\n",
        "\n",
        "    if car_model_info:\n",
        "        plan += f\"Common Issues:\\n\"\n",
        "        for issue in car_model_info[\"common_issues\"]:\n",
        "            plan += f\"- {issue}\\n\"\n",
        "\n",
        "        plan += f\"\\nEstimated Time: {car_model_info['estimated_time']}\\n\\n\"\n",
        "    else:\n",
        "        plan += (\n",
        "            \"No specific maintenance tasks found for this car model and mileage.\\n\\n\"\n",
        "        )\n",
        "\n",
        "    plan += \"Please consult with our certified mechanic for a more personalized maintenance plan.\"\n",
        "\n",
        "    return plan\n",
        "\n",
        "\n",
        "def create_calendar_invite(\n",
        "    event_type: str, car_details: str, duration: int = 60\n",
        ") -> str:\n",
        "    \"\"\"\n",
        "    Simulates creating a calendar invite for a car maintenance or repair event.\n",
        "\n",
        "    Args:\n",
        "        event_type: The type of event (e.g., \"Oil Change\", \"Brake Inspection\").\n",
        "        car_details: Details of the car (make, model, year).\n",
        "        duration: Duration of the event in minutes (default is 60).\n",
        "\n",
        "    Returns:\n",
        "        A string describing the calendar invite.\n",
        "    \"\"\"\n",
        "    # Simulate scheduling the event for next week\n",
        "    event_date = datetime.now() + timedelta(days=7)\n",
        "    event_time = event_date.replace(hour=10, minute=0, second=0, microsecond=0)\n",
        "\n",
        "    invite = f\"Calendar Invite Created:\\n\\n\"\n",
        "    invite += f\"Event: {event_type} for {car_details}\\n\"\n",
        "    invite += f\"Date: {event_time.strftime('%Y-%m-%d')}\\n\"\n",
        "    invite += f\"Time: {event_time.strftime('%I:%M %p')}\\n\"\n",
        "    invite += f\"Duration: {duration} minutes\\n\"\n",
        "    invite += f\"Location: Your Trusted Auto Shop, 123 Main St, Bengaluru, India\\n\\n\"\n",
        "\n",
        "    return invite\n",
        "\n",
        "\n",
        "def coordinate_car_care(\n",
        "    query: str, car_make: str, car_model: str, car_year: int, mileage: int\n",
        ") -> str:\n",
        "    \"\"\"\n",
        "    Coordinates overall car care by integrating diagnosis, maintenance planning, and scheduling.\n",
        "\n",
        "    Args:\n",
        "        query: The user's query or description of the issue.\n",
        "        car_make: The make of the car.\n",
        "        car_model: The model of the car.\n",
        "        car_year: The year the car was manufactured.\n",
        "        mileage: The current mileage of the car.\n",
        "\n",
        "    Returns:\n",
        "        A string with a comprehensive car care plan.\n",
        "    \"\"\"\n",
        "    car_details = retrieve_car_details(car_make, car_model, car_year)\n",
        "\n",
        "    # Check if it's a problem or routine maintenance\n",
        "    if \"problem\" in query.lower() or \"issue\" in query.lower():\n",
        "        diagnosis = comprehensive_diagnosis(query)\n",
        "        plan = f\"Based on your query, here's a diagnosis:\\n\\n{diagnosis}\\n\\n\"\n",
        "\n",
        "        # Extract the most likely cause (this is a simplification)\n",
        "        likely_cause = diagnosis.split(\"Most Likely Cause:\")[1].split(\"\\n\")[0].strip()\n",
        "\n",
        "        # Create a calendar invite for repair\n",
        "        invite = create_calendar_invite(f\"Repair: {likely_cause}\", car_details)\n",
        "        plan += f\"I've prepared a calendar invite for the repair:\\n\\n{invite}\\n\\n\"\n",
        "    else:\n",
        "        maintenance_plan = plan_maintenance(mileage, car_make, car_model, car_year)\n",
        "        plan = f\"Here's your maintenance plan:\\n\\n{maintenance_plan}\\n\\n\"\n",
        "\n",
        "        # Create a calendar invite for the next maintenance task\n",
        "        next_task = maintenance_plan.split(\"Task:\")[1].split(\"\\n\")[0].strip()\n",
        "        invite = create_calendar_invite(f\"Maintenance: {next_task}\", car_details)\n",
        "        plan += f\"I've prepared a calendar invite for your next maintenance task:\\n\\n{invite}\\n\\n\"\n",
        "\n",
        "    plan += \"Remember to consult with a professional mechanic for personalized advice and service.\"\n",
        "\n",
        "    return plan\n",
        "\n"
      ],
      "metadata": {
        "id": "C_PlJrLOhQFD"
      },
      "execution_count": null,
      "outputs": []
    },
    {
      "cell_type": "markdown",
      "source": [
        "Te trzy funkcje stanowią zaawansowaną część systemu zarządzania serwisem samochodowym:\n",
        "\n",
        "1. plan_maintenance - tworzy plan konserwacji:\n",
        "   - pobiera szczegóły samochodu i informacje o modelu\n",
        "   - tworzy nagłówek planu z danymi samochodu i przebiegiem\n",
        "   - jeśli znajdzie informacje o modelu:\n",
        "     - wypisuje listę typowych problemów\n",
        "     - dodaje szacowany czas\n",
        "   - jeśli nie znajdzie informacji, informuje o braku specyficznych zadań\n",
        "   - dodaje zalecenie konsultacji z mechanikiem\n",
        "\n",
        "2. create_calendar_invite - tworzy zaproszenie na wizytę:\n",
        "   - ustawia datę na tydzień do przodu\n",
        "   - ustawia godzinę na 10:00\n",
        "   - tworzy zaproszenie zawierające:\n",
        "     - typ wydarzenia\n",
        "     - szczegóły samochodu\n",
        "     - datę i godzinę\n",
        "     - czas trwania (domyślnie 60 minut)\n",
        "     - lokalizację warsztatu\n",
        "\n",
        "3. coordinate_car_care - główna funkcja koordynująca:\n",
        "   - sprawdza czy zapytanie dotyczy problemu czy rutynowej konserwacji\n",
        "   - dla problemu:\n",
        "     - wykonuje diagnostykę\n",
        "     - wyciąga najbardziej prawdopodobną przyczynę\n",
        "     - tworzy zaproszenie na naprawę\n",
        "   - dla rutynowej konserwacji:\n",
        "     - tworzy plan konserwacji\n",
        "     - wyciąga następne zadanie\n",
        "     - tworzy zaproszenie na konserwację\n",
        "   - dodaje przypomnienie o konsultacji z mechanikiem\n",
        "\n",
        "Funkcje te współpracują ze sobą, tworząc kompletny system od diagnozy przez planowanie po umówienie wizyty."
      ],
      "metadata": {
        "id": "turA_ei2jhFu"
      }
    },
    {
      "cell_type": "code",
      "source": [
        "retrieve_problems_tool = FunctionTool.from_defaults(fn=retrieve_problems)\n",
        "retrieve_parts_tool = FunctionTool.from_defaults(fn=retrieve_parts)\n",
        "diagnostic_tool = FunctionTool.from_defaults(fn=diagnose_car_problem)\n",
        "cost_estimator_tool = FunctionTool.from_defaults(fn=estimate_repair_cost)\n",
        "maintenance_schedule_tool = FunctionTool.from_defaults(fn=get_maintenance_schedule)\n",
        "comprehensive_diagnostic_tool = FunctionTool.from_defaults(fn=comprehensive_diagnosis)\n",
        "maintenance_planner_tool = FunctionTool.from_defaults(fn=plan_maintenance)\n",
        "calendar_invite_tool = FunctionTool.from_defaults(fn=create_calendar_invite)\n",
        "car_care_coordinator_tool = FunctionTool.from_defaults(fn=coordinate_car_care)\n",
        "retrieve_car_details_tool = FunctionTool.from_defaults(fn=retrieve_car_details)\n"
      ],
      "metadata": {
        "id": "xAupuiKojnOo"
      },
      "execution_count": null,
      "outputs": []
    },
    {
      "cell_type": "markdown",
      "source": [
        "Te linie kodu zamieniają wcześniej zdefiniowane funkcje na narzędzia (tools) do użycia z agentem:\n",
        "\n",
        "1. retrieve_problems_tool - narzędzie do wyszukiwania problemów\n",
        "2. retrieve_parts_tool - narzędzie do wyszukiwania części\n",
        "3. diagnostic_tool - narzędzie do diagnostyki\n",
        "4. cost_estimator_tool - narzędzie do szacowania kosztów\n",
        "5. maintenance_schedule_tool - narzędzie do harmonogramów konserwacji\n",
        "6. comprehensive_diagnostic_tool - narzędzie do pełnej diagnostyki\n",
        "7. maintenance_planner_tool - narzędzie do planowania konserwacji\n",
        "8. calendar_invite_tool - narzędzie do tworzenia zaproszeń kalendarzowych\n",
        "9. car_care_coordinator_tool - narzędzie do koordynacji opieki nad samochodem\n",
        "10. retrieve_car_details_tool - narzędzie do pobierania szczegółów samochodu\n",
        "\n",
        "Każde narzędzie jest tworzone metodą FunctionTool.from_defaults(), która zamienia zwykłą funkcję Pythona na narzędzie, które może być używane przez agenta do wykonywania zadań."
      ],
      "metadata": {
        "id": "_jK3qe4Xkltc"
      }
    },
    {
      "cell_type": "code",
      "source": [
        "\n",
        "tools = [\n",
        "    retrieve_problems_tool,\n",
        "    retrieve_parts_tool,\n",
        "    diagnostic_tool,\n",
        "    cost_estimator_tool,\n",
        "    maintenance_schedule_tool,\n",
        "    comprehensive_diagnostic_tool,\n",
        "    maintenance_planner_tool,\n",
        "    calendar_invite_tool,\n",
        "    car_care_coordinator_tool,\n",
        "    retrieve_car_details_tool,\n",
        "]\n",
        "\n",
        "\n"
      ],
      "metadata": {
        "id": "qKtNheb6k4nk"
      },
      "execution_count": null,
      "outputs": []
    },
    {
      "cell_type": "code",
      "source": [
        "\n",
        "agent_worker = FunctionCallingAgentWorker.from_tools(tools, llm=llm, verbose=True)\n",
        "agent = AgentRunner(agent_worker)\n"
      ],
      "metadata": {
        "id": "NvWhwFCmlrVj"
      },
      "execution_count": null,
      "outputs": []
    },
    {
      "cell_type": "markdown",
      "source": [
        "Te dwie linie kodu konfigurują system agenta:\n",
        "\n",
        "1. Tworzenie workera agenta:\n",
        "```python\n",
        "agent_worker = FunctionCallingAgentWorker.from_tools(tools, llm=llm, verbose=True)\n",
        "```\n",
        "- używa wcześniej zdefiniowanej listy narzędzi (tools)\n",
        "- wykorzystuje skonfigurowany model językowy (llm)\n",
        "- verbose=True włącza szczegółowe logowanie działań\n",
        "\n",
        "2. Tworzenie agenta:\n",
        "```python\n",
        "agent = AgentRunner(agent_worker)\n",
        "```\n",
        "- tworzy głównego agenta wykorzystującego przygotowanego workera\n",
        "- ten agent będzie odpowiedzialny za obsługę zapytań użytkownika i koordynację użycia odpowiednich narzędzi\n",
        "\n",
        "Ten system agenta będzie mógł analizować zapytania, wybierać odpowiednie narzędzia i wykonywać zadania związane z serwisem samochodowym w sposób zautomatyzowany."
      ],
      "metadata": {
        "id": "2lGD94M4l9fI"
      }
    },
    {
      "cell_type": "markdown",
      "source": [
        "# Run"
      ],
      "metadata": {
        "id": "aScwkPS8lKI5"
      }
    },
    {
      "cell_type": "code",
      "source": [
        "response = agent.chat(\n",
        "    \"My car has 60,000 miles on it. What maintenance should I be doing now, and how much will it cost?\"\n",
        ")"
      ],
      "metadata": {
        "colab": {
          "base_uri": "https://localhost:8080/"
        },
        "id": "WeR3TPtklK76",
        "outputId": "db1048ac-093c-431d-b72f-1cb48453a3c2"
      },
      "execution_count": null,
      "outputs": [
        {
          "output_type": "stream",
          "name": "stdout",
          "text": [
            "Added user message to memory: My car has 60,000 miles on it. What maintenance should I be doing now, and how much will it cost?\n",
            "=== LLM Response ===\n",
            "To provide you with the best maintenance plan and cost estimate, I need to know the make, model, and year of your car. Could you please provide that information?\n"
          ]
        }
      ]
    },
    {
      "cell_type": "code",
      "source": [
        "response = agent.chat(\n",
        "    \"I have a honda accord of 2017 model and it's mileage is 30000 right now, what are some common issues?\"\n",
        ")"
      ],
      "metadata": {
        "colab": {
          "base_uri": "https://localhost:8080/"
        },
        "id": "yp54G81gliMI",
        "outputId": "7fc6e21f-7945-42ca-be80-eeb4395e50dd"
      },
      "execution_count": null,
      "outputs": [
        {
          "output_type": "stream",
          "name": "stdout",
          "text": [
            "Added user message to memory: I have a honda accord of 2017 model and it's mileage is 30000 right now, what are some common issues?\n",
            "=== Calling Function ===\n",
            "Calling function: retrieve_car_details with args: {\"make\": \"Honda\", \"model\": \"Accord\", \"year\": 2017}\n",
            "=== Function Output ===\n",
            "2017 Honda Accord - Common Issues: Engine misfires, Electrical issues\n",
            "=== LLM Response ===\n",
            "The common issues for a 2017 Honda Accord include:\n",
            "\n",
            "1. **Engine Misfires**: This can be caused by faulty spark plugs, ignition coils, or fuel injectors.\n",
            "2. **Electrical Issues**: Problems with the electrical system, including battery, alternator, or wiring.\n",
            "\n",
            "If you have any specific symptoms or concerns, please let me know, and I can assist you further!\n"
          ]
        }
      ]
    },
    {
      "cell_type": "code",
      "source": [
        "response = agent.chat(\n",
        "    \"Can you help me with these issues, I want to do some maintenance and what's the cost for all of this services? for parts and all which will be required\"\n",
        ")"
      ],
      "metadata": {
        "colab": {
          "base_uri": "https://localhost:8080/"
        },
        "id": "RV4OB8ealy2J",
        "outputId": "a2b26d4b-0058-44f2-8af3-4560ee28450b"
      },
      "execution_count": null,
      "outputs": [
        {
          "output_type": "stream",
          "name": "stdout",
          "text": [
            "Added user message to memory: Can you help me with these issues, I want to do some maintenance and what's the cost for all of this services? for parts and all which will be required\n",
            "=== Calling Function ===\n",
            "Calling function: plan_maintenance with args: {\"mileage\": 30000, \"car_make\": \"Honda\", \"car_model\": \"Accord\", \"car_year\": 2017}\n",
            "=== Function Output ===\n",
            "Maintenance Plan for 2017 Honda Accord at 30000 miles:\n",
            "\n",
            "Car Details: 2017 Honda Accord - Common Issues: Engine misfires, Electrical issues\n",
            "\n",
            "Common Issues:\n",
            "- Engine misfires\n",
            "- Electrical issues\n",
            "\n",
            "Estimated Time: 3-4 hours\n",
            "\n",
            "Please consult with our certified mechanic for a more personalized maintenance plan.\n",
            "=== Calling Function ===\n",
            "Calling function: estimate_repair_cost with args: {\"problem\": \"Engine misfires\"}\n",
            "=== Function Output ===\n",
            "['\"max\": 600}}, {\"repair\": \"Fuel Pump Replacement\", \"average_cost\": 500, \"cost_range\": {\"min\": 400, \"max\": 700}}, {\"repair\": \"AC Compressor Replacement\", \"average_cost\": 800, \"cost_range\": {\"min\": 600, ', '[{\"repair\": \"Brake pad replacement\", \"average_cost\": 150, \"cost_range\": {\"min\": 100, \"max\": 300}}, {\"repair\": \"Oil change\", \"average_cost\": 50, \"cost_range\": {\"min\": 20, \"max\": 100}}, {\"repair\": \"Air ']\n",
            "=== Calling Function ===\n",
            "Calling function: estimate_repair_cost with args: {\"problem\": \"Electrical issues\"}\n",
            "=== Function Output ===\n",
            "['\"max\": 600}}, {\"repair\": \"Fuel Pump Replacement\", \"average_cost\": 500, \"cost_range\": {\"min\": 400, \"max\": 700}}, {\"repair\": \"AC Compressor Replacement\", \"average_cost\": 800, \"cost_range\": {\"min\": 600, ', '[{\"repair\": \"Brake pad replacement\", \"average_cost\": 150, \"cost_range\": {\"min\": 100, \"max\": 300}}, {\"repair\": \"Oil change\", \"average_cost\": 50, \"cost_range\": {\"min\": 20, \"max\": 100}}, {\"repair\": \"Air ']\n",
            "=== LLM Response ===\n",
            "### Maintenance Plan for 2017 Honda Accord at 30,000 miles:\n",
            "\n",
            "**Common Issues:**\n",
            "- Engine misfires\n",
            "- Electrical issues\n",
            "\n",
            "**Estimated Time:** 3-4 hours\n",
            "\n",
            "**Recommended Maintenance Tasks:**\n",
            "1. **Oil Change**: Regular oil changes are essential for engine health.\n",
            "2. **Brake Pad Replacement**: Check and replace if necessary.\n",
            "3. **Air Filter Replacement**: Ensure optimal airflow to the engine.\n",
            "4. **Battery Check**: Inspect the battery and electrical connections.\n",
            "\n",
            "### Estimated Costs for Common Repairs:\n",
            "1. **Engine Misfires**:\n",
            "   - **Spark Plug Replacement**: $100 - $300\n",
            "   - **Ignition Coil Replacement**: $150 - $400\n",
            "   - **Fuel Injector Cleaning/Replacement**: $100 - $600\n",
            "\n",
            "2. **Electrical Issues**:\n",
            "   - **Battery Replacement**: $100 - $200\n",
            "   - **Alternator Replacement**: $400 - $600\n",
            "   - **Wiring Repair**: $100 - $300\n",
            "\n",
            "### Total Estimated Costs:\n",
            "- **Oil Change**: $20 - $100\n",
            "- **Brake Pad Replacement**: $100 - $300\n",
            "- **Air Filter Replacement**: $20 - $50\n",
            "\n",
            "### Summary:\n",
            "- **Total Maintenance Cost Estimate**: Approximately $400 - $1,500 depending on the specific repairs needed.\n",
            "\n",
            "Please consult with a certified mechanic for a more personalized maintenance plan and to get exact quotes for parts and labor. If you need help scheduling an appointment or have any other questions, feel free to ask!\n"
          ]
        }
      ]
    }
  ]
}