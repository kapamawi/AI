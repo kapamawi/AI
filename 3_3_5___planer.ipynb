{
  "nbformat": 4,
  "nbformat_minor": 0,
  "metadata": {
    "colab": {
      "provenance": [],
      "include_colab_link": true
    },
    "kernelspec": {
      "name": "python3",
      "display_name": "Python 3"
    },
    "language_info": {
      "name": "python"
    }
  },
  "cells": [
    {
      "cell_type": "markdown",
      "metadata": {
        "id": "view-in-github",
        "colab_type": "text"
      },
      "source": [
        "<a href=\"https://colab.research.google.com/github/kapamawi/AI/blob/main/3_3_5___planer.ipynb\" target=\"_parent\"><img src=\"https://colab.research.google.com/assets/colab-badge.svg\" alt=\"Open In Colab\"/></a>"
      ]
    },
    {
      "cell_type": "markdown",
      "source": [
        "# Setup"
      ],
      "metadata": {
        "id": "sYsn95LWYBkF"
      }
    },
    {
      "cell_type": "code",
      "execution_count": null,
      "metadata": {
        "id": "vZfrQ-8FVy_w"
      },
      "outputs": [],
      "source": [
        "!pip install -qU langgraph langchain langchain-openai"
      ]
    },
    {
      "cell_type": "markdown",
      "source": [
        "Ten kod instaluje trzy pakiety Pythona:\n",
        "\n",
        "`langgraph` - narzędzie do tworzenia grafów przepływu danych dla aplikacji AI\n",
        "\n",
        "`langchain` - framework do budowania aplikacji wykorzystujących modele językowe\n",
        "\n",
        "`langchain-openai` - integracja OpenAI z LangChain\n",
        "\n",
        "Instalacja odbywa się przez pip z opcjami:\n",
        "- `-q` wycisza komunikaty podczas instalacji\n",
        "- `-U` aktualizuje pakiety do najnowszych wersji, jeśli są już zainstalowane"
      ],
      "metadata": {
        "id": "kfRi6JfBgDF9"
      }
    },
    {
      "cell_type": "code",
      "source": [
        "import os\n",
        "from typing import TypedDict, Annotated, List\n",
        "from langgraph.graph import StateGraph, END\n",
        "from langchain_core.messages import HumanMessage, AIMessage\n",
        "from langchain_core.prompts import ChatPromptTemplate\n",
        "from langchain_openai import ChatOpenAI\n",
        "from langchain_core.runnables.graph import MermaidDrawMethod\n",
        "from IPython.display import display, Image\n",
        "import os\n",
        "from google.colab import userdata\n"
      ],
      "metadata": {
        "id": "_GU0em6gYA4I"
      },
      "execution_count": null,
      "outputs": []
    },
    {
      "cell_type": "markdown",
      "source": [
        "Ten kod importuje niezbędne moduły i klasy do stworzenia grafu konwersacji:\n",
        "\n",
        "`os` - operacje na systemie plików\n",
        "\n",
        "`TypedDict, Annotated, List` - typy danych do typowania statycznego\n",
        "\n",
        "`StateGraph, END` z langgraph - budowa grafu stanów i znacznik końca\n",
        "\n",
        "`HumanMessage, AIMessage` - klasy wiadomości do konwersacji\n",
        "\n",
        "`ChatPromptTemplate` - szablony promptów dla modelu\n",
        "\n",
        "`ChatOpenAI` - integracja z modelami OpenAI\n",
        "\n",
        "`MermaidDrawMethod` - wizualizacja grafu w formacie Mermaid\n",
        "\n",
        "`display, Image` - wyświetlanie grafiki w notatniku\n",
        "\n",
        "`userdata` - dostęp do danych użytkownika w Google Colab"
      ],
      "metadata": {
        "id": "6w7vNaiugGHx"
      }
    },
    {
      "cell_type": "code",
      "source": [
        "class CFG:\n",
        "    model = 'gpt-4o-mini'\n",
        "    temp = 0.3\n",
        "\n",
        "os.environ[\"OPENAI_API_KEY\"] = userdata.get('openaivision')"
      ],
      "metadata": {
        "id": "HuWIrzTAbWWX"
      },
      "execution_count": null,
      "outputs": []
    },
    {
      "cell_type": "markdown",
      "source": [
        "Ten fragment definiuje konfigurację i ustawia klucz API:\n",
        "\n",
        "Klasa `CFG` zawiera parametry:\n",
        "- `model` - wybór modelu 'gpt-4o-mini'\n",
        "- `temp` - temperatura 0.3 (niższa wartość = bardziej przewidywalne odpowiedzi)\n",
        "\n",
        "Następnie kod ustawia klucz API OpenAI pobrany z danych użytkownika Google Colab."
      ],
      "metadata": {
        "id": "XmbPuDoki4oe"
      }
    },
    {
      "cell_type": "markdown",
      "source": [
        "# Agent"
      ],
      "metadata": {
        "id": "pt78OwbNcErv"
      }
    },
    {
      "cell_type": "code",
      "source": [
        "llm = ChatOpenAI(model = CFG.model)\n",
        "\n",
        "\n",
        "itinerary_prompt = ChatPromptTemplate.from_messages([\n",
        "    (\"system\", \"You are a helpful travel assistant. Create a day trip itinerary for {city} based on the user's interests: {interests}. Provide a brief, bulleted itinerary.\"),\n",
        "    (\"human\", \"Create an itinerary for my day trip.\"),\n",
        "])"
      ],
      "metadata": {
        "id": "wARro9qTbpcU"
      },
      "execution_count": null,
      "outputs": []
    },
    {
      "cell_type": "markdown",
      "source": [
        "Ten kod tworzy narzędzia do generowania planów podróży:\n",
        "\n",
        "Tworzy instancję modelu ChatOpenAI z ustawioną konfiguracją.\n",
        "\n",
        "Definiuje szablon promptu który:\n",
        "- Ustawia rolę asystenta podróży\n",
        "- Przyjmuje zmienne {city} oraz {interests}\n",
        "- Ma generować punktowy plan wycieczki"
      ],
      "metadata": {
        "id": "aV_NM85Zi6w5"
      }
    },
    {
      "cell_type": "code",
      "source": [
        "class PlannerState(TypedDict):\n",
        "    messages: Annotated[List[HumanMessage | AIMessage], \"The messages in the conversation\"]\n",
        "    city: str\n",
        "    interests: List[str]\n",
        "    itinerary: str"
      ],
      "metadata": {
        "id": "-xLcZ-kicIio"
      },
      "execution_count": null,
      "outputs": []
    },
    {
      "cell_type": "markdown",
      "source": [
        "Klasa `PlannerState` definiuje strukturę danych dla planera podróży zawierającą:\n",
        "- `messages` - lista wiadomości (od człowieka i AI)\n",
        "- `city` - nazwa miasta\n",
        "- `interests` - lista zainteresowań\n",
        "- `itinerary` - wygenerowany plan wycieczki\n",
        "\n",
        "Użyto `TypedDict` do statycznego typowania pól."
      ],
      "metadata": {
        "id": "iCUGqESIjCoA"
      }
    },
    {
      "cell_type": "code",
      "source": [
        "def input_city(state: PlannerState) -> PlannerState:\n",
        "    print(\"Please enter the city you want to visit for your day trip:\")\n",
        "    user_message = input(\"Your input: \")\n",
        "    return {\n",
        "        **state,\n",
        "        \"city\": user_message,\n",
        "        \"messages\": state['messages'] + [HumanMessage(content=user_message)],\n",
        "    }"
      ],
      "metadata": {
        "id": "5XjB2PVFcNuZ"
      },
      "execution_count": null,
      "outputs": []
    },
    {
      "cell_type": "markdown",
      "source": [
        "Ta funkcja obsługuje wprowadzanie miasta:\n",
        "\n",
        "- Wyświetla prośbę o podanie miasta\n",
        "- Pobiera dane wejściowe od użytkownika\n",
        "- Aktualizuje stan dodając nazwę miasta i nową wiadomość od użytkownika\n",
        "- Używa rozwinięcia słownika `**state` do zachowania pozostałych danych stanu"
      ],
      "metadata": {
        "id": "rQ3Zil20jEzd"
      }
    },
    {
      "cell_type": "code",
      "source": [
        "def input_interests(state: PlannerState) -> PlannerState:\n",
        "    print(f\"Please enter your interests for the trip to {state['city']} (comma-separated):\")\n",
        "    user_message = input(\"Your input: \")\n",
        "    return {\n",
        "        **state,\n",
        "        \"interests\": [interest.strip() for interest in user_message.split(',')],\n",
        "        \"messages\": state['messages'] + [HumanMessage(content=user_message)],\n",
        "    }"
      ],
      "metadata": {
        "id": "HkjjfLg3cPk6"
      },
      "execution_count": null,
      "outputs": []
    },
    {
      "cell_type": "markdown",
      "source": [
        "Funkcja zbiera zainteresowania użytkownika:\n",
        "- Prosi o wpisanie zainteresowań oddzielonych przecinkami\n",
        "- Przetwarza tekst na listę, usuwając białe znaki\n",
        "- Aktualizuje stan o listę zainteresowań i nową wiadomość\n",
        "- Zachowuje pozostałe dane stanu przez `**state`"
      ],
      "metadata": {
        "id": "vktqBkGpkMVh"
      }
    },
    {
      "cell_type": "code",
      "source": [
        "def create_itinerary(state: PlannerState) -> PlannerState:\n",
        "    print(f\"Creating an itinerary for {state['city']} based on interests: {', '.join(state['interests'])}...\")\n",
        "    response = llm.invoke(itinerary_prompt.format_messages(city=state['city'], interests=\", \".join(state['interests'])))\n",
        "    print(\"\\nFinal Itinerary:\")\n",
        "    print(response.content)\n",
        "    return {\n",
        "        **state,\n",
        "        \"messages\": state['messages'] + [AIMessage(content=response.content)],\n",
        "        \"itinerary\": response.content,\n",
        "    }"
      ],
      "metadata": {
        "id": "sMpW7RVYcvsT"
      },
      "execution_count": null,
      "outputs": []
    },
    {
      "cell_type": "markdown",
      "source": [
        "Funkcja tworzy szczegółowy plan wycieczki:\n",
        "- Informuje o tworzeniu planu dla wybranego miasta i zainteresowań\n",
        "- Używa LLM do wygenerowania planu na podstawie szablonu promptu\n",
        "- Wyświetla gotowy plan\n",
        "- Aktualizuje stan o wygenerowany plan i odpowiedź AI"
      ],
      "metadata": {
        "id": "HsDBpvBFkQSA"
      }
    },
    {
      "cell_type": "markdown",
      "source": [
        "# Graf"
      ],
      "metadata": {
        "id": "vib3X0kYcwTs"
      }
    },
    {
      "cell_type": "code",
      "source": [
        "workflow = StateGraph(PlannerState)\n",
        "\n",
        "workflow.add_node(\"input_city\", input_city)\n",
        "workflow.add_node(\"input_interests\", input_interests)\n",
        "workflow.add_node(\"create_itinerary\", create_itinerary)\n",
        "\n",
        "workflow.set_entry_point(\"input_city\")\n",
        "\n",
        "workflow.add_edge(\"input_city\", \"input_interests\")\n",
        "workflow.add_edge(\"input_interests\", \"create_itinerary\")\n",
        "workflow.add_edge(\"create_itinerary\", END)\n",
        "\n",
        "app = workflow.compile()"
      ],
      "metadata": {
        "id": "x9HZG7H7cxKK"
      },
      "execution_count": null,
      "outputs": []
    },
    {
      "cell_type": "markdown",
      "source": [
        "Ten kod tworzy i konfiguruje strukturę przepływu danych:\n",
        "\n",
        "1. `workflow = StateGraph(PlannerState)` - inicjalizacja grafu ze zdefiniowanym stanem\n",
        "\n",
        "2. Dodawanie węzłów z odpowiadającymi funkcjami:\n",
        "   ```python\n",
        "   workflow.add_node(\"input_city\", input_city)\n",
        "   workflow.add_node(\"input_interests\", input_interests)\n",
        "   workflow.add_node(\"create_itinerary\", create_itinerary)\n",
        "   ```\n",
        "\n",
        "3. `workflow.set_entry_point(\"input_city\")` - ustawienie początkowego węzła\n",
        "\n",
        "4. Definiowanie połączeń między węzłami:\n",
        "   ```python\n",
        "   workflow.add_edge(\"input_city\", \"input_interests\")\n",
        "   workflow.add_edge(\"input_interests\", \"create_itinerary\")\n",
        "   workflow.add_edge(\"create_itinerary\", END)\n",
        "   ```\n",
        "\n",
        "5. `app = workflow.compile()` - finalizacja grafu do postaci wykonywalnej aplikacji"
      ],
      "metadata": {
        "id": "fl0Gaq7tkzY-"
      }
    },
    {
      "cell_type": "code",
      "source": [
        "display(\n",
        "    Image(\n",
        "        app.get_graph().draw_mermaid_png(\n",
        "            draw_method=MermaidDrawMethod.API,\n",
        "        )\n",
        "    )\n",
        ")"
      ],
      "metadata": {
        "colab": {
          "base_uri": "https://localhost:8080/",
          "height": 449
        },
        "id": "orymBaXJcyuY",
        "outputId": "503b30d4-72c7-4096-983b-a9b9f73faf05"
      },
      "execution_count": null,
      "outputs": [
        {
          "output_type": "display_data",
          "data": {
            "image/png": "[encoded data removed]",
            "text/plain": [
              "<IPython.core.display.Image object>"
            ]
          },
          "metadata": {}
        }
      ]
    },
    {
      "cell_type": "markdown",
      "source": [
        "Ten kod wizualizuje stworzony wcześniej graf:\n",
        "\n",
        "1. Pobiera strukturę grafu metodą `get_graph()`\n",
        "2. Generuje obraz w formacie PNG używając notacji Mermaid\n",
        "3. Przekształca go w obiekt `Image`\n",
        "4. Wyświetla diagram w notebooku za pomocą funkcji `display()`\n",
        "\n",
        "Pozwala to zobaczyć graficzną reprezentację przepływu danych między węzłami aplikacji."
      ],
      "metadata": {
        "id": "riYtk7-qk4vU"
      }
    },
    {
      "cell_type": "code",
      "source": [
        "def run_travel_planner(user_request: str):\n",
        "    print(f\"Initial Request: {user_request}\\n\")\n",
        "    state = {\n",
        "        \"messages\": [HumanMessage(content=user_request)],\n",
        "        \"city\": \"\",\n",
        "        \"interests\": [],\n",
        "        \"itinerary\": \"\",\n",
        "    }\n",
        "\n",
        "    for output in app.stream(state):\n",
        "        pass  # The nodes themselves now handle all printing"
      ],
      "metadata": {
        "id": "i125zansc1zt"
      },
      "execution_count": null,
      "outputs": []
    },
    {
      "cell_type": "markdown",
      "source": [
        "Ta funkcja uruchamia planer podróży:\n",
        "\n",
        "1. Przyjmuje początkowe zapytanie użytkownika i wyświetla je\n",
        "\n",
        "2. Tworzy stan początkowy ze słownikiem zawierającym:\n",
        "   - wiadomość od użytkownika\n",
        "   - puste miasto\n",
        "   - pustą listę zainteresowań\n",
        "   - pusty plan podróży\n",
        "\n",
        "3. Uruchamia aplikację metodą `stream()` na utworzonym stanie\n",
        "\n",
        "4. Pomija wyniki pośrednie (`pass`), ponieważ węzły same obsługują wyświetlanie informacji"
      ],
      "metadata": {
        "id": "TN4ihJAdlvpd"
      }
    },
    {
      "cell_type": "markdown",
      "source": [
        "# Test"
      ],
      "metadata": {
        "id": "Ms98vW_Ic3HR"
      }
    },
    {
      "cell_type": "code",
      "source": [
        "\n",
        "user_request = \"I want to plan a day trip.\"\n",
        "run_travel_planner(user_request)"
      ],
      "metadata": {
        "colab": {
          "base_uri": "https://localhost:8080/"
        },
        "id": "20TbV_5uc31z",
        "outputId": "90eed878-988e-43de-c7b6-e49b964b3aac"
      },
      "execution_count": null,
      "outputs": [
        {
          "output_type": "stream",
          "name": "stdout",
          "text": [
            "Initial Request: I want to plan a day trip.\n",
            "\n",
            "Please enter the city you want to visit for your day trip:\n",
            "Your input: Warsaw\n",
            "Please enter your interests for the trip to Warsaw (comma-separated):\n",
            "Your input: Cuisine\n",
            "Creating an itinerary for Warsaw based on interests: Cuisine...\n",
            "\n",
            "Final Itinerary:\n",
            "### Day Trip Itinerary: Culinary Delights in Warsaw\n",
            "\n",
            "**Morning: Traditional Polish Breakfast**\n",
            "- **9:00 AM - 10:00 AM:** Breakfast at **Cafe Bristol**  \n",
            "  - Enjoy traditional Polish dishes like **jajecznica** (scrambled eggs) with homemade bread and **kawa** (coffee).\n",
            "\n",
            "**Mid-Morning: Food Market Exploration**\n",
            "- **10:30 AM - 12:00 PM:** Visit **Hala Mirowska**  \n",
            "  - Explore this vibrant market featuring local produce, meats, and cheeses. Sample some local delicacies like **pierogi** (dumplings) and **bigos** (hunter's stew).\n",
            "\n",
            "**Lunch: Iconic Polish Cuisine**\n",
            "- **12:30 PM - 1:30 PM:** Lunch at **Zapiecek**  \n",
            "  - Indulge in a variety of **pierogi** fillings, both savory and sweet, served with sour cream.\n",
            "\n",
            "**Afternoon: Sweet Treats & Cultural Experience**\n",
            "- **2:00 PM - 3:00 PM:** Visit **Cukiernia Pawłowicz**  \n",
            "  - Try traditional Polish pastries like **szarlotka** (apple pie) or **pączki** (Polish donuts) with a cup of tea or coffee.\n",
            "\n",
            "**Late Afternoon: Cooking Class**\n",
            "- **3:30 PM - 5:30 PM:** Polish Cooking Class at **CookUp**  \n",
            "  - Participate in a hands-on cooking class where you’ll learn to make classic Polish dishes, including **barszcz** (beet soup) and **gołąbki** (stuffed cabbage).\n",
            "\n",
            "**Dinner: Modern Polish Cuisine**\n",
            "- **6:00 PM - 8:00 PM:** Dinner at **Kieliszki na Próżnej**  \n",
            "  - Experience a modern twist on Polish cuisine with dishes prepared using seasonal ingredients. Don't forget to try a local craft beer or vodka!\n",
            "\n",
            "**Evening: Nightcap**\n",
            "- **8:30 PM - 10:00 PM:** End the day at **Woda Ognista**  \n",
            "  - Sip on some traditional Polish spirits or cocktails in a cozy atmosphere, reflecting on your culinary journey throughout the day.\n",
            "\n",
            "Enjoy your culinary adventure in Warsaw!\n"
          ]
        }
      ]
    }
  ]
}