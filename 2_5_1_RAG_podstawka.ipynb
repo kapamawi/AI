{
  "nbformat": 4,
  "nbformat_minor": 0,
  "metadata": {
    "colab": {
      "provenance": [],
      "include_colab_link": true
    },
    "kernelspec": {
      "name": "python3",
      "display_name": "Python 3"
    },
    "language_info": {
      "name": "python"
    }
  },
  "cells": [
    {
      "cell_type": "markdown",
      "metadata": {
        "id": "view-in-github",
        "colab_type": "text"
      },
      "source": [
        "<a href=\"https://colab.research.google.com/github/kapamawi/AI/blob/main/2_5_1_RAG_podstawka.ipynb\" target=\"_parent\"><img src=\"https://colab.research.google.com/assets/colab-badge.svg\" alt=\"Open In Colab\"/></a>"
      ]
    },
    {
      "cell_type": "markdown",
      "source": [
        "# Setup"
      ],
      "metadata": {
        "id": "Repaa14kNFci"
      }
    },
    {
      "cell_type": "code",
      "execution_count": null,
      "metadata": {
        "id": "wZBeMzWBIviG"
      },
      "outputs": [],
      "source": [
        "!pip install -qU llama-index-llms-openai llama-index-readers-file llama-index-embeddings-openai"
      ]
    },
    {
      "cell_type": "markdown",
      "source": [
        "Ta linijka kodu instaluje pakiet `llama-index-llms-openai` w środowisku Python. Jest to biblioteka służąca do integracji modeli językowych OpenAI z LlamaIndex - systemem służącym do tworzenia aplikacji wykorzystujących sztuczną inteligencję na własnych danych.\n",
        "\n",
        "Flagi użyte w komendzie:\n",
        "- `-q` - tryb cichy, ogranicza wyświetlanie informacji o postępie instalacji\n",
        "- `-U` - aktualizuje pakiet do najnowszej wersji, jeśli był wcześniej zainstalowany\n",
        "\n",
        "Polecenie używa menedżera pakietów pip, który jest standardowym narzędziem do instalacji bibliotek Pythona."
      ],
      "metadata": {
        "id": "0kIg7nk6aAmx"
      }
    },
    {
      "cell_type": "code",
      "source": [
        "from llama_index.core.agent import ReActAgent\n",
        "from llama_index.llms.openai import OpenAI\n",
        "from llama_index.core.tools import FunctionTool\n",
        "from llama_index.core import SimpleDirectoryReader, VectorStoreIndex, Settings\n",
        "from llama_index.core.tools import QueryEngineTool\n",
        "import os\n",
        "from google.colab import userdata\n"
      ],
      "metadata": {
        "id": "CyNkg1jmNG_2"
      },
      "execution_count": null,
      "outputs": []
    },
    {
      "cell_type": "markdown",
      "source": [
        "Te linie importują niezbędne komponenty z biblioteki LlamaIndex:\n",
        "\n",
        "`ReActAgent` - agent AI wykorzystujący metodologię \"myśl-działaj\" do rozwiązywania zadań\n",
        "\n",
        "`OpenAI` - interfejs do modeli językowych OpenAI\n",
        "\n",
        "`FunctionTool` - narzędzie do tworzenia funkcji dostępnych dla agenta\n",
        "\n",
        "`SimpleDirectoryReader`, `VectorStoreIndex`, `Settings` - komponenty do wczytywania danych i tworzenia indeksów wektorowych\n",
        "\n",
        "`QueryEngineTool` - narzędzie do wykonywania zapytań na indeksie"
      ],
      "metadata": {
        "id": "nYonsxwfb0IP"
      }
    },
    {
      "cell_type": "code",
      "source": [
        "class CFG:\n",
        "  model1 = \"gpt-4o-mini\"\n",
        "  temperature = 0.1\n",
        "  chunksize = 1024"
      ],
      "metadata": {
        "id": "0xFNOMZ6fD6w"
      },
      "execution_count": null,
      "outputs": []
    },
    {
      "cell_type": "code",
      "source": [
        "os.environ[\"OPENAI_API_KEY\"] = userdata.get('openaivision')\n"
      ],
      "metadata": {
        "id": "qAyM8wkbtEPi"
      },
      "execution_count": null,
      "outputs": []
    },
    {
      "cell_type": "code",
      "source": [
        "\n",
        "Settings.llm = OpenAI(model= CFG.model1, temperature = CFG.temperature)\n"
      ],
      "metadata": {
        "id": "4x1tAiUcfG6u"
      },
      "execution_count": null,
      "outputs": []
    },
    {
      "cell_type": "markdown",
      "source": [
        "# Functions"
      ],
      "metadata": {
        "id": "t6X2WOkpfIOd"
      }
    },
    {
      "cell_type": "code",
      "source": [
        "def multiply(a: float, b: float) -> float:\n",
        "    \"\"\"Multiply two numbers and returns the product\"\"\"\n",
        "    return a * b\n",
        "\n",
        "multiply_tool = FunctionTool.from_defaults(fn=multiply)\n"
      ],
      "metadata": {
        "id": "11izJ5FeoxeG"
      },
      "execution_count": null,
      "outputs": []
    },
    {
      "cell_type": "markdown",
      "source": [
        "Te linie definiują prostą funkcję mnożenia i tworzą z niej narzędzie dla agenta:\n",
        "\n",
        "`def multiply(a: float, b: float) -> float` - funkcja przyjmuje dwie liczby i zwraca ich iloczyn. Adnotacje typu wskazują, że argumenty i wynik są liczbami zmiennoprzecinkowymi.\n",
        "\n",
        "`multiply_tool = FunctionTool.from_defaults(fn=multiply)` - tworzy narzędzie z funkcji multiply, które agent będzie mógł wykorzystywać w swoich działaniach."
      ],
      "metadata": {
        "id": "S9371e5ox2jW"
      }
    },
    {
      "cell_type": "code",
      "source": [
        "def add(a: float, b: float) -> float:\n",
        "    \"\"\"Add two numbers and returns the sum\"\"\"\n",
        "    return a + b\n",
        "\n",
        "add_tool = FunctionTool.from_defaults(fn=add)"
      ],
      "metadata": {
        "id": "_J05Jn7ufJDs"
      },
      "execution_count": null,
      "outputs": []
    },
    {
      "cell_type": "code",
      "source": [
        "def subtract(a: float, b: float) -> float:\n",
        "    \"\"\"Subtract two numbers and returns the difference\"\"\"\n",
        "    return a - b\n",
        "\n",
        "subtract_tool = FunctionTool.from_defaults(fn=subtract)"
      ],
      "metadata": {
        "id": "fQAZq7a6qvh5"
      },
      "execution_count": null,
      "outputs": []
    },
    {
      "cell_type": "markdown",
      "source": [
        "# RAG"
      ],
      "metadata": {
        "id": "QsLpvBGoqlCp"
      }
    },
    {
      "cell_type": "code",
      "source": [
        "# rag pipeline\n",
        "documents = SimpleDirectoryReader(\"/content/\", required_exts = ['.pdf']).load_data()\n",
        "index = VectorStoreIndex.from_documents(documents)\n",
        "query_engine = index.as_query_engine()\n"
      ],
      "metadata": {
        "id": "1rmfrR-SqmoW"
      },
      "execution_count": null,
      "outputs": []
    },
    {
      "cell_type": "markdown",
      "source": [
        "Te linie tworzą pipeline RAG (Retrieval Augmented Generation):\n",
        "\n",
        "`documents = SimpleDirectoryReader(...).load_data()` - wczytuje pliki PDF z katalogu `/content/`\n",
        "\n",
        "`index = VectorStoreIndex.from_documents(documents)` - tworzy indeks wektorowy z dokumentów\n",
        "\n",
        "`query_engine = index.as_query_engine()` - tworzy silnik zapytań na indeksie, pozwalający na wyszukiwanie informacji w dokumentach"
      ],
      "metadata": {
        "id": "XMcfSoCUyVtt"
      }
    },
    {
      "cell_type": "code",
      "source": [
        "response = query_engine.query(\"What is the total deficit of the 2025 Netherlands  budget? go step by step\")\n",
        "print(response)\n"
      ],
      "metadata": {
        "colab": {
          "base_uri": "https://localhost:8080/"
        },
        "id": "aZnrs6lxq5b4",
        "outputId": "579706cb-c6b8-4d02-e55b-220d5e8500c7"
      },
      "execution_count": null,
      "outputs": [
        {
          "output_type": "stream",
          "name": "stdout",
          "text": [
            "To determine the total deficit of the 2025 Netherlands budget, we can follow these steps:\n",
            "\n",
            "1. **Identify Total Revenue**: The proposed total revenue for the budget is €425.1 billion.\n",
            "\n",
            "2. **Identify Total Expenditures**: The proposed total expenditures for the budget are €457.0 billion.\n",
            "\n",
            "3. **Calculate the Deficit**: The deficit can be calculated by subtracting the total revenue from the total expenditures:\n",
            "   \\[\n",
            "   \\text{Deficit} = \\text{Total Expenditures} - \\text{Total Revenue}\n",
            "   \\]\n",
            "   \\[\n",
            "   \\text{Deficit} = €457.0 \\text{ billion} - €425.1 \\text{ billion} = €31.9 \\text{ billion}\n",
            "   \\]\n",
            "\n",
            "Thus, the total deficit of the 2025 Netherlands budget is projected to be €31.9 billion.\n"
          ]
        }
      ]
    },
    {
      "cell_type": "code",
      "source": [
        "response = query_engine.query(\"What is half the total deficit of the 2025 Netherlands  budget? go step by step\")\n",
        "print(response)\n"
      ],
      "metadata": {
        "colab": {
          "base_uri": "https://localhost:8080/"
        },
        "id": "cHqPd9VHxi--",
        "outputId": "031e7d3d-9e8c-493f-ce2c-0a0848265f78"
      },
      "execution_count": null,
      "outputs": [
        {
          "output_type": "stream",
          "name": "stdout",
          "text": [
            "To find half the total deficit of the 2025 Netherlands budget, follow these steps:\n",
            "\n",
            "1. Identify the total deficit from the budget information provided. The total deficit is projected to be €31.9 billion.\n",
            "\n",
            "2. Calculate half of the total deficit:\n",
            "   \\[\n",
            "   \\text{Half of the total deficit} = \\frac{31.9 \\text{ billion}}{2} = 15.95 \\text{ billion}\n",
            "   \\]\n",
            "\n",
            "Therefore, half the total deficit of the 2025 Netherlands budget is €15.95 billion.\n"
          ]
        }
      ]
    },
    {
      "cell_type": "code",
      "source": [
        "\n",
        "response = query_engine.query(\"What is half the difference between the revenue and expenditures? ? go step by step\")\n",
        "print(response)\n",
        "\n"
      ],
      "metadata": {
        "colab": {
          "base_uri": "https://localhost:8080/"
        },
        "id": "1AOaxEp3wyJH",
        "outputId": "2f9eda5a-ca0e-4dd1-cf8b-67802a989fb0"
      },
      "execution_count": null,
      "outputs": [
        {
          "output_type": "stream",
          "name": "stdout",
          "text": [
            "To find half the difference between the revenue and expenditures, follow these steps:\n",
            "\n",
            "1. **Identify the revenue and expenditures**:\n",
            "   - Revenue: €425.1 billion\n",
            "   - Expenditures: €457 billion\n",
            "\n",
            "2. **Calculate the difference between expenditures and revenue**:\n",
            "   \\[\n",
            "   \\text{Difference} = \\text{Expenditures} - \\text{Revenue} = €457 \\text{ billion} - €425.1 \\text{ billion} = €31.9 \\text{ billion}\n",
            "   \\]\n",
            "\n",
            "3. **Calculate half of the difference**:\n",
            "   \\[\n",
            "   \\text{Half the Difference} = \\frac{€31.9 \\text{ billion}}{2} = €15.95 \\text{ billion}\n",
            "   \\]\n",
            "\n",
            "Thus, half the difference between the revenue and expenditures is €15.95 billion.\n"
          ]
        }
      ]
    },
    {
      "cell_type": "code",
      "source": [
        "# rag pipeline as a tool\n",
        "budget_tool = QueryEngineTool.from_defaults(\n",
        "    query_engine,\n",
        "    name=\"nl_budget_2025\",\n",
        "    description=\"A RAG engine with some basic facts about the 2025 NL budget.\"\n",
        ")\n"
      ],
      "metadata": {
        "id": "0bT7jKKFtX-U"
      },
      "execution_count": null,
      "outputs": []
    },
    {
      "cell_type": "markdown",
      "source": [
        "Te linie tworzą narzędzie RAG dla agenta:\n",
        "\n",
        "`budget_tool = QueryEngineTool.from_defaults(...)` - zamienia wcześniej utworzony silnik zapytań w narzędzie, które agent może wykorzystywać.\n",
        "\n",
        "Parametry:\n",
        "- `query_engine` - wcześniej utworzony silnik zapytań\n",
        "- `name=\"nl_budget_2025\"` - nazwa narzędzia\n",
        "- `description=...` - opis wskazujący, że narzędzie służy do odpowiadania na pytania o budżet Holandii na 2025 rok"
      ],
      "metadata": {
        "id": "EsRPc3gOyc1j"
      }
    },
    {
      "cell_type": "code",
      "source": [
        "\n",
        "agent = ReActAgent.from_tools([multiply_tool, add_tool, subtract_tool,budget_tool], verbose=True)\n",
        "\n",
        "response = agent.chat(\"What is the difference between the revenue and expenditures? Go step by step, using a tool to do any math.\")\n",
        "\n",
        "print(response)"
      ],
      "metadata": {
        "colab": {
          "base_uri": "https://localhost:8080/"
        },
        "id": "H_PMQVs4uWh4",
        "outputId": "13cdb248-5a5a-41d3-8926-b652221ceee2"
      },
      "execution_count": null,
      "outputs": [
        {
          "output_type": "stream",
          "name": "stdout",
          "text": [
            "> Running step 48ec4f6e-dba3-4073-a773-11086accc675. Step input: What is the difference between the revenue and expenditures? Go step by step, using a tool to do any math.\n",
            "\u001b[1;3;38;5;200mThought: The current language of the user is: English. I need to use a tool to help me answer the question about the difference between revenue and expenditures. First, I need to gather information about the revenue and expenditures from the 2025 NL budget.\n",
            "Action: nl_budget_2025\n",
            "Action Input: {'input': 'What are the revenue and expenditures for the 2025 NL budget?'}\n",
            "\u001b[0m\u001b[1;3;34mObservation: The revenue for the 2025 Netherlands budget is proposed at €425.1 billion, while the expenditures are proposed at €457.0 billion.\n",
            "\u001b[0m> Running step e170c8e6-becd-4c9f-baf0-22b609f85306. Step input: None\n",
            "\u001b[1;3;38;5;200mThought: I have the revenue and expenditures for the 2025 NL budget. The revenue is €425.1 billion and the expenditures are €457.0 billion. Now, I will calculate the difference between the expenditures and the revenue.\n",
            "Action: subtract\n",
            "Action Input: {'a': 457.0, 'b': 425.1}\n",
            "\u001b[0m\u001b[1;3;34mObservation: 31.899999999999977\n",
            "\u001b[0m> Running step f28ffa9a-2a6a-4ce7-89d4-126945b4f382. Step input: None\n",
            "\u001b[1;3;38;5;200mThought: I can answer without using any more tools. I'll use the user's language to answer.\n",
            "Answer: The difference between the expenditures and the revenue for the 2025 Netherlands budget is approximately €31.90 billion, with expenditures exceeding revenue.\n",
            "\u001b[0mThe difference between the expenditures and the revenue for the 2025 Netherlands budget is approximately €31.90 billion, with expenditures exceeding revenue.\n"
          ]
        }
      ]
    },
    {
      "cell_type": "markdown",
      "source": [
        "Te linie tworzą agenta i wykonują zapytanie:\n",
        "\n",
        "`agent = ReActAgent.from_tools(...)` - tworzy agenta z dostępem do czterech narzędzi: mnożenia, dodawania, odejmowania i narzędzia budżetowego. Parametr `verbose=True` włącza szczegółowe logowanie.\n",
        "\n",
        "`response = agent.chat(...)` - wysyła do agenta pytanie o różnicę między dochodami a wydatkami. Instrukcja sugeruje wykonanie obliczeń krok po kroku.\n",
        "\n",
        "`print(response)` - wyświetla odpowiedź agenta."
      ],
      "metadata": {
        "id": "U_FT0PwPygZ2"
      }
    },
    {
      "cell_type": "code",
      "source": [
        "\n",
        "response = agent.chat(\"What is half the difference between the revenue and expenditures? Go step by step, using a tool to do any math.\")\n",
        "\n",
        "print(response)"
      ],
      "metadata": {
        "colab": {
          "base_uri": "https://localhost:8080/"
        },
        "id": "n1yUn7Tjxtw_",
        "outputId": "fd7e9a80-41f1-430e-ba89-4124c5bef157"
      },
      "execution_count": null,
      "outputs": [
        {
          "output_type": "stream",
          "name": "stdout",
          "text": [
            "> Running step fd8854c7-5d71-44dc-8167-bce5c425760b. Step input: What is half the difference between the revenue and expenditures? Go step by step, using a tool to do any math.\n",
            "\u001b[1;3;38;5;200mThought: To find half the difference between the revenue and expenditures, I first need to calculate the difference. The difference is €31.90 billion. Then, I will divide that by 2. I will use the subtract tool to find the difference and then the multiply tool to find half of it.\n",
            "Action: subtract\n",
            "Action Input: {'a': 0, 'b': 31.9}\n",
            "\u001b[0m\u001b[1;3;34mObservation: -31.9\n",
            "\u001b[0m> Running step 046b1f92-9b85-4bbb-8f8a-22658123cb47. Step input: None\n",
            "\u001b[1;3;38;5;200mThought: The difference between the revenue and expenditures is -31.9 billion euros. Now, I will calculate half of this difference by multiplying it by 0.5.\n",
            "Action: multiply\n",
            "Action Input: {'a': -31.9, 'b': 0.5}\n",
            "\u001b[0m\u001b[1;3;34mObservation: -15.95\n",
            "\u001b[0m> Running step e803edf8-8741-4037-b75f-39c395a62105. Step input: None\n",
            "\u001b[1;3;38;5;200mThought: I can answer without using any more tools. I'll use the user's language to answer.\n",
            "Answer: Half the difference between the revenue and expenditures is -15.95 billion euros.\n",
            "\u001b[0mHalf the difference between the revenue and expenditures is -15.95 billion euros.\n"
          ]
        }
      ]
    }
  ]
}