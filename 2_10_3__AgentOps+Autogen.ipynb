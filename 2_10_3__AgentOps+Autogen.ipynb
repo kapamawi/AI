{
  "nbformat": 4,
  "nbformat_minor": 0,
  "metadata": {
    "colab": {
      "provenance": [],
      "include_colab_link": true
    },
    "kernelspec": {
      "name": "python3",
      "display_name": "Python 3"
    },
    "language_info": {
      "name": "python"
    }
  },
  "cells": [
    {
      "cell_type": "markdown",
      "metadata": {
        "id": "view-in-github",
        "colab_type": "text"
      },
      "source": [
        "<a href=\"https://colab.research.google.com/github/kapamawi/AI/blob/main/2_10_3__AgentOps%2BAutogen.ipynb\" target=\"_parent\"><img src=\"https://colab.research.google.com/assets/colab-badge.svg\" alt=\"Open In Colab\"/></a>"
      ]
    },
    {
      "cell_type": "markdown",
      "source": [
        "# Setup"
      ],
      "metadata": {
        "id": "dEYf6Y5b2_Hu"
      }
    },
    {
      "cell_type": "code",
      "source": [
        "!pip install -q openai==1.55.3 httpx==0.27.2 --force-reinstall --quiet"
      ],
      "metadata": {
        "colab": {
          "base_uri": "https://localhost:8080/"
        },
        "id": "SPVWmWP837aK",
        "outputId": "9ca0db09-1158-4a8f-ac23-0ea5dd707aaa"
      },
      "execution_count": null,
      "outputs": [
        {
          "output_type": "stream",
          "name": "stdout",
          "text": [
            "\u001b[2K     \u001b[90m━━━━━━━━━━━━━━━━━━━━━━━━━━━━━━━━━━━━━━━━\u001b[0m \u001b[32m57.7/57.7 kB\u001b[0m \u001b[31m3.4 MB/s\u001b[0m eta \u001b[36m0:00:00\u001b[0m\n",
            "\u001b[2K   \u001b[90m━━━━━━━━━━━━━━━━━━━━━━━━━━━━━━━━━━━━━━━━\u001b[0m \u001b[32m389.6/389.6 kB\u001b[0m \u001b[31m12.0 MB/s\u001b[0m eta \u001b[36m0:00:00\u001b[0m\n",
            "\u001b[2K   \u001b[90m━━━━━━━━━━━━━━━━━━━━━━━━━━━━━━━━━━━━━━━━\u001b[0m \u001b[32m76.4/76.4 kB\u001b[0m \u001b[31m5.8 MB/s\u001b[0m eta \u001b[36m0:00:00\u001b[0m\n",
            "\u001b[2K   \u001b[90m━━━━━━━━━━━━━━━━━━━━━━━━━━━━━━━━━━━━━━━━\u001b[0m \u001b[32m78.6/78.6 kB\u001b[0m \u001b[31m5.5 MB/s\u001b[0m eta \u001b[36m0:00:00\u001b[0m\n",
            "\u001b[2K   \u001b[90m━━━━━━━━━━━━━━━━━━━━━━━━━━━━━━━━━━━━━━━━\u001b[0m \u001b[32m93.1/93.1 kB\u001b[0m \u001b[31m6.7 MB/s\u001b[0m eta \u001b[36m0:00:00\u001b[0m\n",
            "\u001b[2K   \u001b[90m━━━━━━━━━━━━━━━━━━━━━━━━━━━━━━━━━━━━━━━━\u001b[0m \u001b[32m70.4/70.4 kB\u001b[0m \u001b[31m3.8 MB/s\u001b[0m eta \u001b[36m0:00:00\u001b[0m\n",
            "\u001b[2K   \u001b[90m━━━━━━━━━━━━━━━━━━━━━━━━━━━━━━━━━━━━━━━━\u001b[0m \u001b[32m345.0/345.0 kB\u001b[0m \u001b[31m21.4 MB/s\u001b[0m eta \u001b[36m0:00:00\u001b[0m\n",
            "\u001b[2K   \u001b[90m━━━━━━━━━━━━━━━━━━━━━━━━━━━━━━━━━━━━━━━━\u001b[0m \u001b[32m431.8/431.8 kB\u001b[0m \u001b[31m24.1 MB/s\u001b[0m eta \u001b[36m0:00:00\u001b[0m\n",
            "\u001b[2K   \u001b[90m━━━━━━━━━━━━━━━━━━━━━━━━━━━━━━━━━━━━━━━━\u001b[0m \u001b[32m2.0/2.0 MB\u001b[0m \u001b[31m38.1 MB/s\u001b[0m eta \u001b[36m0:00:00\u001b[0m\n",
            "\u001b[2K   \u001b[90m━━━━━━━━━━━━━━━━━━━━━━━━━━━━━━━━━━━━━━━━\u001b[0m \u001b[32m78.5/78.5 kB\u001b[0m \u001b[31m5.6 MB/s\u001b[0m eta \u001b[36m0:00:00\u001b[0m\n",
            "\u001b[2K   \u001b[90m━━━━━━━━━━━━━━━━━━━━━━━━━━━━━━━━━━━━━━━━\u001b[0m \u001b[32m164.9/164.9 kB\u001b[0m \u001b[31m11.4 MB/s\u001b[0m eta \u001b[36m0:00:00\u001b[0m\n",
            "\u001b[2K   \u001b[90m━━━━━━━━━━━━━━━━━━━━━━━━━━━━━━━━━━━━━━━━\u001b[0m \u001b[32m58.3/58.3 kB\u001b[0m \u001b[31m4.7 MB/s\u001b[0m eta \u001b[36m0:00:00\u001b[0m\n",
            "\u001b[?25h\u001b[31mERROR: pip's dependency resolver does not currently take into account all the packages that are installed. This behaviour is the source of the following dependency conflicts.\n",
            "jupyter-server 1.24.0 requires anyio<4,>=3.1.0, but you have anyio 4.7.0 which is incompatible.\u001b[0m\u001b[31m\n",
            "\u001b[0m"
          ]
        }
      ]
    },
    {
      "cell_type": "markdown",
      "source": [
        "Kod wykonuje instalację dwóch konkretnych pakietów Python przy użyciu narzędzia pip:\n",
        "\n",
        "- Instaluje pakiet openai w wersji 1.55.3\n",
        "- Instaluje pakiet httpx w wersji 0.27.2\n",
        "\n",
        "Flaga `-q` (lub `--quiet`) sprawia, że pip wyświetla mniej komunikatów podczas instalacji.\n",
        "\n",
        "`--force-reinstall` wymusza ponowną instalację pakietów, nawet jeśli są już zainstalowane.\n",
        "\n",
        "`--quiet` na końcu dodatkowo ogranicza wyświetlanie komunikatów podczas procesu instalacji.\n"
      ],
      "metadata": {
        "id": "vEutDWNhqmYq"
      }
    },
    {
      "cell_type": "code",
      "execution_count": null,
      "metadata": {
        "id": "0TOLzgdG0Aq7",
        "colab": {
          "base_uri": "https://localhost:8080/"
        },
        "outputId": "292b8ce8-522f-45c1-c2a5-8059721a4b47"
      },
      "outputs": [
        {
          "output_type": "stream",
          "name": "stdout",
          "text": [
            "\u001b[?25l   \u001b[90m━━━━━━━━━━━━━━━━━━━━━━━━━━━━━━━━━━━━━━━━\u001b[0m \u001b[32m0.0/382.3 kB\u001b[0m \u001b[31m?\u001b[0m eta \u001b[36m-:--:--\u001b[0m\r\u001b[2K   \u001b[91m━━━━━━━━━━━━━━━━━━━━━━━━━━━━━━━━━━━━━━━\u001b[0m\u001b[91m╸\u001b[0m \u001b[32m378.9/382.3 kB\u001b[0m \u001b[31m13.3 MB/s\u001b[0m eta \u001b[36m0:00:01\u001b[0m\r\u001b[2K   \u001b[90m━━━━━━━━━━━━━━━━━━━━━━━━━━━━━━━━━━━━━━━━\u001b[0m \u001b[32m382.3/382.3 kB\u001b[0m \u001b[31m8.3 MB/s\u001b[0m eta \u001b[36m0:00:00\u001b[0m\n",
            "\u001b[?25h\u001b[?25l   \u001b[90m━━━━━━━━━━━━━━━━━━━━━━━━━━━━━━━━━━━━━━━━\u001b[0m \u001b[32m0.0/64.7 kB\u001b[0m \u001b[31m?\u001b[0m eta \u001b[36m-:--:--\u001b[0m\r\u001b[2K   \u001b[90m━━━━━━━━━━━━━━━━━━━━━━━━━━━━━━━━━━━━━━━━\u001b[0m \u001b[32m64.7/64.7 kB\u001b[0m \u001b[31m4.7 MB/s\u001b[0m eta \u001b[36m0:00:00\u001b[0m\n",
            "\u001b[?25h\u001b[?25l   \u001b[90m━━━━━━━━━━━━━━━━━━━━━━━━━━━━━━━━━━━━━━━━\u001b[0m \u001b[32m0.0/244.3 kB\u001b[0m \u001b[31m?\u001b[0m eta \u001b[36m-:--:--\u001b[0m\r\u001b[2K   \u001b[90m━━━━━━━━━━━━━━━━━━━━━━━━━━━━━━━━━━━━━━━━\u001b[0m \u001b[32m244.3/244.3 kB\u001b[0m \u001b[31m16.4 MB/s\u001b[0m eta \u001b[36m0:00:00\u001b[0m\n",
            "\u001b[2K   \u001b[90m━━━━━━━━━━━━━━━━━━━━━━━━━━━━━━━━━━━━━━━━\u001b[0m \u001b[32m1.3/1.3 MB\u001b[0m \u001b[31m40.3 MB/s\u001b[0m eta \u001b[36m0:00:00\u001b[0m\n",
            "\u001b[2K   \u001b[90m━━━━━━━━━━━━━━━━━━━━━━━━━━━━━━━━━━━━━━━━\u001b[0m \u001b[32m55.8/55.8 kB\u001b[0m \u001b[31m3.7 MB/s\u001b[0m eta \u001b[36m0:00:00\u001b[0m\n",
            "\u001b[2K   \u001b[90m━━━━━━━━━━━━━━━━━━━━━━━━━━━━━━━━━━━━━━━━\u001b[0m \u001b[32m290.5/290.5 kB\u001b[0m \u001b[31m18.1 MB/s\u001b[0m eta \u001b[36m0:00:00\u001b[0m\n",
            "\u001b[2K   \u001b[90m━━━━━━━━━━━━━━━━━━━━━━━━━━━━━━━━━━━━━━━━\u001b[0m \u001b[32m45.5/45.5 kB\u001b[0m \u001b[31m3.3 MB/s\u001b[0m eta \u001b[36m0:00:00\u001b[0m\n",
            "\u001b[2K   \u001b[90m━━━━━━━━━━━━━━━━━━━━━━━━━━━━━━━━━━━━━━━━\u001b[0m \u001b[32m147.8/147.8 kB\u001b[0m \u001b[31m10.6 MB/s\u001b[0m eta \u001b[36m0:00:00\u001b[0m\n",
            "\u001b[2K   \u001b[90m━━━━━━━━━━━━━━━━━━━━━━━━━━━━━━━━━━━━━━━━\u001b[0m \u001b[32m314.2/314.2 kB\u001b[0m \u001b[31m16.7 MB/s\u001b[0m eta \u001b[36m0:00:00\u001b[0m\n",
            "\u001b[2K   \u001b[90m━━━━━━━━━━━━━━━━━━━━━━━━━━━━━━━━━━━━━━━━\u001b[0m \u001b[32m1.2/1.2 MB\u001b[0m \u001b[31m40.4 MB/s\u001b[0m eta \u001b[36m0:00:00\u001b[0m\n",
            "\u001b[2K   \u001b[90m━━━━━━━━━━━━━━━━━━━━━━━━━━━━━━━━━━━━━━━━\u001b[0m \u001b[32m319.7/319.7 kB\u001b[0m \u001b[31m19.9 MB/s\u001b[0m eta \u001b[36m0:00:00\u001b[0m\n",
            "\u001b[?25h\u001b[31mERROR: pip's dependency resolver does not currently take into account all the packages that are installed. This behaviour is the source of the following dependency conflicts.\n",
            "tensorflow 2.17.1 requires protobuf!=4.21.0,!=4.21.1,!=4.21.2,!=4.21.3,!=4.21.4,!=4.21.5,<5.0.0dev,>=3.20.3, but you have protobuf 5.29.2 which is incompatible.\n",
            "tensorflow-metadata 1.13.1 requires protobuf<5,>=3.20.3, but you have protobuf 5.29.2 which is incompatible.\u001b[0m\u001b[31m\n",
            "\u001b[0m"
          ]
        }
      ],
      "source": [
        "!pip install -qU autogen-agentchat~=0.2  agentops python-dotenv dask[dataframe]"
      ]
    },
    {
      "cell_type": "markdown",
      "source": [
        "Ten kod instaluje kilka pakietów Python za pomocą pip:\n",
        "\n",
        "- `autogen-agentchat` w wersji około 0.2 (znak `~=` oznacza, że może być zainstalowana kompatybilna wersja np. 0.2.1)\n",
        "- `agentops` w najnowszej dostępnej wersji\n",
        "- `python-dotenv` w najnowszej dostępnej wersji\n",
        "- `dask` z dodatkowymi komponentami do obsługi DataFrame (dzięki `[dataframe]`)\n",
        "\n",
        "Flagi użyte w komendzie:\n",
        "- `-q` wycisza większość komunikatów instalacyjnych\n",
        "- `-U` aktualizuje pakiety do najnowszych dostępnych wersji\n"
      ],
      "metadata": {
        "id": "m9pDerqgrxPd"
      }
    },
    {
      "cell_type": "code",
      "source": [
        "from autogen import ConversableAgent\n",
        "from typing import Annotated, Literal\n",
        "from autogen import ConversableAgent, register_function\n",
        "import agentops\n",
        "import os\n",
        "from dotenv import load_dotenv\n",
        "from IPython.core.error import  StdinNotImplementedError\n",
        "from google.colab import userdata\n"
      ],
      "metadata": {
        "id": "9A2V9lQE139B"
      },
      "execution_count": null,
      "outputs": []
    },
    {
      "cell_type": "markdown",
      "source": [
        "Ten kod importuje niezbędne komponenty i biblioteki:\n",
        "\n",
        "`from autogen import ConversableAgent` - importuje klasę do tworzenia agentów zdolnych do prowadzenia konwersacji\n",
        "\n",
        "`from typing import Annotated, Literal` - importuje typy używane do adnotacji typów w Pythonie. `Annotated` pozwala na dodawanie metadanych do typów, a `Literal` umożliwia zdefiniowanie dosłownych wartości jako typy.\n",
        "\n",
        "`register_function` z biblioteki autogen służy do rejestrowania nowych funkcji, które mogą być używane przez agentów.\n",
        "\n",
        "`import agentops` - importuje bibliotekę do operacji na agentach AI.\n",
        "\n",
        "`import os` - daje dostęp do funkcji systemu operacyjnego, często używany do obsługi ścieżek i zmiennych środowiskowych.\n",
        "\n",
        "`from dotenv import load_dotenv` - importuje funkcję do ładowania zmiennych środowiskowych z pliku .env.\n",
        "\n",
        "`from IPython.core.error import StdinNotImplementedError` - importuje specyficzny typ błędu związany z obsługą standardowego wejścia w środowisku IPython.\n",
        "\n",
        "`from google.colab import userdata` - importuje moduł do obsługi danych użytkownika w Google Colab."
      ],
      "metadata": {
        "id": "KBHw312Tr_yC"
      }
    },
    {
      "cell_type": "code",
      "source": [
        "OPENAI_API_KEY = userdata.get('openaivision')\n",
        "AGENTOPS_API_KEY = userdata.get('agentops')\n"
      ],
      "metadata": {
        "id": "d56OCFDT2N-H"
      },
      "execution_count": null,
      "outputs": []
    },
    {
      "cell_type": "markdown",
      "source": [
        "# Functions"
      ],
      "metadata": {
        "id": "zTz7WJgFpdSi"
      }
    },
    {
      "cell_type": "code",
      "source": [
        "Operator = Literal[\"+\", \"-\", \"*\", \"/\"]\n",
        "\n",
        "\n",
        "def calculator(a: int, b: int, operator: Annotated[Operator, \"operator\"]) -> int:\n",
        "    if operator == \"+\":\n",
        "        return a + b\n",
        "    elif operator == \"-\":\n",
        "        return a - b\n",
        "    elif operator == \"*\":\n",
        "        return a * b\n",
        "    elif operator == \"/\":\n",
        "        return int(a / b)\n",
        "    else:\n",
        "        raise ValueError(\"Invalid operator\")\n",
        "\n"
      ],
      "metadata": {
        "id": "EhJKHcZ9peSf"
      },
      "execution_count": null,
      "outputs": []
    },
    {
      "cell_type": "markdown",
      "source": [
        "Ten kod definiuje prosty kalkulator w Pythonie.\n",
        "\n",
        "Najpierw tworzona jest definicja typu `Operator`, która określa dozwolone operatory arytmetyczne. `Literal[\"+\", \"-\", \"*\", \"/\"]` oznacza, że zmienna tego typu może przyjąć tylko jedną z czterech wartości: \"+\", \"-\", \"*\" lub \"/\".\n",
        "\n",
        "Następnie zdefiniowana jest funkcja `calculator`, która przyjmuje trzy parametry:\n",
        "- `a` typu całkowitego (int)\n",
        "- `b` typu całkowitego (int)\n",
        "- `operator` typu `Operator` z dodatkową adnotacją\n",
        "\n",
        "Funkcja sprawdza wartość operatora i wykonuje odpowiednią operację arytmetyczną:\n",
        "- dla \"+\" zwraca sumę a + b\n",
        "- dla \"-\" zwraca różnicę a - b\n",
        "- dla \"*\" zwraca iloczyn a * b\n",
        "- dla \"/\" zwraca iloraz a / b przekształcony na liczbę całkowitą\n",
        "\n",
        "Jeśli podany zostanie nieprawidłowy operator, funkcja zgłosi błąd `ValueError`.\n",
        "\n",
        "Adnotacja typów pomaga w wykrywaniu błędów na etapie pisania kodu i dokumentuje oczekiwane typy danych."
      ],
      "metadata": {
        "id": "Icjl4JY7sA1b"
      }
    },
    {
      "cell_type": "markdown",
      "source": [
        "# AgentOps session"
      ],
      "metadata": {
        "id": "qDt9QtmK3Rd8"
      }
    },
    {
      "cell_type": "code",
      "source": [
        "\n",
        "agentops.init(AGENTOPS_API_KEY, default_tags=[\"autogen-tool-example\"])\n"
      ],
      "metadata": {
        "colab": {
          "base_uri": "https://localhost:8080/"
        },
        "id": "PU-IWBXapj4t",
        "outputId": "2340ece5-816e-4c3a-d9ae-06982c7eee12"
      },
      "execution_count": null,
      "outputs": [
        {
          "output_type": "stream",
          "name": "stderr",
          "text": [
            "🖇 AgentOps: \u001b[34mSession Replay: https://app.agentops.ai/drilldown?session_id=cf5d61f2-f77f-48ed-a705-69ce6b58e656\u001b[0m\n"
          ]
        },
        {
          "output_type": "execute_result",
          "data": {
            "text/plain": [
              "<agentops.session.Session at 0x7858a6586890>"
            ]
          },
          "metadata": {},
          "execution_count": 6
        }
      ]
    },
    {
      "cell_type": "markdown",
      "source": [
        "Ten kod inicjalizuje bibliotekę agentops.\n",
        "\n",
        "Funkcja `init` wymaga klucza API (`AGENTOPS_API_KEY`), który służy do autoryzacji.\n",
        "\n",
        "Parametr `default_tags` ustawia domyślne tagi dla wszystkich operacji - w tym przypadku pojedynczy tag \"autogen-tool-example\". Tagi są przydatne do kategoryzacji i wyszukiwania operacji wykonywanych przez agenty.\n",
        "\n",
        "Biblioteka agentops jest używana do monitorowania i analizowania zachowania agentów AI. Ta inicjalizacja jest niezbędnym pierwszym krokiem przed rozpoczęciem pracy z agentami."
      ],
      "metadata": {
        "id": "8lSQsKsKsOo6"
      }
    },
    {
      "cell_type": "code",
      "source": [
        "agentops.start_session()"
      ],
      "metadata": {
        "colab": {
          "base_uri": "https://localhost:8080/"
        },
        "id": "oxkKHoDKqdXM",
        "outputId": "73a72a5a-80aa-421b-fb27-9d265f46f41c"
      },
      "execution_count": null,
      "outputs": [
        {
          "output_type": "stream",
          "name": "stderr",
          "text": [
            "🖇 AgentOps: \u001b[34mSession Replay: https://app.agentops.ai/drilldown?session_id=fa9cf637-425d-421f-99cb-a405d3f8c934\u001b[0m\n"
          ]
        },
        {
          "output_type": "execute_result",
          "data": {
            "text/plain": [
              "<agentops.session.Session at 0x78d74cb291b0>"
            ]
          },
          "metadata": {},
          "execution_count": 21
        }
      ]
    },
    {
      "cell_type": "markdown",
      "source": [
        "Ta linia kodu rozpoczyna nową sesję w bibliotece agentops.\n",
        "\n",
        "`start_session()` tworzy nowe środowisko do śledzenia interakcji agentów. W ramach sesji można monitorować:\n",
        "- działania agentów\n",
        "- ich komunikację\n",
        "- zużycie zasobów\n",
        "- wydajność\n",
        "- metryki\n",
        "\n",
        "Sesja działa jak kontener grupujący powiązane operacje agentów, co ułatwia później analizę ich zachowania i wydajności."
      ],
      "metadata": {
        "id": "InS9_ES2slHc"
      }
    },
    {
      "cell_type": "code",
      "source": [
        "config_list = [\n",
        "    {\n",
        "        \"model\": \"gpt-4-turbo\",\n",
        "        \"api_key\": OPENAI_API_KEY,\n",
        "        \"tags\": [\"mathagent-example\", \"tool\"],\n",
        "    }\n",
        "]\n"
      ],
      "metadata": {
        "id": "U48njY6A3TP6"
      },
      "execution_count": null,
      "outputs": []
    },
    {
      "cell_type": "code",
      "source": [
        "\n",
        "assistant = ConversableAgent(\n",
        "    name=\"Assistant\",\n",
        "    system_message=\"You are a helpful AI assistant. \"\n",
        "    \"You can help with simple calculations. \"\n",
        "    \"Return 'TERMINATE' when the task is done.\",\n",
        "    llm_config={\"config_list\": config_list},\n",
        ")\n",
        "\n",
        "user_proxy = ConversableAgent(\n",
        "    name=\"User\",\n",
        "    llm_config=False,\n",
        "    is_termination_msg=lambda msg: msg.get(\"content\") is not None\n",
        "    and \"TERMINATE\" in msg[\"content\"],\n",
        "    human_input_mode=\"NEVER\",\n",
        ")\n"
      ],
      "metadata": {
        "id": "wxCFIqrtptDA"
      },
      "execution_count": null,
      "outputs": []
    },
    {
      "cell_type": "markdown",
      "source": [
        "Ten fragment kodu tworzy dwa agenty używając klasy ConversableAgent:\n",
        "\n",
        "Pierwszy agent - `assistant`:\n",
        "- ma nazwę \"Assistant\"\n",
        "- otrzymuje wiadomość systemową informującą, że jest pomocnym asystentem AI, który może wykonywać proste obliczenia\n",
        "- ma skonfigurowany dostęp do modelu językowego (LLM) poprzez `config_list`\n",
        "- ma instrukcję zwracania \"TERMINATE\" po zakończeniu zadania\n",
        "\n",
        "Drugi agent - `user_proxy`:\n",
        "- ma nazwę \"User\"\n",
        "- nie używa modelu językowego (llm_config=False)\n",
        "- posiada funkcję sprawdzającą warunek zakończenia (sprawdza czy wiadomość zawiera słowo \"TERMINATE\")\n",
        "- ma wyłączony tryb wprowadzania danych przez człowieka (human_input_mode=\"NEVER\")\n",
        "\n",
        "`user_proxy` służy jako pośrednik między człowiekiem a agentem asystenta i może wykonywać narzędzia (tool calls). Jest to standardowy wzorzec w systemach wieloagentowych, gdzie jeden agent obsługuje interakcje, a drugi wykonuje faktyczne zadania."
      ],
      "metadata": {
        "id": "mknTctMws0d1"
      }
    },
    {
      "cell_type": "code",
      "source": [
        "\n",
        "assistant.register_for_llm(name=\"calculator\", description=\"A simple calculator\")( calculator )\n",
        "\n",
        "user_proxy.register_for_execution(name=\"calculator\")(calculator)\n",
        "\n",
        "\n",
        "register_function(\n",
        "    calculator,\n",
        "    caller=assistant,  # The assistant agent can suggest calls to the calculator.\n",
        "    executor=user_proxy,  # The user proxy agent can execute the calculator calls.\n",
        "    name=\"calculator\",  # By default, the function name is used as the tool name.\n",
        "    description=\"A simple calculator\",  # A description of the tool.\n",
        ")\n"
      ],
      "metadata": {
        "colab": {
          "base_uri": "https://localhost:8080/"
        },
        "id": "1NzlTMiepvsH",
        "outputId": "1f24076f-ed02-49f2-c32b-d5f416f45ef3"
      },
      "execution_count": null,
      "outputs": [
        {
          "output_type": "stream",
          "name": "stderr",
          "text": [
            "/usr/local/lib/python3.10/dist-packages/autogen/agentchat/conversable_agent.py:2587: UserWarning: Function 'calculator' is being overridden.\n",
            "  warnings.warn(f\"Function '{tool_sig['function']['name']}' is being overridden.\", UserWarning)\n",
            "/usr/local/lib/python3.10/dist-packages/autogen/agentchat/conversable_agent.py:2506: UserWarning: Function 'calculator' is being overridden.\n",
            "  warnings.warn(f\"Function '{name}' is being overridden.\", UserWarning)\n"
          ]
        }
      ]
    },
    {
      "cell_type": "markdown",
      "source": [
        "Te trzy bloki kodu rejestrują funkcję kalkulatora w systemie agentów:\n",
        "\n",
        "1. `assistant.register_for_llm(...)` rejestruje kalkulator dla asystenta:\n",
        "- nadaje mu nazwę \"calculator\"\n",
        "- dodaje opis \"A simple calculator\"\n",
        "- pozwala asystentowi rozumieć możliwości kalkulatora i proponować jego użycie\n",
        "\n",
        "2. `user_proxy.register_for_execution(...)` rejestruje kalkulator dla agenta-pośrednika:\n",
        "- umożliwia mu wykonywanie obliczeń\n",
        "- używa tej samej nazwy \"calculator\"\n",
        "\n",
        "3. `register_function(...)` łączy wszystko razem:\n",
        "- określa, że asystent może sugerować użycie kalkulatora\n",
        "- ustala, że user_proxy będzie wykonywał obliczenia\n",
        "- definiuje nazwę i opis funkcji\n",
        "- tworzy pełne powiązanie między agentami w kontekście używania kalkulatora\n",
        "\n",
        "Ta struktura zapewnia jasny podział ról: asystent decyduje kiedy użyć kalkulatora, a user_proxy wykonuje faktyczne obliczenia."
      ],
      "metadata": {
        "id": "xy9UkzICtRf9"
      }
    },
    {
      "cell_type": "code",
      "source": [
        "\n",
        "# Let the assistant start the conversation.  It will end when the user types \"exit\".\n",
        "try:\n",
        "    user_proxy.initiate_chat(\n",
        "        assistant, message=\"What is (1423 - 123) / 3 + (32 + 23) * 5?\"\n",
        "    )\n",
        "except StdinNotImplementedError:\n",
        "    # This is only necessary for AgentOps testing automation which is headless and will not have user input\n",
        "    print(\"Stdin not implemented. Skipping initiate_chat\")\n",
        "    agentops.end_session(\"Indeterminate\")\n",
        "\n",
        "agentops.end_session(\"Success\")"
      ],
      "metadata": {
        "colab": {
          "base_uri": "https://localhost:8080/"
        },
        "id": "EL8hQQMu3kUc",
        "outputId": "a206c9a7-05cc-4fee-aa7d-f69ca923b5f9"
      },
      "execution_count": null,
      "outputs": [
        {
          "output_type": "stream",
          "name": "stdout",
          "text": [
            "User (to Assistant):\n",
            "\n",
            "What is (1423 - 123) / 3 + (32 + 23) * 5?\n",
            "\n",
            "--------------------------------------------------------------------------------\n",
            "\n",
            ">>>>>>>> USING AUTO REPLY...\n",
            "Assistant (to User):\n",
            "\n",
            "***** Suggested tool call (call_jAKCt9RbyGPS862RKQdGYjnL): calculator *****\n",
            "Arguments: \n",
            "{\"a\": 1423, \"b\": 123, \"operator\": \"-\"}\n",
            "***************************************************************************\n",
            "***** Suggested tool call (call_pipBhJS2x7wUkub8nRxocgE3): calculator *****\n",
            "Arguments: \n",
            "{\"a\": 32, \"b\": 23, \"operator\": \"+\"}\n",
            "***************************************************************************\n",
            "\n",
            "--------------------------------------------------------------------------------\n",
            "\n",
            ">>>>>>>> EXECUTING FUNCTION calculator...\n",
            "\n",
            ">>>>>>>> EXECUTING FUNCTION calculator...\n",
            "User (to Assistant):\n",
            "\n",
            "User (to Assistant):\n",
            "\n",
            "***** Response from calling tool (call_jAKCt9RbyGPS862RKQdGYjnL) *****\n",
            "1300\n",
            "**********************************************************************\n",
            "\n",
            "--------------------------------------------------------------------------------\n",
            "User (to Assistant):\n",
            "\n",
            "***** Response from calling tool (call_pipBhJS2x7wUkub8nRxocgE3) *****\n",
            "55\n",
            "**********************************************************************\n",
            "\n",
            "--------------------------------------------------------------------------------\n",
            "\n",
            ">>>>>>>> USING AUTO REPLY...\n",
            "Assistant (to User):\n",
            "\n",
            "***** Suggested tool call (call_WgkAi5aEJPKbCwdw02hZGl5V): calculator *****\n",
            "Arguments: \n",
            "{\"a\": 1300, \"b\": 3, \"operator\": \"/\"}\n",
            "***************************************************************************\n",
            "***** Suggested tool call (call_LhlrqwG2J1FOAzsmxH1cIjTx): calculator *****\n",
            "Arguments: \n",
            "{\"a\": 55, \"b\": 5, \"operator\": \"*\"}\n",
            "***************************************************************************\n",
            "\n",
            "--------------------------------------------------------------------------------\n",
            "\n",
            ">>>>>>>> EXECUTING FUNCTION calculator...\n",
            "\n",
            ">>>>>>>> EXECUTING FUNCTION calculator...\n",
            "User (to Assistant):\n",
            "\n",
            "User (to Assistant):\n",
            "\n",
            "***** Response from calling tool (call_WgkAi5aEJPKbCwdw02hZGl5V) *****\n",
            "433\n",
            "**********************************************************************\n",
            "\n",
            "--------------------------------------------------------------------------------\n",
            "User (to Assistant):\n",
            "\n",
            "***** Response from calling tool (call_LhlrqwG2J1FOAzsmxH1cIjTx) *****\n",
            "275\n",
            "**********************************************************************\n",
            "\n",
            "--------------------------------------------------------------------------------\n",
            "\n",
            ">>>>>>>> USING AUTO REPLY...\n",
            "Assistant (to User):\n",
            "\n",
            "***** Suggested tool call (call_SPjtUTboTJ09UX6P375gy7TO): calculator *****\n",
            "Arguments: \n",
            "{\"a\":433,\"b\":275,\"operator\":\"+\"}\n",
            "***************************************************************************\n",
            "\n",
            "--------------------------------------------------------------------------------\n",
            "\n",
            ">>>>>>>> EXECUTING FUNCTION calculator...\n",
            "User (to Assistant):\n",
            "\n",
            "User (to Assistant):\n",
            "\n",
            "***** Response from calling tool (call_SPjtUTboTJ09UX6P375gy7TO) *****\n",
            "708\n",
            "**********************************************************************\n",
            "\n",
            "--------------------------------------------------------------------------------\n",
            "\n",
            ">>>>>>>> USING AUTO REPLY...\n",
            "Assistant (to User):\n",
            "\n",
            "The result of the calculation (1423 - 123) / 3 + (32 + 23) * 5 is \\( 708 \\).\n",
            "\n",
            "TERMINATE\n",
            "\n",
            "--------------------------------------------------------------------------------\n"
          ]
        },
        {
          "output_type": "stream",
          "name": "stderr",
          "text": [
            "🖇 AgentOps: Session Stats - Duration: 52.7s | Cost: $0.014030 | LLMs: 4 | Tools: 5 | Actions: 34 | Errors: 0\n",
            "🖇 AgentOps: \u001b[34mSession Replay: https://app.agentops.ai/drilldown?session_id=cf5d61f2-f77f-48ed-a705-69ce6b58e656\u001b[0m\n"
          ]
        }
      ]
    },
    {
      "cell_type": "markdown",
      "source": [
        "Ten kod rozpoczyna i kończy interakcję między agentami:\n",
        "\n",
        "`user_proxy.initiate_chat()` rozpoczyna rozmowę:\n",
        "- pierwszy argument to agent `assistant`, z którym ma rozmawiać\n",
        "- jako wiadomość przekazuje zadanie matematyczne \"(1423 - 123) / 3 + (32 + 23) * 5\"\n",
        "\n",
        "Całość jest umieszczona w bloku `try-except`, który obsługuje potencjalny błąd `StdinNotImplementedError`. Ten błąd może wystąpić podczas automatycznych testów, gdy nie ma dostępu do standardowego wejścia.\n",
        "\n",
        "Jeśli wystąpi błąd:\n",
        "- wyświetla się komunikat \"Stdin not implemented. Skipping initiate_chat\"\n",
        "- sesja agentops kończy się ze statusem \"Indeterminate\"\n",
        "\n",
        "Jeśli wszystko przebiegnie pomyślnie:\n",
        "- wykonane zostaje zadane obliczenie\n",
        "- sesja agentops kończy się ze statusem \"Success\""
      ],
      "metadata": {
        "id": "rlz-VP3StS4w"
      }
    }
  ]
}