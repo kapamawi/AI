{
  "cells": [
    {
      "cell_type": "markdown",
      "metadata": {
        "id": "view-in-github",
        "colab_type": "text"
      },
      "source": [
        "<a href=\"https://colab.research.google.com/github/kapamawi/AI/blob/main/Kalkulator.ipynb\" target=\"_parent\"><img src=\"https://colab.research.google.com/assets/colab-badge.svg\" alt=\"Open In Colab\"/></a>"
      ]
    },
    {
      "cell_type": "code",
      "execution_count": 1,
      "id": "9dfe0339",
      "metadata": {
        "_cell_guid": "b1076dfc-b9ad-4769-8c92-a6c4dae69d19",
        "_kg_hide-output": true,
        "_uuid": "8f2839f25d086af736a60e9eeb907d3b93b6e0e5",
        "execution": {
          "iopub.execute_input": "2024-11-15T09:46:35.999562Z",
          "iopub.status.busy": "2024-11-15T09:46:35.998416Z",
          "iopub.status.idle": "2024-11-15T09:46:52.977879Z",
          "shell.execute_reply": "2024-11-15T09:46:52.976524Z"
        },
        "papermill": {
          "duration": 16.991532,
          "end_time": "2024-11-15T09:46:52.980697",
          "exception": false,
          "start_time": "2024-11-15T09:46:35.989165",
          "status": "completed"
        },
        "tags": [],
        "colab": {
          "base_uri": "https://localhost:8080/"
        },
        "id": "9dfe0339",
        "outputId": "e607e6ae-7386-407f-d53b-4b4936ac63a3"
      },
      "outputs": [
        {
          "output_type": "stream",
          "name": "stdout",
          "text": [
            "Collecting anthropic\n",
            "  Downloading anthropic-0.39.0-py3-none-any.whl.metadata (22 kB)\n",
            "Requirement already satisfied: IPython in /usr/local/lib/python3.10/dist-packages (7.34.0)\n",
            "Requirement already satisfied: anyio<5,>=3.5.0 in /usr/local/lib/python3.10/dist-packages (from anthropic) (3.7.1)\n",
            "Requirement already satisfied: distro<2,>=1.7.0 in /usr/local/lib/python3.10/dist-packages (from anthropic) (1.9.0)\n",
            "Requirement already satisfied: httpx<1,>=0.23.0 in /usr/local/lib/python3.10/dist-packages (from anthropic) (0.27.2)\n",
            "Requirement already satisfied: jiter<1,>=0.4.0 in /usr/local/lib/python3.10/dist-packages (from anthropic) (0.7.1)\n",
            "Requirement already satisfied: pydantic<3,>=1.9.0 in /usr/local/lib/python3.10/dist-packages (from anthropic) (2.9.2)\n",
            "Requirement already satisfied: sniffio in /usr/local/lib/python3.10/dist-packages (from anthropic) (1.3.1)\n",
            "Requirement already satisfied: typing-extensions<5,>=4.7 in /usr/local/lib/python3.10/dist-packages (from anthropic) (4.12.2)\n",
            "Requirement already satisfied: setuptools>=18.5 in /usr/local/lib/python3.10/dist-packages (from IPython) (75.1.0)\n",
            "Collecting jedi>=0.16 (from IPython)\n",
            "  Downloading jedi-0.19.2-py2.py3-none-any.whl.metadata (22 kB)\n",
            "Requirement already satisfied: decorator in /usr/local/lib/python3.10/dist-packages (from IPython) (4.4.2)\n",
            "Requirement already satisfied: pickleshare in /usr/local/lib/python3.10/dist-packages (from IPython) (0.7.5)\n",
            "Requirement already satisfied: traitlets>=4.2 in /usr/local/lib/python3.10/dist-packages (from IPython) (5.7.1)\n",
            "Requirement already satisfied: prompt-toolkit!=3.0.0,!=3.0.1,<3.1.0,>=2.0.0 in /usr/local/lib/python3.10/dist-packages (from IPython) (3.0.48)\n",
            "Requirement already satisfied: pygments in /usr/local/lib/python3.10/dist-packages (from IPython) (2.18.0)\n",
            "Requirement already satisfied: backcall in /usr/local/lib/python3.10/dist-packages (from IPython) (0.2.0)\n",
            "Requirement already satisfied: matplotlib-inline in /usr/local/lib/python3.10/dist-packages (from IPython) (0.1.7)\n",
            "Requirement already satisfied: pexpect>4.3 in /usr/local/lib/python3.10/dist-packages (from IPython) (4.9.0)\n",
            "Requirement already satisfied: idna>=2.8 in /usr/local/lib/python3.10/dist-packages (from anyio<5,>=3.5.0->anthropic) (3.10)\n",
            "Requirement already satisfied: exceptiongroup in /usr/local/lib/python3.10/dist-packages (from anyio<5,>=3.5.0->anthropic) (1.2.2)\n",
            "Requirement already satisfied: certifi in /usr/local/lib/python3.10/dist-packages (from httpx<1,>=0.23.0->anthropic) (2024.8.30)\n",
            "Requirement already satisfied: httpcore==1.* in /usr/local/lib/python3.10/dist-packages (from httpx<1,>=0.23.0->anthropic) (1.0.7)\n",
            "Requirement already satisfied: h11<0.15,>=0.13 in /usr/local/lib/python3.10/dist-packages (from httpcore==1.*->httpx<1,>=0.23.0->anthropic) (0.14.0)\n",
            "Requirement already satisfied: parso<0.9.0,>=0.8.4 in /usr/local/lib/python3.10/dist-packages (from jedi>=0.16->IPython) (0.8.4)\n",
            "Requirement already satisfied: ptyprocess>=0.5 in /usr/local/lib/python3.10/dist-packages (from pexpect>4.3->IPython) (0.7.0)\n",
            "Requirement already satisfied: wcwidth in /usr/local/lib/python3.10/dist-packages (from prompt-toolkit!=3.0.0,!=3.0.1,<3.1.0,>=2.0.0->IPython) (0.2.13)\n",
            "Requirement already satisfied: annotated-types>=0.6.0 in /usr/local/lib/python3.10/dist-packages (from pydantic<3,>=1.9.0->anthropic) (0.7.0)\n",
            "Requirement already satisfied: pydantic-core==2.23.4 in /usr/local/lib/python3.10/dist-packages (from pydantic<3,>=1.9.0->anthropic) (2.23.4)\n",
            "Downloading anthropic-0.39.0-py3-none-any.whl (198 kB)\n",
            "\u001b[2K   \u001b[90m━━━━━━━━━━━━━━━━━━━━━━━━━━━━━━━━━━━━━━━━\u001b[0m \u001b[32m198.4/198.4 kB\u001b[0m \u001b[31m4.3 MB/s\u001b[0m eta \u001b[36m0:00:00\u001b[0m\n",
            "\u001b[?25hDownloading jedi-0.19.2-py2.py3-none-any.whl (1.6 MB)\n",
            "\u001b[2K   \u001b[90m━━━━━━━━━━━━━━━━━━━━━━━━━━━━━━━━━━━━━━━━\u001b[0m \u001b[32m1.6/1.6 MB\u001b[0m \u001b[31m19.2 MB/s\u001b[0m eta \u001b[36m0:00:00\u001b[0m\n",
            "\u001b[?25hInstalling collected packages: jedi, anthropic\n",
            "Successfully installed anthropic-0.39.0 jedi-0.19.2\n"
          ]
        }
      ],
      "source": [
        "!pip install anthropic IPython"
      ]
    },
    {
      "cell_type": "markdown",
      "id": "8eb7f992",
      "metadata": {
        "papermill": {
          "duration": 0.008051,
          "end_time": "2024-11-15T09:46:52.997853",
          "exception": false,
          "start_time": "2024-11-15T09:46:52.989802",
          "status": "completed"
        },
        "tags": [],
        "id": "8eb7f992"
      },
      "source": [
        "Kod instaluje dwa pakiety Pythona:\n",
        "\n",
        "- `anthropic` - oficjalna biblioteka kliencka firmy Anthropic służąca do komunikacji z modelami językowymi Claude poprzez API\n",
        "- `IPython` - zaawansowane środowisko interaktywne dla Pythona, które dostarcza rozszerzone możliwości do pracy w notatnikach Jupyter i konsolach interaktywnych\n",
        "\n",
        "Polecenie zaczyna się od wykrzyknika (!), co oznacza, że jest to komenda systemowa wykonywana w środowisku Jupyter Notebook. `pip install` to standardowe polecenie do instalacji pakietów Pythona."
      ]
    },
    {
      "cell_type": "code",
      "execution_count": 2,
      "id": "0c3dee29",
      "metadata": {
        "execution": {
          "iopub.execute_input": "2024-11-15T09:46:53.016653Z",
          "iopub.status.busy": "2024-11-15T09:46:53.016138Z",
          "iopub.status.idle": "2024-11-15T09:46:53.835045Z",
          "shell.execute_reply": "2024-11-15T09:46:53.833804Z"
        },
        "papermill": {
          "duration": 0.831863,
          "end_time": "2024-11-15T09:46:53.838045",
          "exception": false,
          "start_time": "2024-11-15T09:46:53.006182",
          "status": "completed"
        },
        "tags": [],
        "id": "0c3dee29"
      },
      "outputs": [],
      "source": [
        "from anthropic import Anthropic\n",
        "import re\n",
        "from google.colab import userdata"
      ]
    },
    {
      "cell_type": "markdown",
      "id": "e98b92b6",
      "metadata": {
        "papermill": {
          "duration": 0.008035,
          "end_time": "2024-11-15T09:46:53.854450",
          "exception": false,
          "start_time": "2024-11-15T09:46:53.846415",
          "status": "completed"
        },
        "tags": [],
        "id": "e98b92b6"
      },
      "source": [
        "Ten kod importuje niezbędne komponenty do pracy:\n",
        "\n",
        "`from anthropic import Anthropic` - importuje główną klasę z biblioteki Anthropic, która służy do komunikacji z modelami językowymi Claude\n",
        "\n",
        "`import re` - importuje moduł do obsługi wyrażeń regularnych w Pythonie, który pozwala na zaawansowane operacje na tekście, jak wyszukiwanie wzorców czy wyodrębnianie fragmentów tekstu\n",
        "\n",
        "`from kaggle_secrets import UserSecretsClient` - importuje klasę do bezpiecznego zarządzania kluczami API i innymi wrażliwymi danymi w środowisku Kaggle. UserSecretsClient pozwala na pobieranie zapisanych wcześniej kluczy bez konieczności umieszczania ich bezpośrednio w kodzie."
      ]
    },
    {
      "cell_type": "code",
      "execution_count": 3,
      "id": "20899eb9",
      "metadata": {
        "execution": {
          "iopub.execute_input": "2024-11-15T09:46:53.873188Z",
          "iopub.status.busy": "2024-11-15T09:46:53.872575Z",
          "iopub.status.idle": "2024-11-15T09:46:53.878838Z",
          "shell.execute_reply": "2024-11-15T09:46:53.877471Z"
        },
        "papermill": {
          "duration": 0.01866,
          "end_time": "2024-11-15T09:46:53.881426",
          "exception": false,
          "start_time": "2024-11-15T09:46:53.862766",
          "status": "completed"
        },
        "tags": [],
        "id": "20899eb9"
      },
      "outputs": [],
      "source": [
        "class CFG:\n",
        "    model = \"claude-3-haiku-20240307\"\n",
        "    max_tokens = 2048"
      ]
    },
    {
      "cell_type": "markdown",
      "id": "642c54a1",
      "metadata": {
        "papermill": {
          "duration": 0.009065,
          "end_time": "2024-11-15T09:46:53.898863",
          "exception": false,
          "start_time": "2024-11-15T09:46:53.889798",
          "status": "completed"
        },
        "tags": [],
        "id": "642c54a1"
      },
      "source": [
        "`CFG` to klasa konfiguracyjna, która przechowuje stałe ustawienia:\n",
        "\n",
        "- `model = \"claude-3-haiku-20240307\"` - określa konkretną wersję modelu Claude, która ma być używana. W tym przypadku jest to Claude 3 Haiku z aktualizacją z 7 marca 2024\n",
        "\n",
        "- `max_tokens = 2048` - ustawia maksymalną długość odpowiedzi modelu, mierzoną w tokenach. Token to podstawowa jednostka tekstu dla modelu - może to być pojedyncza litera, część słowa lub całe słowo. Wartość 2048 oznacza, że model będzie generował odpowiedzi nie dłuższe niż ta liczba tokenów\n",
        "\n",
        "Użycie klasy konfiguracyjnej pozwala na łatwe zarządzanie tymi parametrami w jednym miejscu, zamiast wpisywania ich wielokrotnie w różnych częściach kodu."
      ]
    },
    {
      "cell_type": "code",
      "execution_count": 5,
      "id": "67ea6842",
      "metadata": {
        "execution": {
          "iopub.execute_input": "2024-11-15T09:46:53.917388Z",
          "iopub.status.busy": "2024-11-15T09:46:53.916954Z",
          "iopub.status.idle": "2024-11-15T09:46:54.114898Z",
          "shell.execute_reply": "2024-11-15T09:46:54.113653Z"
        },
        "papermill": {
          "duration": 0.21075,
          "end_time": "2024-11-15T09:46:54.117931",
          "exception": false,
          "start_time": "2024-11-15T09:46:53.907181",
          "status": "completed"
        },
        "tags": [],
        "id": "67ea6842"
      },
      "outputs": [],
      "source": [
        "secret_value_0 = userdata.get('anthropic')\n",
        "client = Anthropic(api_key = secret_value_0)"
      ]
    },
    {
      "cell_type": "markdown",
      "id": "9186c590",
      "metadata": {
        "papermill": {
          "duration": 0.00857,
          "end_time": "2024-11-15T09:46:54.134969",
          "exception": false,
          "start_time": "2024-11-15T09:46:54.126399",
          "status": "completed"
        },
        "tags": [],
        "id": "9186c590"
      },
      "source": [
        "Ten fragment kodu konfiguruje połączenie z API Claude'a:\n",
        "\n",
        "`user_secrets = UserSecretsClient()` - tworzy obiekt do zarządzania kluczami API w środowisku Kaggle\n",
        "\n",
        "`secret_value_0 = user_secrets.get_secret(\"claudekey\")` - pobiera zapisany wcześniej klucz API z bezpiecznego magazynu Kaggle, gdzie został zapisany pod nazwą \"claudekey\"\n",
        "\n",
        "`client = Anthropic(api_key = secret_value_0)` - tworzy obiekt klienta API Claude'a, używając pobranego klucza. Ten obiekt będzie używany do wysyłania zapytań do modelu.\n",
        "\n",
        "Ta metoda jest bezpieczniejsza niż wpisywanie klucza API bezpośrednio w kod, ponieważ klucz pozostaje ukryty i nie może zostać przypadkowo udostępniony."
      ]
    },
    {
      "cell_type": "markdown",
      "id": "717b957b",
      "metadata": {
        "papermill": {
          "duration": 0.008487,
          "end_time": "2024-11-15T09:46:54.151789",
          "exception": false,
          "start_time": "2024-11-15T09:46:54.143302",
          "status": "completed"
        },
        "tags": [],
        "id": "717b957b"
      },
      "source": [
        "# Functions"
      ]
    },
    {
      "cell_type": "code",
      "execution_count": 6,
      "id": "a802ace8",
      "metadata": {
        "execution": {
          "iopub.execute_input": "2024-11-15T09:46:54.171482Z",
          "iopub.status.busy": "2024-11-15T09:46:54.171002Z",
          "iopub.status.idle": "2024-11-15T09:46:54.178031Z",
          "shell.execute_reply": "2024-11-15T09:46:54.176823Z"
        },
        "papermill": {
          "duration": 0.020455,
          "end_time": "2024-11-15T09:46:54.180671",
          "exception": false,
          "start_time": "2024-11-15T09:46:54.160216",
          "status": "completed"
        },
        "tags": [],
        "id": "a802ace8"
      },
      "outputs": [],
      "source": [
        "def calculate(expression):\n",
        "    expression = re.sub(r'[^0-9+\\-*/().]', '', expression)\n",
        "\n",
        "    try:\n",
        "        result = eval(expression)\n",
        "        return str(result)\n",
        "    except (SyntaxError, ZeroDivisionError, NameError, TypeError, OverflowError):\n",
        "        return \"Error: Invalid expression\""
      ]
    },
    {
      "cell_type": "markdown",
      "id": "803320d0",
      "metadata": {
        "papermill": {
          "duration": 0.007897,
          "end_time": "2024-11-15T09:46:54.197058",
          "exception": false,
          "start_time": "2024-11-15T09:46:54.189161",
          "status": "completed"
        },
        "tags": [],
        "id": "803320d0"
      },
      "source": [
        "Funkcja `calculate` przetwarza i wykonuje wyrażenia matematyczne:\n",
        "\n",
        "`expression = re.sub(r'[^0-9+\\-*/().]', '', expression)` - oczyszcza wejściowe wyrażenie:\n",
        "- używa wyrażenia regularnego do usunięcia wszystkich znaków oprócz:\n",
        "  - cyfr (0-9)\n",
        "  - operatorów matematycznych (+, -, *, /)\n",
        "  - nawiasów\n",
        "  - kropki dziesiętnej\n",
        "- zapobiega to wstrzyknięciu złośliwego kodu\n",
        "\n",
        "`try/except` obsługuje obliczenia:\n",
        "- `eval(expression)` - wykonuje wyrażenie matematyczne i zwraca wynik\n",
        "- w przypadku błędów takich jak:\n",
        "  - nieprawidłowa składnia\n",
        "  - dzielenie przez zero\n",
        "  - błędy nazw\n",
        "  - nieodpowiednie typy danych\n",
        "  - przepełnienie liczb\n",
        "  zwracany jest komunikat \"Error: Invalid expression\"\n",
        "\n",
        "Wynik jest zawsze konwertowany na tekst przed zwróceniem."
      ]
    },
    {
      "cell_type": "code",
      "execution_count": 7,
      "id": "354f6320",
      "metadata": {
        "execution": {
          "iopub.execute_input": "2024-11-15T09:46:54.216199Z",
          "iopub.status.busy": "2024-11-15T09:46:54.215744Z",
          "iopub.status.idle": "2024-11-15T09:46:54.221821Z",
          "shell.execute_reply": "2024-11-15T09:46:54.220615Z"
        },
        "papermill": {
          "duration": 0.018575,
          "end_time": "2024-11-15T09:46:54.224325",
          "exception": false,
          "start_time": "2024-11-15T09:46:54.205750",
          "status": "completed"
        },
        "tags": [],
        "id": "354f6320"
      },
      "outputs": [],
      "source": [
        "def process_tool_call(tool_name, tool_input):\n",
        "    if tool_name == \"calculator\":\n",
        "        return calculate(tool_input[\"expression\"])\n"
      ]
    },
    {
      "cell_type": "markdown",
      "id": "7ceb3359",
      "metadata": {
        "papermill": {
          "duration": 0.008136,
          "end_time": "2024-11-15T09:46:54.240863",
          "exception": false,
          "start_time": "2024-11-15T09:46:54.232727",
          "status": "completed"
        },
        "tags": [],
        "id": "7ceb3359"
      },
      "source": [
        "Funkcja `process_tool_call` zarządza narzędziami dostępnymi dla modelu:\n",
        "\n",
        "`if tool_name == \"calculator\":` - sprawdza, czy wywołane narzędzie to kalkulator\n",
        "\n",
        "`return calculate(tool_input[\"expression\"])` - jeśli tak:\n",
        "- pobiera wyrażenie matematyczne z parametru \"expression\" w przekazanych danych wejściowych\n",
        "- przekazuje je do wcześniej zdefiniowanej funkcji `calculate`\n",
        "- zwraca wynik obliczenia"
      ]
    },
    {
      "cell_type": "code",
      "execution_count": 8,
      "id": "d30a860b",
      "metadata": {
        "execution": {
          "iopub.execute_input": "2024-11-15T09:46:54.260568Z",
          "iopub.status.busy": "2024-11-15T09:46:54.260119Z",
          "iopub.status.idle": "2024-11-15T09:46:54.273274Z",
          "shell.execute_reply": "2024-11-15T09:46:54.271751Z"
        },
        "papermill": {
          "duration": 0.026863,
          "end_time": "2024-11-15T09:46:54.276011",
          "exception": false,
          "start_time": "2024-11-15T09:46:54.249148",
          "status": "completed"
        },
        "tags": [],
        "id": "d30a860b"
      },
      "outputs": [],
      "source": [
        "def chat_with_claude(user_message):\n",
        "\n",
        "    message = client.messages.create(\n",
        "        model=CFG.model, max_tokens= CFG.max_tokens, messages=[{\"role\": \"user\", \"content\": user_message}],\n",
        "        tools=tools,\n",
        "    )\n",
        "\n",
        "    print(f\"\\nInitial Response:\")\n",
        "    print(f\"Stop Reason: {message.stop_reason}\")\n",
        "    print(f\"Content: {message.content}\")\n",
        "\n",
        "    if message.stop_reason == \"tool_use\":\n",
        "        tool_use = next(block for block in message.content if block.type == \"tool_use\")\n",
        "        tool_name = tool_use.name\n",
        "        tool_input = tool_use.input\n",
        "\n",
        "        print(f\"\\nTool Used: {tool_name}\")\n",
        "        print(f\"Tool Input: {tool_input}\")\n",
        "\n",
        "        tool_result = process_tool_call(tool_name, tool_input)\n",
        "\n",
        "        print(f\"Tool Result: {tool_result}\")\n",
        "\n",
        "        response = client.messages.create(\n",
        "            model=CFG.model,\n",
        "            max_tokens = CFG.max_tokens,\n",
        "            messages=[\n",
        "                {\"role\": \"user\", \"content\": user_message},\n",
        "                {\"role\": \"assistant\", \"content\": message.content},\n",
        "                {\n",
        "                    \"role\": \"user\",\n",
        "                    \"content\": [\n",
        "                        {\n",
        "                            \"type\": \"tool_result\",\n",
        "                            \"tool_use_id\": tool_use.id,\n",
        "                            \"content\": tool_result,\n",
        "                        }\n",
        "                    ],\n",
        "                },\n",
        "            ],\n",
        "            tools=tools,\n",
        "        )\n",
        "    else:\n",
        "        response = message\n",
        "\n",
        "    final_response = next(\n",
        "        (block.text for block in response.content if hasattr(block, \"text\")),\n",
        "        None,\n",
        "    )\n",
        "    print(response.content)\n",
        "    print(f\"\\nFinal Response: {final_response}\")\n",
        "\n",
        "    return final_response"
      ]
    },
    {
      "cell_type": "markdown",
      "id": "8cab1423",
      "metadata": {
        "papermill": {
          "duration": 0.009183,
          "end_time": "2024-11-15T09:46:54.293873",
          "exception": false,
          "start_time": "2024-11-15T09:46:54.284690",
          "status": "completed"
        },
        "tags": [],
        "id": "8cab1423"
      },
      "source": [
        "Funkcja `chat_with_claude` zarządza pełną konwersacją z modelem Claude:\n",
        "\n",
        "1. Pierwsze wywołanie API:\n",
        "```python\n",
        "message = client.messages.create(\n",
        "    model=CFG.model,\n",
        "    max_tokens=CFG.max_tokens,\n",
        "    messages=[{\"role\": \"user\", \"content\": user_message}],\n",
        "    tools=tools\n",
        ")\n",
        "```\n",
        "Wysyła wiadomość użytkownika do modelu.\n",
        "\n",
        "2. Sprawdzenie wyniku:\n",
        "- Wyświetla przyczynę zakończenia i treść odpowiedzi\n",
        "- Jeśli `stop_reason == \"tool_use\"`, oznacza to że model chce użyć narzędzia:\n",
        "  - Znajduje szczegóły użycia narzędzia w odpowiedzi\n",
        "  - Wywołuje odpowiednie narzędzie przez `process_tool_call`\n",
        "  - Wysyła drugie zapytanie do API zawierające:\n",
        "    - oryginalną wiadomość użytkownika\n",
        "    - pierwszą odpowiedź modelu\n",
        "    - wynik działania narzędzia\n",
        "- Jeśli nie, zachowuje pierwszą odpowiedź\n",
        "\n",
        "3. Ekstrakcja końcowej odpowiedzi:\n",
        "- Szuka bloku z właściwością `text` w odpowiedzi\n",
        "- Wyświetla pełną odpowiedź i jej wersję tekstową\n",
        "- Zwraca końcową odpowiedź tekstową\n",
        "\n",
        "Ta funkcja pozwala na dwustopniową interakcję, gdzie model może używać narzędzi i uwzględniać ich wyniki w swojej finalnej odpowiedzi."
      ]
    },
    {
      "cell_type": "markdown",
      "id": "b20ce235",
      "metadata": {
        "papermill": {
          "duration": 0.008101,
          "end_time": "2024-11-15T09:46:54.311159",
          "exception": false,
          "start_time": "2024-11-15T09:46:54.303058",
          "status": "completed"
        },
        "tags": [],
        "id": "b20ce235"
      },
      "source": [
        "# Test"
      ]
    },
    {
      "cell_type": "code",
      "execution_count": 9,
      "id": "9a0ba3b4",
      "metadata": {
        "execution": {
          "iopub.execute_input": "2024-11-15T09:46:54.330243Z",
          "iopub.status.busy": "2024-11-15T09:46:54.329823Z",
          "iopub.status.idle": "2024-11-15T09:46:54.336797Z",
          "shell.execute_reply": "2024-11-15T09:46:54.335427Z"
        },
        "papermill": {
          "duration": 0.019327,
          "end_time": "2024-11-15T09:46:54.339249",
          "exception": false,
          "start_time": "2024-11-15T09:46:54.319922",
          "status": "completed"
        },
        "tags": [],
        "id": "9a0ba3b4"
      },
      "outputs": [],
      "source": [
        "tools = [\n",
        "    {\n",
        "        \"name\": \"calculator\",\n",
        "        \"description\": \"A simple calculator that performs basic arithmetic operations.\",\n",
        "        \"input_schema\": {\n",
        "            \"type\": \"object\",\n",
        "            \"properties\": {\n",
        "                \"expression\": {\n",
        "                    \"type\": \"string\",\n",
        "                    \"description\": \"The mathematical expression to evaluate (e.g., '2 + 3 * 4').\"\n",
        "                }\n",
        "            },\n",
        "            \"required\": [\"expression\"]\n",
        "        }\n",
        "    }\n",
        "]"
      ]
    },
    {
      "cell_type": "markdown",
      "id": "1b1f2eb6",
      "metadata": {
        "papermill": {
          "duration": 0.008417,
          "end_time": "2024-11-15T09:46:54.356376",
          "exception": false,
          "start_time": "2024-11-15T09:46:54.347959",
          "status": "completed"
        },
        "tags": [],
        "id": "1b1f2eb6"
      },
      "source": [
        "`tools` to lista definiująca narzędzia dostępne dla modelu. Aktualnie zawiera jeden element - kalkulator:\n",
        "\n",
        "`name`: \"calculator\" - nazwa narzędzia używana do jego identyfikacji\n",
        "\n",
        "`description`: Opis informujący model, że jest to prosty kalkulator do podstawowych działań arytmetycznych\n",
        "\n",
        "`input_schema`: Schema JSON określająca format danych wejściowych:\n",
        "- `type`: \"object\" - dane wejściowe muszą być obiektem\n",
        "- `properties`: definiuje właściwości obiektu:\n",
        "  - `expression`: pole na wyrażenie matematyczne\n",
        "    - `type`: \"string\" - musi być tekstem\n",
        "    - `description`: wyjaśnia format (np. '2 + 3 * 4')\n",
        "- `required`: [\"expression\"] - pole expression jest wymagane\n",
        "\n",
        "Ta definicja pozwala modelowi zrozumieć jak używać kalkulatora i jakie dane może mu przekazać."
      ]
    },
    {
      "cell_type": "code",
      "execution_count": 10,
      "id": "9d9ddf45",
      "metadata": {
        "execution": {
          "iopub.execute_input": "2024-11-15T09:46:54.376699Z",
          "iopub.status.busy": "2024-11-15T09:46:54.376241Z",
          "iopub.status.idle": "2024-11-15T09:46:56.123021Z",
          "shell.execute_reply": "2024-11-15T09:46:56.121854Z"
        },
        "papermill": {
          "duration": 1.760604,
          "end_time": "2024-11-15T09:46:56.125728",
          "exception": false,
          "start_time": "2024-11-15T09:46:54.365124",
          "status": "completed"
        },
        "tags": [],
        "colab": {
          "base_uri": "https://localhost:8080/",
          "height": 319
        },
        "id": "9d9ddf45",
        "outputId": "1cf0d4a2-7845-4d78-9ecb-7ecdde721268"
      },
      "outputs": [
        {
          "output_type": "error",
          "ename": "BadRequestError",
          "evalue": "Error code: 400 - {'type': 'error', 'error': {'type': 'invalid_request_error', 'message': 'Your credit balance is too low to access the Anthropic API. Please go to Plans & Billing to upgrade or purchase credits.'}}",
          "traceback": [
            "\u001b[0;31m---------------------------------------------------------------------------\u001b[0m",
            "\u001b[0;31mBadRequestError\u001b[0m                           Traceback (most recent call last)",
            "\u001b[0;32m<ipython-input-10-2ba704102a5f>\u001b[0m in \u001b[0;36m<cell line: 1>\u001b[0;34m()\u001b[0m\n\u001b[0;32m----> 1\u001b[0;31m \u001b[0mchat_with_claude\u001b[0m\u001b[0;34m(\u001b[0m\u001b[0;34m\"What is the result of 555 * 555?\"\u001b[0m\u001b[0;34m)\u001b[0m\u001b[0;34m\u001b[0m\u001b[0;34m\u001b[0m\u001b[0m\n\u001b[0m",
            "\u001b[0;32m<ipython-input-8-082203413eb2>\u001b[0m in \u001b[0;36mchat_with_claude\u001b[0;34m(user_message)\u001b[0m\n\u001b[1;32m      1\u001b[0m \u001b[0;32mdef\u001b[0m \u001b[0mchat_with_claude\u001b[0m\u001b[0;34m(\u001b[0m\u001b[0muser_message\u001b[0m\u001b[0;34m)\u001b[0m\u001b[0;34m:\u001b[0m\u001b[0;34m\u001b[0m\u001b[0;34m\u001b[0m\u001b[0m\n\u001b[1;32m      2\u001b[0m \u001b[0;34m\u001b[0m\u001b[0m\n\u001b[0;32m----> 3\u001b[0;31m     message = client.messages.create(\n\u001b[0m\u001b[1;32m      4\u001b[0m         \u001b[0mmodel\u001b[0m\u001b[0;34m=\u001b[0m\u001b[0mCFG\u001b[0m\u001b[0;34m.\u001b[0m\u001b[0mmodel\u001b[0m\u001b[0;34m,\u001b[0m \u001b[0mmax_tokens\u001b[0m\u001b[0;34m=\u001b[0m \u001b[0mCFG\u001b[0m\u001b[0;34m.\u001b[0m\u001b[0mmax_tokens\u001b[0m\u001b[0;34m,\u001b[0m \u001b[0mmessages\u001b[0m\u001b[0;34m=\u001b[0m\u001b[0;34m[\u001b[0m\u001b[0;34m{\u001b[0m\u001b[0;34m\"role\"\u001b[0m\u001b[0;34m:\u001b[0m \u001b[0;34m\"user\"\u001b[0m\u001b[0;34m,\u001b[0m \u001b[0;34m\"content\"\u001b[0m\u001b[0;34m:\u001b[0m \u001b[0muser_message\u001b[0m\u001b[0;34m}\u001b[0m\u001b[0;34m]\u001b[0m\u001b[0;34m,\u001b[0m\u001b[0;34m\u001b[0m\u001b[0;34m\u001b[0m\u001b[0m\n\u001b[1;32m      5\u001b[0m         \u001b[0mtools\u001b[0m\u001b[0;34m=\u001b[0m\u001b[0mtools\u001b[0m\u001b[0;34m,\u001b[0m\u001b[0;34m\u001b[0m\u001b[0;34m\u001b[0m\u001b[0m\n",
            "\u001b[0;32m/usr/local/lib/python3.10/dist-packages/anthropic/_utils/_utils.py\u001b[0m in \u001b[0;36mwrapper\u001b[0;34m(*args, **kwargs)\u001b[0m\n\u001b[1;32m    273\u001b[0m                         \u001b[0mmsg\u001b[0m \u001b[0;34m=\u001b[0m \u001b[0;34mf\"Missing required argument: {quote(missing[0])}\"\u001b[0m\u001b[0;34m\u001b[0m\u001b[0;34m\u001b[0m\u001b[0m\n\u001b[1;32m    274\u001b[0m                 \u001b[0;32mraise\u001b[0m \u001b[0mTypeError\u001b[0m\u001b[0;34m(\u001b[0m\u001b[0mmsg\u001b[0m\u001b[0;34m)\u001b[0m\u001b[0;34m\u001b[0m\u001b[0;34m\u001b[0m\u001b[0m\n\u001b[0;32m--> 275\u001b[0;31m             \u001b[0;32mreturn\u001b[0m \u001b[0mfunc\u001b[0m\u001b[0;34m(\u001b[0m\u001b[0;34m*\u001b[0m\u001b[0margs\u001b[0m\u001b[0;34m,\u001b[0m \u001b[0;34m**\u001b[0m\u001b[0mkwargs\u001b[0m\u001b[0;34m)\u001b[0m\u001b[0;34m\u001b[0m\u001b[0;34m\u001b[0m\u001b[0m\n\u001b[0m\u001b[1;32m    276\u001b[0m \u001b[0;34m\u001b[0m\u001b[0m\n\u001b[1;32m    277\u001b[0m         \u001b[0;32mreturn\u001b[0m \u001b[0mwrapper\u001b[0m  \u001b[0;31m# type: ignore\u001b[0m\u001b[0;34m\u001b[0m\u001b[0;34m\u001b[0m\u001b[0m\n",
            "\u001b[0;32m/usr/local/lib/python3.10/dist-packages/anthropic/resources/messages.py\u001b[0m in \u001b[0;36mcreate\u001b[0;34m(self, max_tokens, messages, model, metadata, stop_sequences, stream, system, temperature, tool_choice, tools, top_k, top_p, extra_headers, extra_query, extra_body, timeout)\u001b[0m\n\u001b[1;32m    886\u001b[0m             )\n\u001b[1;32m    887\u001b[0m \u001b[0;34m\u001b[0m\u001b[0m\n\u001b[0;32m--> 888\u001b[0;31m         return self._post(\n\u001b[0m\u001b[1;32m    889\u001b[0m             \u001b[0;34m\"/v1/messages\"\u001b[0m\u001b[0;34m,\u001b[0m\u001b[0;34m\u001b[0m\u001b[0;34m\u001b[0m\u001b[0m\n\u001b[1;32m    890\u001b[0m             body=maybe_transform(\n",
            "\u001b[0;32m/usr/local/lib/python3.10/dist-packages/anthropic/_base_client.py\u001b[0m in \u001b[0;36mpost\u001b[0;34m(self, path, cast_to, body, options, files, stream, stream_cls)\u001b[0m\n\u001b[1;32m   1275\u001b[0m             \u001b[0mmethod\u001b[0m\u001b[0;34m=\u001b[0m\u001b[0;34m\"post\"\u001b[0m\u001b[0;34m,\u001b[0m \u001b[0murl\u001b[0m\u001b[0;34m=\u001b[0m\u001b[0mpath\u001b[0m\u001b[0;34m,\u001b[0m \u001b[0mjson_data\u001b[0m\u001b[0;34m=\u001b[0m\u001b[0mbody\u001b[0m\u001b[0;34m,\u001b[0m \u001b[0mfiles\u001b[0m\u001b[0;34m=\u001b[0m\u001b[0mto_httpx_files\u001b[0m\u001b[0;34m(\u001b[0m\u001b[0mfiles\u001b[0m\u001b[0;34m)\u001b[0m\u001b[0;34m,\u001b[0m \u001b[0;34m**\u001b[0m\u001b[0moptions\u001b[0m\u001b[0;34m\u001b[0m\u001b[0;34m\u001b[0m\u001b[0m\n\u001b[1;32m   1276\u001b[0m         )\n\u001b[0;32m-> 1277\u001b[0;31m         \u001b[0;32mreturn\u001b[0m \u001b[0mcast\u001b[0m\u001b[0;34m(\u001b[0m\u001b[0mResponseT\u001b[0m\u001b[0;34m,\u001b[0m \u001b[0mself\u001b[0m\u001b[0;34m.\u001b[0m\u001b[0mrequest\u001b[0m\u001b[0;34m(\u001b[0m\u001b[0mcast_to\u001b[0m\u001b[0;34m,\u001b[0m \u001b[0mopts\u001b[0m\u001b[0;34m,\u001b[0m \u001b[0mstream\u001b[0m\u001b[0;34m=\u001b[0m\u001b[0mstream\u001b[0m\u001b[0;34m,\u001b[0m \u001b[0mstream_cls\u001b[0m\u001b[0;34m=\u001b[0m\u001b[0mstream_cls\u001b[0m\u001b[0;34m)\u001b[0m\u001b[0;34m)\u001b[0m\u001b[0;34m\u001b[0m\u001b[0;34m\u001b[0m\u001b[0m\n\u001b[0m\u001b[1;32m   1278\u001b[0m \u001b[0;34m\u001b[0m\u001b[0m\n\u001b[1;32m   1279\u001b[0m     def patch(\n",
            "\u001b[0;32m/usr/local/lib/python3.10/dist-packages/anthropic/_base_client.py\u001b[0m in \u001b[0;36mrequest\u001b[0;34m(self, cast_to, options, remaining_retries, stream, stream_cls)\u001b[0m\n\u001b[1;32m    952\u001b[0m             \u001b[0mretries_taken\u001b[0m \u001b[0;34m=\u001b[0m \u001b[0;36m0\u001b[0m\u001b[0;34m\u001b[0m\u001b[0;34m\u001b[0m\u001b[0m\n\u001b[1;32m    953\u001b[0m \u001b[0;34m\u001b[0m\u001b[0m\n\u001b[0;32m--> 954\u001b[0;31m         return self._request(\n\u001b[0m\u001b[1;32m    955\u001b[0m             \u001b[0mcast_to\u001b[0m\u001b[0;34m=\u001b[0m\u001b[0mcast_to\u001b[0m\u001b[0;34m,\u001b[0m\u001b[0;34m\u001b[0m\u001b[0;34m\u001b[0m\u001b[0m\n\u001b[1;32m    956\u001b[0m             \u001b[0moptions\u001b[0m\u001b[0;34m=\u001b[0m\u001b[0moptions\u001b[0m\u001b[0;34m,\u001b[0m\u001b[0;34m\u001b[0m\u001b[0;34m\u001b[0m\u001b[0m\n",
            "\u001b[0;32m/usr/local/lib/python3.10/dist-packages/anthropic/_base_client.py\u001b[0m in \u001b[0;36m_request\u001b[0;34m(self, cast_to, options, retries_taken, stream, stream_cls)\u001b[0m\n\u001b[1;32m   1056\u001b[0m \u001b[0;34m\u001b[0m\u001b[0m\n\u001b[1;32m   1057\u001b[0m             \u001b[0mlog\u001b[0m\u001b[0;34m.\u001b[0m\u001b[0mdebug\u001b[0m\u001b[0;34m(\u001b[0m\u001b[0;34m\"Re-raising status error\"\u001b[0m\u001b[0;34m)\u001b[0m\u001b[0;34m\u001b[0m\u001b[0;34m\u001b[0m\u001b[0m\n\u001b[0;32m-> 1058\u001b[0;31m             \u001b[0;32mraise\u001b[0m \u001b[0mself\u001b[0m\u001b[0;34m.\u001b[0m\u001b[0m_make_status_error_from_response\u001b[0m\u001b[0;34m(\u001b[0m\u001b[0merr\u001b[0m\u001b[0;34m.\u001b[0m\u001b[0mresponse\u001b[0m\u001b[0;34m)\u001b[0m \u001b[0;32mfrom\u001b[0m \u001b[0;32mNone\u001b[0m\u001b[0;34m\u001b[0m\u001b[0;34m\u001b[0m\u001b[0m\n\u001b[0m\u001b[1;32m   1059\u001b[0m \u001b[0;34m\u001b[0m\u001b[0m\n\u001b[1;32m   1060\u001b[0m         return self._process_response(\n",
            "\u001b[0;31mBadRequestError\u001b[0m: Error code: 400 - {'type': 'error', 'error': {'type': 'invalid_request_error', 'message': 'Your credit balance is too low to access the Anthropic API. Please go to Plans & Billing to upgrade or purchase credits.'}}"
          ]
        }
      ],
      "source": [
        "chat_with_claude(\"What is the result of 555 * 555?\")\n"
      ]
    },
    {
      "cell_type": "code",
      "execution_count": null,
      "id": "b41eb6fa",
      "metadata": {
        "execution": {
          "iopub.execute_input": "2024-11-15T09:46:56.145856Z",
          "iopub.status.busy": "2024-11-15T09:46:56.145003Z",
          "iopub.status.idle": "2024-11-15T09:46:57.874698Z",
          "shell.execute_reply": "2024-11-15T09:46:57.873387Z"
        },
        "papermill": {
          "duration": 1.742711,
          "end_time": "2024-11-15T09:46:57.877234",
          "exception": false,
          "start_time": "2024-11-15T09:46:56.134523",
          "status": "completed"
        },
        "tags": [],
        "colab": {
          "base_uri": "https://localhost:8080/",
          "height": 252
        },
        "id": "b41eb6fa",
        "outputId": "13f91d1a-f70f-450e-a150-35e6031f9e8a"
      },
      "outputs": [
        {
          "output_type": "stream",
          "name": "stdout",
          "text": [
            "\n",
            "Initial Response:\n",
            "Stop Reason: tool_use\n",
            "Content: [TextBlock(text='Here is the calculation:', type='text'), ToolUseBlock(id='toolu_01EBnRkrxdkbkZPLGR8WyaPt', input={'expression': '(12851 - 593) * 301 + 76'}, name='calculator', type='tool_use')]\n",
            "\n",
            "Tool Used: calculator\n",
            "Tool Input: {'expression': '(12851 - 593) * 301 + 76'}\n",
            "Tool Result: 3689734\n",
            "[TextBlock(text='The result of the expression (12851 - 593) * 301 + 76 is 3689734.', type='text')]\n",
            "\n",
            "Final Response: The result of the expression (12851 - 593) * 301 + 76 is 3689734.\n"
          ]
        },
        {
          "output_type": "execute_result",
          "data": {
            "text/plain": [
              "'The result of the expression (12851 - 593) * 301 + 76 is 3689734.'"
            ],
            "application/vnd.google.colaboratory.intrinsic+json": {
              "type": "string"
            }
          },
          "metadata": {},
          "execution_count": 11
        }
      ],
      "source": [
        "chat_with_claude(\"Calculate (12851 - 593) * 301 + 76\")"
      ]
    },
    {
      "cell_type": "code",
      "execution_count": null,
      "id": "7f8d2cdf",
      "metadata": {
        "execution": {
          "iopub.execute_input": "2024-11-15T09:46:57.897365Z",
          "iopub.status.busy": "2024-11-15T09:46:57.896961Z",
          "iopub.status.idle": "2024-11-15T09:46:59.430102Z",
          "shell.execute_reply": "2024-11-15T09:46:59.428828Z"
        },
        "papermill": {
          "duration": 1.546836,
          "end_time": "2024-11-15T09:46:59.433110",
          "exception": false,
          "start_time": "2024-11-15T09:46:57.886274",
          "status": "completed"
        },
        "tags": [],
        "colab": {
          "base_uri": "https://localhost:8080/",
          "height": 232
        },
        "id": "7f8d2cdf",
        "outputId": "c42d2531-5822-4860-d32c-d48b838bf96e"
      },
      "outputs": [
        {
          "output_type": "stream",
          "name": "stdout",
          "text": [
            "\n",
            "Initial Response:\n",
            "Stop Reason: tool_use\n",
            "Content: [ToolUseBlock(id='toolu_01TbcipGCyFADQn23yWNMwzL', input={'expression': '15910385 / 193053'}, name='calculator', type='tool_use')]\n",
            "\n",
            "Tool Used: calculator\n",
            "Tool Input: {'expression': '15910385 / 193053'}\n",
            "Tool Result: 82.41459599177428\n",
            "[TextBlock(text='The result of 15910385 divided by 193053 is 82.41459599177428.', type='text')]\n",
            "\n",
            "Final Response: The result of 15910385 divided by 193053 is 82.41459599177428.\n"
          ]
        },
        {
          "output_type": "execute_result",
          "data": {
            "text/plain": [
              "'The result of 15910385 divided by 193053 is 82.41459599177428.'"
            ],
            "application/vnd.google.colaboratory.intrinsic+json": {
              "type": "string"
            }
          },
          "metadata": {},
          "execution_count": 12
        }
      ],
      "source": [
        "chat_with_claude(\"What is 15910385 divided by 193053?\")"
      ]
    }
  ],
  "metadata": {
    "kaggle": {
      "accelerator": "none",
      "dataSources": [],
      "dockerImageVersionId": 30786,
      "isGpuEnabled": false,
      "isInternetEnabled": true,
      "language": "python",
      "sourceType": "notebook"
    },
    "kernelspec": {
      "display_name": "Python 3",
      "language": "python",
      "name": "python3"
    },
    "language_info": {
      "codemirror_mode": {
        "name": "ipython",
        "version": 3
      },
      "file_extension": ".py",
      "mimetype": "text/x-python",
      "name": "python",
      "nbconvert_exporter": "python",
      "pygments_lexer": "ipython3",
      "version": "3.10.14"
    },
    "papermill": {
      "default_parameters": {},
      "duration": 27.421615,
      "end_time": "2024-11-15T09:46:59.966007",
      "environment_variables": {},
      "exception": null,
      "input_path": "__notebook__.ipynb",
      "output_path": "__notebook__.ipynb",
      "parameters": {},
      "start_time": "2024-11-15T09:46:32.544392",
      "version": "2.6.0"
    },
    "colab": {
      "provenance": [],
      "include_colab_link": true
    }
  },
  "nbformat": 4,
  "nbformat_minor": 5
}