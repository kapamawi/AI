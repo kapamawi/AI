{
  "nbformat": 4,
  "nbformat_minor": 0,
  "metadata": {
    "colab": {
      "provenance": [],
      "machine_shape": "hm",
      "include_colab_link": true
    },
    "kernelspec": {
      "name": "python3",
      "display_name": "Python 3"
    },
    "language_info": {
      "name": "python"
    }
  },
  "cells": [
    {
      "cell_type": "markdown",
      "metadata": {
        "id": "view-in-github",
        "colab_type": "text"
      },
      "source": [
        "<a href=\"https://colab.research.google.com/github/kapamawi/AI/blob/main/2_9_3__Streamlit_automatyzacja_spotkan.ipynb\" target=\"_parent\"><img src=\"https://colab.research.google.com/assets/colab-badge.svg\" alt=\"Open In Colab\"/></a>"
      ]
    },
    {
      "cell_type": "markdown",
      "source": [
        "Adaptacja: https://www.theunwindai.com/p/build-multi-agent-ai-meeting-preparation-assistant"
      ],
      "metadata": {
        "id": "o7OyQrYRvSIu"
      }
    },
    {
      "cell_type": "markdown",
      "source": [
        "# Setup"
      ],
      "metadata": {
        "id": "b-7N8UOs6jvt"
      }
    },
    {
      "cell_type": "code",
      "source": [
        "!pip install -qq  crewai streamlit #==1.40.2"
      ],
      "metadata": {
        "id": "Vo5_3INy7Ugd"
      },
      "execution_count": null,
      "outputs": []
    },
    {
      "cell_type": "markdown",
      "source": [
        "Instalacja dwóch bibliotek Pythona za pomocą narzędzia pip:\n",
        "\n",
        "`crewai` - biblioteka do tworzenia systemów agentowych i automatyzacji zadań\n",
        "`streamlit` - framework do tworzenia aplikacji webowych z interfejsem graficznym\n",
        "\n",
        "Flaga `-qq` oznacza \"bardzo cichy\" (quiet) tryb instalacji - wyświetlane są tylko krytyczne błędy, pomijane są standardowe komunikaty i ostrzeżenia.\n",
        "\n",
        "Komentarz `#==1.40.2` jest zakomentowaną wersją Streamlit - prawdopodobnie autor kodu wcześniej używał konkretnej wersji 1.40.2, ale teraz zdecydował się na instalację najnowszej dostępnej wersji."
      ],
      "metadata": {
        "id": "2PrpxB-b44bg"
      }
    },
    {
      "cell_type": "code",
      "execution_count": null,
      "metadata": {
        "id": "Bdm8LNKn6IHA",
        "colab": {
          "base_uri": "https://localhost:8080/"
        },
        "outputId": "a7823fa2-82e8-418a-a1f7-0b178b4a7082"
      },
      "outputs": [
        {
          "output_type": "stream",
          "name": "stdout",
          "text": [
            "\u001b[1G\u001b[0K⠙\u001b[1G\u001b[0K⠹\u001b[1G\u001b[0K⠸\u001b[1G\u001b[0K⠼\u001b[1G\u001b[0K⠴\u001b[1G\u001b[0K\n",
            "up to date, audited 23 packages in 629ms\n",
            "\u001b[1G\u001b[0K⠴\u001b[1G\u001b[0K\n",
            "\u001b[1G\u001b[0K⠴\u001b[1G\u001b[0K3 packages are looking for funding\n",
            "\u001b[1G\u001b[0K⠴\u001b[1G\u001b[0K  run `npm fund` for details\n",
            "\u001b[1G\u001b[0K⠴\u001b[1G\u001b[0K\n",
            "2 \u001b[33m\u001b[1mmoderate\u001b[22m\u001b[39m severity vulnerabilities\n",
            "\n",
            "To address all issues (including breaking changes), run:\n",
            "  npm audit fix --force\n",
            "\n",
            "Run `npm audit` for details.\n",
            "\u001b[1G\u001b[0K⠴\u001b[1G\u001b[0K"
          ]
        }
      ],
      "source": [
        "!npm install localtunnel"
      ]
    },
    {
      "cell_type": "markdown",
      "source": [
        "Ta komenda instaluje narzędzie `localtunnel` za pomocą menedżera pakietów npm (Node Package Manager).\n",
        "\n",
        "`localtunnel` to narzędzie, które tworzy publiczny URL dla lokalnie uruchomionego serwera. Pozwala to na udostępnienie aplikacji działającej na lokalnym komputerze przez internet - inni użytkownicy mogą uzyskać do niej dostęp przez wygenerowany adres URL.\n",
        "\n",
        "Jest to szczególnie przydatne podczas:\n",
        "- testowania webhooków\n",
        "- demonstrowania aplikacji klientom/współpracownikom\n",
        "- debugowania aplikacji w różnych środowiskach\n",
        "- udostępniania lokalnej aplikacji bez konieczności wdrażania jej na serwer produkcyjny"
      ],
      "metadata": {
        "id": "jhHfZhlp441o"
      }
    },
    {
      "cell_type": "markdown",
      "source": [
        "# App"
      ],
      "metadata": {
        "id": "bTNXV87VHwmt"
      }
    },
    {
      "cell_type": "code",
      "source": [
        "%%writefile muh_app.py\n",
        "\n",
        "import streamlit as st\n",
        "from crewai import Agent, Task, Crew, LLM\n",
        "from crewai.process import Process\n",
        "from crewai_tools import SerperDevTool\n",
        "import os\n",
        "\n",
        "\n",
        "# inicjalizacja aplikacji\n",
        "st.set_page_config(page_title=\"AI Meeting Agent 📝\", layout=\"wide\")\n",
        "st.title(\"Agentura przed spotkaniem 📝\")\n",
        "\n",
        "\n",
        "# API\n",
        "st.sidebar.header(\"API\")\n",
        "openai_key = st.sidebar.text_input(\"OpenAI API Key\", type=\"password\")\n",
        "serper_key = st.sidebar.text_input(\"Serper API Key\", type=\"password\")\n",
        "\n",
        "os.environ[\"OPENAI_API_KEY\"] = openai_key\n",
        "os.environ[\"SERPER_API_KEY\"] = serper_key\n",
        "\n",
        "# konfiguracja narzedzi\n",
        "muh_llm = LLM(model= \"gpt-4o-mini\" , temperature= 0.7, api_key=openai_key)\n",
        "search_tool = SerperDevTool()\n",
        "\n",
        "# parametry\n",
        "company_name = st.text_input(\"Wprowadź nazwę firmy:\")\n",
        "meeting_objective = st.text_input(\"Wprowadź cel spotkania:\")\n",
        "attendees = st.text_area(\"Wprowadź uczestników i ich role (po jednym w linii):\")\n",
        "meeting_duration = st.number_input(\"Wprowadź czas trwania spotkania (w minutach):\", min_value=15, max_value=180, value=60, step=15)\n",
        "focus_areas = st.text_input(\"Wprowadź konkretne obszary zainteresowania lub obawy:\")\n",
        "\n",
        "# agenci\n",
        "context_analyzer = Agent(\n",
        "    role='Specjalista ds. Kontekstu ',\n",
        "    goal='Analizuj i podsumowuj kluczowe informacje kontekstowe do spotkania',\n",
        "    backstory='Jesteś ekspertem w szybkim rozumieniu złożonych kontekstów biznesowych i identyfikowaniu kluczowych informacji.',\n",
        "    verbose=True,\n",
        "    allow_delegation=False,\n",
        "    llm = muh_llm,\n",
        "    tools=[search_tool]\n",
        ")\n",
        "\n",
        "industry_insights_generator = Agent(\n",
        "    role='Ekspert Branżowy',\n",
        "    goal='Dostarcz dogłębną analizę branży i zidentyfikuj kluczowe trendy',\n",
        "    backstory='Jesteś doświadczonym analitykiem branżowym ze zdolnością do dostrzegania pojawiających się trendów i możliwości.',\n",
        "    verbose=True,\n",
        "    allow_delegation=False,\n",
        "    llm = muh_llm,\n",
        "    tools=[search_tool]\n",
        ")\n",
        "\n",
        "strategy_formulator = Agent(\n",
        "    role='Strateg Spotkania',\n",
        "    goal='Opracuj dostosowaną strategię spotkania i szczegółową agendę',\n",
        "    backstory='Jesteś mistrzem planowania spotkań, znanym z tworzenia wysoce efektywnych strategii i agend.',\n",
        "    verbose=True,\n",
        "    allow_delegation=False,\n",
        "    llm = muh_llm,\n",
        ")\n",
        "\n",
        "executive_briefing_creator = Agent(\n",
        "    role='Specjalista ds. Komunikacji',\n",
        "    goal='Zsyntetyzuj informacje w zwięzłe i skuteczne briefingi',\n",
        "    backstory='Jesteś ekspertem komunikacji, biegłym w przekładaniu złożonych informacji na jasne, praktyczne wskazówki.',\n",
        "    verbose=True,\n",
        "    allow_delegation=False,\n",
        "    llm = muh_llm,\n",
        ")\n",
        "\n",
        "# zadania\n",
        "context_analysis_task = Task(\n",
        "    description=f\"\"\"\n",
        "    Przeanalizuj kontekst spotkania z firmą {company_name}, biorąc pod uwagę:\n",
        "    1. Cel spotkania: {meeting_objective}\n",
        "    2. Uczestników: {attendees}\n",
        "    3. Czas trwania spotkania: {meeting_duration} minut\n",
        "    4. Konkretne obszary zainteresowania lub obawy: {focus_areas}\n",
        "\n",
        "    Dokładnie zbadaj firmę {company_name}, w tym:\n",
        "    1. Ostatnie wiadomości i komunikaty prasowe\n",
        "    2. Kluczowe produkty lub usługi\n",
        "    3. Głównych konkurentów\n",
        "\n",
        "    Przedstaw kompleksowe podsumowanie swoich ustaleń, podkreślając najistotniejsze informacje dla kontekstu spotkania.\n",
        "    Sformatuj wynik używając markdown z odpowiednimi nagłówkami i podtytułami.\n",
        "    \"\"\",\n",
        "    agent=context_analyzer,\n",
        "    expected_output=\"Szczegółowa analiza kontekstu spotkania i tła firmy, zawierająca ostatnie wydarzenia, wyniki finansowe i znaczenie dla celu spotkania, sformatowana w markdown z nagłówkami i podtytułami.\"\n",
        ")\n",
        "\n",
        "industry_analysis_task = Task(\n",
        "      description=f\"\"\"\n",
        "      Na podstawie analizy kontekstu dla firmy {company_name} i celu spotkania: {meeting_objective}, przedstaw dogłębną analizę branży:\n",
        "      1. Zidentyfikuj kluczowe trendy i wydarzenia w branży\n",
        "      2. Przeanalizuj sytuację konkurencyjną\n",
        "      3. Podkreśl potencjalne szanse i zagrożenia\n",
        "      4. Przedstaw spostrzeżenia dotyczące pozycjonowania rynkowego\n",
        "\n",
        "      Upewnij się, że analiza jest odpowiednia do celu spotkania i ról uczestników.\n",
        "      Sformatuj wynik używając markdown z odpowiednimi nagłówkami i podtytułami.\n",
        "      \"\"\",\n",
        "      agent=industry_insights_generator,\n",
        "      expected_output=\"Kompleksowy raport analizy branży, zawierający trendy, sytuację konkurencyjną, szanse, zagrożenia i istotne spostrzeżenia dla celu spotkania, sformatowany w markdown z nagłówkami i podtytułami.\"\n",
        "  )\n",
        "\n",
        "strategy_development_task = Task(\n",
        "      description=f\"\"\"\n",
        "      Wykorzystując analizę kontekstu i spostrzeżenia branżowe, opracuj dostosowaną strategię spotkania i szczegółową agendę dla {meeting_duration}-minutowego spotkania z firmą {company_name}. Zawrzyj:\n",
        "      1. Agendę z określonymi ramami czasowymi i jasnymi celami dla każdej sekcji\n",
        "      2. Kluczowe punkty do omówienia dla każdego elementu agendy\n",
        "      3. Proponowanych mówców lub prowadzących dla każdej sekcji\n",
        "      4. Potencjalne tematy do dyskusji i pytania napędzające rozmowę\n",
        "      5. Strategie dotyczące konkretnych obszarów zainteresowania i obaw: {focus_areas}\n",
        "\n",
        "      Upewnij się, że strategia i agenda są zgodne z celem spotkania: {meeting_objective}\n",
        "      Sformatuj wynik używając markdown z odpowiednimi nagłówkami i podtytułami.\n",
        "      \"\"\",\n",
        "      agent=strategy_formulator,\n",
        "      expected_output=\"Szczegółowa strategia spotkania i agenda z ramami czasowymi, zawierająca cele, kluczowe punkty do omówienia i strategie dotyczące konkretnych obszarów zainteresowania, sformatowana w markdown z nagłówkami i podtytułami.\"\n",
        "  )\n",
        "\n",
        "executive_brief_task = Task(\n",
        "      description=f\"\"\"\n",
        "      Dokonaj syntezy wszystkich zebranych informacji w kompleksowy, lecz zwięzły brief dla kierownictwa na spotkanie z firmą {company_name}. Utwórz następujące komponenty:\n",
        "\n",
        "      1. Szczegółowe jednostronicowe podsumowanie dla kierownictwa zawierające:\n",
        "          - Jasne określenie celu spotkania\n",
        "          - Lista kluczowych uczestników i ich ról\n",
        "          - Najważniejsze informacje o tle firmy {company_name} i istotny kontekst branżowy\n",
        "          - Najważniejsze 3-5 celów strategicznych spotkania, zgodnych z głównym celem\n",
        "          - Krótki przegląd struktury spotkania i kluczowych tematów do omówienia\n",
        "\n",
        "      2. Szczegółowa lista kluczowych punktów do omówienia, każdy poparty:\n",
        "          - Istotnymi danymi lub statystykami\n",
        "          - Konkretnymi przykładami lub studiami przypadków\n",
        "          - Powiązaniem z obecną sytuacją lub wyzwaniami firmy\n",
        "\n",
        "      3. Przewidywanie i przygotowanie się na potencjalne pytania:\n",
        "          - Lista prawdopodobnych pytań od uczestników na podstawie ich ról i celu spotkania\n",
        "          - Przygotowanie przemyślanych, opartych na danych odpowiedzi na każde pytanie\n",
        "          - Dołączenie wszelkich dodatkowych informacji lub kontekstu, które mogą być potrzebne\n",
        "\n",
        "      4. Rekomendacje strategiczne i następne kroki:\n",
        "          - Przedstawienie 3-5 możliwych do wdrożenia rekomendacji na podstawie analizy\n",
        "          - Nakreślenie jasnych następnych kroków do wdrożenia lub działań następczych\n",
        "          - Zaproponowanie harmonogramów lub terminów dla kluczowych działań\n",
        "          - Identyfikacja potencjalnych wyzwań lub przeszkód i propozycje strategii ich łagodzenia\n",
        "\n",
        "      Upewnij się, że brief jest kompleksowy, ale zwięzły, możliwy do wdrożenia i dokładnie zgodny z celem spotkania: {meeting_objective}. Dokument powinien być ustrukturyzowany dla łatwej nawigacji i szybkiego odniesienia podczas spotkania.\n",
        "      Sformatuj wynik używając markdown z odpowiednimi nagłówkami i podtytułami.\n",
        "      \"\"\",\n",
        "      agent=executive_briefing_creator,\n",
        "      expected_output=\"Kompleksowy brief dla kierownictwa zawierający podsumowanie, kluczowe punkty do omówienia, przygotowanie pytań i odpowiedzi oraz \\\n",
        "      rekomendacje strategiczne, sformatowany w markdown z głównymi nagłówkami (H1), nagłówkami sekcji (H2) i nagłówkami podsekcji (H3) tam, gdzie to właściwe.\\\n",
        "       Użyj punktów, list numerowanych i wyróżnień (pogrubienie/kursywa) dla kluczowych informacji.\"\n",
        "  )\n",
        "\n",
        "# sklad\n",
        "meeting_prep_crew = Crew(\n",
        "      agents=[context_analyzer, industry_insights_generator, strategy_formulator, executive_briefing_creator],\n",
        "      tasks=[context_analysis_task, industry_analysis_task, strategy_development_task, executive_brief_task],\n",
        "      verbose=True,\n",
        "      process=Process.sequential\n",
        "  )\n",
        "\n",
        "# odpal po nacisnieciu guzika ;-)\n",
        "if st.button(\"Przygotuj Spotkanie\"):\n",
        "    with st.spinner(\"Agenci AI przygotowują twoje spotkanie...\"):\n",
        "        result = meeting_prep_crew.kickoff()\n",
        "    st.markdown(result)\n",
        "\n",
        "st.sidebar.markdown(\"\"\"\n",
        "## Jak korzystać z aplikacji:\n",
        "1. Wprowadź swoje klucze API w pasku bocznym.\n",
        "2. Podaj wymagane informacje o spotkaniu.\n",
        "3. Kliknij 'Przygotuj Spotkanie', aby wygenerować kompleksowy pakiet przygotowawczy do spotkania.\n",
        "\n",
        "Agenci AI będą współpracować, aby:\n",
        "- Przeanalizować kontekst spotkania i tło firmy\n",
        "- Dostarczyć spostrzeżenia i trendy branżowe\n",
        "- Opracować dostosowaną strategię spotkania i agendę\n",
        "- Stworzyć brief dla kierownictwa z kluczowymi punktami do omówienia\n",
        "\n",
        "Ten proces może potrwać kilka minut. Prosimy o cierpliwość!\n",
        "\"\"\")\n"
      ],
      "metadata": {
        "id": "byz2CTTY7jZa",
        "colab": {
          "base_uri": "https://localhost:8080/"
        },
        "outputId": "92fa8565-9600-442e-c15c-34cecde8bd40"
      },
      "execution_count": null,
      "outputs": [
        {
          "output_type": "stream",
          "name": "stdout",
          "text": [
            "Overwriting muh_app.py\n"
          ]
        }
      ]
    },
    {
      "cell_type": "markdown",
      "source": [
        "Ten kod tworzy aplikację Streamlit do automatycznego przygotowywania spotkań biznesowych za pomocą agentów AI.\n",
        "\n",
        "W pierwszej części kodu zaimportowane są niezbędne biblioteki i skonfigurowana jest podstawowa struktura aplikacji z tytułem \"Agentura przed spotkaniem\".\n",
        "\n",
        "W pasku bocznym aplikacji znajdują się pola do wprowadzenia kluczy API dla OpenAI i Serper. Te klucze są potrzebne do działania agentów AI i narzędzia wyszukiwania.\n",
        "\n",
        "Główna część interfejsu zawiera pola do wprowadzenia:\n",
        "- nazwy firmy\n",
        "- celu spotkania\n",
        "- listy uczestników i ich ról\n",
        "- czasu trwania spotkania (15-180 minut)\n",
        "- konkretnych obszarów zainteresowania\n",
        "\n",
        "Kod definiuje czterech specjalistycznych agentów AI:\n",
        "1. Specjalista ds. Kontekstu - analizuje informacje kontekstowe\n",
        "2. Ekspert Branżowy - dostarcza analizę branży i trendów\n",
        "3. Strateg Spotkania - tworzy strategię i agendę\n",
        "4. Specjalista ds. Komunikacji - przygotowuje briefingi\n",
        "\n",
        "Dla każdego agenta zdefiniowane są zadania z dokładnymi instrukcjami dotyczącymi oczekiwanych wyników. Zadania te obejmują:\n",
        "- analizę kontekstu firmy i spotkania\n",
        "- analizę branży i konkurencji\n",
        "- opracowanie strategii i agendy\n",
        "- stworzenie briefu dla kierownictwa\n",
        "\n",
        "Agenci są zorganizowani w zespół (Crew), który wykonuje zadania sekwencyjnie.\n",
        "\n",
        "Po kliknięciu przycisku \"Przygotuj Spotkanie\" uruchamiany jest proces przygotowania, a wyniki są wyświetlane w formacie markdown.\n",
        "\n",
        "W pasku bocznym znajduje się też instrukcja obsługi aplikacji z opisem kroków i informacją o czasie oczekiwania na wyniki."
      ],
      "metadata": {
        "id": "LXAQo5fq45ph"
      }
    },
    {
      "cell_type": "markdown",
      "source": [
        "# Biegnij Forrest"
      ],
      "metadata": {
        "id": "sDgSGJxCHxwh"
      }
    },
    {
      "cell_type": "code",
      "source": [
        "!streamlit run muh_app.py --server.address=localhost  &>/content/logs.txt & npx localtunnel --port 8501 & curl ipv4.icanhazip.com"
      ],
      "metadata": {
        "id": "vQd-qzA07oot",
        "colab": {
          "base_uri": "https://localhost:8080/"
        },
        "outputId": "4c7ef34d-0a24-4961-8042-d97111a4d804"
      },
      "execution_count": null,
      "outputs": [
        {
          "output_type": "stream",
          "name": "stdout",
          "text": [
            "35.201.217.238\n",
            "\u001b[1G\u001b[0K⠙\u001b[1G\u001b[0Kyour url is: https://solid-pumas-scream.loca.lt\n"
          ]
        }
      ]
    },
    {
      "cell_type": "markdown",
      "source": [
        "Ta sekwencja komend uruchamia kilka procesów:\n",
        "\n",
        "1. `streamlit run muh_app.py --server.address=localhost`\n",
        "- Uruchamia aplikację Streamlit\n",
        "- Parametr `--server.address=localhost` określa, że serwer ma być dostępny tylko lokalnie\n",
        "- `&>/content/logs.txt` przekierowuje wszystkie komunikaty (standardowe wyjście i błędy) do pliku logs.txt\n",
        "- `&` na końcu uruchamia proces w tle\n",
        "\n",
        "2. `npx localtunnel --port 8501`\n",
        "- Tworzy tunel przez localtunnel do portu 8501 (domyślny port Streamlit)\n",
        "- Pozwala na dostęp do lokalnej aplikacji z internetu\n",
        "- Wygeneruje publiczny URL dostępowy\n",
        "\n",
        "3. `curl ipv4.icanhazip.com`\n",
        "- Pobiera publiczny adres IP komputera\n",
        "- Może być przydatne do weryfikacji połączenia lub konfiguracji\n",
        "\n",
        "Znak `&` pomiędzy komendami sprawia, że wszystkie procesy uruchamiają się równolegle."
      ],
      "metadata": {
        "id": "3xqrh3gQ46Y0"
      }
    }
  ]
}