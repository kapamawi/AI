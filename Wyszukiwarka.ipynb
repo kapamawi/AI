{
  "cells": [
    {
      "cell_type": "markdown",
      "metadata": {
        "id": "view-in-github",
        "colab_type": "text"
      },
      "source": [
        "<a href=\"https://colab.research.google.com/github/kapamawi/AI/blob/main/Wyszukiwarka.ipynb\" target=\"_parent\"><img src=\"https://colab.research.google.com/assets/colab-badge.svg\" alt=\"Open In Colab\"/></a>"
      ]
    },
    {
      "cell_type": "code",
      "execution_count": 1,
      "id": "63b152d9",
      "metadata": {
        "_kg_hide-output": true,
        "execution": {
          "iopub.execute_input": "2024-11-17T14:39:42.104858Z",
          "iopub.status.busy": "2024-11-17T14:39:42.104432Z",
          "iopub.status.idle": "2024-11-17T14:40:09.994603Z",
          "shell.execute_reply": "2024-11-17T14:40:09.993304Z"
        },
        "papermill": {
          "duration": 27.900919,
          "end_time": "2024-11-17T14:40:09.997250",
          "exception": false,
          "start_time": "2024-11-17T14:39:42.096331",
          "status": "completed"
        },
        "tags": [],
        "id": "63b152d9"
      },
      "outputs": [],
      "source": [
        "!pip install -q openai py_expression_eval google-api-python-client"
      ]
    },
    {
      "cell_type": "markdown",
      "id": "bdaf86ce",
      "metadata": {
        "papermill": {
          "duration": 0.005711,
          "end_time": "2024-11-17T14:40:10.009694",
          "exception": false,
          "start_time": "2024-11-17T14:40:10.003983",
          "status": "completed"
        },
        "tags": [],
        "id": "bdaf86ce"
      },
      "source": [
        "Kod instaluje trzy biblioteki Python za pomocą narzędzia pip:\n",
        "\n",
        "1. openai - oficjalny pakiet OpenAI umożliwiający komunikację z ich API do przetwarzania języka naturalnego i sztucznej inteligencji\n",
        "\n",
        "2. py_expression_eval - biblioteka do bezpiecznego parsowania i obliczania wyrażeń matematycznych zapisanych jako tekst\n",
        "\n",
        "3. google-api-python-client - oficjalny klient API Google dla Pythona, pozwalający na interakcję z różnymi usługami Google jak YouTube, Gmail czy Google Drive\n",
        "\n",
        "Flaga -q (quiet) oznacza tryb cichy instalacji - pip wyświetli tylko najważniejsze informacje i pominie szczegółowe logi procesu instalacji."
      ]
    },
    {
      "cell_type": "code",
      "execution_count": 2,
      "id": "3c79a02d",
      "metadata": {
        "execution": {
          "iopub.execute_input": "2024-11-17T14:40:10.023875Z",
          "iopub.status.busy": "2024-11-17T14:40:10.023442Z",
          "iopub.status.idle": "2024-11-17T14:40:11.454613Z",
          "shell.execute_reply": "2024-11-17T14:40:11.453519Z"
        },
        "papermill": {
          "duration": 1.442407,
          "end_time": "2024-11-17T14:40:11.458128",
          "exception": false,
          "start_time": "2024-11-17T14:40:10.015721",
          "status": "completed"
        },
        "tags": [],
        "id": "3c79a02d"
      },
      "outputs": [],
      "source": [
        "from openai import OpenAI\n",
        "from googleapiclient.discovery import build\n",
        "from py_expression_eval import Parser\n",
        "import re, time, os\n",
        "\n",
        "from google.colab import userdata"
      ]
    },
    {
      "cell_type": "markdown",
      "id": "add12716",
      "metadata": {
        "papermill": {
          "duration": 0.005646,
          "end_time": "2024-11-17T14:40:11.470051",
          "exception": false,
          "start_time": "2024-11-17T14:40:11.464405",
          "status": "completed"
        },
        "tags": [],
        "id": "add12716"
      },
      "source": [
        "Ten fragment kodu importuje niezbędne moduły i klasy:\n",
        "\n",
        "1. OpenAI z biblioteki openai - główna klasa do komunikacji z API OpenAI\n",
        "\n",
        "2. build z googleapiclient.discovery - funkcja tworząca interfejs do korzystania z API Google\n",
        "\n",
        "3. Parser z py_expression_eval - narzędzie do przetwarzania wyrażeń matematycznych\n",
        "\n",
        "4. re - wbudowany moduł Pythona do operacji na wyrażeniach regularnych\n",
        "\n",
        "5. time - moduł dostarczający funkcje związane z czasem\n",
        "\n",
        "6. os - moduł do operacji na systemie operacyjnym i ścieżkach\n",
        "\n",
        "7. userdata z Colab - bezpieczne przechowywanie danych wrażliwych"
      ]
    },
    {
      "cell_type": "code",
      "execution_count": 3,
      "id": "8cba0196",
      "metadata": {
        "execution": {
          "iopub.execute_input": "2024-11-17T14:40:11.484769Z",
          "iopub.status.busy": "2024-11-17T14:40:11.483739Z",
          "iopub.status.idle": "2024-11-17T14:40:11.489318Z",
          "shell.execute_reply": "2024-11-17T14:40:11.487987Z"
        },
        "papermill": {
          "duration": 0.01546,
          "end_time": "2024-11-17T14:40:11.491579",
          "exception": false,
          "start_time": "2024-11-17T14:40:11.476119",
          "status": "completed"
        },
        "tags": [],
        "id": "8cba0196"
      },
      "outputs": [],
      "source": [
        "class CFG:\n",
        "    model = \"gpt-4o-mini\"\n",
        "    max_tokens = 2048"
      ]
    },
    {
      "cell_type": "markdown",
      "id": "4a6e27d8",
      "metadata": {
        "papermill": {
          "duration": 0.005816,
          "end_time": "2024-11-17T14:40:11.503490",
          "exception": false,
          "start_time": "2024-11-17T14:40:11.497674",
          "status": "completed"
        },
        "tags": [],
        "id": "4a6e27d8"
      },
      "source": [
        "Jest to klasa konfiguracyjna CFG zawierająca dwie zmienne:\n",
        "\n",
        "1. model - określa nazwę modelu GPT do wykorzystania (\"gpt-4o-mini\")\n",
        "\n",
        "2. max_tokens - ustawia maksymalną liczbę tokenów (jednostek tekstu) na 2048, co ogranicza długość generowanych odpowiedzi\n",
        "\n",
        "Taka klasa służy do centralizacji ustawień i ułatwia ich późniejszą modyfikację, ponieważ wartości są zdefiniowane w jednym miejscu zamiast być rozproszone po całym kodzie."
      ]
    },
    {
      "cell_type": "code",
      "execution_count": 4,
      "id": "f836f237",
      "metadata": {
        "execution": {
          "iopub.execute_input": "2024-11-17T14:40:11.551023Z",
          "iopub.status.busy": "2024-11-17T14:40:11.550214Z",
          "iopub.status.idle": "2024-11-17T14:40:11.638425Z",
          "shell.execute_reply": "2024-11-17T14:40:11.637515Z"
        },
        "papermill": {
          "duration": 0.099118,
          "end_time": "2024-11-17T14:40:11.640922",
          "exception": false,
          "start_time": "2024-11-17T14:40:11.541804",
          "status": "completed"
        },
        "tags": [],
        "id": "f836f237"
      },
      "outputs": [],
      "source": [
        "# setup OpenAI API connection\n",
        "api_key = userdata.get(\"openai\")\n",
        "client = OpenAI(api_key= api_key)"
      ]
    },
    {
      "cell_type": "markdown",
      "id": "b4b7e8e1",
      "metadata": {
        "papermill": {
          "duration": 0.005652,
          "end_time": "2024-11-17T14:40:11.652628",
          "exception": false,
          "start_time": "2024-11-17T14:40:11.646976",
          "status": "completed"
        },
        "tags": [],
        "id": "b4b7e8e1"
      },
      "source": [
        "Te linie kodu konfigurują połączenie z API OpenAI:\n",
        "\n",
        "1. api_key=user_secrets.get_secret(\"openaivision\") - pobiera klucz API z bezpiecznego magazynu Kaggle. \"openaivision\" to nazwa zapisanego wcześniej sekretu.\n",
        "\n",
        "2. client = OpenAI(api_key= api_key) - tworzy obiekt klienta OpenAI używając pobranego klucza API. Ten obiekt będzie używany do wszystkich interakcji z usługami OpenAI.\n",
        "\n",
        "Jest to bezpieczny sposób inicjalizacji połączenia z API, ponieważ wrażliwy klucz nie jest zapisany w kodzie na stałe."
      ]
    },
    {
      "cell_type": "code",
      "execution_count": 6,
      "id": "ad5ee3eb",
      "metadata": {
        "execution": {
          "iopub.execute_input": "2024-11-17T14:40:11.666472Z",
          "iopub.status.busy": "2024-11-17T14:40:11.665625Z",
          "iopub.status.idle": "2024-11-17T14:40:11.879671Z",
          "shell.execute_reply": "2024-11-17T14:40:11.878694Z"
        },
        "papermill": {
          "duration": 0.223752,
          "end_time": "2024-11-17T14:40:11.882298",
          "exception": false,
          "start_time": "2024-11-17T14:40:11.658546",
          "status": "completed"
        },
        "tags": [],
        "id": "ad5ee3eb"
      },
      "outputs": [],
      "source": [
        "# setup the search engine\n",
        "cse_key = userdata.get(\"googlejson\")\n",
        "cse_id = userdata.get(\"googleidwyszukiwarki\")"
      ]
    },
    {
      "cell_type": "markdown",
      "id": "4432a6dc",
      "metadata": {
        "papermill": {
          "duration": 0.006147,
          "end_time": "2024-11-17T14:40:11.894721",
          "exception": false,
          "start_time": "2024-11-17T14:40:11.888574",
          "status": "completed"
        },
        "tags": [],
        "id": "4432a6dc"
      },
      "source": [
        "Te linie pobierają dwa klucze potrzebne do korzystania z wyszukiwarki Google Custom Search Engine (CSE):\n",
        "\n",
        "1. cse_key - pobiera klucz API dla Google Custom Search z sekretu nazwanego \"google_cse\"\n",
        "\n",
        "2. cse_id - pobiera identyfikator spersonalizowanej wyszukiwarki z sekretu \"cse_id\"\n",
        "\n",
        "Wyszukiwarka niestandardowa (Custom Search Engine) pozwala na tworzenie własnych, dostosowanych wyszukiwarek Google z określonymi parametrami i ograniczeniami dotyczącymi przeszukiwanych stron."
      ]
    },
    {
      "cell_type": "markdown",
      "source": [
        "Setup CSE: https://programmablesearchengine.google.com/controlpanel/all"
      ],
      "metadata": {
        "id": "3CVlWz7c6i37"
      },
      "id": "3CVlWz7c6i37"
    },
    {
      "cell_type": "markdown",
      "id": "04fdc7f3",
      "metadata": {
        "papermill": {
          "duration": 0.005912,
          "end_time": "2024-11-17T14:40:11.906738",
          "exception": false,
          "start_time": "2024-11-17T14:40:11.900826",
          "status": "completed"
        },
        "tags": [],
        "id": "04fdc7f3"
      },
      "source": [
        "# Functions"
      ]
    },
    {
      "cell_type": "code",
      "execution_count": 7,
      "id": "5b4e1625",
      "metadata": {
        "execution": {
          "iopub.execute_input": "2024-11-17T14:40:11.920265Z",
          "iopub.status.busy": "2024-11-17T14:40:11.919910Z",
          "iopub.status.idle": "2024-11-17T14:40:11.925803Z",
          "shell.execute_reply": "2024-11-17T14:40:11.924791Z"
        },
        "papermill": {
          "duration": 0.01535,
          "end_time": "2024-11-17T14:40:11.928044",
          "exception": false,
          "start_time": "2024-11-17T14:40:11.912694",
          "status": "completed"
        },
        "tags": [],
        "id": "5b4e1625"
      },
      "outputs": [],
      "source": [
        "def search(search_term):\n",
        "    search_result = \"\"\n",
        "    service = build(\"customsearch\", \"v1\", developerKey= cse_key )\n",
        "    res = service.cse().list(q=search_term, cx = cse_id, num = 10).execute()\n",
        "    for result in res['items']:\n",
        "        search_result = search_result + result['snippet']\n",
        "    return search_result"
      ]
    },
    {
      "cell_type": "markdown",
      "id": "986361c1",
      "metadata": {
        "papermill": {
          "duration": 0.005844,
          "end_time": "2024-11-17T14:40:11.940011",
          "exception": false,
          "start_time": "2024-11-17T14:40:11.934167",
          "status": "completed"
        },
        "tags": [],
        "id": "986361c1"
      },
      "source": [
        "Funkcja search wykonuje wyszukiwanie w Google i zbiera wyniki:\n",
        "\n",
        "1. Przyjmuje parametr search_term - frazę do wyszukania\n",
        "\n",
        "2. Tworzy pusty string search_result do zbierania wyników\n",
        "\n",
        "3. Tworzy obiekt usługi wyszukiwania za pomocą funkcji build:\n",
        "   - \"customsearch\" - nazwa usługi\n",
        "   - \"v1\" - wersja API\n",
        "   - developerKey - używa wcześniej pobranego klucza\n",
        "\n",
        "4. Wykonuje wyszukiwanie używając metody cse().list() z parametrami:\n",
        "   - q - fraza do wyszukania\n",
        "   - cx - identyfikator wyszukiwarki\n",
        "   - num=10 - liczba wyników do pobrania\n",
        "\n",
        "5. Łączy wszystkie fragmenty tekstu (snippety) z wyników w jeden string\n",
        "\n",
        "6. Zwraca połączony tekst wszystkich znalezionych fragmentów"
      ]
    },
    {
      "cell_type": "code",
      "execution_count": 8,
      "id": "040469f0",
      "metadata": {
        "execution": {
          "iopub.execute_input": "2024-11-17T14:40:11.953726Z",
          "iopub.status.busy": "2024-11-17T14:40:11.953361Z",
          "iopub.status.idle": "2024-11-17T14:40:11.959645Z",
          "shell.execute_reply": "2024-11-17T14:40:11.958604Z"
        },
        "papermill": {
          "duration": 0.015853,
          "end_time": "2024-11-17T14:40:11.961987",
          "exception": false,
          "start_time": "2024-11-17T14:40:11.946134",
          "status": "completed"
        },
        "tags": [],
        "id": "040469f0"
      },
      "outputs": [],
      "source": [
        "def generate_answer(prompt):\n",
        "    response = client.chat.completions.create(\n",
        "            model = CFG.model,\n",
        "            messages=[\n",
        "                {\"role\": \"system\", \"content\": \"You are a helpful assistant that writes essays.\"},\n",
        "                {\"role\": \"user\", \"content\": prompt}\n",
        "            ],\n",
        "            max_tokens= CFG.max_tokens, n=1, stop=None )\n",
        "\n",
        "    essay = response.choices[0].message.content.strip()\n",
        "    return essay"
      ]
    },
    {
      "cell_type": "markdown",
      "id": "02e85eff",
      "metadata": {
        "papermill": {
          "duration": 0.005621,
          "end_time": "2024-11-17T14:40:11.973680",
          "exception": false,
          "start_time": "2024-11-17T14:40:11.968059",
          "status": "completed"
        },
        "tags": [],
        "id": "02e85eff"
      },
      "source": [
        "Funkcja generate_answer tworzy tekst używając modelu GPT:\n",
        "\n",
        "1. Przyjmuje parametr prompt - tekst opisujący zadanie do wykonania\n",
        "\n",
        "2. Wysyła żądanie do API OpenAI przez utworzonego wcześniej klienta:\n",
        "   - model - używa modelu zdefiniowanego w klasie CFG\n",
        "   - messages - lista wiadomości zawierająca:\n",
        "     * instrukcję systemową określającą rolę asystenta\n",
        "     * treść zadania od użytkownika\n",
        "   - max_tokens - limit długości odpowiedzi z CFG\n",
        "   - n=1 - liczba wariantów odpowiedzi\n",
        "   - stop=None - brak specjalnego znaku kończącego generowanie\n",
        "\n",
        "3. Z odpowiedzi wyciąga wygenerowany tekst, usuwa białe znaki na końcach\n",
        "\n",
        "4. Zwraca wygenerowany tekst"
      ]
    },
    {
      "cell_type": "markdown",
      "id": "2a7e0be2",
      "metadata": {
        "papermill": {
          "duration": 0.00573,
          "end_time": "2024-11-17T14:40:11.985181",
          "exception": false,
          "start_time": "2024-11-17T14:40:11.979451",
          "status": "completed"
        },
        "tags": [],
        "id": "2a7e0be2"
      },
      "source": [
        "# Base model"
      ]
    },
    {
      "cell_type": "code",
      "execution_count": 9,
      "id": "a64b01f5",
      "metadata": {
        "execution": {
          "iopub.execute_input": "2024-11-17T14:40:11.998392Z",
          "iopub.status.busy": "2024-11-17T14:40:11.998017Z",
          "iopub.status.idle": "2024-11-17T14:40:12.003217Z",
          "shell.execute_reply": "2024-11-17T14:40:12.002199Z"
        },
        "papermill": {
          "duration": 0.014257,
          "end_time": "2024-11-17T14:40:12.005193",
          "exception": false,
          "start_time": "2024-11-17T14:40:11.990936",
          "status": "completed"
        },
        "tags": [],
        "colab": {
          "base_uri": "https://localhost:8080/"
        },
        "id": "a64b01f5",
        "outputId": "db510ea8-43b5-4839-f224-484a8ba07f40"
      },
      "outputs": [
        {
          "output_type": "stream",
          "name": "stdout",
          "text": [
            "Who is Kamil Winiarski\n"
          ]
        }
      ],
      "source": [
        "muhprompt = \"Who is Kamil Winiarski\"\n",
        "print(muhprompt)"
      ]
    },
    {
      "cell_type": "code",
      "execution_count": 10,
      "id": "508d5a24",
      "metadata": {
        "execution": {
          "iopub.execute_input": "2024-11-17T14:40:12.018835Z",
          "iopub.status.busy": "2024-11-17T14:40:12.018450Z",
          "iopub.status.idle": "2024-11-17T14:40:14.032146Z",
          "shell.execute_reply": "2024-11-17T14:40:14.030757Z"
        },
        "papermill": {
          "duration": 2.023557,
          "end_time": "2024-11-17T14:40:14.034705",
          "exception": false,
          "start_time": "2024-11-17T14:40:12.011148",
          "status": "completed"
        },
        "tags": [],
        "colab": {
          "base_uri": "https://localhost:8080/"
        },
        "id": "508d5a24",
        "outputId": "310cb584-8048-4740-afab-58862cb3d3ef"
      },
      "outputs": [
        {
          "output_type": "stream",
          "name": "stdout",
          "text": [
            "As of my last knowledge update in October 2021, I do not have specific information about an individual named Kamil Winiarski. It is possible that he may be a private individual, a professional in a particular field, or someone who has gained recognition after that date.\n",
            "\n",
            "If you have a specific context or details regarding Kamil Winiarski, such as his profession or achievements, I may be able to help you craft more information or context-based content. Alternatively, I recommend checking the latest information through news sources, social media platforms, or professional networking sites.\n"
          ]
        }
      ],
      "source": [
        "answer1 = generate_answer(muhprompt)\n",
        "print(answer1)"
      ]
    },
    {
      "cell_type": "markdown",
      "id": "5535895c",
      "metadata": {
        "papermill": {
          "duration": 0.005995,
          "end_time": "2024-11-17T14:40:14.046933",
          "exception": false,
          "start_time": "2024-11-17T14:40:14.040938",
          "status": "completed"
        },
        "tags": [],
        "id": "5535895c"
      },
      "source": [
        "# Agent"
      ]
    },
    {
      "cell_type": "code",
      "execution_count": 11,
      "id": "5dbe7909",
      "metadata": {
        "execution": {
          "iopub.execute_input": "2024-11-17T14:40:14.061270Z",
          "iopub.status.busy": "2024-11-17T14:40:14.060654Z",
          "iopub.status.idle": "2024-11-17T14:40:14.066283Z",
          "shell.execute_reply": "2024-11-17T14:40:14.065224Z"
        },
        "papermill": {
          "duration": 0.015188,
          "end_time": "2024-11-17T14:40:14.068330",
          "exception": false,
          "start_time": "2024-11-17T14:40:14.053142",
          "status": "completed"
        },
        "tags": [],
        "id": "5dbe7909"
      },
      "outputs": [],
      "source": [
        "# update the system prompt\n",
        "system_prompt2 = \"\"\"\n",
        "Answer the following questions and obey the following commands as best you can.\n",
        "\n",
        "You have access to the following tools:\n",
        "\n",
        "Search: Search: useful for when you need to answer questions about current events. You should ask targeted questions.\n",
        "Response To Human: When you need to respond to the human you are talking to.\n",
        "\n",
        "You will receive a message from the human, then you should start a loop and do one of two things\n",
        "\n",
        "Option 1: You use a tool to answer the question.\n",
        "For this, you should use the following format:\n",
        "Thought: you should always think about what to do\n",
        "Action: the action to take, should be one of [Search]\n",
        "Action Input: \"the input to the action, to be sent to the tool\"\n",
        "\n",
        "Option 2: You respond to the human.\n",
        "For this, you should use the following format:\n",
        "Action: Response To Human\n",
        "Action Input: \"your response to the human, summarizing what you did and what you learned\"\n",
        "\n",
        "Begin!\n",
        "\"\"\""
      ]
    },
    {
      "cell_type": "code",
      "execution_count": 12,
      "id": "6fc154c9",
      "metadata": {
        "execution": {
          "iopub.execute_input": "2024-11-17T14:40:14.082794Z",
          "iopub.status.busy": "2024-11-17T14:40:14.082376Z",
          "iopub.status.idle": "2024-11-17T14:40:14.087782Z",
          "shell.execute_reply": "2024-11-17T14:40:14.086674Z"
        },
        "papermill": {
          "duration": 0.015655,
          "end_time": "2024-11-17T14:40:14.090081",
          "exception": false,
          "start_time": "2024-11-17T14:40:14.074426",
          "status": "completed"
        },
        "tags": [],
        "id": "6fc154c9"
      },
      "outputs": [],
      "source": [
        "def extract_action_and_input(text):\n",
        "    action_pattern = r\"Action: (.+?)\\n\"\n",
        "    input_pattern = r\"Action Input: \\\"(.+?)\\\"\"\n",
        "    action = re.findall(action_pattern, text)\n",
        "    action_input = re.findall(input_pattern, text)\n",
        "    return action, action_input"
      ]
    },
    {
      "cell_type": "markdown",
      "id": "026887bf",
      "metadata": {
        "papermill": {
          "duration": 0.006106,
          "end_time": "2024-11-17T14:40:14.102557",
          "exception": false,
          "start_time": "2024-11-17T14:40:14.096451",
          "status": "completed"
        },
        "tags": [],
        "id": "026887bf"
      },
      "source": [
        "Funkcja extract_action_and_input analizuje tekst używając wyrażeń regularnych, aby wyodrębnić akcję i jej parametry:\n",
        "\n",
        "1. action_pattern = r\"Action: (.+?)\\n\" - wzorzec szukający tekstu zaczynającego się od \"Action: \" i kończącego się nową linią. Nawiasy () oznaczają część do wyodrębnienia.\n",
        "\n",
        "2. input_pattern = r\"Action Input: \\\"(.+?)\\\"\"  - wzorzec szukający tekstu między \"Action Input: \\\"\" a znakiem cudzysłowu\n",
        "\n",
        "3. re.findall() szuka wszystkich wystąpień tych wzorców w tekście\n",
        "\n",
        "4. Funkcja zwraca dwie listy:\n",
        "   - action - znalezione akcje\n",
        "   - action_input - znalezione parametry akcji\n"
      ]
    },
    {
      "cell_type": "code",
      "execution_count": 13,
      "id": "75851be2",
      "metadata": {
        "execution": {
          "iopub.execute_input": "2024-11-17T14:40:14.116654Z",
          "iopub.status.busy": "2024-11-17T14:40:14.116281Z",
          "iopub.status.idle": "2024-11-17T14:40:14.124650Z",
          "shell.execute_reply": "2024-11-17T14:40:14.123664Z"
        },
        "papermill": {
          "duration": 0.018328,
          "end_time": "2024-11-17T14:40:14.127068",
          "exception": false,
          "start_time": "2024-11-17T14:40:14.108740",
          "status": "completed"
        },
        "tags": [],
        "id": "75851be2"
      },
      "outputs": [],
      "source": [
        "def agentic_answer(prompt):\n",
        "    messages = [\n",
        "        { \"role\": \"system\", \"content\": system_prompt2 },\n",
        "        { \"role\": \"user\", \"content\": prompt },\n",
        "    ]\n",
        "\n",
        "    while True:\n",
        "        response = client.chat.completions.create(\n",
        "            model = CFG.model, messages=messages, temperature=0, top_p=1,)\n",
        "        response_text = response.choices[0].message.content\n",
        "        print(response_text)\n",
        "        # enforce a wait to prevent the Rate Limit error for free-tier users\n",
        "        time.sleep(3)\n",
        "\n",
        "        action, action_input = extract_action_and_input(response_text)\n",
        "        if action[-1] == \"Search\":\n",
        "            tool = search\n",
        "        elif action[-1] == \"Response To Human\":\n",
        "            print(f\"Response: {action_input[-1]}\")\n",
        "            break\n",
        "        observation = tool(action_input[-1])\n",
        "        print(\"Observation: \", observation)\n",
        "        messages.extend([\n",
        "            { \"role\": \"system\", \"content\": response_text },\n",
        "            { \"role\": \"user\", \"content\": f\"Observation: {observation}\" },\n",
        "            ])"
      ]
    },
    {
      "cell_type": "markdown",
      "id": "07633407",
      "metadata": {
        "papermill": {
          "duration": 0.006007,
          "end_time": "2024-11-17T14:40:14.139425",
          "exception": false,
          "start_time": "2024-11-17T14:40:14.133418",
          "status": "completed"
        },
        "tags": [],
        "id": "07633407"
      },
      "source": [
        "Funkcja agentic_answer implementuje interaktywnego agenta, który może wyszukiwać informacje i odpowiadać na pytania:\n",
        "\n",
        "1. Tworzy listę messages z dwiema wiadomościami początkowymi:\n",
        "   - system_prompt2 (wcześniej zdefiniowana instrukcja systemowa)\n",
        "   - pytanie użytkownika (prompt)\n",
        "\n",
        "2. Wchodzi w pętlę, która:\n",
        "   - Generuje odpowiedź używając API OpenAI z parametrami:\n",
        "     * temperature=0 (maksymalna spójność odpowiedzi)\n",
        "     * top_p=1 (uwzględnia wszystkie prawdopodobne tokeny)\n",
        "   - Czeka 3 sekundy, aby nie przekroczyć limitu zapytań\n",
        "   - Wyodrębnia akcję i jej parametry z odpowiedzi\n",
        "   - W zależności od akcji:\n",
        "     * \"Search\" - wykonuje wyszukiwanie\n",
        "     * \"Response To Human\" - wyświetla końcową odpowiedź i kończy działanie\n",
        "   - Dodaje odpowiedź i wynik obserwacji do historii rozmowy\n",
        "\n",
        "3. Pętla kontynuuje pracę, dopóki agent nie zdecyduje, że ma wystarczające informacje do udzielenia końcowej odpowiedzi."
      ]
    },
    {
      "cell_type": "code",
      "execution_count": 14,
      "id": "783544f6",
      "metadata": {
        "execution": {
          "iopub.execute_input": "2024-11-17T14:40:14.153540Z",
          "iopub.status.busy": "2024-11-17T14:40:14.152784Z",
          "iopub.status.idle": "2024-11-17T14:40:22.957568Z",
          "shell.execute_reply": "2024-11-17T14:40:22.956354Z"
        },
        "papermill": {
          "duration": 8.814344,
          "end_time": "2024-11-17T14:40:22.959860",
          "exception": false,
          "start_time": "2024-11-17T14:40:14.145516",
          "status": "completed"
        },
        "tags": [],
        "colab": {
          "base_uri": "https://localhost:8080/"
        },
        "id": "783544f6",
        "outputId": "96913b93-6ee6-46ff-dd55-f897709ed3c2"
      },
      "outputs": [
        {
          "output_type": "stream",
          "name": "stdout",
          "text": [
            "Thought: I need to find information about Kamil Winiarski to provide a comprehensive answer. \n",
            "Action: Search\n",
            "Action Input: \"Kamil Winiarski\"\n",
            "Observation:  8921 Followers, 349 Following, 182 Posts - Kamil Winiarski (@kamilwiniarski) on Instagram: \"Youtube ViniPlay ✉️ Collab - gtavinipl@gmail.com Twitch ...Driver/Cleaner w Lancaster Land Rover · Experience: Lancaster Land Rover · Location: Slough. View Kamil Winiarski's profile on LinkedIn, a professional ...Plats: 172 66 · 67 kontakter på LinkedIn. Visa Kamil Winiarskis profil på LinkedIn, ett yrkesnätverk med 1 miljard medlemmar.View the profiles of professionals named \"Kamil Winiarski\" on LinkedIn. There are 10+ professionals named \"Kamil Winiarski\", who use LinkedIn to exchange ...Kamil Winiarski Slaskie, Poland. Level. 75 · Power Player. 368 XP. No information given. View more info. Currently In-Game. Hearts of Iron IV. Profile Awards ...Sep 28, 2021 ... This button displays the currently selected search type. When expanded it provides a list of search options that will switch the search inputs ...... LinkedIn. Wyświetl profil użytkownika Kamil Winiarski w LinkedIn – społeczności profesjonalistów liczącej 1 miliard członków.Pokaż profile osób o imieniu i nazwisku Kamil Winiarski. Dołącz do Facebooka, by mieć kontakt z „Kamil Winiarski” i innymi, których możesz znać. Facebook...Kamil Winarski. T: 783 685 022. E: k.winiarski@premium-ls.pl. PREMIUM LIKWIDACJA SZKÓD S.C.. KAMIL STĘPIEŃ, KAMIL WINIARSKI. Adres siedziby: ul. Czumy 12/57, 01 ...Ścieżka nawigacyjna · Strona główna · Nasi klienci · AUTO – GARAGE KAMIL WINIARSKI ...\n",
            "Action: Response To Human\n",
            "Action Input: \"Kamil Winiarski appears to be a professional with a presence on social media platforms like Instagram and LinkedIn. He has a background in the automotive industry, specifically as a driver/cleaner at Lancaster Land Rover. Additionally, there are multiple individuals with the same name on LinkedIn, indicating he may not be the only Kamil Winiarski in the professional network. If you are looking for a specific Kamil Winiarski or more detailed information, please provide additional context.\"\n",
            "Response: Kamil Winiarski appears to be a professional with a presence on social media platforms like Instagram and LinkedIn. He has a background in the automotive industry, specifically as a driver/cleaner at Lancaster Land Rover. Additionally, there are multiple individuals with the same name on LinkedIn, indicating he may not be the only Kamil Winiarski in the professional network. If you are looking for a specific Kamil Winiarski or more detailed information, please provide additional context.\n"
          ]
        }
      ],
      "source": [
        "agentic_answer(muhprompt)"
      ]
    }
  ],
  "metadata": {
    "kaggle": {
      "accelerator": "none",
      "dataSources": [],
      "dockerImageVersionId": 30698,
      "isGpuEnabled": false,
      "isInternetEnabled": true,
      "language": "python",
      "sourceType": "notebook"
    },
    "kernelspec": {
      "display_name": "Python 3",
      "language": "python",
      "name": "python3"
    },
    "language_info": {
      "codemirror_mode": {
        "name": "ipython",
        "version": 3
      },
      "file_extension": ".py",
      "mimetype": "text/x-python",
      "name": "python",
      "nbconvert_exporter": "python",
      "pygments_lexer": "ipython3",
      "version": "3.10.13"
    },
    "papermill": {
      "default_parameters": {},
      "duration": 44.684695,
      "end_time": "2024-11-17T14:40:23.588134",
      "environment_variables": {},
      "exception": null,
      "input_path": "__notebook__.ipynb",
      "output_path": "__notebook__.ipynb",
      "parameters": {},
      "start_time": "2024-11-17T14:39:38.903439",
      "version": "2.5.0"
    },
    "colab": {
      "provenance": [],
      "include_colab_link": true
    }
  },
  "nbformat": 4,
  "nbformat_minor": 5
}