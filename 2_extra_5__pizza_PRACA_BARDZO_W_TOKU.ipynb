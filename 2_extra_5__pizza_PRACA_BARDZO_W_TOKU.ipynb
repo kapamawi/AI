{
  "nbformat": 4,
  "nbformat_minor": 0,
  "metadata": {
    "colab": {
      "provenance": [],
      "include_colab_link": true
    },
    "kernelspec": {
      "name": "python3",
      "display_name": "Python 3"
    },
    "language_info": {
      "name": "python"
    }
  },
  "cells": [
    {
      "cell_type": "markdown",
      "metadata": {
        "id": "view-in-github",
        "colab_type": "text"
      },
      "source": [
        "<a href=\"https://colab.research.google.com/github/kapamawi/AI/blob/main/2_extra_5__pizza_PRACA_BARDZO_W_TOKU.ipynb\" target=\"_parent\"><img src=\"https://colab.research.google.com/assets/colab-badge.svg\" alt=\"Open In Colab\"/></a>"
      ]
    },
    {
      "cell_type": "code",
      "execution_count": null,
      "metadata": {
        "id": "JORCzDKxBOpZ",
        "colab": {
          "base_uri": "https://localhost:8080/"
        },
        "outputId": "e24bb641-fb0b-4b21-bf92-8417644d74b2"
      },
      "outputs": [
        {
          "output_type": "stream",
          "name": "stdout",
          "text": [
            "\u001b[?25l     \u001b[90m━━━━━━━━━━━━━━━━━━━━━━━━━━━━━━━━━━━━━━━━\u001b[0m \u001b[32m0.0/42.0 kB\u001b[0m \u001b[31m?\u001b[0m eta \u001b[36m-:--:--\u001b[0m\r\u001b[2K     \u001b[90m━━━━━━━━━━━━━━━━━━━━━━━━━━━━━━━━━━━━━━━━\u001b[0m \u001b[32m42.0/42.0 kB\u001b[0m \u001b[31m2.3 MB/s\u001b[0m eta \u001b[36m0:00:00\u001b[0m\n",
            "\u001b[?25h  Preparing metadata (setup.py) ... \u001b[?25l\u001b[?25hdone\n",
            "\u001b[2K     \u001b[90m━━━━━━━━━━━━━━━━━━━━━━━━━━━━━━━━━━━━━━━━\u001b[0m \u001b[32m67.3/67.3 kB\u001b[0m \u001b[31m487.9 kB/s\u001b[0m eta \u001b[36m0:00:00\u001b[0m\n",
            "\u001b[?25h  Installing build dependencies ... \u001b[?25l\u001b[?25hdone\n",
            "  Getting requirements to build wheel ... \u001b[?25l\u001b[?25hdone\n",
            "  Preparing metadata (pyproject.toml) ... \u001b[?25l\u001b[?25hdone\n",
            "\u001b[2K     \u001b[90m━━━━━━━━━━━━━━━━━━━━━━━━━━━━━━━━━━━━━━━━\u001b[0m \u001b[32m48.5/48.5 kB\u001b[0m \u001b[31m3.3 MB/s\u001b[0m eta \u001b[36m0:00:00\u001b[0m\n",
            "\u001b[2K   \u001b[90m━━━━━━━━━━━━━━━━━━━━━━━━━━━━━━━━━━━━━━━━\u001b[0m \u001b[32m2.5/2.5 MB\u001b[0m \u001b[31m38.2 MB/s\u001b[0m eta \u001b[36m0:00:00\u001b[0m\n",
            "\u001b[2K   \u001b[90m━━━━━━━━━━━━━━━━━━━━━━━━━━━━━━━━━━━━━━━━\u001b[0m \u001b[32m192.0/192.0 kB\u001b[0m \u001b[31m12.8 MB/s\u001b[0m eta \u001b[36m0:00:00\u001b[0m\n",
            "\u001b[2K   \u001b[90m━━━━━━━━━━━━━━━━━━━━━━━━━━━━━━━━━━━━━━━━\u001b[0m \u001b[32m468.0/468.0 kB\u001b[0m \u001b[31m27.4 MB/s\u001b[0m eta \u001b[36m0:00:00\u001b[0m\n",
            "\u001b[2K   \u001b[90m━━━━━━━━━━━━━━━━━━━━━━━━━━━━━━━━━━━━━━━━\u001b[0m \u001b[32m131.8/131.8 kB\u001b[0m \u001b[31m10.0 MB/s\u001b[0m eta \u001b[36m0:00:00\u001b[0m\n",
            "\u001b[2K   \u001b[90m━━━━━━━━━━━━━━━━━━━━━━━━━━━━━━━━━━━━━━━━\u001b[0m \u001b[32m628.3/628.3 kB\u001b[0m \u001b[31m29.9 MB/s\u001b[0m eta \u001b[36m0:00:00\u001b[0m\n",
            "\u001b[2K   \u001b[90m━━━━━━━━━━━━━━━━━━━━━━━━━━━━━━━━━━━━━━━━\u001b[0m \u001b[32m2.4/2.4 MB\u001b[0m \u001b[31m65.2 MB/s\u001b[0m eta \u001b[36m0:00:00\u001b[0m\n",
            "\u001b[2K   \u001b[90m━━━━━━━━━━━━━━━━━━━━━━━━━━━━━━━━━━━━━━━━\u001b[0m \u001b[32m147.8/147.8 kB\u001b[0m \u001b[31m9.6 MB/s\u001b[0m eta \u001b[36m0:00:00\u001b[0m\n",
            "\u001b[2K   \u001b[90m━━━━━━━━━━━━━━━━━━━━━━━━━━━━━━━━━━━━━━━━\u001b[0m \u001b[32m211.4/211.4 kB\u001b[0m \u001b[31m13.3 MB/s\u001b[0m eta \u001b[36m0:00:00\u001b[0m\n",
            "\u001b[2K   \u001b[90m━━━━━━━━━━━━━━━━━━━━━━━━━━━━━━━━━━━━━━━━\u001b[0m \u001b[32m70.1/70.1 kB\u001b[0m \u001b[31m4.4 MB/s\u001b[0m eta \u001b[36m0:00:00\u001b[0m\n",
            "\u001b[2K   \u001b[90m━━━━━━━━━━━━━━━━━━━━━━━━━━━━━━━━━━━━━━━━\u001b[0m \u001b[32m29.9/29.9 MB\u001b[0m \u001b[31m51.8 MB/s\u001b[0m eta \u001b[36m0:00:00\u001b[0m\n",
            "\u001b[2K   \u001b[90m━━━━━━━━━━━━━━━━━━━━━━━━━━━━━━━━━━━━━━━━\u001b[0m \u001b[32m33.5/33.5 MB\u001b[0m \u001b[31m21.5 MB/s\u001b[0m eta \u001b[36m0:00:00\u001b[0m\n",
            "\u001b[2K   \u001b[90m━━━━━━━━━━━━━━━━━━━━━━━━━━━━━━━━━━━━━━━━\u001b[0m \u001b[32m311.8/311.8 kB\u001b[0m \u001b[31m19.7 MB/s\u001b[0m eta \u001b[36m0:00:00\u001b[0m\n",
            "\u001b[2K   \u001b[90m━━━━━━━━━━━━━━━━━━━━━━━━━━━━━━━━━━━━━━━━\u001b[0m \u001b[32m6.5/6.5 MB\u001b[0m \u001b[31m77.2 MB/s\u001b[0m eta \u001b[36m0:00:00\u001b[0m\n",
            "\u001b[2K   \u001b[90m━━━━━━━━━━━━━━━━━━━━━━━━━━━━━━━━━━━━━━━━\u001b[0m \u001b[32m390.3/390.3 kB\u001b[0m \u001b[31m18.4 MB/s\u001b[0m eta \u001b[36m0:00:00\u001b[0m\n",
            "\u001b[2K   \u001b[90m━━━━━━━━━━━━━━━━━━━━━━━━━━━━━━━━━━━━━━━━\u001b[0m \u001b[32m55.8/55.8 kB\u001b[0m \u001b[31m3.4 MB/s\u001b[0m eta \u001b[36m0:00:00\u001b[0m\n",
            "\u001b[2K   \u001b[90m━━━━━━━━━━━━━━━━━━━━━━━━━━━━━━━━━━━━━━━━\u001b[0m \u001b[32m118.1/118.1 kB\u001b[0m \u001b[31m7.3 MB/s\u001b[0m eta \u001b[36m0:00:00\u001b[0m\n",
            "\u001b[2K   \u001b[90m━━━━━━━━━━━━━━━━━━━━━━━━━━━━━━━━━━━━━━━━\u001b[0m \u001b[32m64.3/64.3 kB\u001b[0m \u001b[31m4.2 MB/s\u001b[0m eta \u001b[36m0:00:00\u001b[0m\n",
            "\u001b[2K   \u001b[90m━━━━━━━━━━━━━━━━━━━━━━━━━━━━━━━━━━━━━━━━\u001b[0m \u001b[32m166.6/166.6 kB\u001b[0m \u001b[31m10.6 MB/s\u001b[0m eta \u001b[36m0:00:00\u001b[0m\n",
            "\u001b[2K   \u001b[90m━━━━━━━━━━━━━━━━━━━━━━━━━━━━━━━━━━━━━━━━\u001b[0m \u001b[32m59.2/59.2 kB\u001b[0m \u001b[31m3.4 MB/s\u001b[0m eta \u001b[36m0:00:00\u001b[0m\n",
            "\u001b[2K   \u001b[90m━━━━━━━━━━━━━━━━━━━━━━━━━━━━━━━━━━━━━━━━\u001b[0m \u001b[32m5.6/5.6 MB\u001b[0m \u001b[31m76.4 MB/s\u001b[0m eta \u001b[36m0:00:00\u001b[0m\n",
            "\u001b[2K   \u001b[90m━━━━━━━━━━━━━━━━━━━━━━━━━━━━━━━━━━━━━━━━\u001b[0m \u001b[32m57.6/57.6 kB\u001b[0m \u001b[31m3.6 MB/s\u001b[0m eta \u001b[36m0:00:00\u001b[0m\n",
            "\u001b[2K   \u001b[90m━━━━━━━━━━━━━━━━━━━━━━━━━━━━━━━━━━━━━━━━\u001b[0m \u001b[32m756.0/756.0 kB\u001b[0m \u001b[31m33.3 MB/s\u001b[0m eta \u001b[36m0:00:00\u001b[0m\n",
            "\u001b[2K   \u001b[90m━━━━━━━━━━━━━━━━━━━━━━━━━━━━━━━━━━━━━━━━\u001b[0m \u001b[32m9.7/9.7 MB\u001b[0m \u001b[31m87.2 MB/s\u001b[0m eta \u001b[36m0:00:00\u001b[0m\n",
            "\u001b[2K   \u001b[90m━━━━━━━━━━━━━━━━━━━━━━━━━━━━━━━━━━━━━━━━\u001b[0m \u001b[32m14.8/14.8 MB\u001b[0m \u001b[31m78.6 MB/s\u001b[0m eta \u001b[36m0:00:00\u001b[0m\n",
            "\u001b[2K   \u001b[90m━━━━━━━━━━━━━━━━━━━━━━━━━━━━━━━━━━━━━━━━\u001b[0m \u001b[32m233.5/233.5 kB\u001b[0m \u001b[31m14.4 MB/s\u001b[0m eta \u001b[36m0:00:00\u001b[0m\n",
            "\u001b[2K   \u001b[90m━━━━━━━━━━━━━━━━━━━━━━━━━━━━━━━━━━━━━━━━\u001b[0m \u001b[32m278.6/278.6 kB\u001b[0m \u001b[31m19.2 MB/s\u001b[0m eta \u001b[36m0:00:00\u001b[0m\n",
            "\u001b[2K   \u001b[90m━━━━━━━━━━━━━━━━━━━━━━━━━━━━━━━━━━━━━━━━\u001b[0m \u001b[32m249.9/249.9 kB\u001b[0m \u001b[31m15.5 MB/s\u001b[0m eta \u001b[36m0:00:00\u001b[0m\n",
            "\u001b[2K   \u001b[90m━━━━━━━━━━━━━━━━━━━━━━━━━━━━━━━━━━━━━━━━\u001b[0m \u001b[32m94.8/94.8 kB\u001b[0m \u001b[31m6.3 MB/s\u001b[0m eta \u001b[36m0:00:00\u001b[0m\n",
            "\u001b[2K   \u001b[90m━━━━━━━━━━━━━━━━━━━━━━━━━━━━━━━━━━━━━━━━\u001b[0m \u001b[32m131.6/131.6 kB\u001b[0m \u001b[31m9.1 MB/s\u001b[0m eta \u001b[36m0:00:00\u001b[0m\n",
            "\u001b[2K   \u001b[90m━━━━━━━━━━━━━━━━━━━━━━━━━━━━━━━━━━━━━━━━\u001b[0m \u001b[32m76.4/76.4 kB\u001b[0m \u001b[31m5.1 MB/s\u001b[0m eta \u001b[36m0:00:00\u001b[0m\n",
            "\u001b[2K   \u001b[90m━━━━━━━━━━━━━━━━━━━━━━━━━━━━━━━━━━━━━━━━\u001b[0m \u001b[32m325.2/325.2 kB\u001b[0m \u001b[31m20.0 MB/s\u001b[0m eta \u001b[36m0:00:00\u001b[0m\n",
            "\u001b[2K   \u001b[90m━━━━━━━━━━━━━━━━━━━━━━━━━━━━━━━━━━━━━━━━\u001b[0m \u001b[32m1.9/1.9 MB\u001b[0m \u001b[31m61.6 MB/s\u001b[0m eta \u001b[36m0:00:00\u001b[0m\n",
            "\u001b[2K   \u001b[90m━━━━━━━━━━━━━━━━━━━━━━━━━━━━━━━━━━━━━━━━\u001b[0m \u001b[32m44.3/44.3 kB\u001b[0m \u001b[31m2.8 MB/s\u001b[0m eta \u001b[36m0:00:00\u001b[0m\n",
            "\u001b[2K   \u001b[90m━━━━━━━━━━━━━━━━━━━━━━━━━━━━━━━━━━━━━━━━\u001b[0m \u001b[32m50.7/50.7 kB\u001b[0m \u001b[31m3.0 MB/s\u001b[0m eta \u001b[36m0:00:00\u001b[0m\n",
            "\u001b[2K   \u001b[90m━━━━━━━━━━━━━━━━━━━━━━━━━━━━━━━━━━━━━━━━\u001b[0m \u001b[32m49.5/49.5 kB\u001b[0m \u001b[31m3.1 MB/s\u001b[0m eta \u001b[36m0:00:00\u001b[0m\n",
            "\u001b[2K   \u001b[90m━━━━━━━━━━━━━━━━━━━━━━━━━━━━━━━━━━━━━━━━\u001b[0m \u001b[32m83.2/83.2 kB\u001b[0m \u001b[31m5.5 MB/s\u001b[0m eta \u001b[36m0:00:00\u001b[0m\n",
            "\u001b[2K   \u001b[90m━━━━━━━━━━━━━━━━━━━━━━━━━━━━━━━━━━━━━━━━\u001b[0m \u001b[32m93.2/93.2 kB\u001b[0m \u001b[31m6.6 MB/s\u001b[0m eta \u001b[36m0:00:00\u001b[0m\n",
            "\u001b[2K   \u001b[90m━━━━━━━━━━━━━━━━━━━━━━━━━━━━━━━━━━━━━━━━\u001b[0m \u001b[32m13.3/13.3 MB\u001b[0m \u001b[31m26.4 MB/s\u001b[0m eta \u001b[36m0:00:00\u001b[0m\n",
            "\u001b[2K   \u001b[90m━━━━━━━━━━━━━━━━━━━━━━━━━━━━━━━━━━━━━━━━\u001b[0m \u001b[32m54.8/54.8 kB\u001b[0m \u001b[31m3.5 MB/s\u001b[0m eta \u001b[36m0:00:00\u001b[0m\n",
            "\u001b[2K   \u001b[90m━━━━━━━━━━━━━━━━━━━━━━━━━━━━━━━━━━━━━━━━\u001b[0m \u001b[32m298.0/298.0 kB\u001b[0m \u001b[31m18.2 MB/s\u001b[0m eta \u001b[36m0:00:00\u001b[0m\n",
            "\u001b[2K   \u001b[90m━━━━━━━━━━━━━━━━━━━━━━━━━━━━━━━━━━━━━━━━\u001b[0m \u001b[32m2.8/2.8 MB\u001b[0m \u001b[31m72.3 MB/s\u001b[0m eta \u001b[36m0:00:00\u001b[0m\n",
            "\u001b[2K   \u001b[90m━━━━━━━━━━━━━━━━━━━━━━━━━━━━━━━━━━━━━━━━\u001b[0m \u001b[32m71.1/71.1 kB\u001b[0m \u001b[31m4.8 MB/s\u001b[0m eta \u001b[36m0:00:00\u001b[0m\n",
            "\u001b[2K   \u001b[90m━━━━━━━━━━━━━━━━━━━━━━━━━━━━━━━━━━━━━━━━\u001b[0m \u001b[32m1.1/1.1 MB\u001b[0m \u001b[31m42.6 MB/s\u001b[0m eta \u001b[36m0:00:00\u001b[0m\n",
            "\u001b[2K   \u001b[90m━━━━━━━━━━━━━━━━━━━━━━━━━━━━━━━━━━━━━━━━\u001b[0m \u001b[32m481.7/481.7 kB\u001b[0m \u001b[31m23.5 MB/s\u001b[0m eta \u001b[36m0:00:00\u001b[0m\n",
            "\u001b[2K   \u001b[90m━━━━━━━━━━━━━━━━━━━━━━━━━━━━━━━━━━━━━━━━\u001b[0m \u001b[32m63.8/63.8 kB\u001b[0m \u001b[31m4.4 MB/s\u001b[0m eta \u001b[36m0:00:00\u001b[0m\n",
            "\u001b[2K   \u001b[90m━━━━━━━━━━━━━━━━━━━━━━━━━━━━━━━━━━━━━━━━\u001b[0m \u001b[32m3.1/3.1 MB\u001b[0m \u001b[31m71.1 MB/s\u001b[0m eta \u001b[36m0:00:00\u001b[0m\n",
            "\u001b[2K   \u001b[90m━━━━━━━━━━━━━━━━━━━━━━━━━━━━━━━━━━━━━━━━\u001b[0m \u001b[32m442.1/442.1 kB\u001b[0m \u001b[31m27.7 MB/s\u001b[0m eta \u001b[36m0:00:00\u001b[0m\n",
            "\u001b[2K   \u001b[90m━━━━━━━━━━━━━━━━━━━━━━━━━━━━━━━━━━━━━━━━\u001b[0m \u001b[32m1.6/1.6 MB\u001b[0m \u001b[31m55.5 MB/s\u001b[0m eta \u001b[36m0:00:00\u001b[0m\n",
            "\u001b[2K   \u001b[90m━━━━━━━━━━━━━━━━━━━━━━━━━━━━━━━━━━━━━━━━\u001b[0m \u001b[32m209.0/209.0 kB\u001b[0m \u001b[31m14.5 MB/s\u001b[0m eta \u001b[36m0:00:00\u001b[0m\n",
            "\u001b[2K   \u001b[90m━━━━━━━━━━━━━━━━━━━━━━━━━━━━━━━━━━━━━━━━\u001b[0m \u001b[32m319.7/319.7 kB\u001b[0m \u001b[31m19.2 MB/s\u001b[0m eta \u001b[36m0:00:00\u001b[0m\n",
            "\u001b[2K   \u001b[90m━━━━━━━━━━━━━━━━━━━━━━━━━━━━━━━━━━━━━━━━\u001b[0m \u001b[32m267.2/267.2 kB\u001b[0m \u001b[31m16.3 MB/s\u001b[0m eta \u001b[36m0:00:00\u001b[0m\n",
            "\u001b[2K   \u001b[90m━━━━━━━━━━━━━━━━━━━━━━━━━━━━━━━━━━━━━━━━\u001b[0m \u001b[32m73.2/73.2 kB\u001b[0m \u001b[31m4.8 MB/s\u001b[0m eta \u001b[36m0:00:00\u001b[0m\n",
            "\u001b[2K   \u001b[90m━━━━━━━━━━━━━━━━━━━━━━━━━━━━━━━━━━━━━━━━\u001b[0m \u001b[32m3.8/3.8 MB\u001b[0m \u001b[31m77.4 MB/s\u001b[0m eta \u001b[36m0:00:00\u001b[0m\n",
            "\u001b[2K   \u001b[90m━━━━━━━━━━━━━━━━━━━━━━━━━━━━━━━━━━━━━━━━\u001b[0m \u001b[32m443.8/443.8 kB\u001b[0m \u001b[31m26.0 MB/s\u001b[0m eta \u001b[36m0:00:00\u001b[0m\n",
            "\u001b[2K   \u001b[90m━━━━━━━━━━━━━━━━━━━━━━━━━━━━━━━━━━━━━━━━\u001b[0m \u001b[32m46.0/46.0 kB\u001b[0m \u001b[31m2.7 MB/s\u001b[0m eta \u001b[36m0:00:00\u001b[0m\n",
            "\u001b[2K   \u001b[90m━━━━━━━━━━━━━━━━━━━━━━━━━━━━━━━━━━━━━━━━\u001b[0m \u001b[32m78.6/78.6 kB\u001b[0m \u001b[31m5.4 MB/s\u001b[0m eta \u001b[36m0:00:00\u001b[0m\n",
            "\u001b[2K   \u001b[90m━━━━━━━━━━━━━━━━━━━━━━━━━━━━━━━━━━━━━━━━\u001b[0m \u001b[32m2.4/2.4 MB\u001b[0m \u001b[31m61.9 MB/s\u001b[0m eta \u001b[36m0:00:00\u001b[0m\n",
            "\u001b[2K   \u001b[90m━━━━━━━━━━━━━━━━━━━━━━━━━━━━━━━━━━━━━━━━\u001b[0m \u001b[32m86.8/86.8 kB\u001b[0m \u001b[31m5.5 MB/s\u001b[0m eta \u001b[36m0:00:00\u001b[0m\n",
            "\u001b[2K   \u001b[90m━━━━━━━━━━━━━━━━━━━━━━━━━━━━━━━━━━━━━━━━\u001b[0m \u001b[32m57.5/57.5 kB\u001b[0m \u001b[31m3.8 MB/s\u001b[0m eta \u001b[36m0:00:00\u001b[0m\n",
            "\u001b[?25h  Building wheel for docx2txt (setup.py) ... \u001b[?25l\u001b[?25hdone\n",
            "  Building wheel for pypika (pyproject.toml) ... \u001b[?25l\u001b[?25hdone\n",
            "\u001b[31mERROR: pip's dependency resolver does not currently take into account all the packages that are installed. This behaviour is the source of the following dependency conflicts.\n",
            "tensorflow 2.17.1 requires protobuf!=4.21.0,!=4.21.1,!=4.21.2,!=4.21.3,!=4.21.4,!=4.21.5,<5.0.0dev,>=3.20.3, but you have protobuf 5.29.1 which is incompatible.\n",
            "tensorflow-metadata 1.13.1 requires protobuf<5,>=3.20.3, but you have protobuf 5.29.1 which is incompatible.\u001b[0m\u001b[31m\n",
            "\u001b[0m"
          ]
        }
      ],
      "source": [
        "!pip install -qU langchain_community crewai crewai_tools"
      ]
    },
    {
      "cell_type": "markdown",
      "source": [
        "Ten kod instaluje trzy pakiety Pythona:\n",
        "\n",
        "`langchain_community` - biblioteka do budowania aplikacji opartych na modelach językowych\n",
        "\n",
        "`crewai` - framework do tworzenia autonomicznych agentów AI działających w zespołach\n",
        "\n",
        "`crewai_tools` - zestaw narzędzi rozszerzających możliwości crewai\n",
        "\n",
        "Parametr `-q` wycisza komunikaty instalacyjne, a `-U` wymusza aktualizację do najnowszych wersji pakietów."
      ],
      "metadata": {
        "id": "lODuNxmgZxPx"
      }
    },
    {
      "cell_type": "code",
      "source": [
        "from crewai import Agent, Task, Crew, Process\n",
        "from crewai_tools import tool\n",
        "from google.colab import userdata\n",
        "import os"
      ],
      "metadata": {
        "id": "2UweRGfFDbW4"
      },
      "execution_count": null,
      "outputs": []
    },
    {
      "cell_type": "markdown",
      "source": [
        "Ten kod importuje niezbędne komponenty do pracy z AI:\n",
        "\n",
        "`Agent, Task, Crew, Process` z crewai - klasy do tworzenia i zarządzania agentami AI\n",
        "\n",
        "`tool` z crewai_tools - dekorator do definiowania narzędzi dla agentów\n",
        "\n",
        "`userdata` z google.colab - dostęp do danych użytkownika w Google Colab\n",
        "\n",
        "`os` - standardowa biblioteka Pythona do operacji systemowych"
      ],
      "metadata": {
        "id": "Yz5LeiCehSfd"
      }
    },
    {
      "cell_type": "code",
      "source": [
        "class CFG:\n",
        "    model = 'gpt-4o-mini'\n",
        "\n",
        "\n",
        "os.environ[\"OPENAI_API_KEY\"] = userdata.get('openaivision')\n"
      ],
      "metadata": {
        "id": "qqg35GRIeqXM"
      },
      "execution_count": null,
      "outputs": []
    },
    {
      "cell_type": "markdown",
      "source": [
        "Kod definiuje klasę `CFG` z pojedynczą zmienną `model` ustawioną na 'gpt-4o-mini'.\n",
        "\n",
        "Następnie ustawia klucz API OpenAI jako zmienną środowiskową, pobierając go z danych użytkownika Google Colab."
      ],
      "metadata": {
        "id": "tqz25oowap0c"
      }
    },
    {
      "cell_type": "code",
      "source": [
        "\n",
        "# Agenci\n",
        "agent1 = Agent(\n",
        "        role = \"wizualizator analizujący\",\n",
        "        goal = f\"\"\"na podstawie zdjęcia pizzy opisujesz jej składniki\"\"\",\n",
        "        verbose = True,\n",
        "        allow_delegation=True,\n",
        "        llm= CFG.model,\n",
        "        backstory = \"\"\"You are an experimented researcher.\n",
        "        You collaborate with expert colleages to get their views.\n",
        "        You synthesize information in a simple and understandable way.\n",
        "        \"\"\",\n",
        "        tools = [<wywołanie modelu VLM -> I: zdjęcie pizzy, pytanie o składniki O: lista składników w ustalonym formacie>]\n",
        "    )\n",
        "\n",
        "# szkoła falenicka\n",
        "agent2 = Agent(\n",
        "        role = \"komunikator\",\n",
        "        goal = f\"na podstawie listy składników, sformułuj zamówienie jako zapytanie\",\n",
        "        verbose = True,\n",
        "        allow_delegation=False,\n",
        "        llm= CFG.model,\n",
        "        backstory = \"\"\"You are an experimented applied Mathematician.\n",
        "        You can find answers to complex questions and work with our colleagues.\n",
        "        \"\"\",\n",
        "        tool = [<LLM>]\n",
        "    )\n",
        "\n",
        "# szkoła otwocka\n",
        "agent3 = Agent(\n",
        "        role = \"philosopher\",\n",
        "        goal = f\"na podstawie składników wyszukaj pizzerie  i sprawdzić czy w menu mają taką pizzę\",\n",
        "        verbose = True,\n",
        "        allow_delegation=False,\n",
        "        llm= CFG.model,\n",
        "        backstory = \"\"\"You are an experimented Philosopher.\n",
        "        You can find answers to complex questions and work with our colleagues.\n",
        "        \"\"\",\n",
        "        tools = [ wyszukiwarka, skrobaj weba, przetwarzanie tekstu]\n",
        "    )\n",
        "\n",
        "agent4 = Agent(\n",
        "        role = \"mając wiedzę o pizzerii i konkretnym placku, zadzwoń i złóż zamówienie\",\n",
        "        goal = f\"To collaborate with your colleages and provide your views as an computer scientist\",\n",
        "        verbose = True,\n",
        "        allow_delegation=False,\n",
        "        llm= CFG.model,\n",
        "        backstory = \"\"\"You are an experimented computer scientist.\n",
        "        You can find answers to complex questions and work with our colleagues.\n",
        "        \"\"\",\n",
        "        tools = [tekst-to-speech, transkrypcja, dzwonienie, obsługa transakcji (?)]\n",
        "    )"
      ],
      "metadata": {
        "id": "HMF4qAiUTGd5"
      },
      "execution_count": null,
      "outputs": []
    },
    {
      "cell_type": "markdown",
      "source": [
        "Kod tworzy czterech agentów AI działających w zespole:\n",
        "\n",
        "`researcher` - badacz zbierający i syntetyzujący opinie od pozostałych agentów. Może delegować zadania.\n",
        "\n",
        "`mathematician` - matematyk stosowany rozwiązujący złożone problemy.\n",
        "\n",
        "`philosopher` - filozof analizujący zagadnienia z perspektywy filozoficznej.\n",
        "\n",
        "`scientist` - informatyk dostarczający ekspertyzę z dziedziny informatyki.\n",
        "\n",
        "Każdy agent ma określoną rolę (`role`), cel (`goal`), historię (`backstory`) oraz używa modelu zdefiniowanego w `CFG.model`. Parametr `verbose=True` włącza szczegółowe logowanie, a `allow_delegation` kontroluje możliwość delegowania zadań."
      ],
      "metadata": {
        "id": "yO6GFDLHhm5E"
      }
    },
    {
      "cell_type": "code",
      "source": [
        "task= Task(\n",
        "    description=\"What is a definition of Artificial Intelligence  that a Mathematician, a Computer Scientist, and a Philosopher can all agree?\",\n",
        "    expected_output=\"\"\"\n",
        "    The answer to the question: \"What is a definition of Artificial Intelligence that a Mathematician, a Computer Scientist, and an Philosopher can all agree?\"\n",
        "    \"\"\",\n",
        "    max_inter=5,\n",
        "    agent=researcher\n",
        "    )"
      ],
      "metadata": {
        "id": "Q5DED7Jsb2n6"
      },
      "execution_count": null,
      "outputs": []
    },
    {
      "cell_type": "code",
      "source": [
        "crew = Crew(\n",
        "    agents=[researcher,mathematician,philosopher,scientist],\n",
        "    tasks=[task],\n",
        "    verbose= True,\n",
        "    process=Process.sequential)\n",
        "\n",
        "result = crew.kickoff()\n"
      ],
      "metadata": {
        "id": "TzsvNQGcb6Iq",
        "colab": {
          "base_uri": "https://localhost:8080/"
        },
        "outputId": "f8bf234f-e67f-4a8f-92d8-b35124c91d3d"
      },
      "execution_count": null,
      "outputs": [
        {
          "output_type": "stream",
          "name": "stdout",
          "text": [
            "\u001b[1m\u001b[95m# Agent:\u001b[00m \u001b[1m\u001b[92mResearcher\u001b[00m\n",
            "\u001b[95m## Task:\u001b[00m \u001b[92mWhat is a definition of Artificial Intelligence  that a Mathematician, a Computer Scientist, and a Philosopher can all agree?\u001b[00m\n",
            "\u001b[1m\u001b[95m# Agent:\u001b[00m \u001b[1m\u001b[92mMathematician\u001b[00m\n",
            "\u001b[95m## Task:\u001b[00m \u001b[92mWhat is your perspective on a definition of Artificial Intelligence that would be acceptable and agreeable among mathematicians, computer scientists, and philosophers?\u001b[00m\n",
            "\n",
            "\n",
            "\u001b[1m\u001b[95m# Agent:\u001b[00m \u001b[1m\u001b[92mMathematician\u001b[00m\n",
            "\u001b[95m## Final Answer:\u001b[00m \u001b[92m\n",
            "Artificial Intelligence (AI) can be defined as a multidisciplinary field focused on the development and study of systems and algorithms that exhibit behaviors traditionally associated with human intelligence. This includes capabilities such as problem-solving, learning from experience, understanding and processing natural language, reasoning, perception, and decision-making. \n",
            "\n",
            "From a mathematical perspective, AI often involves the use of statistics, optimization, and algorithmic processes to model intelligent behavior and create learning systems. In computer science, it encompasses techniques such as machine learning, neural networks, natural language processing, and robotics, which aim to implement these intelligent behaviors in practical applications. Philosophically, AI raises questions about consciousness, ethical implications, and the nature of intelligence itself, prompting discussions on what it means to think or to possess understanding.\n",
            "\n",
            "Overall, an acceptable definition of AI for mathematicians, computer scientists, and philosophers would be: \"Artificial Intelligence is the systematic design and implementation of computational systems capable of performing tasks that require human-like intelligence, leveraging quantitative and qualitative approaches to learn, adapt, and improve over time, while also engaging with the ethical and philosophical implications of such technologies.\" This definition succinctly captures the complexity, interdisciplinary nature, and goals of AI while remaining relevant across various fields of study.\u001b[00m\n",
            "\n",
            "\n",
            "\n",
            "\n",
            "\u001b[1m\u001b[95m# Agent:\u001b[00m \u001b[1m\u001b[92mResearcher\u001b[00m\n",
            "\u001b[95m## Thought:\u001b[00m \u001b[92mI need to gather perspectives from a Mathematician, a Computer Scientist, and a Philosopher to develop a comprehensive definition of Artificial Intelligence that all three can agree on.\u001b[00m\n",
            "\u001b[95m## Using tool:\u001b[00m \u001b[92mAsk question to coworker\u001b[00m\n",
            "\u001b[95m## Tool Input:\u001b[00m \u001b[92m\n",
            "\"{\\\"question\\\": \\\"What is your perspective on a definition of Artificial Intelligence that would be acceptable and agreeable among mathematicians, computer scientists, and philosophers?\\\", \\\"context\\\": \\\"I am looking for a concise definition of Artificial Intelligence that captures the essence of the field while being broad enough to be relevant to various disciplines, including mathematics, computer science, and philosophy. The definition should encompass the goal of creating systems that can perform tasks that would normally require human intelligence, such as problem-solving, understanding natural language, learning, and adapting to new information. It should also consider both theoretical and practical aspects of AI.\\\", \\\"coworker\\\": \\\"Mathematician\\\"}\"\u001b[00m\n",
            "\u001b[95m## Tool Output:\u001b[00m \u001b[92m\n",
            "Artificial Intelligence (AI) can be defined as a multidisciplinary field focused on the development and study of systems and algorithms that exhibit behaviors traditionally associated with human intelligence. This includes capabilities such as problem-solving, learning from experience, understanding and processing natural language, reasoning, perception, and decision-making. \n",
            "\n",
            "From a mathematical perspective, AI often involves the use of statistics, optimization, and algorithmic processes to model intelligent behavior and create learning systems. In computer science, it encompasses techniques such as machine learning, neural networks, natural language processing, and robotics, which aim to implement these intelligent behaviors in practical applications. Philosophically, AI raises questions about consciousness, ethical implications, and the nature of intelligence itself, prompting discussions on what it means to think or to possess understanding.\n",
            "\n",
            "Overall, an acceptable definition of AI for mathematicians, computer scientists, and philosophers would be: \"Artificial Intelligence is the systematic design and implementation of computational systems capable of performing tasks that require human-like intelligence, leveraging quantitative and qualitative approaches to learn, adapt, and improve over time, while also engaging with the ethical and philosophical implications of such technologies.\" This definition succinctly captures the complexity, interdisciplinary nature, and goals of AI while remaining relevant across various fields of study.\u001b[00m\n",
            "\u001b[1m\u001b[95m# Agent:\u001b[00m \u001b[1m\u001b[92mcomputer scientist\u001b[00m\n",
            "\u001b[95m## Task:\u001b[00m \u001b[92mWhat is your perspective on a definition of Artificial Intelligence that would be acceptable and agreeable among mathematicians, computer scientists, and philosophers?\u001b[00m\n",
            "\n",
            "\n",
            "\u001b[1m\u001b[95m# Agent:\u001b[00m \u001b[1m\u001b[92mcomputer scientist\u001b[00m\n",
            "\u001b[95m## Final Answer:\u001b[00m \u001b[92m\n",
            "Artificial Intelligence (AI) can be defined as follows: \n",
            "\n",
            "\"Artificial Intelligence is a multidisciplinary field of study focused on creating algorithms and systems capable of performing tasks that typically require human-like intelligence. This encompasses capabilities such as reasoning, learning from experience, understanding and generating natural language, visual perception, decision-making, and the ability to adapt to new, unforeseen circumstances. AI integrates concepts from mathematics, computer science, and philosophy, addressing both practical applications in technology and theoretical frameworks for understanding intelligent behavior. The ultimate goal of AI research is to develop systems that exhibit cognitive functions similar to those of humans, thereby enabling them to solve complex problems and operate in dynamic environments.\"\n",
            "\n",
            "This definition strikes a balance between the complexity and practicality of AI, while ensuring relevance across mathematics (in terms of algorithms and computational theory), computer science (focused on system design and implementation), and philosophy (exploring the nature of intelligence and consciousness). It recognizes the multifaceted goals of AI and allows space for both current and future advancements in the field.\u001b[00m\n",
            "\n",
            "\n",
            "\n",
            "\n",
            "\u001b[1m\u001b[95m# Agent:\u001b[00m \u001b[1m\u001b[92mResearcher\u001b[00m\n",
            "\u001b[95m## Thought:\u001b[00m \u001b[92mI will now gather the perspectives of a Computer Scientist and a Philosopher to further refine the definition.\u001b[00m\n",
            "\u001b[95m## Using tool:\u001b[00m \u001b[92mAsk question to coworker\u001b[00m\n",
            "\u001b[95m## Tool Input:\u001b[00m \u001b[92m\n",
            "\"{\\\"question\\\": \\\"What is your perspective on a definition of Artificial Intelligence that would be acceptable and agreeable among mathematicians, computer scientists, and philosophers?\\\", \\\"context\\\": \\\"I am looking for a concise definition of Artificial Intelligence that captures the essence of the field while being broad enough to be relevant to various disciplines, including mathematics, computer science, and philosophy. The definition should encompass the goal of creating systems that can perform tasks that would normally require human intelligence, such as problem-solving, understanding natural language, learning, and adapting to new information. It should also consider both theoretical and practical aspects of AI, especially from a computer science viewpoint.\\\", \\\"coworker\\\": \\\"Computer Scientist\\\"}\"\u001b[00m\n",
            "\u001b[95m## Tool Output:\u001b[00m \u001b[92m\n",
            "Artificial Intelligence (AI) can be defined as follows: \n",
            "\n",
            "\"Artificial Intelligence is a multidisciplinary field of study focused on creating algorithms and systems capable of performing tasks that typically require human-like intelligence. This encompasses capabilities such as reasoning, learning from experience, understanding and generating natural language, visual perception, decision-making, and the ability to adapt to new, unforeseen circumstances. AI integrates concepts from mathematics, computer science, and philosophy, addressing both practical applications in technology and theoretical frameworks for understanding intelligent behavior. The ultimate goal of AI research is to develop systems that exhibit cognitive functions similar to those of humans, thereby enabling them to solve complex problems and operate in dynamic environments.\"\n",
            "\n",
            "This definition strikes a balance between the complexity and practicality of AI, while ensuring relevance across mathematics (in terms of algorithms and computational theory), computer science (focused on system design and implementation), and philosophy (exploring the nature of intelligence and consciousness). It recognizes the multifaceted goals of AI and allows space for both current and future advancements in the field.\u001b[00m\n",
            "\u001b[1m\u001b[95m# Agent:\u001b[00m \u001b[1m\u001b[92mphilosopher\u001b[00m\n",
            "\u001b[95m## Task:\u001b[00m \u001b[92mWhat is your perspective on a definition of Artificial Intelligence that would be acceptable and agreeable among mathematicians, computer scientists, and philosophers?\u001b[00m\n",
            "\n",
            "\n",
            "\u001b[1m\u001b[95m# Agent:\u001b[00m \u001b[1m\u001b[92mphilosopher\u001b[00m\n",
            "\u001b[95m## Final Answer:\u001b[00m \u001b[92m\n",
            "Artificial Intelligence (AI) can be defined as a multidisciplinary field focused on the development of computational systems capable of executing tasks typically requiring human intelligence. These tasks include problem-solving, comprehension of natural language, learning from experience, and adapting to novel information. From a mathematical and computer science perspective, AI involves the formalization of algorithms and models that simulate cognitive processes. Philosophically, this definition invites inquiries into the nature of intelligence itself, raising questions about consciousness, agency, and the ethical implications of AI's integration into society. It underlines the importance of not only the functionality of AI systems but also their impact on human values, ethical considerations, and the potential for consciousness-like attributes, thereby fostering a comprehensive dialogue across the fields of mathematics, computer science, and philosophy.\u001b[00m\n",
            "\n",
            "\n",
            "\n",
            "\n",
            "\u001b[1m\u001b[95m# Agent:\u001b[00m \u001b[1m\u001b[92mResearcher\u001b[00m\n",
            "\u001b[95m## Thought:\u001b[00m \u001b[92mNow I will gather the insights from the Philosopher to ensure that the definition encompasses philosophical considerations as well.\u001b[00m\n",
            "\u001b[95m## Using tool:\u001b[00m \u001b[92mAsk question to coworker\u001b[00m\n",
            "\u001b[95m## Tool Input:\u001b[00m \u001b[92m\n",
            "\"{\\\"question\\\": \\\"What is your perspective on a definition of Artificial Intelligence that would be acceptable and agreeable among mathematicians, computer scientists, and philosophers?\\\", \\\"context\\\": \\\"I am looking for a concise definition of Artificial Intelligence that captures the essence of the field while being broad enough to be relevant to various disciplines, including mathematics, computer science, and philosophy. The definition should encompass the goal of creating systems that can perform tasks that would normally require human intelligence, such as problem-solving, understanding natural language, learning, and adapting to new information. It should integrate theoretical aspects from philosophy about consciousness and the ethical implications of AI.\\\", \\\"coworker\\\": \\\"Philosopher\\\"}\"\u001b[00m\n",
            "\u001b[95m## Tool Output:\u001b[00m \u001b[92m\n",
            "Artificial Intelligence (AI) can be defined as a multidisciplinary field focused on the development of computational systems capable of executing tasks typically requiring human intelligence. These tasks include problem-solving, comprehension of natural language, learning from experience, and adapting to novel information. From a mathematical and computer science perspective, AI involves the formalization of algorithms and models that simulate cognitive processes. Philosophically, this definition invites inquiries into the nature of intelligence itself, raising questions about consciousness, agency, and the ethical implications of AI's integration into society. It underlines the importance of not only the functionality of AI systems but also their impact on human values, ethical considerations, and the potential for consciousness-like attributes, thereby fostering a comprehensive dialogue across the fields of mathematics, computer science, and philosophy.\n",
            "\n",
            "\n",
            "You ONLY have access to the following tools, and should NEVER make up tools that are not listed here:\n",
            "\n",
            "Tool Name: Delegate work to coworker\n",
            "Tool Arguments: {'task': {'description': 'The task to delegate', 'type': 'str'}, 'context': {'description': 'The context for the task', 'type': 'str'}, 'coworker': {'description': 'The role/name of the coworker to delegate to', 'type': 'str'}}\n",
            "Tool Description: Delegate a specific task to one of the following coworkers: Mathematician, philosopher, computer scientist\n",
            "The input to this tool should be the coworker, the task you want them to do, and ALL necessary context to execute the task, they know nothing about the task, so share absolute everything you know, don't reference things but instead explain them.\n",
            "Tool Name: Ask question to coworker\n",
            "Tool Arguments: {'question': {'description': 'The question to ask', 'type': 'str'}, 'context': {'description': 'The context for the question', 'type': 'str'}, 'coworker': {'description': 'The role/name of the coworker to ask', 'type': 'str'}}\n",
            "Tool Description: Ask a specific question to one of the following coworkers: Mathematician, philosopher, computer scientist\n",
            "The input to this tool should be the coworker, the question you have for them, and ALL necessary context to ask the question properly, they know nothing about the question, so share absolute everything you know, don't reference things but instead explain them.\n",
            "\n",
            "Use the following format:\n",
            "\n",
            "Thought: you should always think about what to do\n",
            "Action: the action to take, only one name of [Delegate work to coworker, Ask question to coworker], just the name, exactly as it's written.\n",
            "Action Input: the input to the action, just a simple python dictionary, enclosed in curly braces, using \" to wrap keys and values.\n",
            "Observation: the result of the action\n",
            "\n",
            "Once all necessary information is gathered:\n",
            "\n",
            "Thought: I now know the final answer\n",
            "Final Answer: the final answer to the original input question\n",
            "\u001b[00m\n",
            "\n",
            "\n",
            "\u001b[1m\u001b[95m# Agent:\u001b[00m \u001b[1m\u001b[92mResearcher\u001b[00m\n",
            "\u001b[95m## Final Answer:\u001b[00m \u001b[92m\n",
            "\"Artificial Intelligence is a multidisciplinary field focused on the development and implementation of computational systems capable of performing tasks that require human-like intelligence. These tasks include problem-solving, language comprehension, learning from experience, and adapting to novel situations. \n",
            "\n",
            "From a mathematical perspective, AI relies on formal algorithms and statistical methods to model intelligent behavior, enabling systems to learn and make predictions based on data. In computer science, it encompasses techniques such as machine learning, neural networks, and natural language processing to create practical applications that exhibit these intelligent capabilities. \n",
            "\n",
            "Philosophically, this definition fosters discussions about the nature of intelligence, consciousness, and the ethical implications of integrating AI into society. It highlights the responsibility of developers and researchers to consider the impact of AI technologies on human values and ethical standards.\n",
            "\n",
            "Thus, a collaboratively acceptable definition of Artificial Intelligence would be: 'Artificial Intelligence is the systematic design and implementation of systems that exhibit human-like cognitive functions and decision-making abilities, integrating mathematical rigor, computational effectiveness, and ethical considerations from philosophical discourse.'\"\u001b[00m\n",
            "\n",
            "\n"
          ]
        }
      ]
    }
  ]
}