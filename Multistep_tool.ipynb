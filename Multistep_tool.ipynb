{
  "cells": [
    {
      "cell_type": "markdown",
      "metadata": {
        "id": "view-in-github",
        "colab_type": "text"
      },
      "source": [
        "<a href=\"https://colab.research.google.com/github/kapamawi/AI/blob/main/Multistep_tool.ipynb\" target=\"_parent\"><img src=\"https://colab.research.google.com/assets/colab-badge.svg\" alt=\"Open In Colab\"/></a>"
      ]
    },
    {
      "cell_type": "code",
      "execution_count": null,
      "id": "1309209a",
      "metadata": {
        "_cell_guid": "b1076dfc-b9ad-4769-8c92-a6c4dae69d19",
        "_uuid": "8f2839f25d086af736a60e9eeb907d3b93b6e0e5",
        "execution": {
          "iopub.execute_input": "2024-11-17T23:15:00.720529Z",
          "iopub.status.busy": "2024-11-17T23:15:00.720080Z",
          "iopub.status.idle": "2024-11-17T23:15:16.810265Z",
          "shell.execute_reply": "2024-11-17T23:15:16.808839Z"
        },
        "papermill": {
          "duration": 16.102035,
          "end_time": "2024-11-17T23:15:16.813073",
          "exception": false,
          "start_time": "2024-11-17T23:15:00.711038",
          "status": "completed"
        },
        "tags": [],
        "id": "1309209a"
      },
      "outputs": [],
      "source": [
        "! pip install cohere -q"
      ]
    },
    {
      "cell_type": "markdown",
      "id": "766b9a81",
      "metadata": {
        "papermill": {
          "duration": 0.006338,
          "end_time": "2024-11-17T23:15:16.826350",
          "exception": false,
          "start_time": "2024-11-17T23:15:16.820012",
          "status": "completed"
        },
        "tags": [],
        "id": "766b9a81"
      },
      "source": [
        "Instalacja biblioteki cohere za pomocą narzędzia pip. Flaga -q sprawia, że proces instalacji będzie przebiegał w trybie \"quiet\" - czyli z ograniczoną ilością komunikatów w konsoli.\n",
        "\n",
        "Ten pakiet umożliwia korzystanie z modeli językowych Cohere, które służą m.in. do:\n",
        "- generowania tekstu\n",
        "- klasyfikacji tekstu\n",
        "- wyszukiwania semantycznego\n",
        "- embeddings (przekształcania tekstu na wektory liczbowe)\n"
      ]
    },
    {
      "cell_type": "code",
      "execution_count": null,
      "id": "bff99768",
      "metadata": {
        "execution": {
          "iopub.execute_input": "2024-11-17T23:15:16.842585Z",
          "iopub.status.busy": "2024-11-17T23:15:16.841594Z",
          "iopub.status.idle": "2024-11-17T23:15:18.392289Z",
          "shell.execute_reply": "2024-11-17T23:15:18.391182Z"
        },
        "papermill": {
          "duration": 1.561904,
          "end_time": "2024-11-17T23:15:18.395027",
          "exception": false,
          "start_time": "2024-11-17T23:15:16.833123",
          "status": "completed"
        },
        "tags": [],
        "id": "bff99768"
      },
      "outputs": [],
      "source": [
        "import cohere\n",
        "import json\n",
        "from google.colab import userdata\n",
        "import os"
      ]
    },
    {
      "cell_type": "markdown",
      "id": "1bf2782e",
      "metadata": {
        "papermill": {
          "duration": 0.006257,
          "end_time": "2024-11-17T23:15:18.407998",
          "exception": false,
          "start_time": "2024-11-17T23:15:18.401741",
          "status": "completed"
        },
        "tags": [],
        "id": "1bf2782e"
      },
      "source": [
        "Importowanie niezbędnych bibliotek i modułów:\n",
        "\n",
        "`cohere` - główna biblioteka do pracy z modelami Cohere\n",
        "\n",
        "`json` - moduł do obsługi formatu JSON, który jest często używany przy wymianie danych\n",
        "\n",
        "`kaggle_secrets` - moduł zawierający klasę UserSecretsClient, która pozwala na bezpieczne przechowywanie i dostęp do poufnych danych (jak klucze API) w środowisku Kaggle\n",
        "\n",
        "`os` - moduł dostarczający funkcje do interakcji z systemem operacyjnym, używany często do operacji na ścieżkach plików i zmiennych środowiskowych"
      ]
    },
    {
      "cell_type": "code",
      "execution_count": null,
      "id": "c2ea9e06",
      "metadata": {
        "execution": {
          "iopub.execute_input": "2024-11-17T23:15:18.423269Z",
          "iopub.status.busy": "2024-11-17T23:15:18.422718Z",
          "iopub.status.idle": "2024-11-17T23:15:18.651837Z",
          "shell.execute_reply": "2024-11-17T23:15:18.650519Z"
        },
        "papermill": {
          "duration": 0.240151,
          "end_time": "2024-11-17T23:15:18.654948",
          "exception": false,
          "start_time": "2024-11-17T23:15:18.414797",
          "status": "completed"
        },
        "tags": [],
        "id": "c2ea9e06"
      },
      "outputs": [],
      "source": [
        "\n",
        "api_key = userdata.get('cohereprod')\n",
        "# os.environ['COHERE_API_KEY'] = api_key\n",
        "co = cohere.Client(api_key)"
      ]
    },
    {
      "cell_type": "markdown",
      "id": "21fe0c57",
      "metadata": {
        "papermill": {
          "duration": 0.007736,
          "end_time": "2024-11-17T23:15:18.669871",
          "exception": false,
          "start_time": "2024-11-17T23:15:18.662135",
          "status": "completed"
        },
        "tags": [],
        "id": "21fe0c57"
      },
      "source": [
        "Ten fragment kodu wykonuje następujące działania:\n",
        "\n",
        "1. Pobiera klucz API z obiektu `userdata` używając metody `get()` i przypisuje go do zmiennej `api_key`. Klucz jest identyfikowany przez nazwę 'cohereprod'.\n",
        "\n",
        "2. Zapisuje pobrany klucz API do zmiennej środowiskowej o nazwie 'COHERE_API_KEY'. Robi to poprzez przypisanie wartości do słownika `os.environ`, który przechowuje zmienne środowiskowe systemu.\n",
        "\n",
        "3. Tworzy nową instancję klienta Cohere poprzez wywołanie `cohere.Client()` i przekazanie klucza API jako argumentu. Utworzony klient zostaje zapisany w zmiennej `co`.\n",
        "\n",
        "Jest to standardowy sposób konfiguracji dostępu do API Cohere - biblioteki służącej do przetwarzania języka naturalnego. Kod przygotowuje wszystkie niezbędne elementy do wykonywania później operacji takich jak generowanie tekstu czy analiza semantyczna."
      ]
    },
    {
      "cell_type": "code",
      "execution_count": null,
      "id": "a5eec7ab",
      "metadata": {
        "execution": {
          "iopub.execute_input": "2024-11-17T23:15:18.684904Z",
          "iopub.status.busy": "2024-11-17T23:15:18.684432Z",
          "iopub.status.idle": "2024-11-17T23:15:18.690099Z",
          "shell.execute_reply": "2024-11-17T23:15:18.688883Z"
        },
        "papermill": {
          "duration": 0.016158,
          "end_time": "2024-11-17T23:15:18.692595",
          "exception": false,
          "start_time": "2024-11-17T23:15:18.676437",
          "status": "completed"
        },
        "tags": [],
        "id": "a5eec7ab"
      },
      "outputs": [],
      "source": [
        "class CFG:\n",
        "    model = \"command-r-plus\""
      ]
    },
    {
      "cell_type": "markdown",
      "id": "91b6f090",
      "metadata": {
        "papermill": {
          "duration": 0.00628,
          "end_time": "2024-11-17T23:15:18.706160",
          "exception": false,
          "start_time": "2024-11-17T23:15:18.699880",
          "status": "completed"
        },
        "tags": [],
        "id": "91b6f090"
      },
      "source": [
        "# Functions"
      ]
    },
    {
      "cell_type": "code",
      "execution_count": null,
      "id": "09015e2c",
      "metadata": {
        "execution": {
          "iopub.execute_input": "2024-11-17T23:15:18.721129Z",
          "iopub.status.busy": "2024-11-17T23:15:18.720656Z",
          "iopub.status.idle": "2024-11-17T23:15:18.726833Z",
          "shell.execute_reply": "2024-11-17T23:15:18.725585Z"
        },
        "papermill": {
          "duration": 0.016746,
          "end_time": "2024-11-17T23:15:18.729472",
          "exception": false,
          "start_time": "2024-11-17T23:15:18.712726",
          "status": "completed"
        },
        "tags": [],
        "id": "09015e2c"
      },
      "outputs": [],
      "source": [
        "def list_calendar_events(date: str):\n",
        "  events = [{\"start\": \"8:00\", \"end\": \"8:59\"}, {\"start\": \"9:00\", \"end\": \"9:59\"}, {\"start\": \"11:00\", \"end\": \"11:59\"},{\"start\": \"12:00\", \"end\": \"12:59\"}]\n",
        "\n",
        "  return {\n",
        "        \"existing_events\": events\n",
        "    }"
      ]
    },
    {
      "cell_type": "markdown",
      "id": "42ffb6eb",
      "metadata": {
        "papermill": {
          "duration": 0.00685,
          "end_time": "2024-11-17T23:15:18.743067",
          "exception": false,
          "start_time": "2024-11-17T23:15:18.736217",
          "status": "completed"
        },
        "tags": [],
        "id": "42ffb6eb"
      },
      "source": [
        "Ta funkcja implementuje prosty mechanizm zarządzania wydarzeniami w kalendarzu:\n",
        "\n",
        "`list_calendar_events(date: str)` - funkcja przyjmuje jeden parametr `date` typu string, który reprezentuje datę.\n",
        "\n",
        "W środku funkcji zdefiniowana jest lista `events` zawierająca cztery wydarzenia w postaci słowników. Każde wydarzenie ma:\n",
        "- `start` - czas rozpoczęcia wydarzenia (godzina:minuta)\n",
        "- `end` - czas zakończenia wydarzenia (godzina:minuta)\n",
        "\n",
        "Wydarzenia są zaplanowane na:\n",
        "- 8:00 - 8:59\n",
        "- 9:00 - 9:59\n",
        "- 11:00 - 11:59\n",
        "- 12:00 - 12:59\n",
        "\n",
        "Funkcja zwraca słownik z jednym kluczem `existing_events`, którego wartością jest lista wydarzeń.\n",
        "\n",
        "W tej implementacji data nie jest wykorzystywana - funkcja zawsze zwraca te same wydarzenia, niezależnie od podanej daty."
      ]
    },
    {
      "cell_type": "code",
      "execution_count": null,
      "id": "c7b4284a",
      "metadata": {
        "execution": {
          "iopub.execute_input": "2024-11-17T23:15:18.758466Z",
          "iopub.status.busy": "2024-11-17T23:15:18.758021Z",
          "iopub.status.idle": "2024-11-17T23:15:18.763883Z",
          "shell.execute_reply": "2024-11-17T23:15:18.762726Z"
        },
        "papermill": {
          "duration": 0.016458,
          "end_time": "2024-11-17T23:15:18.766333",
          "exception": false,
          "start_time": "2024-11-17T23:15:18.749875",
          "status": "completed"
        },
        "tags": [],
        "id": "c7b4284a"
      },
      "outputs": [],
      "source": [
        "def create_calendar_event(date: str, time: str, duration: int):\n",
        "\n",
        "  return {\n",
        "        \"is_success\": True,\n",
        "        \"message\": f\"Created a {duration} hour long event at {time} on {date}\"\n",
        "    }"
      ]
    },
    {
      "cell_type": "markdown",
      "id": "addba1f1",
      "metadata": {
        "papermill": {
          "duration": 0.0068,
          "end_time": "2024-11-17T23:15:18.779870",
          "exception": false,
          "start_time": "2024-11-17T23:15:18.773070",
          "status": "completed"
        },
        "tags": [],
        "id": "addba1f1"
      },
      "source": [
        "Ta funkcja symuluje tworzenie nowego wydarzenia w kalendarzu:\n",
        "\n",
        "`create_calendar_event(date: str, time: str, duration: int)` przyjmuje trzy parametry:\n",
        "- `date` - data wydarzenia jako tekst\n",
        "- `time` - godzina rozpoczęcia jako tekst\n",
        "- `duration` - długość wydarzenia w godzinach jako liczba całkowita\n",
        "\n",
        "Funkcja zwraca słownik zawierający dwa klucze:\n",
        "- `is_success` - ustawiony na `True`, co oznacza że operacja się udała\n",
        "- `message` - tekst potwierdzający utworzenie wydarzenia, zawierający wszystkie podane parametry\n",
        "\n",
        "**Jest to uproszczona implementacja** - funkcja nie sprawdza poprawności danych ani nie weryfikuje konfliktów z istniejącymi wydarzeniami, zawsze zwraca sukces."
      ]
    },
    {
      "cell_type": "code",
      "execution_count": null,
      "id": "c3b2f680",
      "metadata": {
        "execution": {
          "iopub.execute_input": "2024-11-17T23:15:18.795315Z",
          "iopub.status.busy": "2024-11-17T23:15:18.794844Z",
          "iopub.status.idle": "2024-11-17T23:15:18.800935Z",
          "shell.execute_reply": "2024-11-17T23:15:18.799366Z"
        },
        "papermill": {
          "duration": 0.016965,
          "end_time": "2024-11-17T23:15:18.803469",
          "exception": false,
          "start_time": "2024-11-17T23:15:18.786504",
          "status": "completed"
        },
        "tags": [],
        "id": "c3b2f680"
      },
      "outputs": [],
      "source": [
        "functions_map = {\n",
        "    \"list_calendar_events\": list_calendar_events,\n",
        "    \"create_calendar_event\": create_calendar_event\n",
        "}"
      ]
    },
    {
      "cell_type": "markdown",
      "id": "2ae17ed6",
      "metadata": {
        "papermill": {
          "duration": 0.006727,
          "end_time": "2024-11-17T23:15:18.816919",
          "exception": false,
          "start_time": "2024-11-17T23:15:18.810192",
          "status": "completed"
        },
        "tags": [],
        "id": "2ae17ed6"
      },
      "source": [
        "Ta linia tworzy mapowanie (słownik) między nazwami funkcji a samymi funkcjami:\n",
        "\n",
        "`functions_map` to słownik, gdzie:\n",
        "- klucze to nazwy funkcji jako teksty (`\"list_calendar_events\"` i `\"create_calendar_event\"`)\n",
        "- wartości to odpowiadające im funkcje (wcześniej zdefiniowane `list_calendar_events` i `create_calendar_event`)\n",
        "\n",
        "Takie mapowanie jest często używane, gdy chcemy:\n",
        "- dynamicznie wywoływać funkcje na podstawie ich nazw\n",
        "- przekazywać informacje o dostępnych funkcjach do innych części systemu\n",
        "- organizować wywołania funkcji w sposób elastyczny\n",
        "\n",
        "W tym przypadku słownik pozwala na łatwe przekazanie informacji do modelu Cohere o tym, jakie funkcje są dostępne do użycia."
      ]
    },
    {
      "cell_type": "code",
      "execution_count": null,
      "id": "a0d233b7",
      "metadata": {
        "execution": {
          "iopub.execute_input": "2024-11-17T23:15:18.832456Z",
          "iopub.status.busy": "2024-11-17T23:15:18.832007Z",
          "iopub.status.idle": "2024-11-17T23:15:18.839071Z",
          "shell.execute_reply": "2024-11-17T23:15:18.837951Z"
        },
        "papermill": {
          "duration": 0.017764,
          "end_time": "2024-11-17T23:15:18.841499",
          "exception": false,
          "start_time": "2024-11-17T23:15:18.823735",
          "status": "completed"
        },
        "tags": [],
        "id": "a0d233b7"
      },
      "outputs": [],
      "source": [
        "tools = [\n",
        "    {\n",
        "      \"name\": \"list_calendar_events\",\n",
        "      \"description\": \"Returns a list of existing events for the specified date, including the start time and end time for each event.\",\n",
        "      \"parameter_definitions\": {\n",
        "        \"date\": {\n",
        "          \"description\": \"the date to list events for, formatted as dd/mm/yy\",\n",
        "          \"type\": \"str\",\n",
        "          \"required\": True\n",
        "        }\n",
        "      }\n",
        "    },\n",
        "    {\n",
        "      \"name\": \"create_calendar_event\",\n",
        "      \"description\": \"Creates a new calendar event of the specified duration at the specified time and date. A new event cannot be created on the same time as an existing event.\",\n",
        "      \"parameter_definitions\": {\n",
        "        \"date\": {\n",
        "          \"description\": \"the date on which the event starts, formatted as dd/mm/yy\",\n",
        "          \"type\": \"str\",\n",
        "          \"required\": True\n",
        "        },\n",
        "        \"time\": {\n",
        "          \"description\": \"the time of the event, formatted using 24h military time formatting\",\n",
        "          \"type\": \"str\",\n",
        "          \"required\": True\n",
        "        },\n",
        "        \"duration\": {\n",
        "          \"description\": \"the number of hours the event lasts for\",\n",
        "          \"type\": \"float\",\n",
        "          \"required\": True\n",
        "        }\n",
        "      }\n",
        "    }\n",
        "]"
      ]
    },
    {
      "cell_type": "markdown",
      "id": "233b9053",
      "metadata": {
        "papermill": {
          "duration": 0.006345,
          "end_time": "2024-11-17T23:15:18.854517",
          "exception": false,
          "start_time": "2024-11-17T23:15:18.848172",
          "status": "completed"
        },
        "tags": [],
        "id": "233b9053"
      },
      "source": [
        "Ta zmienna `tools` to lista zawierająca opisy dwóch narzędzi (funkcji) dostępnych w systemie kalendarza:\n",
        "\n",
        "1. `list_calendar_events`:\n",
        "- nazwa narzędzia do listowania wydarzeń\n",
        "- opis: zwraca listę istniejących wydarzeń na podaną datę, wraz z czasem rozpoczęcia i zakończenia\n",
        "- parametry: wymaga tylko daty w formacie dd/mm/rr\n",
        "\n",
        "2. `create_calendar_event`:\n",
        "- nazwa narzędzia do tworzenia wydarzeń\n",
        "- opis: tworzy nowe wydarzenie o określonej długości w podanym czasie i dacie, z zastrzeżeniem że nie może kolidować z istniejącymi wydarzeniami\n",
        "- parametry:\n",
        "  - data rozpoczęcia (dd/mm/rr)\n",
        "  - czas (format 24-godzinny)\n",
        "  - długość wydarzenia w godzinach (liczba zmiennoprzecinkowa)\n",
        "\n",
        "Ta struktura służy jako dokumentacja API i może być używana do:\n",
        "- walidacji parametrów\n",
        "- generowania dokumentacji\n",
        "- automatycznego tworzenia interfejsów\n",
        "- komunikacji z modelem językowym o dostępnych funkcjach"
      ]
    },
    {
      "cell_type": "code",
      "execution_count": null,
      "id": "34501c3a",
      "metadata": {
        "execution": {
          "iopub.execute_input": "2024-11-17T23:15:18.870279Z",
          "iopub.status.busy": "2024-11-17T23:15:18.869834Z",
          "iopub.status.idle": "2024-11-17T23:15:18.881273Z",
          "shell.execute_reply": "2024-11-17T23:15:18.880097Z"
        },
        "papermill": {
          "duration": 0.022061,
          "end_time": "2024-11-17T23:15:18.883813",
          "exception": false,
          "start_time": "2024-11-17T23:15:18.861752",
          "status": "completed"
        },
        "tags": [],
        "id": "34501c3a"
      },
      "outputs": [],
      "source": [
        "def run_assistant(message, chat_history=None):\n",
        "    if chat_history is None:\n",
        "        chat_history = []\n",
        "\n",
        "    # Step 1: Get user message\n",
        "    print(f\"Question:\\n{message}\")\n",
        "    print(\"-\"*50)\n",
        "\n",
        "    # Step 2: Generate tool calls (if any)\n",
        "    response = co.chat(\n",
        "        message=message,\n",
        "        model = CFG.model,\n",
        "        preamble=preamble,\n",
        "        tools=tools,\n",
        "        chat_history=chat_history\n",
        "    )\n",
        "\n",
        "    while response.tool_calls:\n",
        "        tool_calls = response.tool_calls\n",
        "\n",
        "        if response.text:\n",
        "            print(\"Tool plan:\")\n",
        "            print(response.text,\"\\n\")\n",
        "        print(\"Tool calls:\")\n",
        "        for call in tool_calls:\n",
        "            print(f\"Tool name: {call.name} | Parameters: {call.parameters}\")\n",
        "        print(\"-\"*50)\n",
        "\n",
        "        # Step 3: Get tool results\n",
        "        tool_results = []\n",
        "        for tc in tool_calls:\n",
        "            tool_call = {\"name\": tc.name, \"parameters\": tc.parameters}\n",
        "            tool_output = functions_map[tc.name](**tc.parameters)\n",
        "            tool_results.append({\"call\": tool_call, \"outputs\": [tool_output]})\n",
        "\n",
        "        # Step 4: Generate response and citations\n",
        "        response = co.chat(\n",
        "            message=\"\",\n",
        "            model = CFG.model,\n",
        "            preamble=preamble,\n",
        "            tools=tools,\n",
        "            tool_results=tool_results,\n",
        "            chat_history=response.chat_history\n",
        "        )\n",
        "\n",
        "        # Append the current chat turn to the chat history\n",
        "        chat_history = response.chat_history\n",
        "\n",
        "    # Print final response\n",
        "    print(\"Final response:\")\n",
        "    print(response.text)\n",
        "    print(\"-\"*50)\n",
        "\n",
        "    # Print citations (if any)\n",
        "    if response.citations:\n",
        "        print(\"Citations:\")\n",
        "        for citation in response.citations:\n",
        "            print(citation)\n",
        "        print(\"\\nCited Documents:\")\n",
        "        for document in response.documents:\n",
        "            print(document)\n",
        "        print(\"-\"*50)\n",
        "\n",
        "    return chat_history"
      ]
    },
    {
      "cell_type": "markdown",
      "id": "49714167",
      "metadata": {
        "papermill": {
          "duration": 0.006282,
          "end_time": "2024-11-17T23:15:18.896822",
          "exception": false,
          "start_time": "2024-11-17T23:15:18.890540",
          "status": "completed"
        },
        "tags": [],
        "id": "49714167"
      },
      "source": [
        "Funkcja `run_assistant` zarządza konwersacją z asystentem Cohere. Działa w następujących krokach:\n",
        "\n",
        "1. Inicjalizacja:\n",
        "- tworzy pustą listę historii czatu jeśli nie została podana\n",
        "- wyświetla pytanie użytkownika\n",
        "\n",
        "2. Generowanie wywołań narzędzi:\n",
        "- wysyła wiadomość do modelu Cohere z konfiguracją, narzędziami i historią czatu\n",
        "- jeśli model proponuje użycie narzędzi, wyświetla plan i szczegóły wywołań\n",
        "\n",
        "3. Wykonywanie narzędzi:\n",
        "- dla każdego wywołania narzędzia:\n",
        "  - przekazuje parametry do odpowiedniej funkcji z `functions_map`\n",
        "  - zbiera wyniki działania\n",
        "\n",
        "4. Generowanie odpowiedzi:\n",
        "- wysyła kolejne zapytanie do modelu z wynikami narzędzi\n",
        "- aktualizuje historię czatu\n",
        "\n",
        "5. Wyświetlanie rezultatów:\n",
        "- pokazuje końcową odpowiedź\n",
        "- jeśli są cytowania, wyświetla je wraz z dokumentami źródłowymi\n",
        "\n",
        "6. Zwraca zaktualizowaną historię czatu\n",
        "\n",
        "Funkcja działa w pętli dopóki model sugeruje użycie kolejnych narzędzi, co pozwala na wieloetapowe rozwiązywanie zadań."
      ]
    },
    {
      "cell_type": "markdown",
      "id": "80cd3c9d",
      "metadata": {
        "papermill": {
          "duration": 0.006418,
          "end_time": "2024-11-17T23:15:18.910289",
          "exception": false,
          "start_time": "2024-11-17T23:15:18.903871",
          "status": "completed"
        },
        "tags": [],
        "id": "80cd3c9d"
      },
      "source": [
        "# Setup"
      ]
    },
    {
      "cell_type": "code",
      "execution_count": null,
      "id": "3f8c478a",
      "metadata": {
        "execution": {
          "iopub.execute_input": "2024-11-17T23:15:18.925328Z",
          "iopub.status.busy": "2024-11-17T23:15:18.924908Z",
          "iopub.status.idle": "2024-11-17T23:15:18.930450Z",
          "shell.execute_reply": "2024-11-17T23:15:18.929311Z"
        },
        "papermill": {
          "duration": 0.015881,
          "end_time": "2024-11-17T23:15:18.932882",
          "exception": false,
          "start_time": "2024-11-17T23:15:18.917001",
          "status": "completed"
        },
        "tags": [],
        "id": "3f8c478a"
      },
      "outputs": [],
      "source": [
        "preamble=\"\"\"## Task & Context\n",
        "You are a calendar assistant who helps people schedule events on their calendar. You must make sure that a new event does not overlap with any existing event.\n",
        "Today is Monday, 18th November, 2024\n",
        "\"\"\""
      ]
    },
    {
      "cell_type": "markdown",
      "id": "b19cad25",
      "metadata": {
        "papermill": {
          "duration": 0.006449,
          "end_time": "2024-11-17T23:15:18.945917",
          "exception": false,
          "start_time": "2024-11-17T23:15:18.939468",
          "status": "completed"
        },
        "tags": [],
        "id": "b19cad25"
      },
      "source": [
        "# No multi-step"
      ]
    },
    {
      "cell_type": "code",
      "execution_count": null,
      "id": "c41b545d",
      "metadata": {
        "execution": {
          "iopub.execute_input": "2024-11-17T23:15:18.961369Z",
          "iopub.status.busy": "2024-11-17T23:15:18.960257Z",
          "iopub.status.idle": "2024-11-17T23:15:21.537248Z",
          "shell.execute_reply": "2024-11-17T23:15:21.535994Z"
        },
        "papermill": {
          "duration": 2.587571,
          "end_time": "2024-11-17T23:15:21.540024",
          "exception": false,
          "start_time": "2024-11-17T23:15:18.952453",
          "status": "completed"
        },
        "tags": [],
        "id": "c41b545d",
        "colab": {
          "base_uri": "https://localhost:8080/"
        },
        "outputId": "e9ad2faa-2515-4439-dbc9-890b4ee7267c"
      },
      "outputs": [
        {
          "output_type": "stream",
          "name": "stdout",
          "text": [
            "Question:\n",
            "How many meetings do I have today\n",
            "--------------------------------------------------\n",
            "Tool plan:\n",
            "I will list the events for today and count how many there are. \n",
            "\n",
            "Tool calls:\n",
            "Tool name: list_calendar_events | Parameters: {'date': '18/11/2024'}\n",
            "--------------------------------------------------\n",
            "Final response:\n",
            "You have four meetings today.\n",
            "--------------------------------------------------\n",
            "Citations:\n",
            "start=9 end=22 text='four meetings' document_ids=['list_calendar_events:0:2:0']\n",
            "\n",
            "Cited Documents:\n",
            "{'existing_events': '[{\"end\":\"8:59\",\"start\":\"8:00\"},{\"end\":\"9:59\",\"start\":\"9:00\"},{\"end\":\"11:59\",\"start\":\"11:00\"},{\"end\":\"12:59\",\"start\":\"12:00\"}]', 'id': 'list_calendar_events:0:2:0', 'tool_name': 'list_calendar_events'}\n",
            "--------------------------------------------------\n"
          ]
        }
      ],
      "source": [
        "chat_history = run_assistant(\"How many meetings do I have today\")"
      ]
    },
    {
      "cell_type": "markdown",
      "id": "55e2abd8",
      "metadata": {
        "papermill": {
          "duration": 0.006829,
          "end_time": "2024-11-17T23:15:21.554022",
          "exception": false,
          "start_time": "2024-11-17T23:15:21.547193",
          "status": "completed"
        },
        "tags": [],
        "id": "55e2abd8"
      },
      "source": [
        "# Multi-step"
      ]
    },
    {
      "cell_type": "code",
      "execution_count": null,
      "id": "6e5e0ab8",
      "metadata": {
        "execution": {
          "iopub.execute_input": "2024-11-17T23:15:21.569732Z",
          "iopub.status.busy": "2024-11-17T23:15:21.569106Z",
          "iopub.status.idle": "2024-11-17T23:15:27.084516Z",
          "shell.execute_reply": "2024-11-17T23:15:27.083152Z"
        },
        "papermill": {
          "duration": 5.526489,
          "end_time": "2024-11-17T23:15:27.087433",
          "exception": false,
          "start_time": "2024-11-17T23:15:21.560944",
          "status": "completed"
        },
        "tags": [],
        "id": "6e5e0ab8",
        "outputId": "b953e348-5a84-4a06-c6e8-ed98b615a920",
        "colab": {
          "base_uri": "https://localhost:8080/"
        }
      },
      "outputs": [
        {
          "output_type": "stream",
          "name": "stdout",
          "text": [
            "Question:\n",
            "Create an hour-long appointment for the first available free slot after 9am\n",
            "--------------------------------------------------\n",
            "Tool plan:\n",
            "I will first check the user's calendar for 18 November 2024 to see when they are free after 9am. Then, I will create an hour-long appointment for the first available slot. \n",
            "\n",
            "Tool calls:\n",
            "Tool name: list_calendar_events | Parameters: {'date': '18/11/2024'}\n",
            "--------------------------------------------------\n",
            "Tool plan:\n",
            "The user is free after 10am. I will now create an hour-long appointment for them at 10am. \n",
            "\n",
            "Tool calls:\n",
            "Tool name: create_calendar_event | Parameters: {'date': '18/11/2024', 'duration': 1, 'time': '10:00'}\n",
            "--------------------------------------------------\n",
            "Final response:\n",
            "I've created an hour-long appointment for you at 10am.\n",
            "--------------------------------------------------\n",
            "Citations:\n",
            "start=16 end=37 text='hour-long appointment' document_ids=['create_calendar_event:0:4:0']\n",
            "start=49 end=53 text='10am' document_ids=['create_calendar_event:0:4:0']\n",
            "\n",
            "Cited Documents:\n",
            "{'id': 'create_calendar_event:0:4:0', 'is_success': 'true', 'message': 'Created a 1 hour long event at 10:00 on 18/11/2024', 'tool_name': 'create_calendar_event'}\n",
            "--------------------------------------------------\n"
          ]
        }
      ],
      "source": [
        "chat_history = run_assistant(\"Create an hour-long appointment for the first available free slot after 9am\")"
      ]
    },
    {
      "cell_type": "code",
      "execution_count": null,
      "id": "a395c7db",
      "metadata": {
        "execution": {
          "iopub.execute_input": "2024-11-17T23:15:27.105192Z",
          "iopub.status.busy": "2024-11-17T23:15:27.104756Z",
          "iopub.status.idle": "2024-11-17T23:15:27.111039Z",
          "shell.execute_reply": "2024-11-17T23:15:27.109849Z"
        },
        "papermill": {
          "duration": 0.018407,
          "end_time": "2024-11-17T23:15:27.114031",
          "exception": false,
          "start_time": "2024-11-17T23:15:27.095624",
          "status": "completed"
        },
        "tags": [],
        "id": "a395c7db",
        "outputId": "573aedf1-c613-4b65-9954-536f67bfca0f",
        "colab": {
          "base_uri": "https://localhost:8080/"
        }
      },
      "outputs": [
        {
          "output_type": "stream",
          "name": "stdout",
          "text": [
            "role='USER' message='Create an hour-long appointment for the first available free slot after 9am' tool_calls=None \n",
            "\n",
            "role='CHATBOT' message=\"I will first check the user's calendar for 18 November 2024 to see when they are free after 9am. Then, I will create an hour-long appointment for the first available slot.\" tool_calls=[ToolCall(name='list_calendar_events', parameters={'date': '18/11/2024'})] \n",
            "\n",
            "role='TOOL' tool_results=[ToolResult(call=ToolCall(name='list_calendar_events', parameters={'date': '18/11/2024'}), outputs=[{'existing_events': [{'end': '8:59', 'start': '8:00'}, {'end': '9:59', 'start': '9:00'}, {'end': '11:59', 'start': '11:00'}, {'end': '12:59', 'start': '12:00'}]}])] \n",
            "\n",
            "role='CHATBOT' message='The user is free after 10am. I will now create an hour-long appointment for them at 10am.' tool_calls=[ToolCall(name='create_calendar_event', parameters={'date': '18/11/2024', 'duration': 1, 'time': '10:00'})] \n",
            "\n",
            "role='TOOL' tool_results=[ToolResult(call=ToolCall(name='create_calendar_event', parameters={'date': '18/11/2024', 'duration': 1, 'time': '10:00'}), outputs=[{'is_success': True, 'message': 'Created a 1 hour long event at 10:00 on 18/11/2024'}])] \n",
            "\n",
            "role='CHATBOT' message=\"I've created an hour-long appointment for you at 10am.\" tool_calls=None \n",
            "\n"
          ]
        }
      ],
      "source": [
        "for turn in chat_history:\n",
        "    print(turn,\"\\n\")"
      ]
    },
    {
      "cell_type": "markdown",
      "id": "03fa43b6",
      "metadata": {
        "papermill": {
          "duration": 0.00694,
          "end_time": "2024-11-17T23:15:27.128324",
          "exception": false,
          "start_time": "2024-11-17T23:15:27.121384",
          "status": "completed"
        },
        "tags": [],
        "id": "03fa43b6"
      },
      "source": [
        "# Multi-step parallel"
      ]
    },
    {
      "cell_type": "code",
      "execution_count": null,
      "id": "dceac098",
      "metadata": {
        "execution": {
          "iopub.execute_input": "2024-11-17T23:15:27.144859Z",
          "iopub.status.busy": "2024-11-17T23:15:27.144333Z",
          "iopub.status.idle": "2024-11-17T23:15:34.424099Z",
          "shell.execute_reply": "2024-11-17T23:15:34.422726Z"
        },
        "papermill": {
          "duration": 7.29087,
          "end_time": "2024-11-17T23:15:34.426545",
          "exception": false,
          "start_time": "2024-11-17T23:15:27.135675",
          "status": "completed"
        },
        "tags": [],
        "id": "dceac098",
        "outputId": "1f7a3696-b5d2-4a19-f0d1-89dab28b2443",
        "colab": {
          "base_uri": "https://localhost:8080/"
        }
      },
      "outputs": [
        {
          "output_type": "stream",
          "name": "stdout",
          "text": [
            "Question:\n",
            "Create two hour-long appointments for any available time between 8am to 6pm\n",
            "--------------------------------------------------\n",
            "Tool plan:\n",
            "I will list the events for today, then create two one-hour appointments at times when there are no events. \n",
            "\n",
            "Tool calls:\n",
            "Tool name: list_calendar_events | Parameters: {'date': '18/11/2024'}\n",
            "--------------------------------------------------\n",
            "Tool plan:\n",
            "There are four events today: one from 8:00-8:59, one from 9:00-9:59, one from 11:00-11:59, and one from 12:00-12:59. I will create two one-hour appointments at times when there are no events. \n",
            "\n",
            "Tool calls:\n",
            "Tool name: create_calendar_event | Parameters: {'date': '18/11/2024', 'duration': 1, 'time': '10:00'}\n",
            "Tool name: create_calendar_event | Parameters: {'date': '18/11/2024', 'duration': 1, 'time': '13:00'}\n",
            "--------------------------------------------------\n"
          ]
        }
      ],
      "source": [
        "chat_history = run_assistant(\"Create two hour-long appointments for any available time between 8am to 6pm\")"
      ]
    },
    {
      "cell_type": "markdown",
      "id": "c05449cf",
      "metadata": {
        "papermill": {
          "duration": 0.007222,
          "end_time": "2024-11-17T23:15:34.442847",
          "exception": false,
          "start_time": "2024-11-17T23:15:34.435625",
          "status": "completed"
        },
        "tags": [],
        "id": "c05449cf"
      },
      "source": [
        "# State management - memory"
      ]
    },
    {
      "cell_type": "code",
      "execution_count": null,
      "id": "b5f570e1",
      "metadata": {
        "execution": {
          "iopub.execute_input": "2024-11-17T23:15:34.459839Z",
          "iopub.status.busy": "2024-11-17T23:15:34.459383Z",
          "iopub.status.idle": "2024-11-17T23:15:37.398610Z",
          "shell.execute_reply": "2024-11-17T23:15:37.396983Z"
        },
        "papermill": {
          "duration": 2.951009,
          "end_time": "2024-11-17T23:15:37.401321",
          "exception": false,
          "start_time": "2024-11-17T23:15:34.450312",
          "status": "completed"
        },
        "tags": [],
        "id": "b5f570e1"
      },
      "outputs": [],
      "source": [
        "chat_history = run_assistant(\"Considering the new appointments you made, when is my next available time?\", chat_history)"
      ]
    },
    {
      "cell_type": "code",
      "execution_count": null,
      "id": "fc7c2357",
      "metadata": {
        "execution": {
          "iopub.execute_input": "2024-11-17T23:15:37.419845Z",
          "iopub.status.busy": "2024-11-17T23:15:37.418798Z",
          "iopub.status.idle": "2024-11-17T23:15:37.425295Z",
          "shell.execute_reply": "2024-11-17T23:15:37.424177Z"
        },
        "papermill": {
          "duration": 0.018558,
          "end_time": "2024-11-17T23:15:37.428049",
          "exception": false,
          "start_time": "2024-11-17T23:15:37.409491",
          "status": "completed"
        },
        "tags": [],
        "id": "fc7c2357"
      },
      "outputs": [],
      "source": [
        "for turn in chat_history:\n",
        "    print(turn,\"\\n\")"
      ]
    }
  ],
  "metadata": {
    "kaggle": {
      "accelerator": "none",
      "dataSources": [],
      "dockerImageVersionId": 30786,
      "isGpuEnabled": false,
      "isInternetEnabled": true,
      "language": "python",
      "sourceType": "notebook"
    },
    "kernelspec": {
      "display_name": "Python 3",
      "language": "python",
      "name": "python3"
    },
    "language_info": {
      "codemirror_mode": {
        "name": "ipython",
        "version": 3
      },
      "file_extension": ".py",
      "mimetype": "text/x-python",
      "name": "python",
      "nbconvert_exporter": "python",
      "pygments_lexer": "ipython3",
      "version": "3.10.14"
    },
    "papermill": {
      "default_parameters": {},
      "duration": 40.674618,
      "end_time": "2024-11-17T23:15:38.059678",
      "environment_variables": {},
      "exception": null,
      "input_path": "__notebook__.ipynb",
      "output_path": "__notebook__.ipynb",
      "parameters": {},
      "start_time": "2024-11-17T23:14:57.385060",
      "version": "2.6.0"
    },
    "colab": {
      "provenance": [],
      "include_colab_link": true
    }
  },
  "nbformat": 4,
  "nbformat_minor": 5
}