{
  "nbformat": 4,
  "nbformat_minor": 0,
  "metadata": {
    "colab": {
      "provenance": [],
      "include_colab_link": true
    },
    "kernelspec": {
      "name": "python3",
      "display_name": "Python 3"
    },
    "language_info": {
      "name": "python"
    }
  },
  "cells": [
    {
      "cell_type": "markdown",
      "metadata": {
        "id": "view-in-github",
        "colab_type": "text"
      },
      "source": [
        "<a href=\"https://colab.research.google.com/github/kapamawi/AI/blob/main/2_6_1___rnw_1.ipynb\" target=\"_parent\"><img src=\"https://colab.research.google.com/assets/colab-badge.svg\" alt=\"Open In Colab\"/></a>"
      ]
    },
    {
      "cell_type": "markdown",
      "source": [
        "# Setup"
      ],
      "metadata": {
        "id": "ygIfGJMxp-Ft"
      }
    },
    {
      "cell_type": "code",
      "execution_count": null,
      "metadata": {
        "id": "QB27T6tdQ-Ix"
      },
      "outputs": [],
      "source": [
        "!pip install -qU crewai==0.28.8 crewai_tools==0.1.6 langchain_community==0.0.29 openai"
      ]
    },
    {
      "cell_type": "markdown",
      "source": [
        "Ten kod instaluje kilka bibliotek Pythona za pomocą menedżera pakietów pip:\n",
        "\n",
        "`crewai` w wersji 0.28.8 - biblioteka służąca do tworzenia i zarządzania zespołami agentów AI\n",
        "\n",
        "`crewai_tools` w wersji 0.1.6 - zestaw narzędzi rozszerzających funkcjonalność biblioteki crewai\n",
        "\n",
        "`langchain_community` w wersji 0.0.29 - biblioteka zawierająca komponenty do budowania aplikacji opartych na modelach językowych\n",
        "\n",
        "`openai` - oficjalny pakiet OpenAI umożliwiający integrację z ich modelami AI\n",
        "\n",
        "Flaga `-q` oznacza tryb \"quiet\" (cichy), który ogranicza wyświetlanie komunikatów podczas instalacji.\n",
        "\n",
        "Flaga `-U` (lub `--upgrade`) oznacza, że jeśli któraś z tych bibliotek jest już zainstalowana, zostanie zaktualizowana do podanej wersji."
      ],
      "metadata": {
        "id": "d73ACxQwz0jN"
      }
    },
    {
      "cell_type": "code",
      "source": [
        "import os\n",
        "from crewai import Agent, Task, Crew, Process\n",
        "from openai import OpenAI\n",
        "import time\n",
        "import pandas as pd\n",
        "from langchain_community.document_loaders.csv_loader import CSVLoader\n",
        "from langchain.agents import Tool\n",
        "from google.colab import userdata"
      ],
      "metadata": {
        "id": "aBl3PN8wr3S-"
      },
      "execution_count": null,
      "outputs": []
    },
    {
      "cell_type": "markdown",
      "source": [
        "Ten kod importuje niezbędne biblioteki i komponenty:\n",
        "\n",
        "`os` - moduł dostarczający funkcje do interakcji z systemem operacyjnym\n",
        "\n",
        "Z biblioteki `crewai` importowane są cztery główne klasy:\n",
        "- `Agent` - do tworzenia agentów AI\n",
        "- `Task` - do definiowania zadań\n",
        "- `Crew` - do organizowania zespołów agentów\n",
        "- `Process` - do zarządzania procesami\n",
        "\n",
        "`OpenAI` - klasa klienta API OpenAI służąca do komunikacji z modelami OpenAI\n",
        "\n",
        "`time` - moduł zawierający funkcje związane z czasem\n",
        "\n",
        "`pandas` (jako `pd`) - biblioteka do analizy i manipulacji danymi\n",
        "\n",
        "Z pakietu `langchain_community.document_loaders` importowany jest `CSVLoader` - narzędzie do wczytywania plików CSV\n",
        "\n",
        "Z `langchain.agents` importowana jest klasa `Tool` służąca do tworzenia narzędzi dla agentów\n",
        "\n",
        "`userdata` z `google.colab` pozwala na dostęp do danych użytkownika w środowisku Google Colab"
      ],
      "metadata": {
        "id": "RcNgKan8z4Ms"
      }
    },
    {
      "cell_type": "code",
      "source": [
        "class CFG:\n",
        "    model = 'gpt-4o-mini'"
      ],
      "metadata": {
        "id": "Io9MnPG8uGot"
      },
      "execution_count": null,
      "outputs": []
    },
    {
      "cell_type": "code",
      "source": [
        "\n",
        "os.environ[\"OPENAI_API_KEY\"] = userdata.get('openaivision')\n"
      ],
      "metadata": {
        "id": "jiXeDOZEuHsh"
      },
      "execution_count": null,
      "outputs": []
    },
    {
      "cell_type": "markdown",
      "source": [
        "# Dane"
      ],
      "metadata": {
        "id": "asMisG2Ou2Vr"
      }
    },
    {
      "cell_type": "code",
      "source": [
        "df = pd.read_csv('/content/telecom_churn.csv')\n",
        "df.head(10)"
      ],
      "metadata": {
        "id": "UTk5WPCyu3Wg"
      },
      "execution_count": null,
      "outputs": []
    },
    {
      "cell_type": "code",
      "source": [
        "df[['Churn', 'AccountWeeks', 'DataUsage','ContractRenewal', 'RoamMins']].sample(100).reset_index(drop = True).to_csv('sub_telecom_churn.csv', index = False)"
      ],
      "metadata": {
        "id": "yUrCvMWxvr73"
      },
      "execution_count": null,
      "outputs": []
    },
    {
      "cell_type": "markdown",
      "source": [
        "Ten kod wykonuje kilka operacji na ramce danych (DataFrame) o nazwie `df`:\n",
        "\n",
        "1. Wybiera tylko określone kolumny z danych:\n",
        "   - `Churn` (odejścia klientów)\n",
        "   - `AccountWeeks` (liczba tygodni posiadania konta)\n",
        "   - `DataUsage` (zużycie danych)\n",
        "   - `ContractRenewal` (odnowienie umowy)\n",
        "   - `RoamMins` (minuty w roamingu)\n",
        "\n",
        "2. Za pomocą `sample(100)` losowo wybiera 100 wierszy z tych danych\n",
        "\n",
        "3. `reset_index(drop = True)` resetuje indeksy wybranych wierszy, a parametr `drop = True` usuwa starą kolumnę indeksów\n",
        "\n",
        "4. `to_csv('sub_telecom_churn.csv', index = False)` zapisuje wynikowe dane do pliku CSV o nazwie 'sub_telecom_churn.csv'. Parametr `index = False` oznacza, że indeksy wierszy nie zostaną zapisane w pliku\n",
        "\n",
        "Jest to typowa operacja przygotowania mniejszego zbioru danych do testów lub analizy, w tym przypadku z danych telekomunikacyjnych dotyczących odejść klientów."
      ],
      "metadata": {
        "id": "xxnFz4V20LXf"
      }
    },
    {
      "cell_type": "markdown",
      "source": [
        "# Agentura"
      ],
      "metadata": {
        "id": "p03NWMxNwTrA"
      }
    },
    {
      "cell_type": "code",
      "source": [
        "# tool = data loader\n",
        "loader = CSVLoader(file_path=\"sub_telecom_churn.csv\")\n",
        "\n",
        "load_tool = Tool(\n",
        "  name=\"Data Loader Tool\",\n",
        "  func=loader.load,\n",
        "  description=\"Load the CSV data from the source\",\n",
        ")"
      ],
      "metadata": {
        "id": "CO2H8vFgvvNo"
      },
      "execution_count": null,
      "outputs": []
    },
    {
      "cell_type": "markdown",
      "source": [
        "Ten fragment kodu tworzy narzędzie do wczytywania danych:\n",
        "\n",
        "`loader = CSVLoader(file_path=\"sub_telecom_churn.csv\")` - tworzy obiekt do wczytywania danych z pliku CSV 'sub_telecom_churn.csv'\n",
        "\n",
        "Następnie definiowane jest narzędzie `load_tool` za pomocą klasy `Tool` z trzema parametrami:\n",
        "- `name` - nazwa narzędzia: \"Data Loader Tool\"\n",
        "- `func` - funkcja wykonywana przez narzędzie: `loader.load` (wczytywanie danych)\n",
        "- `description` - opis działania narzędzia: \"Load the CSV data from the source\"\n",
        "\n",
        "To narzędzie będzie używane przez agentów AI do wczytywania i analizowania danych z pliku CSV."
      ],
      "metadata": {
        "id": "_pRrcxwK0gZ_"
      }
    },
    {
      "cell_type": "code",
      "source": [
        "analyst = Agent(\n",
        "  role='Senior Data Analyst',\n",
        "  goal='Load the dataset and provide insights from the data',\n",
        "  backstory=\"\"\"You work at a telecom company.\n",
        "  Your expertise lies in identifying trends and analysis from the available data.\n",
        "  You have a knack for dissecting complex data and presenting\n",
        "  actionable insights.\"\"\",\n",
        "  verbose=True,\n",
        "  allow_delegation=False,\n",
        ")\n",
        "\n",
        "writer = Agent(\n",
        "  role='Data Content Strategist',\n",
        "  goal='Craft compelling content from the data',\n",
        "  backstory=\"\"\"You are a renowned data writer, known for\n",
        "  your insightful and engaging articles from the dataset.\n",
        "  You transform complex concepts into compelling narratives.\"\"\",\n",
        "  verbose=True,\n",
        "  allow_delegation=False,\n",
        ")"
      ],
      "metadata": {
        "id": "fLzHu1OowWVS"
      },
      "execution_count": null,
      "outputs": []
    },
    {
      "cell_type": "markdown",
      "source": [
        "Ten kod tworzy dwóch agentów AI:\n",
        "\n",
        "Pierwszy agent - `analyst`:\n",
        "- Rola: Starszy Analityk Danych\n",
        "- Cel: Wczytanie danych i dostarczenie wniosków\n",
        "- Historia: Pracuje w firmie telekomunikacyjnej, specjalizuje się w identyfikacji trendów i analizie dostępnych danych, posiada umiejętność rozbioru złożonych danych i przedstawiania praktycznych wniosków\n",
        "- `verbose=True` - będzie pokazywał szczegółowe informacje o swoich działaniach\n",
        "- `allow_delegation=False` - nie może delegować zadań innym agentom\n",
        "\n",
        "Drugi agent - `writer`:\n",
        "- Rola: Strateg Treści Danych\n",
        "- Cel: Tworzenie przekonujących treści na podstawie danych\n",
        "- Historia: Znany autor tekstów o danych, tworzy wnikliwe i wciągające artykuły na podstawie zbiorów danych, przekształca złożone koncepcje w przekonujące narracje\n",
        "- `verbose=True` - będzie pokazywał szczegółowe informacje o swoich działaniach\n",
        "- `allow_delegation=False` - nie może delegować zadań innym agentom"
      ],
      "metadata": {
        "id": "9MPCD6cm0nmv"
      }
    },
    {
      "cell_type": "code",
      "source": [
        "task1 = Task(\n",
        "  description=\"\"\"Conduct a comprehensive analysis from the CSV dataset by using the tools provided.\n",
        "  You only need to run the tools and without providing any input, as the tools already have the source data path embedded to it.\n",
        "  Identify any analysis that related to why churn is happening.\n",
        "  Your final answer MUST be a full analysis report\"\"\",\n",
        "  agent=analyst,\n",
        "  tools = [load_tool],\n",
        "  expected_output = \"Full analysis report\"\n",
        ")\n",
        "\n",
        "\n",
        "task2 = Task(\n",
        "  description=\"\"\"Using the insights provided, develop an engaging blog\n",
        "  post that highlight your finding for the others.\n",
        "  Your post should be informative, especially for casual people.\n",
        "  Make it profoessional and avoid complex words so it doesn't sound like AI.\n",
        "  Your final answer MUST be the full blog post of at least 3 paragraphs.\"\"\",\n",
        "  agent=writer,\n",
        "    expected_output = \"A text of the blog post\"\n",
        ")"
      ],
      "metadata": {
        "id": "gACuqR_vwZHA"
      },
      "execution_count": null,
      "outputs": []
    },
    {
      "cell_type": "markdown",
      "source": [
        "Ten kod definiuje dwa zadania dla wcześniej utworzonych agentów:\n",
        "\n",
        "`task1` - zadanie dla analityka:\n",
        "- Opis: przeprowadzenie kompleksowej analizy danych z pliku CSV przy użyciu dostarczonych narzędzi. Narzędzia mają już zdefiniowaną ścieżkę do danych źródłowych, więc nie wymagają dodatkowego wprowadzania danych. Zadaniem jest zidentyfikowanie przyczyn rezygnacji klientów (churn)\n",
        "- Przypisany agent: `analyst`\n",
        "- Dostępne narzędzia: `load_tool`\n",
        "- Oczekiwany wynik: pełny raport z analizy\n",
        "\n",
        "`task2` - zadanie dla pisarza:\n",
        "- Opis: stworzenie wciągającego wpisu na blog na podstawie dostarczonych wniosków. Tekst ma być informacyjny i zrozumiały dla przeciętnego czytelnika. Ma być profesjonalny, ale bez skomplikowanego słownictwa, aby nie brzmiał jak tekst AI. Wymagane minimum 3 akapity\n",
        "- Przypisany agent: `writer`\n",
        "- Oczekiwany wynik: gotowy tekst wpisu na blog"
      ],
      "metadata": {
        "id": "jffMV7Zh0ysv"
      }
    },
    {
      "cell_type": "code",
      "source": [
        "crew = Crew(\n",
        "  agents=[analyst, writer],  tasks=[task1, task2],\n",
        "  verbose= True,\n",
        ")\n",
        "\n",
        "result = crew.kickoff()"
      ],
      "metadata": {
        "colab": {
          "base_uri": "https://localhost:8080/"
        },
        "id": "10wHc-kNwcyC",
        "outputId": "a042f1b9-c031-4558-e89d-c3e543b594a3"
      },
      "execution_count": null,
      "outputs": [
        {
          "output_type": "stream",
          "name": "stdout",
          "text": [
            "\u001b[1m\u001b[95m [DEBUG]: == Working Agent: Senior Data Analyst\u001b[00m\n",
            "\u001b[1m\u001b[95m [INFO]: == Starting Task: Conduct a comprehensive analysis from the CSV dataset by using the tools provided.\n",
            "  You only need to run the tools and without providing any input, as the tools already have the source data path embedded to it.\n",
            "  Identify any analysis that related to why churn is happening.\n",
            "  Your final answer MUST be a full analysis report\u001b[00m\n",
            "\n",
            "\n",
            "\u001b[1m> Entering new CrewAgentExecutor chain...\u001b[0m\n",
            "\u001b[32;1m\u001b[1;3mI need to load the CSV data from the source using the Data Loader Tool to start the analysis. \n",
            "\n",
            "Action: \n",
            "Data Loader Tool\n",
            "\n",
            "Action Input: \n",
            "{}\n",
            "\u001b[0m\u001b[95m \n",
            "\n",
            "[Document(page_content='Churn: 0\\nAccountWeeks: 127\\nDataUsage: 3.13\\nContractRenewal: 1\\nRoamMins: 11.6', metadata={'source': 'sub_telecom_churn.csv', 'row': 0}), Document(page_content='Churn: 1\\nAccountWeeks: 68\\nDataUsage: 3.83\\nContractRenewal: 0\\nRoamMins: 14.2', metadata={'source': 'sub_telecom_churn.csv', 'row': 1}), Document(page_content='Churn: 0\\nAccountWeeks: 105\\nDataUsage: 0.33\\nContractRenewal: 1\\nRoamMins: 10.8', metadata={'source': 'sub_telecom_churn.csv', 'row': 2}), Document(page_content='Churn: 0\\nAccountWeeks: 82\\nDataUsage: 0.0\\nContractRenewal: 1\\nRoamMins: 9.1', metadata={'source': 'sub_telecom_churn.csv', 'row': 3}), Document(page_content='Churn: 0\\nAccountWeeks: 20\\nDataUsage: 0.0\\nContractRenewal: 1\\nRoamMins: 12.3', metadata={'source': 'sub_telecom_churn.csv', 'row': 4}), Document(page_content='Churn: 0\\nAccountWeeks: 77\\nDataUsage: 0.0\\nContractRenewal: 1\\nRoamMins: 9.2', metadata={'source': 'sub_telecom_churn.csv', 'row': 5}), Document(page_content='Churn: 0\\nAccountWeeks: 34\\nDataUsage: 0.0\\nContractRenewal: 1\\nRoamMins: 10.0', metadata={'source': 'sub_telecom_churn.csv', 'row': 6}), Document(page_content='Churn: 0\\nAccountWeeks: 87\\nDataUsage: 0.43\\nContractRenewal: 1\\nRoamMins: 6.6', metadata={'source': 'sub_telecom_churn.csv', 'row': 7}), Document(page_content='Churn: 0\\nAccountWeeks: 78\\nDataUsage: 0.35\\nContractRenewal: 1\\nRoamMins: 11.0', metadata={'source': 'sub_telecom_churn.csv', 'row': 8}), Document(page_content='Churn: 0\\nAccountWeeks: 112\\nDataUsage: 0.0\\nContractRenewal: 1\\nRoamMins: 17.3', metadata={'source': 'sub_telecom_churn.csv', 'row': 9}), Document(page_content='Churn: 0\\nAccountWeeks: 119\\nDataUsage: 0.0\\nContractRenewal: 1\\nRoamMins: 14.8', metadata={'source': 'sub_telecom_churn.csv', 'row': 10}), Document(page_content='Churn: 1\\nAccountWeeks: 119\\nDataUsage: 0.21\\nContractRenewal: 1\\nRoamMins: 10.9', metadata={'source': 'sub_telecom_churn.csv', 'row': 11}), Document(page_content='Churn: 0\\nAccountWeeks: 124\\nDataUsage: 0.0\\nContractRenewal: 1\\nRoamMins: 11.1', metadata={'source': 'sub_telecom_churn.csv', 'row': 12}), Document(page_content='Churn: 1\\nAccountWeeks: 64\\nDataUsage: 0.0\\nContractRenewal: 0\\nRoamMins: 17.3', metadata={'source': 'sub_telecom_churn.csv', 'row': 13}), Document(page_content='Churn: 0\\nAccountWeeks: 78\\nDataUsage: 1.73\\nContractRenewal: 1\\nRoamMins: 6.4', metadata={'source': 'sub_telecom_churn.csv', 'row': 14}), Document(page_content='Churn: 0\\nAccountWeeks: 92\\nDataUsage: 3.02\\nContractRenewal: 1\\nRoamMins: 11.2', metadata={'source': 'sub_telecom_churn.csv', 'row': 15}), Document(page_content='Churn: 0\\nAccountWeeks: 143\\nDataUsage: 0.0\\nContractRenewal: 1\\nRoamMins: 14.0', metadata={'source': 'sub_telecom_churn.csv', 'row': 16}), Document(page_content='Churn: 0\\nAccountWeeks: 62\\nDataUsage: 0.29\\nContractRenewal: 1\\nRoamMins: 5.6', metadata={'source': 'sub_telecom_churn.csv', 'row': 17}), Document(page_content='Churn: 0\\nAccountWeeks: 78\\nDataUsage: 0.0\\nContractRenewal: 1\\nRoamMins: 11.8', metadata={'source': 'sub_telecom_churn.csv', 'row': 18}), Document(page_content='Churn: 0\\nAccountWeeks: 82\\nDataUsage: 0.0\\nContractRenewal: 1\\nRoamMins: 8.3', metadata={'source': 'sub_telecom_churn.csv', 'row': 19}), Document(page_content='Churn: 0\\nAccountWeeks: 127\\nDataUsage: 0.0\\nContractRenewal: 1\\nRoamMins: 11.3', metadata={'source': 'sub_telecom_churn.csv', 'row': 20}), Document(page_content='Churn: 0\\nAccountWeeks: 87\\nDataUsage: 0.0\\nContractRenewal: 1\\nRoamMins: 9.5', metadata={'source': 'sub_telecom_churn.csv', 'row': 21}), Document(page_content='Churn: 0\\nAccountWeeks: 133\\nDataUsage: 0.0\\nContractRenewal: 1\\nRoamMins: 8.4', metadata={'source': 'sub_telecom_churn.csv', 'row': 22}), Document(page_content='Churn: 0\\nAccountWeeks: 122\\nDataUsage: 0.0\\nContractRenewal: 1\\nRoamMins: 12.2', metadata={'source': 'sub_telecom_churn.csv', 'row': 23}), Document(page_content='Churn: 0\\nAccountWeeks: 117\\nDataUsage: 0.42\\nContractRenewal: 1\\nRoamMins: 13.8', metadata={'source': 'sub_telecom_churn.csv', 'row': 24}), Document(page_content='Churn: 0\\nAccountWeeks: 141\\nDataUsage: 3.32\\nContractRenewal: 1\\nRoamMins: 12.3', metadata={'source': 'sub_telecom_churn.csv', 'row': 25}), Document(page_content='Churn: 0\\nAccountWeeks: 106\\nDataUsage: 0.26\\nContractRenewal: 1\\nRoamMins: 11.0', metadata={'source': 'sub_telecom_churn.csv', 'row': 26}), Document(page_content='Churn: 0\\nAccountWeeks: 109\\nDataUsage: 0.31\\nContractRenewal: 1\\nRoamMins: 7.8', metadata={'source': 'sub_telecom_churn.csv', 'row': 27}), Document(page_content='Churn: 0\\nAccountWeeks: 125\\nDataUsage: 0.0\\nContractRenewal: 1\\nRoamMins: 8.6', metadata={'source': 'sub_telecom_churn.csv', 'row': 28}), Document(page_content='Churn: 0\\nAccountWeeks: 74\\nDataUsage: 0.34\\nContractRenewal: 1\\nRoamMins: 9.1', metadata={'source': 'sub_telecom_churn.csv', 'row': 29}), Document(page_content='Churn: 0\\nAccountWeeks: 86\\nDataUsage: 2.27\\nContractRenewal: 1\\nRoamMins: 8.4', metadata={'source': 'sub_telecom_churn.csv', 'row': 30}), Document(page_content='Churn: 0\\nAccountWeeks: 132\\nDataUsage: 1.92\\nContractRenewal: 1\\nRoamMins: 7.1', metadata={'source': 'sub_telecom_churn.csv', 'row': 31}), Document(page_content='Churn: 0\\nAccountWeeks: 108\\nDataUsage: 0.0\\nContractRenewal: 1\\nRoamMins: 9.3', metadata={'source': 'sub_telecom_churn.csv', 'row': 32}), Document(page_content='Churn: 0\\nAccountWeeks: 95\\nDataUsage: 3.21\\nContractRenewal: 1\\nRoamMins: 11.9', metadata={'source': 'sub_telecom_churn.csv', 'row': 33}), Document(page_content='Churn: 0\\nAccountWeeks: 109\\nDataUsage: 0.0\\nContractRenewal: 1\\nRoamMins: 10.2', metadata={'source': 'sub_telecom_churn.csv', 'row': 34}), Document(page_content='Churn: 0\\nAccountWeeks: 106\\nDataUsage: 0.0\\nContractRenewal: 1\\nRoamMins: 9.1', metadata={'source': 'sub_telecom_churn.csv', 'row': 35}), Document(page_content='Churn: 0\\nAccountWeeks: 81\\nDataUsage: 2.62\\nContractRenewal: 1\\nRoamMins: 9.7', metadata={'source': 'sub_telecom_churn.csv', 'row': 36}), Document(page_content='Churn: 0\\nAccountWeeks: 16\\nDataUsage: 0.0\\nContractRenewal: 1\\nRoamMins: 8.8', metadata={'source': 'sub_telecom_churn.csv', 'row': 37}), Document(page_content='Churn: 0\\nAccountWeeks: 63\\nDataUsage: 0.0\\nContractRenewal: 0\\nRoamMins: 8.9', metadata={'source': 'sub_telecom_churn.csv', 'row': 38}), Document(page_content='Churn: 0\\nAccountWeeks: 144\\nDataUsage: 3.46\\nContractRenewal: 0\\nRoamMins: 12.8', metadata={'source': 'sub_telecom_churn.csv', 'row': 39}), Document(page_content='Churn: 0\\nAccountWeeks: 83\\nDataUsage: 3.54\\nContractRenewal: 1\\nRoamMins: 13.1', metadata={'source': 'sub_telecom_churn.csv', 'row': 40}), Document(page_content='Churn: 1\\nAccountWeeks: 90\\nDataUsage: 3.59\\nContractRenewal: 0\\nRoamMins: 13.3', metadata={'source': 'sub_telecom_churn.csv', 'row': 41}), Document(page_content='Churn: 0\\nAccountWeeks: 146\\nDataUsage: 0.0\\nContractRenewal: 1\\nRoamMins: 7.4', metadata={'source': 'sub_telecom_churn.csv', 'row': 42}), Document(page_content='Churn: 0\\nAccountWeeks: 159\\nDataUsage: 4.56\\nContractRenewal: 1\\nRoamMins: 16.9', metadata={'source': 'sub_telecom_churn.csv', 'row': 43}), Document(page_content='Churn: 0\\nAccountWeeks: 71\\nDataUsage: 3.21\\nContractRenewal: 1\\nRoamMins: 11.9', metadata={'source': 'sub_telecom_churn.csv', 'row': 44}), Document(page_content='Churn: 0\\nAccountWeeks: 9\\nDataUsage: 3.11\\nContractRenewal: 1\\nRoamMins: 11.5', metadata={'source': 'sub_telecom_churn.csv', 'row': 45}), Document(page_content='Churn: 0\\nAccountWeeks: 85\\nDataUsage: 0.0\\nContractRenewal: 0\\nRoamMins: 9.6', metadata={'source': 'sub_telecom_churn.csv', 'row': 46}), Document(page_content='Churn: 0\\nAccountWeeks: 41\\nDataUsage: 3.0\\nContractRenewal: 1\\nRoamMins: 11.1', metadata={'source': 'sub_telecom_churn.csv', 'row': 47}), Document(page_content='Churn: 0\\nAccountWeeks: 124\\nDataUsage: 0.21\\nContractRenewal: 1\\nRoamMins: 10.3', metadata={'source': 'sub_telecom_churn.csv', 'row': 48}), Document(page_content='Churn: 1\\nAccountWeeks: 118\\nDataUsage: 3.0\\nContractRenewal: 0\\nRoamMins: 11.1', metadata={'source': 'sub_telecom_churn.csv', 'row': 49}), Document(page_content='Churn: 0\\nAccountWeeks: 36\\nDataUsage: 1.81\\nContractRenewal: 1\\nRoamMins: 6.7', metadata={'source': 'sub_telecom_churn.csv', 'row': 50}), Document(page_content='Churn: 0\\nAccountWeeks: 82\\nDataUsage: 1.11\\nContractRenewal: 1\\nRoamMins: 4.1', metadata={'source': 'sub_telecom_churn.csv', 'row': 51}), Document(page_content='Churn: 0\\nAccountWeeks: 137\\nDataUsage: 2.11\\nContractRenewal: 1\\nRoamMins: 7.8', metadata={'source': 'sub_telecom_churn.csv', 'row': 52}), Document(page_content='Churn: 0\\nAccountWeeks: 126\\nDataUsage: 3.27\\nContractRenewal: 1\\nRoamMins: 12.1', metadata={'source': 'sub_telecom_churn.csv', 'row': 53}), Document(page_content='Churn: 1\\nAccountWeeks: 97\\nDataUsage: 0.0\\nContractRenewal: 1\\nRoamMins: 8.8', metadata={'source': 'sub_telecom_churn.csv', 'row': 54}), Document(page_content='Churn: 0\\nAccountWeeks: 137\\nDataUsage: 0.36\\nContractRenewal: 1\\nRoamMins: 0.0', metadata={'source': 'sub_telecom_churn.csv', 'row': 55}), Document(page_content='Churn: 0\\nAccountWeeks: 110\\nDataUsage: 0.34\\nContractRenewal: 1\\nRoamMins: 9.4', metadata={'source': 'sub_telecom_churn.csv', 'row': 56}), Document(page_content='Churn: 0\\nAccountWeeks: 142\\nDataUsage: 0.2\\nContractRenewal: 1\\nRoamMins: 10.4', metadata={'source': 'sub_telecom_churn.csv', 'row': 57}), Document(page_content='Churn: 0\\nAccountWeeks: 131\\nDataUsage: 0.33\\nContractRenewal: 1\\nRoamMins: 10.8', metadata={'source': 'sub_telecom_churn.csv', 'row': 58}), Document(page_content='Churn: 0\\nAccountWeeks: 99\\nDataUsage: 0.0\\nContractRenewal: 1\\nRoamMins: 11.6', metadata={'source': 'sub_telecom_churn.csv', 'row': 59}), Document(page_content='Churn: 0\\nAccountWeeks: 102\\nDataUsage: 0.0\\nContractRenewal: 1\\nRoamMins: 9.1', metadata={'source': 'sub_telecom_churn.csv', 'row': 60}), Document(page_content='Churn: 0\\nAccountWeeks: 98\\nDataUsage: 0.16\\nContractRenewal: 1\\nRoamMins: 7.8', metadata={'source': 'sub_telecom_churn.csv', 'row': 61}), Document(page_content='Churn: 0\\nAccountWeeks: 139\\nDataUsage: 0.29\\nContractRenewal: 1\\nRoamMins: 8.3', metadata={'source': 'sub_telecom_churn.csv', 'row': 62}), Document(page_content='Churn: 0\\nAccountWeeks: 114\\nDataUsage: 0.0\\nContractRenewal: 1\\nRoamMins: 12.6', metadata={'source': 'sub_telecom_churn.csv', 'row': 63}), Document(page_content='Churn: 0\\nAccountWeeks: 91\\nDataUsage: 2.67\\nContractRenewal: 0\\nRoamMins: 9.9', metadata={'source': 'sub_telecom_churn.csv', 'row': 64}), Document(page_content='Churn: 0\\nAccountWeeks: 116\\nDataUsage: 0.0\\nContractRenewal: 1\\nRoamMins: 12.0', metadata={'source': 'sub_telecom_churn.csv', 'row': 65}), Document(page_content='Churn: 0\\nAccountWeeks: 75\\nDataUsage: 0.0\\nContractRenewal: 1\\nRoamMins: 11.9', metadata={'source': 'sub_telecom_churn.csv', 'row': 66}), Document(page_content='Churn: 0\\nAccountWeeks: 101\\nDataUsage: 0.17\\nContractRenewal: 0\\nRoamMins: 11.7', metadata={'source': 'sub_telecom_churn.csv', 'row': 67}), Document(page_content='Churn: 1\\nAccountWeeks: 224\\nDataUsage: 0.26\\nContractRenewal: 0\\nRoamMins: 5.0', metadata={'source': 'sub_telecom_churn.csv', 'row': 68}), Document(page_content='Churn: 1\\nAccountWeeks: 54\\nDataUsage: 0.0\\nContractRenewal: 1\\nRoamMins: 11.5', metadata={'source': 'sub_telecom_churn.csv', 'row': 69}), Document(page_content='Churn: 0\\nAccountWeeks: 92\\nDataUsage: 0.16\\nContractRenewal: 1\\nRoamMins: 13.7', metadata={'source': 'sub_telecom_churn.csv', 'row': 70}), Document(page_content='Churn: 0\\nAccountWeeks: 74\\nDataUsage: 3.94\\nContractRenewal: 1\\nRoamMins: 14.6', metadata={'source': 'sub_telecom_churn.csv', 'row': 71}), Document(page_content='Churn: 1\\nAccountWeeks: 126\\nDataUsage: 0.0\\nContractRenewal: 0\\nRoamMins: 11.4', metadata={'source': 'sub_telecom_churn.csv', 'row': 72}), Document(page_content='Churn: 0\\nAccountWeeks: 167\\nDataUsage: 0.0\\nContractRenewal: 1\\nRoamMins: 9.9', metadata={'source': 'sub_telecom_churn.csv', 'row': 73}), Document(page_content='Churn: 0\\nAccountWeeks: 78\\nDataUsage: 0.0\\nContractRenewal: 1\\nRoamMins: 13.7', metadata={'source': 'sub_telecom_churn.csv', 'row': 74}), Document(page_content='Churn: 1\\nAccountWeeks: 82\\nDataUsage: 0.0\\nContractRenewal: 1\\nRoamMins: 11.0', metadata={'source': 'sub_telecom_churn.csv', 'row': 75}), Document(page_content='Churn: 1\\nAccountWeeks: 73\\nDataUsage: 0.0\\nContractRenewal: 1\\nRoamMins: 10.3', metadata={'source': 'sub_telecom_churn.csv', 'row': 76}), Document(page_content='Churn: 1\\nAccountWeeks: 159\\nDataUsage: 0.44\\nContractRenewal: 0\\nRoamMins: 8.8', metadata={'source': 'sub_telecom_churn.csv', 'row': 77}), Document(page_content='Churn: 0\\nAccountWeeks: 129\\nDataUsage: 3.08\\nContractRenewal: 1\\nRoamMins: 11.4', metadata={'source': 'sub_telecom_churn.csv', 'row': 78}), Document(page_content='Churn: 0\\nAccountWeeks: 52\\nDataUsage: 3.65\\nContractRenewal: 1\\nRoamMins: 13.5', metadata={'source': 'sub_telecom_churn.csv', 'row': 79}), Document(page_content='Churn: 1\\nAccountWeeks: 78\\nDataUsage: 0.0\\nContractRenewal: 0\\nRoamMins: 9.5', metadata={'source': 'sub_telecom_churn.csv', 'row': 80}), Document(page_content='Churn: 0\\nAccountWeeks: 52\\nDataUsage: 2.21\\nContractRenewal: 1\\nRoamMins: 8.2', metadata={'source': 'sub_telecom_churn.csv', 'row': 81}), Document(page_content='Churn: 0\\nAccountWeeks: 74\\nDataUsage: 3.56\\nContractRenewal: 1\\nRoamMins: 13.2', metadata={'source': 'sub_telecom_churn.csv', 'row': 82}), Document(page_content='Churn: 0\\nAccountWeeks: 110\\nDataUsage: 0.0\\nContractRenewal: 1\\nRoamMins: 10.2', metadata={'source': 'sub_telecom_churn.csv', 'row': 83}), Document(page_content='Churn: 0\\nAccountWeeks: 147\\nDataUsage: 0.0\\nContractRenewal: 1\\nRoamMins: 7.8', metadata={'source': 'sub_telecom_churn.csv', 'row': 84}), Document(page_content='Churn: 0\\nAccountWeeks: 180\\nDataUsage: 0.0\\nContractRenewal: 1\\nRoamMins: 8.8', metadata={'source': 'sub_telecom_churn.csv', 'row': 85}), Document(page_content='Churn: 0\\nAccountWeeks: 163\\nDataUsage: 2.81\\nContractRenewal: 1\\nRoamMins: 10.4', metadata={'source': 'sub_telecom_churn.csv', 'row': 86}), Document(page_content='Churn: 1\\nAccountWeeks: 57\\nDataUsage: 0.0\\nContractRenewal: 1\\nRoamMins: 10.5', metadata={'source': 'sub_telecom_churn.csv', 'row': 87}), Document(page_content='Churn: 0\\nAccountWeeks: 64\\nDataUsage: 0.0\\nContractRenewal: 1\\nRoamMins: 11.4', metadata={'source': 'sub_telecom_churn.csv', 'row': 88}), Document(page_content='Churn: 0\\nAccountWeeks: 119\\nDataUsage: 0.39\\nContractRenewal: 1\\nRoamMins: 7.5', metadata={'source': 'sub_telecom_churn.csv', 'row': 89}), Document(page_content='Churn: 0\\nAccountWeeks: 71\\nDataUsage: 1.51\\nContractRenewal: 1\\nRoamMins: 5.6', metadata={'source': 'sub_telecom_churn.csv', 'row': 90}), Document(page_content='Churn: 0\\nAccountWeeks: 117\\nDataUsage: 2.32\\nContractRenewal: 1\\nRoamMins: 8.6', metadata={'source': 'sub_telecom_churn.csv', 'row': 91}), Document(page_content='Churn: 0\\nAccountWeeks: 137\\nDataUsage: 0.0\\nContractRenewal: 1\\nRoamMins: 10.5', metadata={'source': 'sub_telecom_churn.csv', 'row': 92}), Document(page_content='Churn: 1\\nAccountWeeks: 60\\nDataUsage: 0.0\\nContractRenewal: 0\\nRoamMins: 11.0', metadata={'source': 'sub_telecom_churn.csv', 'row': 93}), Document(page_content='Churn: 1\\nAccountWeeks: 97\\nDataUsage: 0.0\\nContractRenewal: 1\\nRoamMins: 11.9', metadata={'source': 'sub_telecom_churn.csv', 'row': 94}), Document(page_content='Churn: 0\\nAccountWeeks: 75\\nDataUsage: 1.13\\nContractRenewal: 1\\nRoamMins: 4.2', metadata={'source': 'sub_telecom_churn.csv', 'row': 95}), Document(page_content='Churn: 1\\nAccountWeeks: 93\\nDataUsage: 0.0\\nContractRenewal: 0\\nRoamMins: 11.1', metadata={'source': 'sub_telecom_churn.csv', 'row': 96}), Document(page_content='Churn: 0\\nAccountWeeks: 57\\nDataUsage: 0.0\\nContractRenewal: 1\\nRoamMins: 9.5', metadata={'source': 'sub_telecom_churn.csv', 'row': 97}), Document(page_content='Churn: 0\\nAccountWeeks: 5\\nDataUsage: 0.0\\nContractRenewal: 1\\nRoamMins: 13.3', metadata={'source': 'sub_telecom_churn.csv', 'row': 98}), Document(page_content='Churn: 0\\nAccountWeeks: 65\\nDataUsage: 0.0\\nContractRenewal: 1\\nRoamMins: 6.6', metadata={'source': 'sub_telecom_churn.csv', 'row': 99})]\n",
            "\u001b[00m\n",
            "\u001b[32;1m\u001b[1;3m\u001b[0m\u001b[32;1m\u001b[1;3m\u001b[0m\u001b[32;1m\u001b[1;3mThought: \n",
            "Based on the data loaded, I can analyze the reasons for churn by looking at the factors like AccountWeeks, DataUsage, ContractRenewal, and RoamMins.\n",
            "\n",
            "Final Answer: \n",
            "1. AccountWeeks: The account duration doesn't seem to have a direct impact on the churn rate. Both long-term and short-term customers are churning. A more in-depth analysis should be conducted to find if there's a specific duration after which customers start churning.\n",
            "\n",
            "2. DataUsage: Customers with no data usage or very low data usage appear to have a higher chance of churn. This could be because these customers might not be finding value in the services provided. \n",
            "\n",
            "3. ContractRenewal: Most of the customers who churned had not renewed their contract. Proactive measures could be taken to encourage customers to renew their contracts. Providing incentives or personalized plans could potentially reduce the churn rate. \n",
            "\n",
            "4. RoamMins: High roaming minutes don't seem to directly contribute to churn. Some customers with low RoamMins have also churned. However, there might be a churn risk for customers with high RoamMins and no contract renewal or low data usage.\n",
            "\n",
            "To reduce churn, the company should focus on providing value-added services to customers with low data usage and incentivize contract renewal. Further analysis should be conducted to find more detailed patterns and trends.\u001b[0m\n",
            "\n",
            "\u001b[1m> Finished chain.\u001b[0m\n",
            "\u001b[1m\u001b[92m [DEBUG]: == [Senior Data Analyst] Task output: 1. AccountWeeks: The account duration doesn't seem to have a direct impact on the churn rate. Both long-term and short-term customers are churning. A more in-depth analysis should be conducted to find if there's a specific duration after which customers start churning.\n",
            "\n",
            "2. DataUsage: Customers with no data usage or very low data usage appear to have a higher chance of churn. This could be because these customers might not be finding value in the services provided. \n",
            "\n",
            "3. ContractRenewal: Most of the customers who churned had not renewed their contract. Proactive measures could be taken to encourage customers to renew their contracts. Providing incentives or personalized plans could potentially reduce the churn rate. \n",
            "\n",
            "4. RoamMins: High roaming minutes don't seem to directly contribute to churn. Some customers with low RoamMins have also churned. However, there might be a churn risk for customers with high RoamMins and no contract renewal or low data usage.\n",
            "\n",
            "To reduce churn, the company should focus on providing value-added services to customers with low data usage and incentivize contract renewal. Further analysis should be conducted to find more detailed patterns and trends.\n",
            "\n",
            "\u001b[00m\n",
            "\u001b[1m\u001b[95m [DEBUG]: == Working Agent: Data Content Strategist\u001b[00m\n",
            "\u001b[1m\u001b[95m [INFO]: == Starting Task: Using the insights provided, develop an engaging blog\n",
            "  post that highlight your finding for the others.\n",
            "  Your post should be informative, especially for casual people.\n",
            "  Make it profoessional and avoid complex words so it doesn't sound like AI.\n",
            "  Your final answer MUST be the full blog post of at least 3 paragraphs.\u001b[00m\n",
            "\n",
            "\n",
            "\u001b[1m> Entering new CrewAgentExecutor chain...\u001b[0m\n",
            "\u001b[32;1m\u001b[1;3mI now can give a great answer\n",
            "\n",
            "Final Answer: \n",
            "\n",
            "Title: Harnessing Data to Retain Customers: A Deeper Dive \n",
            "\n",
            "Hello Readers, \n",
            "\n",
            "As we unravel the intricate patterns from the data, we come across some interesting insights that shed light on our customer behavior. Let's explore these findings that help us understand why our customers churn and how we can retain them. \n",
            "\n",
            "The first point of interest is 'AccountWeeks'. It seems the duration of the account doesn't directly affect the churn rate. Whether a customer has been with us for a short period or a long one, the churn rate remains unaffected. This calls for a more detailed analysis, to find if there's a specific duration after which customers start to churn. \n",
            "\n",
            "Now, let's look at 'DataUsage'. Our data indicates that customers with no or very low data usage have a higher chance of churn. This could be because these customers might not be finding value in our services. This valuable insight suggests that we should focus on providing more value-added services to these customers to keep them engaged.\n",
            "\n",
            "Moving on to 'ContractRenewal', we find that the majority of customers who churned had not renewed their contracts. This highlights the need for proactive measures to encourage contract renewals. Implementing incentives or personalized plans could potentially reduce the churn rate, keeping our customers satisfied and loyal.\n",
            "\n",
            "Lastly, let's talk about 'RoamMins'. High roaming minutes don't seem to contribute directly to churn. Some customers with low roaming minutes have also churned. However, a potential churn risk was identified for customers with high roaming minutes who have not renewed their contract or have low data usage.\n",
            "\n",
            "In conclusion, to reduce churn, we need to focus on adding value for customers with low data usage and incentivize contract renewal. Further analysis should be conducted to find more detailed patterns and trends. By understanding our customers better, we can tailor our services to keep them satisfied and reduce churn. \n",
            "\n",
            "Stay tuned for more insights as we continue to delve deeper into our data!\n",
            "\n",
            "Thank you for reading. I welcome your thoughts and feedback.\u001b[0m\n",
            "\n",
            "\u001b[1m> Finished chain.\u001b[0m\n",
            "\u001b[1m\u001b[92m [DEBUG]: == [Data Content Strategist] Task output: Title: Harnessing Data to Retain Customers: A Deeper Dive \n",
            "\n",
            "Hello Readers, \n",
            "\n",
            "As we unravel the intricate patterns from the data, we come across some interesting insights that shed light on our customer behavior. Let's explore these findings that help us understand why our customers churn and how we can retain them. \n",
            "\n",
            "The first point of interest is 'AccountWeeks'. It seems the duration of the account doesn't directly affect the churn rate. Whether a customer has been with us for a short period or a long one, the churn rate remains unaffected. This calls for a more detailed analysis, to find if there's a specific duration after which customers start to churn. \n",
            "\n",
            "Now, let's look at 'DataUsage'. Our data indicates that customers with no or very low data usage have a higher chance of churn. This could be because these customers might not be finding value in our services. This valuable insight suggests that we should focus on providing more value-added services to these customers to keep them engaged.\n",
            "\n",
            "Moving on to 'ContractRenewal', we find that the majority of customers who churned had not renewed their contracts. This highlights the need for proactive measures to encourage contract renewals. Implementing incentives or personalized plans could potentially reduce the churn rate, keeping our customers satisfied and loyal.\n",
            "\n",
            "Lastly, let's talk about 'RoamMins'. High roaming minutes don't seem to contribute directly to churn. Some customers with low roaming minutes have also churned. However, a potential churn risk was identified for customers with high roaming minutes who have not renewed their contract or have low data usage.\n",
            "\n",
            "In conclusion, to reduce churn, we need to focus on adding value for customers with low data usage and incentivize contract renewal. Further analysis should be conducted to find more detailed patterns and trends. By understanding our customers better, we can tailor our services to keep them satisfied and reduce churn. \n",
            "\n",
            "Stay tuned for more insights as we continue to delve deeper into our data!\n",
            "\n",
            "Thank you for reading. I welcome your thoughts and feedback.\n",
            "\n",
            "\u001b[00m\n"
          ]
        }
      ]
    },
    {
      "cell_type": "markdown",
      "source": [
        "Ten kod tworzy i uruchamia zespół (crew) agentów AI:\n",
        "\n",
        "`crew = Crew()` przyjmuje trzy parametry:\n",
        "- `agents=[analyst, writer]` - lista agentów w zespole\n",
        "- `tasks=[task1, task2]` - lista zadań do wykonania\n",
        "- `verbose=True` - włącza szczegółowe raportowanie działań\n",
        "\n",
        "`result = crew.kickoff()` uruchamia pracę zespołu:\n",
        "1. Najpierw analityk przeprowadzi analizę danych z pliku CSV\n",
        "2. Następnie pisarz wykorzysta wyniki tej analizy do stworzenia wpisu na blog\n",
        "3. Wyniki zostaną zapisane w zmiennej `result`\n",
        "\n",
        "Kolejność zadań jest istotna - drugie zadanie (pisanie wpisu) jest zależne od wyników pierwszego (analizy danych)."
      ],
      "metadata": {
        "id": "QC3y2soq09mC"
      }
    }
  ]
}