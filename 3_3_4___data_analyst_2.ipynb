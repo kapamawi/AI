{
  "nbformat": 4,
  "nbformat_minor": 0,
  "metadata": {
    "colab": {
      "provenance": [],
      "include_colab_link": true
    },
    "kernelspec": {
      "name": "python3",
      "display_name": "Python 3"
    },
    "language_info": {
      "name": "python"
    }
  },
  "cells": [
    {
      "cell_type": "markdown",
      "metadata": {
        "id": "view-in-github",
        "colab_type": "text"
      },
      "source": [
        "<a href=\"https://colab.research.google.com/github/kapamawi/AI/blob/main/3_3_4___data_analyst_2.ipynb\" target=\"_parent\"><img src=\"https://colab.research.google.com/assets/colab-badge.svg\" alt=\"Open In Colab\"/></a>"
      ]
    },
    {
      "cell_type": "markdown",
      "source": [
        "# Setup"
      ],
      "metadata": {
        "id": "C4oS6jeevHdT"
      }
    },
    {
      "cell_type": "code",
      "execution_count": null,
      "metadata": {
        "id": "C2NMGBJLbXWd"
      },
      "outputs": [],
      "source": [
        "!pip install -q langchain langchain-openai langchain_experimental"
      ]
    },
    {
      "cell_type": "markdown",
      "source": [
        "Komenda `!pip install` służy do zainstalowania niezbędnych bibliotek Pythona:\n",
        "\n",
        "- `langchain` to framework do budowania aplikacji opartych na modelach językowych. Pozwala na tworzenie łańcuchów przetwarzania tekstu i łączenie różnych komponentów\n",
        "- `langchain-openai` to integracja LangChain z API OpenAI\n",
        "- `langchain_experimental` zawiera eksperymentalne funkcje LangChain, które nie są jeszcze gotowe do włączenia do głównej biblioteki\n",
        "\n",
        "Flaga `-q` (quiet) sprawia, że pip wyświetla tylko najważniejsze komunikaty podczas instalacji, pomijając szczegółowe logi.\n",
        "\n",
        "Instalowanie odbywa się bezpośrednio w notebooku Jupyter dzięki wykrzyknikowi (`!`) na początku linii - jest to sposób na wykonywanie poleceń systemowych z poziomu komórki Jupytera."
      ],
      "metadata": {
        "id": "bBz1eSFQWfR3"
      }
    },
    {
      "cell_type": "code",
      "source": [
        "import os\n",
        "from langchain_experimental.agents.agent_toolkits import create_pandas_dataframe_agent\n",
        "from langchain.agents import AgentType\n",
        "from langchain_openai import ChatOpenAI\n",
        "import pandas as pd\n",
        "import numpy as np\n",
        "from datetime import datetime, timedelta\n",
        "import os\n",
        "from google.colab import userdata\n"
      ],
      "metadata": {
        "id": "LDPZhXETbijc"
      },
      "execution_count": null,
      "outputs": []
    },
    {
      "cell_type": "markdown",
      "source": [
        "Ten kod importuje niezbędne biblioteki i moduły:\n",
        "\n",
        "`os` - daje dostęp do funkcji systemu operacyjnego, np. do operacji na plikach i katalogach\n",
        "\n",
        "`create_pandas_dataframe_agent` z `langchain_experimental.agents.agent_toolkits` - tworzy agenta, który potrafi pracować z ramkami danych Pandas\n",
        "\n",
        "`AgentType` z `langchain.agents` - definiuje różne typy agentów dostępne w LangChain\n",
        "\n",
        "`ChatOpenAI` z `langchain_openai` - interfejs do modelu GPT od OpenAI w trybie czatu\n",
        "\n",
        "`pandas` jako `pd` - biblioteka do analizy danych, importowana pod standardowym aliasem pd\n",
        "\n",
        "`numpy` jako `np` - biblioteka do obliczeń numerycznych, zaimportowana pod typowym aliasem np\n",
        "\n",
        "`datetime` i `timedelta` z modułu `datetime` - służą do operacji na datach i czasie\n",
        "\n",
        "`userdata` z `google.colab` - moduł do zarządzania danymi użytkownika w środowisku Google Colab"
      ],
      "metadata": {
        "id": "dWxKtr6JX_LU"
      }
    },
    {
      "cell_type": "code",
      "source": [
        "class CFG:\n",
        "    model = 'gpt-4o-mini'\n",
        "    temp = 0.3"
      ],
      "metadata": {
        "id": "_Z74iA3ZoWDw"
      },
      "execution_count": null,
      "outputs": []
    },
    {
      "cell_type": "code",
      "source": [
        "api_key = userdata.get('openaivision')\n",
        "os.environ['OPENAI_API_KEY'] = api_key"
      ],
      "metadata": {
        "id": "b4_if6rEu_Cu"
      },
      "execution_count": null,
      "outputs": []
    },
    {
      "cell_type": "markdown",
      "source": [
        "Te dwie linie służą do konfiguracji klucza API dla OpenAI:\n",
        "\n",
        "`api_key = userdata.get('openaivision')` - pobiera klucz API zapisany w zmiennej 'openaivision' w danych użytkownika Google Colab. To bezpieczniejszy sposób przechowywania kluczy API niż zapisywanie ich bezpośrednio w kodzie.\n",
        "\n",
        "`os.environ['OPENAI_API_KEY'] = api_key` - zapisuje pobrany klucz API jako zmienną środowiskową o nazwie 'OPENAI_API_KEY'. Biblioteka OpenAI automatycznie szuka klucza API właśnie w tej zmiennej środowiskowej, dzięki czemu będzie mogła nawiązać połączenie z API OpenAI."
      ],
      "metadata": {
        "id": "CIoObyTLYAxS"
      }
    },
    {
      "cell_type": "markdown",
      "source": [
        "# Functions"
      ],
      "metadata": {
        "id": "6B28akNxPVeX"
      }
    },
    {
      "cell_type": "code",
      "source": [
        "def create_data(nrows = 300):\n",
        "\n",
        "  # Generate sample data\n",
        "  n_rows = 1000\n",
        "\n",
        "  # Generate dates\n",
        "  start_date = datetime(2024, 1, 1)\n",
        "  dates = [start_date + timedelta(days=i) for i in range(nrows)]\n",
        "\n",
        "  # Define data categories\n",
        "  makes = ['Toyota', 'Honda', 'Ford', 'Chevrolet', 'Nissan', 'BMW', 'Mercedes', 'Audi', 'Hyundai', 'Kia']\n",
        "  models = ['Sedan', 'SUV', 'Truck', 'Hatchback', 'Coupe', 'Van']\n",
        "  colors = ['Red', 'Blue', 'Black', 'White', 'Silver', 'Gray', 'Green']\n",
        "\n",
        "  # Create the dataset\n",
        "  data = {\n",
        "      'Date': dates,\n",
        "      'Make': np.random.choice(makes, nrows),\n",
        "      'Model': np.random.choice(models, nrows),\n",
        "      'Color': np.random.choice(colors, nrows),\n",
        "      'Year': np.random.randint(2015, 2023, nrows),\n",
        "      'Price': np.random.uniform(20000, 80000, nrows).round(2),\n",
        "      'Mileage': np.random.uniform(0, 100000, nrows).round(0),\n",
        "      'EngineSize': np.random.choice([1.6, 2.0, 2.5, 3.0, 3.5, 4.0], nrows),\n",
        "      'FuelEfficiency': np.random.uniform(20, 40, nrows).round(1),\n",
        "      'SalesPerson': np.random.choice(['Alice', 'Bob', 'Charlie', 'David', 'Eva'], nrows)\n",
        "  }\n",
        "\n",
        "  # Create DataFrame and sort by date\n",
        "  df = pd.DataFrame(data).sort_values('Date')\n",
        "\n",
        "  return df\n",
        "\n"
      ],
      "metadata": {
        "id": "BJqevqTYPWbh"
      },
      "execution_count": null,
      "outputs": []
    },
    {
      "cell_type": "markdown",
      "source": [
        "Ta funkcja `create_data` generuje przykładowe dane sprzedaży samochodów:\n",
        "\n",
        "`def create_data(nrows = 300):` - funkcja przyjmuje parametr określający liczbę wierszy (domyślnie 300)\n",
        "\n",
        "Generowane są daty, zaczynając od 1 stycznia 2024:\n",
        "- `start_date = datetime(2024, 1, 1)`\n",
        "- `dates = [start_date + timedelta(days=i) for i in range(nrows)]`\n",
        "\n",
        "Zdefiniowane są listy możliwych wartości:\n",
        "- `makes` - marki samochodów (Toyota, Honda, Ford itd.)\n",
        "- `models` - typy nadwozia (Sedan, SUV, Truck itd.)\n",
        "- `colors` - kolory pojazdów\n",
        "- Lista sprzedawców: Alice, Bob, Charlie, David, Eva\n",
        "\n",
        "Tworzony jest słownik `data` zawierający:\n",
        "- Daty transakcji\n",
        "- Losowo wybrane marki, modele i kolory\n",
        "- Rok produkcji (losowy między 2015-2023)\n",
        "- Cena (losowa między 20000-80000)\n",
        "- Przebieg (losowy między 0-100000)\n",
        "- Pojemność silnika (losowa z listy: 1.6, 2.0, 2.5, 3.0, 3.5, 4.0)\n",
        "- Spalanie (losowe między 20-40)\n",
        "- Przypisany losowo sprzedawca\n",
        "\n",
        "Na końcu dane są przekształcane w DataFrame i sortowane po dacie."
      ],
      "metadata": {
        "id": "_MiTVWxeYpgZ"
      }
    },
    {
      "cell_type": "markdown",
      "source": [
        "# Data"
      ],
      "metadata": {
        "id": "T0g-RUymvJtr"
      }
    },
    {
      "cell_type": "code",
      "source": [
        "df = create_data(100)"
      ],
      "metadata": {
        "id": "BnkrsKA9vLHP"
      },
      "execution_count": null,
      "outputs": []
    },
    {
      "cell_type": "code",
      "source": [
        "print(df.head())"
      ],
      "metadata": {
        "colab": {
          "base_uri": "https://localhost:8080/"
        },
        "id": "kfCU9u2wQsND",
        "outputId": "97aad6f9-8c8e-4c88-edad-0826f50e3e01"
      },
      "execution_count": null,
      "outputs": [
        {
          "output_type": "stream",
          "name": "stdout",
          "text": [
            "        Date       Make      Model  Color  Year     Price  Mileage  \\\n",
            "0 2024-01-01        BMW      Coupe  White  2016  25267.22  87179.0   \n",
            "1 2024-01-02   Mercedes      Sedan  White  2021  36122.85  44684.0   \n",
            "2 2024-01-03    Hyundai        Van  White  2017  64826.22  91098.0   \n",
            "3 2024-01-04  Chevrolet  Hatchback  Green  2021  67401.42  96582.0   \n",
            "4 2024-01-05    Hyundai  Hatchback  White  2020  51813.96  40755.0   \n",
            "\n",
            "   EngineSize  FuelEfficiency SalesPerson  \n",
            "0         4.0            35.9     Charlie  \n",
            "1         2.5            31.3     Charlie  \n",
            "2         3.0            39.7         Bob  \n",
            "3         4.0            37.9     Charlie  \n",
            "4         2.0            30.1       Alice  \n"
          ]
        }
      ]
    },
    {
      "cell_type": "code",
      "source": [
        "df.info()"
      ],
      "metadata": {
        "colab": {
          "base_uri": "https://localhost:8080/"
        },
        "id": "ETINkJqAS6Zo",
        "outputId": "a0b4a318-4cab-4af0-ead5-3c428db443d8"
      },
      "execution_count": null,
      "outputs": [
        {
          "output_type": "stream",
          "name": "stdout",
          "text": [
            "<class 'pandas.core.frame.DataFrame'>\n",
            "RangeIndex: 100 entries, 0 to 99\n",
            "Data columns (total 10 columns):\n",
            " #   Column          Non-Null Count  Dtype         \n",
            "---  ------          --------------  -----         \n",
            " 0   Date            100 non-null    datetime64[ns]\n",
            " 1   Make            100 non-null    object        \n",
            " 2   Model           100 non-null    object        \n",
            " 3   Color           100 non-null    object        \n",
            " 4   Year            100 non-null    int64         \n",
            " 5   Price           100 non-null    float64       \n",
            " 6   Mileage         100 non-null    float64       \n",
            " 7   EngineSize      100 non-null    float64       \n",
            " 8   FuelEfficiency  100 non-null    float64       \n",
            " 9   SalesPerson     100 non-null    object        \n",
            "dtypes: datetime64[ns](1), float64(4), int64(1), object(4)\n",
            "memory usage: 7.9+ KB\n"
          ]
        }
      ]
    },
    {
      "cell_type": "code",
      "source": [
        "print(df.describe())"
      ],
      "metadata": {
        "colab": {
          "base_uri": "https://localhost:8080/"
        },
        "id": "HFox0ppoS5im",
        "outputId": "c5c5ac28-cd38-4b41-f4a8-dac580099454"
      },
      "execution_count": null,
      "outputs": [
        {
          "output_type": "stream",
          "name": "stdout",
          "text": [
            "                      Date         Year         Price       Mileage  \\\n",
            "count                  100   100.000000    100.000000    100.000000   \n",
            "mean   2024-02-19 12:00:00  2018.410000  50365.468800  46873.880000   \n",
            "min    2024-01-01 00:00:00  2015.000000  21615.910000    637.000000   \n",
            "25%    2024-01-25 18:00:00  2016.000000  35755.697500  21925.500000   \n",
            "50%    2024-02-19 12:00:00  2018.000000  49632.600000  43122.500000   \n",
            "75%    2024-03-15 06:00:00  2020.250000  66469.580000  73665.750000   \n",
            "max    2024-04-09 00:00:00  2022.000000  79878.450000  99866.000000   \n",
            "std                    NaN     2.331579  17395.234794  29345.917436   \n",
            "\n",
            "       EngineSize  FuelEfficiency  \n",
            "count  100.000000      100.000000  \n",
            "mean     2.718000       31.388000  \n",
            "min      1.600000       21.000000  \n",
            "25%      2.000000       27.075000  \n",
            "50%      2.500000       31.450000  \n",
            "75%      3.500000       35.600000  \n",
            "max      4.000000       39.900000  \n",
            "std      0.869387        5.175628  \n"
          ]
        }
      ]
    },
    {
      "cell_type": "markdown",
      "source": [
        "# Agent"
      ],
      "metadata": {
        "id": "bxBAPo8wTPb5"
      }
    },
    {
      "cell_type": "code",
      "source": [
        "muh_agent = create_pandas_dataframe_agent(\n",
        "    ChatOpenAI(model =  CFG.model, temperature = CFG.temp),\n",
        "    df, verbose=True,\n",
        "    allow_dangerous_code = True,\n",
        "    agent_type=AgentType.OPENAI_FUNCTIONS,\n",
        ")"
      ],
      "metadata": {
        "id": "P2i7Ev5lTQKx"
      },
      "execution_count": null,
      "outputs": []
    },
    {
      "cell_type": "markdown",
      "source": [
        "Ta linia tworzy agenta do analizy danych wykorzystując LangChain i model językowy:\n",
        "\n",
        "`create_pandas_dataframe_agent` tworzy specjalnego agenta, który potrafi pracować z DataFrame'ami Pandas.\n",
        "\n",
        "Parametry:\n",
        "- `ChatOpenAI(model = CFG.model, temperature = CFG.temp)` - konfiguracja modelu językowego:\n",
        "  - używa modelu określonego w zmiennej CFG.model\n",
        "  - temperature (losowość odpowiedzi) jest ustawiona zgodnie z CFG.temp\n",
        "\n",
        "- `df` - DataFrame z danymi, który agent będzie analizował\n",
        "\n",
        "- `verbose=True` - włącza szczegółowe logowanie działań agenta\n",
        "\n",
        "- `allow_dangerous_code = True` - pozwala agentowi na wykonywanie potencjalnie niebezpiecznych operacji\n",
        "\n",
        "- `agent_type=AgentType.OPENAI_FUNCTIONS` - używa agenta typu OPENAI_FUNCTIONS, który wykorzystuje funkcje API OpenAI do analizy danych\n",
        "\n",
        "Stworzony agent `muh_agent` będzie mógł odpowiadać na pytania dotyczące danych i wykonywać na nich operacje."
      ],
      "metadata": {
        "id": "jz-YQEZnaQmu"
      }
    },
    {
      "cell_type": "code",
      "source": [
        "def ask_agent(agent, question):\n",
        "  response = agent.run({\n",
        "        \"input\": question,\n",
        "        \"agent_scratchpad\": f\"Human: {question}\\nAI: To answer this question, I need to use Python to analyze the dataframe. \\\n",
        "        I'll use the python_repl_ast tool.\\n\\nAction: python_repl_ast\\nAction Input: \",\n",
        "    })\n",
        "  print(f\"Question: {question}\")\n",
        "  print(f\"Answer: {response}\")\n"
      ],
      "metadata": {
        "id": "G0SXnpPbU1_e"
      },
      "execution_count": null,
      "outputs": []
    },
    {
      "cell_type": "markdown",
      "source": [
        "Ta funkcja `ask_agent` obsługuje komunikację z agentem:\n",
        "\n",
        "`def ask_agent(agent, question):` - przyjmuje dwa parametry: agenta i pytanie\n",
        "\n",
        "Wywołuje agenta używając metody `run()` z następującymi parametrami:\n",
        "- `\"input\"` - przekazane pytanie\n",
        "- `\"agent_scratchpad\"` - zawiera:\n",
        "  - pytanie od użytkownika (\"Human: {question}\")\n",
        "  - wstępną odpowiedź AI informującą o potrzebie użycia Pythona\n",
        "  - informację o użyciu narzędzia python_repl_ast\n",
        "\n",
        "Następnie funkcja wyświetla:\n",
        "- zadane pytanie (`Question: {question}`)\n",
        "- otrzymaną odpowiedź (`Answer: {response}`)\n",
        "\n",
        "Ta funkcja służy jako interfejs między użytkownikiem a agentem - pozwala zadawać pytania w naturalnym języku i otrzymywać odpowiedzi oparte na analizie danych z DataFrame."
      ],
      "metadata": {
        "id": "ecD3fasuaR9y"
      }
    },
    {
      "cell_type": "code",
      "source": [
        "ask_agent(muh_agent, \"What are the column names in this dataset?\")\n"
      ],
      "metadata": {
        "colab": {
          "base_uri": "https://localhost:8080/"
        },
        "id": "e8o53lkiVbpf",
        "outputId": "2a831018-bb48-4f3e-a64a-9e1c158f186d"
      },
      "execution_count": null,
      "outputs": [
        {
          "output_type": "stream",
          "name": "stderr",
          "text": [
            "<ipython-input-11-2a1390171e96>:2: LangChainDeprecationWarning: The method `Chain.run` was deprecated in langchain 0.1.0 and will be removed in 1.0. Use :meth:`~invoke` instead.\n",
            "  response = agent.run({\n"
          ]
        },
        {
          "output_type": "stream",
          "name": "stdout",
          "text": [
            "\n",
            "\n",
            "\u001b[1m> Entering new AgentExecutor chain...\u001b[0m\n",
            "\u001b[32;1m\u001b[1;3m\n",
            "Invoking: `python_repl_ast` with `{'query': 'df.columns.tolist()'}`\n",
            "\n",
            "\n",
            "\u001b[0m\u001b[36;1m\u001b[1;3m['Date', 'Make', 'Model', 'Color', 'Year', 'Price', 'Mileage', 'EngineSize', 'FuelEfficiency', 'SalesPerson']\u001b[0m\u001b[32;1m\u001b[1;3mThe column names in the dataset are:\n",
            "\n",
            "1. Date\n",
            "2. Make\n",
            "3. Model\n",
            "4. Color\n",
            "5. Year\n",
            "6. Price\n",
            "7. Mileage\n",
            "8. EngineSize\n",
            "9. FuelEfficiency\n",
            "10. SalesPerson\u001b[0m\n",
            "\n",
            "\u001b[1m> Finished chain.\u001b[0m\n",
            "Question: What are the column names in this dataset?\n",
            "Answer: The column names in the dataset are:\n",
            "\n",
            "1. Date\n",
            "2. Make\n",
            "3. Model\n",
            "4. Color\n",
            "5. Year\n",
            "6. Price\n",
            "7. Mileage\n",
            "8. EngineSize\n",
            "9. FuelEfficiency\n",
            "10. SalesPerson\n"
          ]
        }
      ]
    },
    {
      "cell_type": "code",
      "source": [
        "ask_agent(muh_agent, \"How many rows are in this dataset?\")\n"
      ],
      "metadata": {
        "colab": {
          "base_uri": "https://localhost:8080/"
        },
        "id": "B9lY9bNKVcqo",
        "outputId": "e3614330-00eb-4599-85a6-9e6bd7566820"
      },
      "execution_count": null,
      "outputs": [
        {
          "output_type": "stream",
          "name": "stdout",
          "text": [
            "\n",
            "\n",
            "\u001b[1m> Entering new AgentExecutor chain...\u001b[0m\n",
            "\u001b[32;1m\u001b[1;3m\n",
            "Invoking: `python_repl_ast` with `{'query': 'len(df)'}`\n",
            "\n",
            "\n",
            "\u001b[0m\u001b[36;1m\u001b[1;3m100\u001b[0m\u001b[32;1m\u001b[1;3mThe dataset contains 100 rows.\u001b[0m\n",
            "\n",
            "\u001b[1m> Finished chain.\u001b[0m\n",
            "Question: How many rows are in this dataset?\n",
            "Answer: The dataset contains 100 rows.\n"
          ]
        }
      ]
    },
    {
      "cell_type": "code",
      "source": [
        "ask_agent(muh_agent, \"What is the average price of cars sold?\")"
      ],
      "metadata": {
        "colab": {
          "base_uri": "https://localhost:8080/"
        },
        "id": "mCSiwROFVdaX",
        "outputId": "a422e613-86ff-4275-e668-cd4bac28061e"
      },
      "execution_count": null,
      "outputs": [
        {
          "output_type": "stream",
          "name": "stdout",
          "text": [
            "\n",
            "\n",
            "\u001b[1m> Entering new AgentExecutor chain...\u001b[0m\n",
            "\u001b[32;1m\u001b[1;3m\n",
            "Invoking: `python_repl_ast` with `{'query': \"df['Price'].mean()\"}`\n",
            "\n",
            "\n",
            "\u001b[0m\u001b[36;1m\u001b[1;3m50365.4688\u001b[0m\u001b[32;1m\u001b[1;3mThe average price of cars sold is approximately $50,365.47.\u001b[0m\n",
            "\n",
            "\u001b[1m> Finished chain.\u001b[0m\n",
            "Question: What is the average price of cars sold?\n",
            "Answer: The average price of cars sold is approximately $50,365.47.\n"
          ]
        }
      ]
    }
  ]
}